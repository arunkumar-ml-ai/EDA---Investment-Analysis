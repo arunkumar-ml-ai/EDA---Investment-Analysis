{
 "cells": [
  {
   "cell_type": "markdown",
   "metadata": {},
   "source": [
    "# Spark Funds - Investment Analysis"
   ]
  },
  {
   "cell_type": "markdown",
   "metadata": {},
   "source": [
    "- Wants to invest between **5 to 15 Million USD per round of Investment**\n",
    "\n",
    "- Wants to invest **only in English-speaking countries**\n",
    "  (consider a country to be English speaking **only if English is one of the official languages in that country**)\n",
    "\n",
    "- **List of countries** where English is official language in the country - https://en.wikipedia.org/wiki/List_of_countries_and_territories_where_English_is_an_official_language"
   ]
  },
  {
   "cell_type": "markdown",
   "metadata": {},
   "source": [
    "### Strategy for Investment\n",
    "Spark Funds wants to **invest where most other investors are investing**\n",
    "\n",
    "### Business Objective\n",
    "\n",
    "1. Identify **best sector, countries, and a suitable investment type** for making investments\n",
    "2. Overall strategy is to invest where others are investing\n",
    "\n",
    "### Goals of data analysis\n",
    "\n",
    "1. Investment type analysis - Comparing the typical investment amounts in the venture, seed, angel, private equity\n",
    "2. Country analysis - Heavily invested in the past\n",
    "3. Sector analysis - istribution of investments across the 8 main sectors - mapped to category list(primary sector) in mapping.csv file"
   ]
  },
  {
   "cell_type": "markdown",
   "metadata": {},
   "source": [
    "### Data Source\n",
    "\n",
    "Investment data from crunchbase.com"
   ]
  },
  {
   "cell_type": "markdown",
   "metadata": {},
   "source": [
    "# Checkpoints - Part 1"
   ]
  },
  {
   "cell_type": "markdown",
   "metadata": {},
   "source": [
    "#### Analyse the give datasets such as `companies.csv` & `rounds2.csv`\n",
    "#### Load the companies and rounds data into two data frames"
   ]
  },
  {
   "cell_type": "code",
   "execution_count": 1028,
   "metadata": {},
   "outputs": [],
   "source": [
    "#Import the required libraries\n",
    "\n",
    "import pandas as pd"
   ]
  },
  {
   "cell_type": "code",
   "execution_count": 1029,
   "metadata": {},
   "outputs": [],
   "source": [
    "import numpy as np"
   ]
  },
  {
   "cell_type": "code",
   "execution_count": 1030,
   "metadata": {},
   "outputs": [],
   "source": [
    "# read the file with basic data of 'companies'\n",
    "\n",
    "companies = pd.read_csv('companies.csv', encoding = 'ISO-8859-1')"
   ]
  },
  {
   "cell_type": "code",
   "execution_count": 1031,
   "metadata": {
    "scrolled": true
   },
   "outputs": [
    {
     "data": {
      "text/html": [
       "<div>\n",
       "<style scoped>\n",
       "    .dataframe tbody tr th:only-of-type {\n",
       "        vertical-align: middle;\n",
       "    }\n",
       "\n",
       "    .dataframe tbody tr th {\n",
       "        vertical-align: top;\n",
       "    }\n",
       "\n",
       "    .dataframe thead th {\n",
       "        text-align: right;\n",
       "    }\n",
       "</style>\n",
       "<table border=\"1\" class=\"dataframe\">\n",
       "  <thead>\n",
       "    <tr style=\"text-align: right;\">\n",
       "      <th></th>\n",
       "      <th>permalink</th>\n",
       "      <th>name</th>\n",
       "      <th>homepage_url</th>\n",
       "      <th>category_list</th>\n",
       "      <th>status</th>\n",
       "      <th>country_code</th>\n",
       "      <th>state_code</th>\n",
       "      <th>region</th>\n",
       "      <th>city</th>\n",
       "      <th>founded_at</th>\n",
       "    </tr>\n",
       "  </thead>\n",
       "  <tbody>\n",
       "    <tr>\n",
       "      <th>0</th>\n",
       "      <td>/Organization/-Fame</td>\n",
       "      <td>#fame</td>\n",
       "      <td>http://livfame.com</td>\n",
       "      <td>Media</td>\n",
       "      <td>operating</td>\n",
       "      <td>IND</td>\n",
       "      <td>16</td>\n",
       "      <td>Mumbai</td>\n",
       "      <td>Mumbai</td>\n",
       "      <td>NaN</td>\n",
       "    </tr>\n",
       "    <tr>\n",
       "      <th>1</th>\n",
       "      <td>/Organization/-Qounter</td>\n",
       "      <td>:Qounter</td>\n",
       "      <td>http://www.qounter.com</td>\n",
       "      <td>Application Platforms|Real Time|Social Network...</td>\n",
       "      <td>operating</td>\n",
       "      <td>USA</td>\n",
       "      <td>DE</td>\n",
       "      <td>DE - Other</td>\n",
       "      <td>Delaware City</td>\n",
       "      <td>04-09-2014</td>\n",
       "    </tr>\n",
       "    <tr>\n",
       "      <th>2</th>\n",
       "      <td>/Organization/-The-One-Of-Them-Inc-</td>\n",
       "      <td>(THE) ONE of THEM,Inc.</td>\n",
       "      <td>http://oneofthem.jp</td>\n",
       "      <td>Apps|Games|Mobile</td>\n",
       "      <td>operating</td>\n",
       "      <td>NaN</td>\n",
       "      <td>NaN</td>\n",
       "      <td>NaN</td>\n",
       "      <td>NaN</td>\n",
       "      <td>NaN</td>\n",
       "    </tr>\n",
       "    <tr>\n",
       "      <th>3</th>\n",
       "      <td>/Organization/0-6-Com</td>\n",
       "      <td>0-6.com</td>\n",
       "      <td>http://www.0-6.com</td>\n",
       "      <td>Curated Web</td>\n",
       "      <td>operating</td>\n",
       "      <td>CHN</td>\n",
       "      <td>22</td>\n",
       "      <td>Beijing</td>\n",
       "      <td>Beijing</td>\n",
       "      <td>01-01-2007</td>\n",
       "    </tr>\n",
       "    <tr>\n",
       "      <th>4</th>\n",
       "      <td>/Organization/004-Technologies</td>\n",
       "      <td>004 Technologies</td>\n",
       "      <td>http://004gmbh.de/en/004-interact</td>\n",
       "      <td>Software</td>\n",
       "      <td>operating</td>\n",
       "      <td>USA</td>\n",
       "      <td>IL</td>\n",
       "      <td>Springfield, Illinois</td>\n",
       "      <td>Champaign</td>\n",
       "      <td>01-01-2010</td>\n",
       "    </tr>\n",
       "  </tbody>\n",
       "</table>\n",
       "</div>"
      ],
      "text/plain": [
       "                             permalink                    name  \\\n",
       "0                  /Organization/-Fame                   #fame   \n",
       "1               /Organization/-Qounter                :Qounter   \n",
       "2  /Organization/-The-One-Of-Them-Inc-  (THE) ONE of THEM,Inc.   \n",
       "3                /Organization/0-6-Com                 0-6.com   \n",
       "4       /Organization/004-Technologies        004 Technologies   \n",
       "\n",
       "                        homepage_url  \\\n",
       "0                 http://livfame.com   \n",
       "1             http://www.qounter.com   \n",
       "2                http://oneofthem.jp   \n",
       "3                 http://www.0-6.com   \n",
       "4  http://004gmbh.de/en/004-interact   \n",
       "\n",
       "                                       category_list     status country_code  \\\n",
       "0                                              Media  operating          IND   \n",
       "1  Application Platforms|Real Time|Social Network...  operating          USA   \n",
       "2                                  Apps|Games|Mobile  operating          NaN   \n",
       "3                                        Curated Web  operating          CHN   \n",
       "4                                           Software  operating          USA   \n",
       "\n",
       "  state_code                 region           city  founded_at  \n",
       "0         16                 Mumbai         Mumbai         NaN  \n",
       "1         DE             DE - Other  Delaware City  04-09-2014  \n",
       "2        NaN                    NaN            NaN         NaN  \n",
       "3         22                Beijing        Beijing  01-01-2007  \n",
       "4         IL  Springfield, Illinois      Champaign  01-01-2010  "
      ]
     },
     "execution_count": 1031,
     "metadata": {},
     "output_type": "execute_result"
    }
   ],
   "source": [
    "#top 5 rows in the 'companies' data file\n",
    "\n",
    "companies.head()"
   ]
  },
  {
   "cell_type": "code",
   "execution_count": 142,
   "metadata": {
    "scrolled": true
   },
   "outputs": [
    {
     "data": {
      "text/plain": [
       "(66368, 10)"
      ]
     },
     "execution_count": 142,
     "metadata": {},
     "output_type": "execute_result"
    }
   ],
   "source": [
    "#number of rows & columns in 'companies'\n",
    "companies.shape"
   ]
  },
  {
   "cell_type": "code",
   "execution_count": 1032,
   "metadata": {},
   "outputs": [
    {
     "data": {
      "text/plain": [
       "66368"
      ]
     },
     "execution_count": 1032,
     "metadata": {},
     "output_type": "execute_result"
    }
   ],
   "source": [
    "# number of rows in 'companies'\n",
    "companies.shape[0]"
   ]
  },
  {
   "cell_type": "code",
   "execution_count": 1033,
   "metadata": {},
   "outputs": [
    {
     "name": "stdout",
     "output_type": "stream",
     "text": [
      "<class 'pandas.core.frame.DataFrame'>\n",
      "RangeIndex: 66368 entries, 0 to 66367\n",
      "Data columns (total 10 columns):\n",
      " #   Column         Non-Null Count  Dtype \n",
      "---  ------         --------------  ----- \n",
      " 0   permalink      66368 non-null  object\n",
      " 1   name           66367 non-null  object\n",
      " 2   homepage_url   61310 non-null  object\n",
      " 3   category_list  63220 non-null  object\n",
      " 4   status         66368 non-null  object\n",
      " 5   country_code   59410 non-null  object\n",
      " 6   state_code     57821 non-null  object\n",
      " 7   region         58338 non-null  object\n",
      " 8   city           58340 non-null  object\n",
      " 9   founded_at     51147 non-null  object\n",
      "dtypes: object(10)\n",
      "memory usage: 5.1+ MB\n"
     ]
    }
   ],
   "source": [
    "companies.info()"
   ]
  },
  {
   "cell_type": "code",
   "execution_count": 1034,
   "metadata": {},
   "outputs": [
    {
     "data": {
      "text/plain": [
       "permalink            0\n",
       "name                 1\n",
       "homepage_url      5058\n",
       "category_list     3148\n",
       "status               0\n",
       "country_code      6958\n",
       "state_code        8547\n",
       "region            8030\n",
       "city              8028\n",
       "founded_at       15221\n",
       "dtype: int64"
      ]
     },
     "execution_count": 1034,
     "metadata": {},
     "output_type": "execute_result"
    }
   ],
   "source": [
    "# 66368rows & 10 columns in the Data frame\n",
    "# find the number of missing values in each column of 'companies' data frame\n",
    "\n",
    "companies.isnull().sum()"
   ]
  },
  {
   "cell_type": "code",
   "execution_count": 1037,
   "metadata": {},
   "outputs": [
    {
     "data": {
      "text/plain": [
       "permalink         0.000000\n",
       "name              0.001507\n",
       "homepage_url      7.621143\n",
       "category_list     4.743250\n",
       "status            0.000000\n",
       "country_code     10.483968\n",
       "state_code       12.878194\n",
       "region           12.099204\n",
       "city             12.096191\n",
       "founded_at       22.934245\n",
       "dtype: float64"
      ]
     },
     "execution_count": 1037,
     "metadata": {},
     "output_type": "execute_result"
    }
   ],
   "source": [
    "#Find the percentage of missing values in each column\n",
    "\n",
    "100 * (companies.isnull().sum() / companies.shape[0])"
   ]
  },
  {
   "cell_type": "code",
   "execution_count": 1038,
   "metadata": {},
   "outputs": [],
   "source": [
    "# read the file with funding round details\n",
    "\n",
    "rounds2 = pd.read_csv('rounds2.csv', encoding = 'ISO-8859-1')"
   ]
  },
  {
   "cell_type": "code",
   "execution_count": 1039,
   "metadata": {},
   "outputs": [
    {
     "data": {
      "text/html": [
       "<div>\n",
       "<style scoped>\n",
       "    .dataframe tbody tr th:only-of-type {\n",
       "        vertical-align: middle;\n",
       "    }\n",
       "\n",
       "    .dataframe tbody tr th {\n",
       "        vertical-align: top;\n",
       "    }\n",
       "\n",
       "    .dataframe thead th {\n",
       "        text-align: right;\n",
       "    }\n",
       "</style>\n",
       "<table border=\"1\" class=\"dataframe\">\n",
       "  <thead>\n",
       "    <tr style=\"text-align: right;\">\n",
       "      <th></th>\n",
       "      <th>company_permalink</th>\n",
       "      <th>funding_round_permalink</th>\n",
       "      <th>funding_round_type</th>\n",
       "      <th>funding_round_code</th>\n",
       "      <th>funded_at</th>\n",
       "      <th>raised_amount_usd</th>\n",
       "    </tr>\n",
       "  </thead>\n",
       "  <tbody>\n",
       "    <tr>\n",
       "      <th>0</th>\n",
       "      <td>/organization/-fame</td>\n",
       "      <td>/funding-round/9a01d05418af9f794eebff7ace91f638</td>\n",
       "      <td>venture</td>\n",
       "      <td>B</td>\n",
       "      <td>05-01-2015</td>\n",
       "      <td>10000000.0</td>\n",
       "    </tr>\n",
       "    <tr>\n",
       "      <th>1</th>\n",
       "      <td>/ORGANIZATION/-QOUNTER</td>\n",
       "      <td>/funding-round/22dacff496eb7acb2b901dec1dfe5633</td>\n",
       "      <td>venture</td>\n",
       "      <td>A</td>\n",
       "      <td>14-10-2014</td>\n",
       "      <td>NaN</td>\n",
       "    </tr>\n",
       "    <tr>\n",
       "      <th>2</th>\n",
       "      <td>/organization/-qounter</td>\n",
       "      <td>/funding-round/b44fbb94153f6cdef13083530bb48030</td>\n",
       "      <td>seed</td>\n",
       "      <td>NaN</td>\n",
       "      <td>01-03-2014</td>\n",
       "      <td>700000.0</td>\n",
       "    </tr>\n",
       "    <tr>\n",
       "      <th>3</th>\n",
       "      <td>/ORGANIZATION/-THE-ONE-OF-THEM-INC-</td>\n",
       "      <td>/funding-round/650b8f704416801069bb178a1418776b</td>\n",
       "      <td>venture</td>\n",
       "      <td>B</td>\n",
       "      <td>30-01-2014</td>\n",
       "      <td>3406878.0</td>\n",
       "    </tr>\n",
       "    <tr>\n",
       "      <th>4</th>\n",
       "      <td>/organization/0-6-com</td>\n",
       "      <td>/funding-round/5727accaeaa57461bd22a9bdd945382d</td>\n",
       "      <td>venture</td>\n",
       "      <td>A</td>\n",
       "      <td>19-03-2008</td>\n",
       "      <td>2000000.0</td>\n",
       "    </tr>\n",
       "  </tbody>\n",
       "</table>\n",
       "</div>"
      ],
      "text/plain": [
       "                     company_permalink  \\\n",
       "0                  /organization/-fame   \n",
       "1               /ORGANIZATION/-QOUNTER   \n",
       "2               /organization/-qounter   \n",
       "3  /ORGANIZATION/-THE-ONE-OF-THEM-INC-   \n",
       "4                /organization/0-6-com   \n",
       "\n",
       "                           funding_round_permalink funding_round_type  \\\n",
       "0  /funding-round/9a01d05418af9f794eebff7ace91f638            venture   \n",
       "1  /funding-round/22dacff496eb7acb2b901dec1dfe5633            venture   \n",
       "2  /funding-round/b44fbb94153f6cdef13083530bb48030               seed   \n",
       "3  /funding-round/650b8f704416801069bb178a1418776b            venture   \n",
       "4  /funding-round/5727accaeaa57461bd22a9bdd945382d            venture   \n",
       "\n",
       "  funding_round_code   funded_at  raised_amount_usd  \n",
       "0                  B  05-01-2015         10000000.0  \n",
       "1                  A  14-10-2014                NaN  \n",
       "2                NaN  01-03-2014           700000.0  \n",
       "3                  B  30-01-2014          3406878.0  \n",
       "4                  A  19-03-2008          2000000.0  "
      ]
     },
     "execution_count": 1039,
     "metadata": {},
     "output_type": "execute_result"
    }
   ],
   "source": [
    "#top 5 rows in the 'rounds2' data file\n",
    "\n",
    "rounds2.head()"
   ]
  },
  {
   "cell_type": "code",
   "execution_count": 149,
   "metadata": {
    "scrolled": false
   },
   "outputs": [
    {
     "data": {
      "text/plain": [
       "(114949, 6)"
      ]
     },
     "execution_count": 149,
     "metadata": {},
     "output_type": "execute_result"
    }
   ],
   "source": [
    "#number of rows & columns in 'rounds2'\n",
    "\n",
    "rounds2.shape"
   ]
  },
  {
   "cell_type": "code",
   "execution_count": 1040,
   "metadata": {},
   "outputs": [
    {
     "data": {
      "text/plain": [
       "114949"
      ]
     },
     "execution_count": 1040,
     "metadata": {},
     "output_type": "execute_result"
    }
   ],
   "source": [
    "#number of rows in 'rounds2'\n",
    "\n",
    "rounds2.shape[0]"
   ]
  },
  {
   "cell_type": "code",
   "execution_count": 1041,
   "metadata": {
    "scrolled": true
   },
   "outputs": [
    {
     "name": "stdout",
     "output_type": "stream",
     "text": [
      "<class 'pandas.core.frame.DataFrame'>\n",
      "RangeIndex: 114949 entries, 0 to 114948\n",
      "Data columns (total 6 columns):\n",
      " #   Column                   Non-Null Count   Dtype  \n",
      "---  ------                   --------------   -----  \n",
      " 0   company_permalink        114949 non-null  object \n",
      " 1   funding_round_permalink  114949 non-null  object \n",
      " 2   funding_round_type       114949 non-null  object \n",
      " 3   funding_round_code       31140 non-null   object \n",
      " 4   funded_at                114949 non-null  object \n",
      " 5   raised_amount_usd        94959 non-null   float64\n",
      "dtypes: float64(1), object(5)\n",
      "memory usage: 5.3+ MB\n"
     ]
    }
   ],
   "source": [
    "rounds2.info()"
   ]
  },
  {
   "cell_type": "code",
   "execution_count": 1042,
   "metadata": {},
   "outputs": [
    {
     "data": {
      "text/plain": [
       "company_permalink              0\n",
       "funding_round_permalink        0\n",
       "funding_round_type             0\n",
       "funding_round_code         83809\n",
       "funded_at                      0\n",
       "raised_amount_usd          19990\n",
       "dtype: int64"
      ]
     },
     "execution_count": 1042,
     "metadata": {},
     "output_type": "execute_result"
    }
   ],
   "source": [
    "# 114949rows & 6columns in the 'rounds2' Data frame\n",
    "# find the number of missing values in 'rounds2'\n",
    "\n",
    "rounds2.isnull().sum()"
   ]
  },
  {
   "cell_type": "code",
   "execution_count": 1043,
   "metadata": {
    "scrolled": true
   },
   "outputs": [
    {
     "data": {
      "text/plain": [
       "company_permalink           0.000000\n",
       "funding_round_permalink     0.000000\n",
       "funding_round_type          0.000000\n",
       "funding_round_code         72.909725\n",
       "funded_at                   0.000000\n",
       "raised_amount_usd          17.390321\n",
       "dtype: float64"
      ]
     },
     "execution_count": 1043,
     "metadata": {},
     "output_type": "execute_result"
    }
   ],
   "source": [
    "#Find the percentage of missing values in each column of 'rounds2'\n",
    "\n",
    "100 * (rounds2.isnull().sum() / rounds2.shape[0])"
   ]
  },
  {
   "cell_type": "markdown",
   "metadata": {},
   "source": [
    "**72%** of the funding_round_code column has missing values. So, it's better to delete that column completely"
   ]
  },
  {
   "cell_type": "markdown",
   "metadata": {},
   "source": [
    "**1. How many unique companies are present in rounds2?**\n",
    "\n",
    "To find the unique companies in rounds2, we have to convert the 'company_permalink' column string to either lowercase or uppercase"
   ]
  },
  {
   "cell_type": "code",
   "execution_count": 1044,
   "metadata": {},
   "outputs": [
    {
     "data": {
      "text/plain": [
       "0                                       /organization/-fame\n",
       "1                                    /organization/-qounter\n",
       "2                                    /organization/-qounter\n",
       "3                       /organization/-the-one-of-them-inc-\n",
       "4                                     /organization/0-6-com\n",
       "                                ...                        \n",
       "114944                            /organization/zzzzapp-com\n",
       "114945                            /organization/zzzzapp-com\n",
       "114946                                 /organization/ãeron\n",
       "114947                               /organization/ãasys-2\n",
       "114948    /organization/ä°novatiff-reklam-ve-tanä±tä±m-h...\n",
       "Name: company_permalink, Length: 114949, dtype: object"
      ]
     },
     "execution_count": 1044,
     "metadata": {},
     "output_type": "execute_result"
    }
   ],
   "source": [
    "# convert the text in company_permalink column to lowercase\n",
    "\n",
    "rounds2['company_permalink'] = rounds2['company_permalink'].apply(lambda link: link.lower())\n",
    "\n",
    "rounds2['company_permalink']"
   ]
  },
  {
   "cell_type": "code",
   "execution_count": 156,
   "metadata": {
    "scrolled": true
   },
   "outputs": [
    {
     "data": {
      "text/plain": [
       "66370"
      ]
     },
     "execution_count": 156,
     "metadata": {},
     "output_type": "execute_result"
    }
   ],
   "source": [
    "# number of unique companies are present in rounds2 data frame\n",
    "\n",
    "len(rounds2['company_permalink'].unique())"
   ]
  },
  {
   "cell_type": "markdown",
   "metadata": {},
   "source": [
    " "
   ]
  },
  {
   "cell_type": "markdown",
   "metadata": {},
   "source": [
    "**2. How many unique companies are present in companies?**\n",
    "\n",
    "To find the unique companies in companies, we have to convert the 'permalink' column string to either lowercase or uppercase"
   ]
  },
  {
   "cell_type": "code",
   "execution_count": 1046,
   "metadata": {},
   "outputs": [
    {
     "data": {
      "text/plain": [
       "0                                      /organization/-fame\n",
       "1                                   /organization/-qounter\n",
       "2                      /organization/-the-one-of-them-inc-\n",
       "3                                    /organization/0-6-com\n",
       "4                           /organization/004-technologies\n",
       "                               ...                        \n",
       "66363    /organization/zznode-science-and-technology-co...\n",
       "66364                            /organization/zzzzapp-com\n",
       "66365                                 /organization/ãeron\n",
       "66366                               /organization/ãasys-2\n",
       "66367    /organization/ä°novatiff-reklam-ve-tanä±tä±m-h...\n",
       "Name: permalink, Length: 66368, dtype: object"
      ]
     },
     "execution_count": 1046,
     "metadata": {},
     "output_type": "execute_result"
    }
   ],
   "source": [
    "# convert the text in permalink column of companies dataframe to lowercase\n",
    "\n",
    "companies['permalink'] = companies['permalink'].apply(lambda link: link.lower())\n",
    "\n",
    "companies['permalink']"
   ]
  },
  {
   "cell_type": "code",
   "execution_count": 1047,
   "metadata": {
    "scrolled": true
   },
   "outputs": [
    {
     "data": {
      "text/plain": [
       "66368"
      ]
     },
     "execution_count": 1047,
     "metadata": {},
     "output_type": "execute_result"
    }
   ],
   "source": [
    "# number of unique companies are present in companies data frame\n",
    "\n",
    "len(companies['permalink'].unique())"
   ]
  },
  {
   "cell_type": "markdown",
   "metadata": {},
   "source": [
    " "
   ]
  },
  {
   "cell_type": "markdown",
   "metadata": {},
   "source": [
    "**3. In the companies data frame, which column can be used as the unique key for each company? Write the name of the column**\n",
    "\n",
    "**Permalink** `column is the unique ID of the company in companies Data frame`\n",
    "(As given in the description of Companies Table)"
   ]
  },
  {
   "cell_type": "markdown",
   "metadata": {},
   "source": [
    " "
   ]
  },
  {
   "cell_type": "markdown",
   "metadata": {},
   "source": [
    "**4. Are there any companies in the rounds2 file which are not  present in companies ? Answer Y/N.**"
   ]
  },
  {
   "cell_type": "markdown",
   "metadata": {},
   "source": [
    "Answer is **'Yes'** from the below analysis"
   ]
  },
  {
   "cell_type": "code",
   "execution_count": 1050,
   "metadata": {},
   "outputs": [],
   "source": [
    "#list of unique companies in 'companies' datframe\n",
    "\n",
    "companiesList = list(np.sort(companies['permalink'].unique()))"
   ]
  },
  {
   "cell_type": "code",
   "execution_count": 1051,
   "metadata": {},
   "outputs": [],
   "source": [
    "#list of unique companies in 'round2' datframe\n",
    "\n",
    "round2List = list(np.sort(rounds2['company_permalink'].unique()))"
   ]
  },
  {
   "cell_type": "code",
   "execution_count": 1052,
   "metadata": {
    "scrolled": true
   },
   "outputs": [
    {
     "data": {
      "text/plain": [
       "{'/organization/e-cã\\x8abica',\n",
       " '/organization/energystone-games-ç\\x81µç\\x9f³æ¸¸æ\\x88\\x8f',\n",
       " '/organization/huizuche-com-æ\\x83\\xa0ç§ÿè½¦',\n",
       " '/organization/magnet-tech-ç£\\x81ç\\x9f³ç§\\x91æ\\x8a\\x80',\n",
       " '/organization/tipcat-interactive-æ²\\x99è\\x88ÿä¿¡æ\\x81¯ç§\\x91æ\\x9a\\x80',\n",
       " '/organization/weiche-tech-å\\x96\\x82è½¦ç§\\x91æ\\x8a\\x80',\n",
       " '/organization/zengame-ç¦\\x85æ¸¸ç§\\x91æ\\x8a\\x80'}"
      ]
     },
     "execution_count": 1052,
     "metadata": {},
     "output_type": "execute_result"
    }
   ],
   "source": [
    "# company in the rounds2 data frame which are not present in companies data frame?\n",
    "\n",
    "set(round2List) - set(companiesList)"
   ]
  },
  {
   "cell_type": "code",
   "execution_count": 1053,
   "metadata": {},
   "outputs": [
    {
     "data": {
      "text/plain": [
       "7"
      ]
     },
     "execution_count": 1053,
     "metadata": {},
     "output_type": "execute_result"
    }
   ],
   "source": [
    "#there are 7 companies in rounds2 data frame which are not present in companies data frame\n",
    "\n",
    "len(set(round2List) - set(companiesList))"
   ]
  },
  {
   "cell_type": "markdown",
   "metadata": {},
   "source": [
    "Let's do the above analysis in vice versa"
   ]
  },
  {
   "cell_type": "code",
   "execution_count": 1055,
   "metadata": {},
   "outputs": [
    {
     "data": {
      "text/plain": [
       "{'/organization/e-cã\\x9abica',\n",
       " '/organization/energystone-games-ç\\x81µçÿ³æ¸¸æ\\x88\\x8f',\n",
       " '/organization/huizuche-com-æ\\x83\\xa0ç§\\x9fè½¦',\n",
       " '/organization/tipcat-interactive-æ²\\x99è\\x88\\x9fä¿¡æ\\x81¯ç§\\x91æ\\x9a\\x80',\n",
       " '/organization/zengame-ç¦\\x85æ¸¸ç§\\x91æ\\x9a\\x80'}"
      ]
     },
     "execution_count": 1055,
     "metadata": {},
     "output_type": "execute_result"
    }
   ],
   "source": [
    "# company in the companies data frame which are not present in rounds2 data frame?\n",
    "\n",
    "set(companiesList) - set(round2List)"
   ]
  },
  {
   "cell_type": "code",
   "execution_count": 164,
   "metadata": {},
   "outputs": [
    {
     "data": {
      "text/plain": [
       "5"
      ]
     },
     "execution_count": 164,
     "metadata": {},
     "output_type": "execute_result"
    }
   ],
   "source": [
    "#there are 5 companies in companiesList data frame which are not present in rounds2 data frame\n",
    "\n",
    "len(set(companiesList) - set(round2List))"
   ]
  },
  {
   "cell_type": "markdown",
   "metadata": {},
   "source": [
    "#### The above 5 companies are similar to the first set of companies except 2"
   ]
  },
  {
   "cell_type": "code",
   "execution_count": 165,
   "metadata": {},
   "outputs": [],
   "source": [
    "data = {'round2List': ['/organization/e-cã\\x8abica',\n",
    " '/organization/energystone-games-ç\\x81µç\\x9f³æ¸¸æ\\x88\\x8f',\n",
    " '/organization/huizuche-com-æ\\x83\\xa0ç§ÿè½¦',\n",
    " '/organization/magnet-tech-ç£\\x81ç\\x9f³ç§\\x91æ\\x8a\\x80',\n",
    " '/organization/tipcat-interactive-æ²\\x99è\\x88ÿä¿¡æ\\x81¯ç§\\x91æ\\x9a\\x80',\n",
    " '/organization/weiche-tech-å\\x96\\x82è½¦ç§\\x91æ\\x8a\\x80',\n",
    " '/organization/zengame-ç¦\\x85æ¸¸ç§\\x91æ\\x8a\\x80'], 'CompaniesList': ['/organization/e-cã\\x9abica',\n",
    " '/organization/energystone-games-ç\\x81µçÿ³æ¸¸æ\\x88\\x8f',\n",
    " '/organization/huizuche-com-æ\\x83\\xa0ç§\\x9fè½¦',\n",
    " 'NaN',                                               \n",
    " '/organization/tipcat-interactive-æ²\\x99è\\x88\\x9fä¿¡æ\\x81¯ç§\\x91æ\\x9a\\x80',\n",
    " 'NaN',\n",
    " '/organization/zengame-ç¦\\x85æ¸¸ç§\\x91æ\\x9a\\x80']}"
   ]
  },
  {
   "cell_type": "code",
   "execution_count": 166,
   "metadata": {},
   "outputs": [
    {
     "data": {
      "text/html": [
       "<div>\n",
       "<style scoped>\n",
       "    .dataframe tbody tr th:only-of-type {\n",
       "        vertical-align: middle;\n",
       "    }\n",
       "\n",
       "    .dataframe tbody tr th {\n",
       "        vertical-align: top;\n",
       "    }\n",
       "\n",
       "    .dataframe thead th {\n",
       "        text-align: right;\n",
       "    }\n",
       "</style>\n",
       "<table border=\"1\" class=\"dataframe\">\n",
       "  <thead>\n",
       "    <tr style=\"text-align: right;\">\n",
       "      <th></th>\n",
       "      <th>round2List</th>\n",
       "      <th>CompaniesList</th>\n",
       "    </tr>\n",
       "  </thead>\n",
       "  <tbody>\n",
       "    <tr>\n",
       "      <th>0</th>\n",
       "      <td>/organization/e-cãbica</td>\n",
       "      <td>/organization/e-cãbica</td>\n",
       "    </tr>\n",
       "    <tr>\n",
       "      <th>1</th>\n",
       "      <td>/organization/energystone-games-çµç³æ¸¸æ</td>\n",
       "      <td>/organization/energystone-games-çµçÿ³æ¸¸æ</td>\n",
       "    </tr>\n",
       "    <tr>\n",
       "      <th>2</th>\n",
       "      <td>/organization/huizuche-com-æ ç§ÿè½¦</td>\n",
       "      <td>/organization/huizuche-com-æ ç§è½¦</td>\n",
       "    </tr>\n",
       "    <tr>\n",
       "      <th>3</th>\n",
       "      <td>/organization/magnet-tech-ç£ç³ç§æ</td>\n",
       "      <td>NaN</td>\n",
       "    </tr>\n",
       "    <tr>\n",
       "      <th>4</th>\n",
       "      <td>/organization/tipcat-interactive-æ²èÿä¿¡æ¯ç...</td>\n",
       "      <td>/organization/tipcat-interactive-æ²èä¿¡æ¯ç...</td>\n",
       "    </tr>\n",
       "    <tr>\n",
       "      <th>5</th>\n",
       "      <td>/organization/weiche-tech-åè½¦ç§æ</td>\n",
       "      <td>NaN</td>\n",
       "    </tr>\n",
       "    <tr>\n",
       "      <th>6</th>\n",
       "      <td>/organization/zengame-ç¦",
       "æ¸¸ç§æ</td>\n",
       "      <td>/organization/zengame-ç¦",
       "æ¸¸ç§æ</td>\n",
       "    </tr>\n",
       "  </tbody>\n",
       "</table>\n",
       "</div>"
      ],
      "text/plain": [
       "                                          round2List  \\\n",
       "0                            /organization/e-cãbica   \n",
       "1       /organization/energystone-games-çµç³æ¸¸æ   \n",
       "2               /organization/huizuche-com-æ ç§ÿè½¦   \n",
       "3             /organization/magnet-tech-ç£ç³ç§æ   \n",
       "4  /organization/tipcat-interactive-æ²èÿä¿¡æ¯ç...   \n",
       "5             /organization/weiche-tech-åè½¦ç§æ   \n",
       "6                 /organization/zengame-ç¦\n",
       "æ¸¸ç§æ   \n",
       "\n",
       "                                       CompaniesList  \n",
       "0                            /organization/e-cãbica  \n",
       "1       /organization/energystone-games-çµçÿ³æ¸¸æ  \n",
       "2               /organization/huizuche-com-æ ç§è½¦  \n",
       "3                                                NaN  \n",
       "4  /organization/tipcat-interactive-æ²èä¿¡æ¯ç...  \n",
       "5                                                NaN  \n",
       "6                 /organization/zengame-ç¦\n",
       "æ¸¸ç§æ  "
      ]
     },
     "execution_count": 166,
     "metadata": {},
     "output_type": "execute_result"
    }
   ],
   "source": [
    "pd.DataFrame.from_dict(data)"
   ]
  },
  {
   "cell_type": "markdown",
   "metadata": {},
   "source": [
    "#### Those two exceptions are\n",
    "\n",
    "1. '/organization/magnet-tech-ç£\\x81ç\\x9f³ç§\\x91æ\\x8a\\x80'\n",
    "2. '/organization/weiche-tech-å\\x96\\x82è½¦ç§\\x91æ\\x8a\\x80'"
   ]
  },
  {
   "cell_type": "markdown",
   "metadata": {},
   "source": [
    " "
   ]
  },
  {
   "cell_type": "markdown",
   "metadata": {},
   "source": [
    "**5. Merge the two data frames so that all  variables (columns)  in the companies frame are added to the rounds2 data frame**\n",
    "\n",
    "Name the merged frame **master_frame**\n",
    "\n",
    "**How many observations are present in master_frame?**"
   ]
  },
  {
   "cell_type": "code",
   "execution_count": null,
   "metadata": {},
   "outputs": [],
   "source": [
    "# Merge the two data frames \n",
    "# so that all variables (columns) in the companies frame are added to the rounds2 data frame"
   ]
  },
  {
   "cell_type": "code",
   "execution_count": 1057,
   "metadata": {},
   "outputs": [
    {
     "data": {
      "text/html": [
       "<div>\n",
       "<style scoped>\n",
       "    .dataframe tbody tr th:only-of-type {\n",
       "        vertical-align: middle;\n",
       "    }\n",
       "\n",
       "    .dataframe tbody tr th {\n",
       "        vertical-align: top;\n",
       "    }\n",
       "\n",
       "    .dataframe thead th {\n",
       "        text-align: right;\n",
       "    }\n",
       "</style>\n",
       "<table border=\"1\" class=\"dataframe\">\n",
       "  <thead>\n",
       "    <tr style=\"text-align: right;\">\n",
       "      <th></th>\n",
       "      <th>permalink</th>\n",
       "      <th>name</th>\n",
       "      <th>homepage_url</th>\n",
       "      <th>category_list</th>\n",
       "      <th>status</th>\n",
       "      <th>country_code</th>\n",
       "      <th>state_code</th>\n",
       "      <th>region</th>\n",
       "      <th>city</th>\n",
       "      <th>founded_at</th>\n",
       "    </tr>\n",
       "  </thead>\n",
       "  <tbody>\n",
       "    <tr>\n",
       "      <th>0</th>\n",
       "      <td>/organization/-fame</td>\n",
       "      <td>#fame</td>\n",
       "      <td>http://livfame.com</td>\n",
       "      <td>Media</td>\n",
       "      <td>operating</td>\n",
       "      <td>IND</td>\n",
       "      <td>16</td>\n",
       "      <td>Mumbai</td>\n",
       "      <td>Mumbai</td>\n",
       "      <td>NaN</td>\n",
       "    </tr>\n",
       "    <tr>\n",
       "      <th>1</th>\n",
       "      <td>/organization/-qounter</td>\n",
       "      <td>:Qounter</td>\n",
       "      <td>http://www.qounter.com</td>\n",
       "      <td>Application Platforms|Real Time|Social Network...</td>\n",
       "      <td>operating</td>\n",
       "      <td>USA</td>\n",
       "      <td>DE</td>\n",
       "      <td>DE - Other</td>\n",
       "      <td>Delaware City</td>\n",
       "      <td>04-09-2014</td>\n",
       "    </tr>\n",
       "    <tr>\n",
       "      <th>2</th>\n",
       "      <td>/organization/-the-one-of-them-inc-</td>\n",
       "      <td>(THE) ONE of THEM,Inc.</td>\n",
       "      <td>http://oneofthem.jp</td>\n",
       "      <td>Apps|Games|Mobile</td>\n",
       "      <td>operating</td>\n",
       "      <td>NaN</td>\n",
       "      <td>NaN</td>\n",
       "      <td>NaN</td>\n",
       "      <td>NaN</td>\n",
       "      <td>NaN</td>\n",
       "    </tr>\n",
       "    <tr>\n",
       "      <th>3</th>\n",
       "      <td>/organization/0-6-com</td>\n",
       "      <td>0-6.com</td>\n",
       "      <td>http://www.0-6.com</td>\n",
       "      <td>Curated Web</td>\n",
       "      <td>operating</td>\n",
       "      <td>CHN</td>\n",
       "      <td>22</td>\n",
       "      <td>Beijing</td>\n",
       "      <td>Beijing</td>\n",
       "      <td>01-01-2007</td>\n",
       "    </tr>\n",
       "    <tr>\n",
       "      <th>4</th>\n",
       "      <td>/organization/004-technologies</td>\n",
       "      <td>004 Technologies</td>\n",
       "      <td>http://004gmbh.de/en/004-interact</td>\n",
       "      <td>Software</td>\n",
       "      <td>operating</td>\n",
       "      <td>USA</td>\n",
       "      <td>IL</td>\n",
       "      <td>Springfield, Illinois</td>\n",
       "      <td>Champaign</td>\n",
       "      <td>01-01-2010</td>\n",
       "    </tr>\n",
       "  </tbody>\n",
       "</table>\n",
       "</div>"
      ],
      "text/plain": [
       "                             permalink                    name  \\\n",
       "0                  /organization/-fame                   #fame   \n",
       "1               /organization/-qounter                :Qounter   \n",
       "2  /organization/-the-one-of-them-inc-  (THE) ONE of THEM,Inc.   \n",
       "3                /organization/0-6-com                 0-6.com   \n",
       "4       /organization/004-technologies        004 Technologies   \n",
       "\n",
       "                        homepage_url  \\\n",
       "0                 http://livfame.com   \n",
       "1             http://www.qounter.com   \n",
       "2                http://oneofthem.jp   \n",
       "3                 http://www.0-6.com   \n",
       "4  http://004gmbh.de/en/004-interact   \n",
       "\n",
       "                                       category_list     status country_code  \\\n",
       "0                                              Media  operating          IND   \n",
       "1  Application Platforms|Real Time|Social Network...  operating          USA   \n",
       "2                                  Apps|Games|Mobile  operating          NaN   \n",
       "3                                        Curated Web  operating          CHN   \n",
       "4                                           Software  operating          USA   \n",
       "\n",
       "  state_code                 region           city  founded_at  \n",
       "0         16                 Mumbai         Mumbai         NaN  \n",
       "1         DE             DE - Other  Delaware City  04-09-2014  \n",
       "2        NaN                    NaN            NaN         NaN  \n",
       "3         22                Beijing        Beijing  01-01-2007  \n",
       "4         IL  Springfield, Illinois      Champaign  01-01-2010  "
      ]
     },
     "execution_count": 1057,
     "metadata": {},
     "output_type": "execute_result"
    }
   ],
   "source": [
    "companies.head()"
   ]
  },
  {
   "cell_type": "code",
   "execution_count": 1058,
   "metadata": {},
   "outputs": [
    {
     "data": {
      "text/html": [
       "<div>\n",
       "<style scoped>\n",
       "    .dataframe tbody tr th:only-of-type {\n",
       "        vertical-align: middle;\n",
       "    }\n",
       "\n",
       "    .dataframe tbody tr th {\n",
       "        vertical-align: top;\n",
       "    }\n",
       "\n",
       "    .dataframe thead th {\n",
       "        text-align: right;\n",
       "    }\n",
       "</style>\n",
       "<table border=\"1\" class=\"dataframe\">\n",
       "  <thead>\n",
       "    <tr style=\"text-align: right;\">\n",
       "      <th></th>\n",
       "      <th>company_permalink</th>\n",
       "      <th>funding_round_permalink</th>\n",
       "      <th>funding_round_type</th>\n",
       "      <th>funding_round_code</th>\n",
       "      <th>funded_at</th>\n",
       "      <th>raised_amount_usd</th>\n",
       "      <th>permalink</th>\n",
       "      <th>name</th>\n",
       "      <th>homepage_url</th>\n",
       "      <th>category_list</th>\n",
       "      <th>status</th>\n",
       "      <th>country_code</th>\n",
       "      <th>state_code</th>\n",
       "      <th>region</th>\n",
       "      <th>city</th>\n",
       "      <th>founded_at</th>\n",
       "    </tr>\n",
       "  </thead>\n",
       "  <tbody>\n",
       "    <tr>\n",
       "      <th>0</th>\n",
       "      <td>/organization/-fame</td>\n",
       "      <td>/funding-round/9a01d05418af9f794eebff7ace91f638</td>\n",
       "      <td>venture</td>\n",
       "      <td>B</td>\n",
       "      <td>05-01-2015</td>\n",
       "      <td>10000000.0</td>\n",
       "      <td>/organization/-fame</td>\n",
       "      <td>#fame</td>\n",
       "      <td>http://livfame.com</td>\n",
       "      <td>Media</td>\n",
       "      <td>operating</td>\n",
       "      <td>IND</td>\n",
       "      <td>16</td>\n",
       "      <td>Mumbai</td>\n",
       "      <td>Mumbai</td>\n",
       "      <td>NaN</td>\n",
       "    </tr>\n",
       "    <tr>\n",
       "      <th>1</th>\n",
       "      <td>/organization/-qounter</td>\n",
       "      <td>/funding-round/22dacff496eb7acb2b901dec1dfe5633</td>\n",
       "      <td>venture</td>\n",
       "      <td>A</td>\n",
       "      <td>14-10-2014</td>\n",
       "      <td>NaN</td>\n",
       "      <td>/organization/-qounter</td>\n",
       "      <td>:Qounter</td>\n",
       "      <td>http://www.qounter.com</td>\n",
       "      <td>Application Platforms|Real Time|Social Network...</td>\n",
       "      <td>operating</td>\n",
       "      <td>USA</td>\n",
       "      <td>DE</td>\n",
       "      <td>DE - Other</td>\n",
       "      <td>Delaware City</td>\n",
       "      <td>04-09-2014</td>\n",
       "    </tr>\n",
       "    <tr>\n",
       "      <th>2</th>\n",
       "      <td>/organization/-qounter</td>\n",
       "      <td>/funding-round/b44fbb94153f6cdef13083530bb48030</td>\n",
       "      <td>seed</td>\n",
       "      <td>NaN</td>\n",
       "      <td>01-03-2014</td>\n",
       "      <td>700000.0</td>\n",
       "      <td>/organization/-qounter</td>\n",
       "      <td>:Qounter</td>\n",
       "      <td>http://www.qounter.com</td>\n",
       "      <td>Application Platforms|Real Time|Social Network...</td>\n",
       "      <td>operating</td>\n",
       "      <td>USA</td>\n",
       "      <td>DE</td>\n",
       "      <td>DE - Other</td>\n",
       "      <td>Delaware City</td>\n",
       "      <td>04-09-2014</td>\n",
       "    </tr>\n",
       "    <tr>\n",
       "      <th>3</th>\n",
       "      <td>/organization/-the-one-of-them-inc-</td>\n",
       "      <td>/funding-round/650b8f704416801069bb178a1418776b</td>\n",
       "      <td>venture</td>\n",
       "      <td>B</td>\n",
       "      <td>30-01-2014</td>\n",
       "      <td>3406878.0</td>\n",
       "      <td>/organization/-the-one-of-them-inc-</td>\n",
       "      <td>(THE) ONE of THEM,Inc.</td>\n",
       "      <td>http://oneofthem.jp</td>\n",
       "      <td>Apps|Games|Mobile</td>\n",
       "      <td>operating</td>\n",
       "      <td>NaN</td>\n",
       "      <td>NaN</td>\n",
       "      <td>NaN</td>\n",
       "      <td>NaN</td>\n",
       "      <td>NaN</td>\n",
       "    </tr>\n",
       "    <tr>\n",
       "      <th>4</th>\n",
       "      <td>/organization/0-6-com</td>\n",
       "      <td>/funding-round/5727accaeaa57461bd22a9bdd945382d</td>\n",
       "      <td>venture</td>\n",
       "      <td>A</td>\n",
       "      <td>19-03-2008</td>\n",
       "      <td>2000000.0</td>\n",
       "      <td>/organization/0-6-com</td>\n",
       "      <td>0-6.com</td>\n",
       "      <td>http://www.0-6.com</td>\n",
       "      <td>Curated Web</td>\n",
       "      <td>operating</td>\n",
       "      <td>CHN</td>\n",
       "      <td>22</td>\n",
       "      <td>Beijing</td>\n",
       "      <td>Beijing</td>\n",
       "      <td>01-01-2007</td>\n",
       "    </tr>\n",
       "    <tr>\n",
       "      <th>...</th>\n",
       "      <td>...</td>\n",
       "      <td>...</td>\n",
       "      <td>...</td>\n",
       "      <td>...</td>\n",
       "      <td>...</td>\n",
       "      <td>...</td>\n",
       "      <td>...</td>\n",
       "      <td>...</td>\n",
       "      <td>...</td>\n",
       "      <td>...</td>\n",
       "      <td>...</td>\n",
       "      <td>...</td>\n",
       "      <td>...</td>\n",
       "      <td>...</td>\n",
       "      <td>...</td>\n",
       "      <td>...</td>\n",
       "    </tr>\n",
       "    <tr>\n",
       "      <th>114937</th>\n",
       "      <td>/organization/zzzzapp-com</td>\n",
       "      <td>/funding-round/8f6d25b8ee4199e586484d817bceda05</td>\n",
       "      <td>convertible_note</td>\n",
       "      <td>NaN</td>\n",
       "      <td>01-03-2014</td>\n",
       "      <td>41313.0</td>\n",
       "      <td>/organization/zzzzapp-com</td>\n",
       "      <td>Zzzzapp Wireless ltd.</td>\n",
       "      <td>http://www.zzzzapp.com</td>\n",
       "      <td>Advertising|Mobile|Web Development|Wireless</td>\n",
       "      <td>operating</td>\n",
       "      <td>HRV</td>\n",
       "      <td>15</td>\n",
       "      <td>Split</td>\n",
       "      <td>Split</td>\n",
       "      <td>13-05-2012</td>\n",
       "    </tr>\n",
       "    <tr>\n",
       "      <th>114938</th>\n",
       "      <td>/organization/zzzzapp-com</td>\n",
       "      <td>/funding-round/ff1aa06ed5da186c84f101549035d4ae</td>\n",
       "      <td>seed</td>\n",
       "      <td>NaN</td>\n",
       "      <td>01-05-2013</td>\n",
       "      <td>32842.0</td>\n",
       "      <td>/organization/zzzzapp-com</td>\n",
       "      <td>Zzzzapp Wireless ltd.</td>\n",
       "      <td>http://www.zzzzapp.com</td>\n",
       "      <td>Advertising|Mobile|Web Development|Wireless</td>\n",
       "      <td>operating</td>\n",
       "      <td>HRV</td>\n",
       "      <td>15</td>\n",
       "      <td>Split</td>\n",
       "      <td>Split</td>\n",
       "      <td>13-05-2012</td>\n",
       "    </tr>\n",
       "    <tr>\n",
       "      <th>114939</th>\n",
       "      <td>/organization/ãeron</td>\n",
       "      <td>/funding-round/59f4dce44723b794f21ded3daed6e4fe</td>\n",
       "      <td>venture</td>\n",
       "      <td>A</td>\n",
       "      <td>01-08-2014</td>\n",
       "      <td>NaN</td>\n",
       "      <td>/organization/ãeron</td>\n",
       "      <td>ÃERON</td>\n",
       "      <td>http://www.aeron.hu/</td>\n",
       "      <td>NaN</td>\n",
       "      <td>operating</td>\n",
       "      <td>NaN</td>\n",
       "      <td>NaN</td>\n",
       "      <td>NaN</td>\n",
       "      <td>NaN</td>\n",
       "      <td>01-01-2011</td>\n",
       "    </tr>\n",
       "    <tr>\n",
       "      <th>114940</th>\n",
       "      <td>/organization/ãasys-2</td>\n",
       "      <td>/funding-round/35f09d0794651719b02bbfd859ba9ff5</td>\n",
       "      <td>seed</td>\n",
       "      <td>NaN</td>\n",
       "      <td>01-01-2015</td>\n",
       "      <td>18192.0</td>\n",
       "      <td>/organization/ãasys-2</td>\n",
       "      <td>Ãasys</td>\n",
       "      <td>http://www.oasys.io/</td>\n",
       "      <td>Consumer Electronics|Internet of Things|Teleco...</td>\n",
       "      <td>operating</td>\n",
       "      <td>USA</td>\n",
       "      <td>CA</td>\n",
       "      <td>SF Bay Area</td>\n",
       "      <td>San Francisco</td>\n",
       "      <td>01-01-2014</td>\n",
       "    </tr>\n",
       "    <tr>\n",
       "      <th>114941</th>\n",
       "      <td>/organization/ä°novatiff-reklam-ve-tanä±tä±m-h...</td>\n",
       "      <td>/funding-round/af942869878d2cd788ef5189b435ebc4</td>\n",
       "      <td>grant</td>\n",
       "      <td>NaN</td>\n",
       "      <td>01-10-2013</td>\n",
       "      <td>14851.0</td>\n",
       "      <td>/organization/ä°novatiff-reklam-ve-tanä±tä±m-h...</td>\n",
       "      <td>Ä°novatiff Reklam ve TanÄ±tÄ±m Hizmetleri Tic</td>\n",
       "      <td>http://inovatiff.com</td>\n",
       "      <td>Consumer Goods|E-Commerce|Internet</td>\n",
       "      <td>operating</td>\n",
       "      <td>NaN</td>\n",
       "      <td>NaN</td>\n",
       "      <td>NaN</td>\n",
       "      <td>NaN</td>\n",
       "      <td>NaN</td>\n",
       "    </tr>\n",
       "  </tbody>\n",
       "</table>\n",
       "<p>114942 rows × 16 columns</p>\n",
       "</div>"
      ],
      "text/plain": [
       "                                        company_permalink  \\\n",
       "0                                     /organization/-fame   \n",
       "1                                  /organization/-qounter   \n",
       "2                                  /organization/-qounter   \n",
       "3                     /organization/-the-one-of-them-inc-   \n",
       "4                                   /organization/0-6-com   \n",
       "...                                                   ...   \n",
       "114937                          /organization/zzzzapp-com   \n",
       "114938                          /organization/zzzzapp-com   \n",
       "114939                               /organization/ãeron   \n",
       "114940                             /organization/ãasys-2   \n",
       "114941  /organization/ä°novatiff-reklam-ve-tanä±tä±m-h...   \n",
       "\n",
       "                                funding_round_permalink funding_round_type  \\\n",
       "0       /funding-round/9a01d05418af9f794eebff7ace91f638            venture   \n",
       "1       /funding-round/22dacff496eb7acb2b901dec1dfe5633            venture   \n",
       "2       /funding-round/b44fbb94153f6cdef13083530bb48030               seed   \n",
       "3       /funding-round/650b8f704416801069bb178a1418776b            venture   \n",
       "4       /funding-round/5727accaeaa57461bd22a9bdd945382d            venture   \n",
       "...                                                 ...                ...   \n",
       "114937  /funding-round/8f6d25b8ee4199e586484d817bceda05   convertible_note   \n",
       "114938  /funding-round/ff1aa06ed5da186c84f101549035d4ae               seed   \n",
       "114939  /funding-round/59f4dce44723b794f21ded3daed6e4fe            venture   \n",
       "114940  /funding-round/35f09d0794651719b02bbfd859ba9ff5               seed   \n",
       "114941  /funding-round/af942869878d2cd788ef5189b435ebc4              grant   \n",
       "\n",
       "       funding_round_code   funded_at  raised_amount_usd  \\\n",
       "0                       B  05-01-2015         10000000.0   \n",
       "1                       A  14-10-2014                NaN   \n",
       "2                     NaN  01-03-2014           700000.0   \n",
       "3                       B  30-01-2014          3406878.0   \n",
       "4                       A  19-03-2008          2000000.0   \n",
       "...                   ...         ...                ...   \n",
       "114937                NaN  01-03-2014            41313.0   \n",
       "114938                NaN  01-05-2013            32842.0   \n",
       "114939                  A  01-08-2014                NaN   \n",
       "114940                NaN  01-01-2015            18192.0   \n",
       "114941                NaN  01-10-2013            14851.0   \n",
       "\n",
       "                                                permalink  \\\n",
       "0                                     /organization/-fame   \n",
       "1                                  /organization/-qounter   \n",
       "2                                  /organization/-qounter   \n",
       "3                     /organization/-the-one-of-them-inc-   \n",
       "4                                   /organization/0-6-com   \n",
       "...                                                   ...   \n",
       "114937                          /organization/zzzzapp-com   \n",
       "114938                          /organization/zzzzapp-com   \n",
       "114939                               /organization/ãeron   \n",
       "114940                             /organization/ãasys-2   \n",
       "114941  /organization/ä°novatiff-reklam-ve-tanä±tä±m-h...   \n",
       "\n",
       "                                                 name            homepage_url  \\\n",
       "0                                               #fame      http://livfame.com   \n",
       "1                                            :Qounter  http://www.qounter.com   \n",
       "2                                            :Qounter  http://www.qounter.com   \n",
       "3                              (THE) ONE of THEM,Inc.     http://oneofthem.jp   \n",
       "4                                             0-6.com      http://www.0-6.com   \n",
       "...                                               ...                     ...   \n",
       "114937                          Zzzzapp Wireless ltd.  http://www.zzzzapp.com   \n",
       "114938                          Zzzzapp Wireless ltd.  http://www.zzzzapp.com   \n",
       "114939                                         ÃERON    http://www.aeron.hu/   \n",
       "114940                                         Ãasys    http://www.oasys.io/   \n",
       "114941  Ä°novatiff Reklam ve TanÄ±tÄ±m Hizmetleri Tic    http://inovatiff.com   \n",
       "\n",
       "                                            category_list     status  \\\n",
       "0                                                   Media  operating   \n",
       "1       Application Platforms|Real Time|Social Network...  operating   \n",
       "2       Application Platforms|Real Time|Social Network...  operating   \n",
       "3                                       Apps|Games|Mobile  operating   \n",
       "4                                             Curated Web  operating   \n",
       "...                                                   ...        ...   \n",
       "114937        Advertising|Mobile|Web Development|Wireless  operating   \n",
       "114938        Advertising|Mobile|Web Development|Wireless  operating   \n",
       "114939                                                NaN  operating   \n",
       "114940  Consumer Electronics|Internet of Things|Teleco...  operating   \n",
       "114941                 Consumer Goods|E-Commerce|Internet  operating   \n",
       "\n",
       "       country_code state_code       region           city  founded_at  \n",
       "0               IND         16       Mumbai         Mumbai         NaN  \n",
       "1               USA         DE   DE - Other  Delaware City  04-09-2014  \n",
       "2               USA         DE   DE - Other  Delaware City  04-09-2014  \n",
       "3               NaN        NaN          NaN            NaN         NaN  \n",
       "4               CHN         22      Beijing        Beijing  01-01-2007  \n",
       "...             ...        ...          ...            ...         ...  \n",
       "114937          HRV         15        Split          Split  13-05-2012  \n",
       "114938          HRV         15        Split          Split  13-05-2012  \n",
       "114939          NaN        NaN          NaN            NaN  01-01-2011  \n",
       "114940          USA         CA  SF Bay Area  San Francisco  01-01-2014  \n",
       "114941          NaN        NaN          NaN            NaN         NaN  \n",
       "\n",
       "[114942 rows x 16 columns]"
      ]
     },
     "execution_count": 1058,
     "metadata": {},
     "output_type": "execute_result"
    }
   ],
   "source": [
    "#using inner merge - inner: for intersection of keys from both frames, preserve the order of the left keys.\n",
    "\n",
    "master_frame = rounds2.merge(companies, how='inner', left_on='company_permalink', right_on='permalink')\n",
    "master_frame"
   ]
  },
  {
   "cell_type": "code",
   "execution_count": 1059,
   "metadata": {},
   "outputs": [
    {
     "data": {
      "text/plain": [
       "(114942, 16)"
      ]
     },
     "execution_count": 1059,
     "metadata": {},
     "output_type": "execute_result"
    }
   ],
   "source": [
    "master_frame.shape"
   ]
  },
  {
   "cell_type": "markdown",
   "metadata": {},
   "source": [
    "7 rows from the 'rounds2' are missing\n",
    "\n",
    "Reason: \n",
    "- After merging two data frame, 7 rows are missing\n",
    "- company in the rounds2 data frame which are not present in companies data frame"
   ]
  },
  {
   "cell_type": "code",
   "execution_count": 1064,
   "metadata": {},
   "outputs": [
    {
     "data": {
      "text/plain": [
       "7"
      ]
     },
     "execution_count": 1064,
     "metadata": {},
     "output_type": "execute_result"
    }
   ],
   "source": [
    "len(set(round2List) - set(companiesList))"
   ]
  },
  {
   "cell_type": "code",
   "execution_count": 1063,
   "metadata": {},
   "outputs": [
    {
     "data": {
      "text/plain": [
       "{'/organization/e-cã\\x8abica',\n",
       " '/organization/energystone-games-ç\\x81µç\\x9f³æ¸¸æ\\x88\\x8f',\n",
       " '/organization/huizuche-com-æ\\x83\\xa0ç§ÿè½¦',\n",
       " '/organization/magnet-tech-ç£\\x81ç\\x9f³ç§\\x91æ\\x8a\\x80',\n",
       " '/organization/tipcat-interactive-æ²\\x99è\\x88ÿä¿¡æ\\x81¯ç§\\x91æ\\x9a\\x80',\n",
       " '/organization/weiche-tech-å\\x96\\x82è½¦ç§\\x91æ\\x8a\\x80',\n",
       " '/organization/zengame-ç¦\\x85æ¸¸ç§\\x91æ\\x8a\\x80'}"
      ]
     },
     "execution_count": 1063,
     "metadata": {},
     "output_type": "execute_result"
    }
   ],
   "source": [
    "set(round2List) - set(companiesList)"
   ]
  },
  {
   "cell_type": "code",
   "execution_count": 1069,
   "metadata": {},
   "outputs": [
    {
     "data": {
      "text/plain": [
       "company_permalink              0\n",
       "funding_round_permalink        0\n",
       "funding_round_type             0\n",
       "funding_round_code         83803\n",
       "funded_at                      0\n",
       "raised_amount_usd          19984\n",
       "permalink                      0\n",
       "name                           1\n",
       "homepage_url                6132\n",
       "category_list               3407\n",
       "status                         0\n",
       "country_code                8671\n",
       "state_code                 10939\n",
       "region                     10160\n",
       "city                       10157\n",
       "founded_at                 20520\n",
       "dtype: int64"
      ]
     },
     "execution_count": 1069,
     "metadata": {},
     "output_type": "execute_result"
    }
   ],
   "source": [
    "#Number of missing values in master_frame column\n",
    "\n",
    "master_frame.isnull().sum()"
   ]
  },
  {
   "cell_type": "code",
   "execution_count": 1070,
   "metadata": {},
   "outputs": [
    {
     "data": {
      "text/plain": [
       "0"
      ]
     },
     "execution_count": 1070,
     "metadata": {},
     "output_type": "execute_result"
    }
   ],
   "source": [
    "master_frame.duplicated().sum()\n",
    "\n",
    "#there are are no duplicated rows"
   ]
  },
  {
   "cell_type": "code",
   "execution_count": 1065,
   "metadata": {
    "scrolled": true
   },
   "outputs": [
    {
     "data": {
      "text/plain": [
       "company_permalink           0.000000\n",
       "funding_round_permalink     0.000000\n",
       "funding_round_type          0.000000\n",
       "funding_round_code         72.908945\n",
       "funded_at                   0.000000\n",
       "raised_amount_usd          17.386160\n",
       "permalink                   0.000000\n",
       "name                        0.000870\n",
       "homepage_url                5.334865\n",
       "category_list               2.964104\n",
       "status                      0.000000\n",
       "country_code                7.543805\n",
       "state_code                  9.516974\n",
       "region                      8.839241\n",
       "city                        8.836631\n",
       "founded_at                 17.852482\n",
       "dtype: float64"
      ]
     },
     "execution_count": 1065,
     "metadata": {},
     "output_type": "execute_result"
    }
   ],
   "source": [
    "#Percentage of missing values in master_frame column\n",
    "\n",
    "100 * (master_frame.isnull().sum() / master_frame.shape[0])"
   ]
  },
  {
   "cell_type": "markdown",
   "metadata": {},
   "source": [
    "#### Cleaning unnecessary column based on analysis"
   ]
  },
  {
   "cell_type": "markdown",
   "metadata": {},
   "source": [
    "`funding_round_code` - **72% of missing values** - can't impute large amount of missing values. so, Delete column\n",
    "\n",
    "`permalink` - company_permalink & permalink has same information. So we can delete one of the column. Let's delete permalink\n",
    "\n",
    "`homepage_url` - **5% of missing values** - Not an important information for this analysis. so, Delete column\n",
    "\n",
    "`state_code` - **9% of missing values** - Not an important information for this analysis. so, Delete column\n",
    "\n",
    "`region`- **9% of missing values** - Not an important information for this analysis. so, Delete column\n",
    "\n",
    "`city` - **9% of missing values** - Not an important information for this analysis. so, Delete column\n",
    "\n",
    "`founded_at` - **18% of missing values** - Not an important information for this analysis. so, Delete column"
   ]
  },
  {
   "cell_type": "code",
   "execution_count": 1072,
   "metadata": {},
   "outputs": [],
   "source": [
    "# Remove the unnecessary columns such as 'funding_round_code', 'permalink', 'homepage_url', 'state_code', 'region', 'city', 'founded_at'\n",
    "\n",
    "master_frame.drop(columns = ['funding_round_code', 'permalink', 'homepage_url', 'state_code', 'region', 'city', 'founded_at'], inplace=True)"
   ]
  },
  {
   "cell_type": "code",
   "execution_count": 1075,
   "metadata": {},
   "outputs": [
    {
     "data": {
      "text/plain": [
       "company_permalink              0\n",
       "funding_round_permalink        0\n",
       "funding_round_type             0\n",
       "funded_at                      0\n",
       "raised_amount_usd          19984\n",
       "name                           1\n",
       "category_list               3407\n",
       "status                         0\n",
       "country_code                8671\n",
       "dtype: int64"
      ]
     },
     "execution_count": 1075,
     "metadata": {},
     "output_type": "execute_result"
    }
   ],
   "source": [
    "#number of missing values \n",
    "\n",
    "master_frame.isnull().sum()"
   ]
  },
  {
   "cell_type": "code",
   "execution_count": 1073,
   "metadata": {
    "scrolled": true
   },
   "outputs": [
    {
     "data": {
      "text/plain": [
       "company_permalink           0.000000\n",
       "funding_round_permalink     0.000000\n",
       "funding_round_type          0.000000\n",
       "funded_at                   0.000000\n",
       "raised_amount_usd          17.386160\n",
       "name                        0.000870\n",
       "category_list               2.964104\n",
       "status                      0.000000\n",
       "country_code                7.543805\n",
       "dtype: float64"
      ]
     },
     "execution_count": 1073,
     "metadata": {},
     "output_type": "execute_result"
    }
   ],
   "source": [
    "#Percentage of missing values\n",
    "\n",
    "100 * (master_frame.isnull().sum() / master_frame.shape[0])"
   ]
  },
  {
   "cell_type": "markdown",
   "metadata": {},
   "source": [
    "#### Other columns with missing values such as `raised_amount_usd`, `category_list` & `country_code` are important for this analysis. So, Let's deal with that in row wise analysis"
   ]
  },
  {
   "cell_type": "code",
   "execution_count": 1078,
   "metadata": {},
   "outputs": [
    {
     "data": {
      "text/plain": [
       "(114942, 9)"
      ]
     },
     "execution_count": 1078,
     "metadata": {},
     "output_type": "execute_result"
    }
   ],
   "source": [
    "master_frame.shape"
   ]
  },
  {
   "cell_type": "markdown",
   "metadata": {},
   "source": [
    "# Checkpoint 2: Funding Type Analysis"
   ]
  },
  {
   "cell_type": "markdown",
   "metadata": {},
   "source": [
    "Spark Funds wants to choose one of these four investment types for each potential investment they will make.\n",
    "\n",
    "**(venture, angel, seed, and private equity)**"
   ]
  },
  {
   "cell_type": "code",
   "execution_count": 1079,
   "metadata": {},
   "outputs": [],
   "source": [
    "funding_type = ['venture', 'angel', 'seed', 'private_equity']"
   ]
  },
  {
   "cell_type": "code",
   "execution_count": 1080,
   "metadata": {},
   "outputs": [],
   "source": [
    "#only choose the investments with required 'funding_round_type' for further analysis\n",
    "\n",
    "master_frame = master_frame.loc[master_frame['funding_round_type'].isin(funding_type)]"
   ]
  },
  {
   "cell_type": "code",
   "execution_count": 1082,
   "metadata": {},
   "outputs": [
    {
     "data": {
      "text/plain": [
       "(94390, 9)"
      ]
     },
     "execution_count": 1082,
     "metadata": {},
     "output_type": "execute_result"
    }
   ],
   "source": [
    "#total number investments made in 'venture', 'angel', 'seed' & 'private_equity'\n",
    "\n",
    "master_frame.shape"
   ]
  },
  {
   "cell_type": "code",
   "execution_count": 1085,
   "metadata": {},
   "outputs": [
    {
     "data": {
      "text/plain": [
       "company_permalink              0\n",
       "funding_round_permalink        0\n",
       "funding_round_type             0\n",
       "funded_at                      0\n",
       "raised_amount_usd          13764\n",
       "name                           1\n",
       "category_list               2494\n",
       "status                         0\n",
       "country_code                7314\n",
       "dtype: int64"
      ]
     },
     "execution_count": 1085,
     "metadata": {},
     "output_type": "execute_result"
    }
   ],
   "source": [
    "#number of missing values \n",
    "\n",
    "master_frame.isnull().sum()"
   ]
  },
  {
   "cell_type": "code",
   "execution_count": 1083,
   "metadata": {
    "scrolled": true
   },
   "outputs": [
    {
     "data": {
      "text/plain": [
       "company_permalink           0.000000\n",
       "funding_round_permalink     0.000000\n",
       "funding_round_type          0.000000\n",
       "funded_at                   0.000000\n",
       "raised_amount_usd          14.582053\n",
       "name                        0.001059\n",
       "category_list               2.642229\n",
       "status                      0.000000\n",
       "country_code                7.748702\n",
       "dtype: float64"
      ]
     },
     "execution_count": 1083,
     "metadata": {},
     "output_type": "execute_result"
    }
   ],
   "source": [
    "#Percentage of missing values\n",
    "\n",
    "100 * (master_frame.isnull().sum() / master_frame.shape[0])"
   ]
  },
  {
   "cell_type": "markdown",
   "metadata": {},
   "source": [
    "#### Now, we have impute the `raised_amount_usd` missing values because this variable is very important for this analysis"
   ]
  },
  {
   "cell_type": "code",
   "execution_count": 1087,
   "metadata": {},
   "outputs": [
    {
     "data": {
      "text/html": [
       "<div>\n",
       "<style scoped>\n",
       "    .dataframe tbody tr th:only-of-type {\n",
       "        vertical-align: middle;\n",
       "    }\n",
       "\n",
       "    .dataframe tbody tr th {\n",
       "        vertical-align: top;\n",
       "    }\n",
       "\n",
       "    .dataframe thead tr th {\n",
       "        text-align: left;\n",
       "    }\n",
       "\n",
       "    .dataframe thead tr:last-of-type th {\n",
       "        text-align: right;\n",
       "    }\n",
       "</style>\n",
       "<table border=\"1\" class=\"dataframe\">\n",
       "  <thead>\n",
       "    <tr>\n",
       "      <th></th>\n",
       "      <th colspan=\"8\" halign=\"left\">raised_amount_usd</th>\n",
       "    </tr>\n",
       "    <tr>\n",
       "      <th></th>\n",
       "      <th>count</th>\n",
       "      <th>mean</th>\n",
       "      <th>std</th>\n",
       "      <th>min</th>\n",
       "      <th>25%</th>\n",
       "      <th>50%</th>\n",
       "      <th>75%</th>\n",
       "      <th>max</th>\n",
       "    </tr>\n",
       "    <tr>\n",
       "      <th>funding_round_type</th>\n",
       "      <th></th>\n",
       "      <th></th>\n",
       "      <th></th>\n",
       "      <th></th>\n",
       "      <th></th>\n",
       "      <th></th>\n",
       "      <th></th>\n",
       "      <th></th>\n",
       "    </tr>\n",
       "  </thead>\n",
       "  <tbody>\n",
       "    <tr>\n",
       "      <th>angel</th>\n",
       "      <td>4860.0</td>\n",
       "      <td>9.586945e+05</td>\n",
       "      <td>7.404397e+06</td>\n",
       "      <td>0.0</td>\n",
       "      <td>150000.00</td>\n",
       "      <td>400000.0</td>\n",
       "      <td>1000000.0</td>\n",
       "      <td>4.945120e+08</td>\n",
       "    </tr>\n",
       "    <tr>\n",
       "      <th>private_equity</th>\n",
       "      <td>1936.0</td>\n",
       "      <td>7.330859e+07</td>\n",
       "      <td>1.981135e+08</td>\n",
       "      <td>0.0</td>\n",
       "      <td>5000000.00</td>\n",
       "      <td>20000000.0</td>\n",
       "      <td>75000000.0</td>\n",
       "      <td>4.745460e+09</td>\n",
       "    </tr>\n",
       "    <tr>\n",
       "      <th>seed</th>\n",
       "      <td>23602.0</td>\n",
       "      <td>7.197796e+05</td>\n",
       "      <td>2.221772e+06</td>\n",
       "      <td>0.0</td>\n",
       "      <td>55000.00</td>\n",
       "      <td>275000.0</td>\n",
       "      <td>1000000.0</td>\n",
       "      <td>2.000000e+08</td>\n",
       "    </tr>\n",
       "    <tr>\n",
       "      <th>venture</th>\n",
       "      <td>50228.0</td>\n",
       "      <td>1.174895e+07</td>\n",
       "      <td>8.635207e+07</td>\n",
       "      <td>0.0</td>\n",
       "      <td>1600901.75</td>\n",
       "      <td>5000000.0</td>\n",
       "      <td>12000000.0</td>\n",
       "      <td>1.760000e+10</td>\n",
       "    </tr>\n",
       "  </tbody>\n",
       "</table>\n",
       "</div>"
      ],
      "text/plain": [
       "                   raised_amount_usd                                   \\\n",
       "                               count          mean           std  min   \n",
       "funding_round_type                                                      \n",
       "angel                         4860.0  9.586945e+05  7.404397e+06  0.0   \n",
       "private_equity                1936.0  7.330859e+07  1.981135e+08  0.0   \n",
       "seed                         23602.0  7.197796e+05  2.221772e+06  0.0   \n",
       "venture                      50228.0  1.174895e+07  8.635207e+07  0.0   \n",
       "\n",
       "                                                                      \n",
       "                           25%         50%         75%           max  \n",
       "funding_round_type                                                    \n",
       "angel                150000.00    400000.0   1000000.0  4.945120e+08  \n",
       "private_equity      5000000.00  20000000.0  75000000.0  4.745460e+09  \n",
       "seed                  55000.00    275000.0   1000000.0  2.000000e+08  \n",
       "venture             1600901.75   5000000.0  12000000.0  1.760000e+10  "
      ]
     },
     "execution_count": 1087,
     "metadata": {},
     "output_type": "execute_result"
    }
   ],
   "source": [
    "#Overall statistical view of these four 'funding_round_type' with 'raised_amount_usd'\n",
    "\n",
    "master_frame.groupby('funding_round_type').describe()"
   ]
  },
  {
   "cell_type": "markdown",
   "metadata": {},
   "source": [
    "#### Median for each funding type will be the right value for Imputing. Because Arithmetic mean values will be skewed by the Outliers"
   ]
  },
  {
   "cell_type": "code",
   "execution_count": 1090,
   "metadata": {},
   "outputs": [
    {
     "data": {
      "text/html": [
       "<div>\n",
       "<style scoped>\n",
       "    .dataframe tbody tr th:only-of-type {\n",
       "        vertical-align: middle;\n",
       "    }\n",
       "\n",
       "    .dataframe tbody tr th {\n",
       "        vertical-align: top;\n",
       "    }\n",
       "\n",
       "    .dataframe thead th {\n",
       "        text-align: right;\n",
       "    }\n",
       "</style>\n",
       "<table border=\"1\" class=\"dataframe\">\n",
       "  <thead>\n",
       "    <tr style=\"text-align: right;\">\n",
       "      <th></th>\n",
       "      <th>raised_amount_usd</th>\n",
       "    </tr>\n",
       "    <tr>\n",
       "      <th>funding_round_type</th>\n",
       "      <th></th>\n",
       "    </tr>\n",
       "  </thead>\n",
       "  <tbody>\n",
       "    <tr>\n",
       "      <th>angel</th>\n",
       "      <td>400000.0</td>\n",
       "    </tr>\n",
       "    <tr>\n",
       "      <th>private_equity</th>\n",
       "      <td>20000000.0</td>\n",
       "    </tr>\n",
       "    <tr>\n",
       "      <th>seed</th>\n",
       "      <td>275000.0</td>\n",
       "    </tr>\n",
       "    <tr>\n",
       "      <th>venture</th>\n",
       "      <td>5000000.0</td>\n",
       "    </tr>\n",
       "  </tbody>\n",
       "</table>\n",
       "</div>"
      ],
      "text/plain": [
       "                    raised_amount_usd\n",
       "funding_round_type                   \n",
       "angel                        400000.0\n",
       "private_equity             20000000.0\n",
       "seed                         275000.0\n",
       "venture                     5000000.0"
      ]
     },
     "execution_count": 1090,
     "metadata": {},
     "output_type": "execute_result"
    }
   ],
   "source": [
    "#Median for the four 'funding_round_type'\n",
    "\n",
    "master_frame.groupby('funding_round_type').median()"
   ]
  },
  {
   "cell_type": "code",
   "execution_count": 1091,
   "metadata": {},
   "outputs": [],
   "source": [
    "#imputing the funding_round_type 'venture' with its median value - 5000000.0\n",
    "\n",
    "master_frame.loc[((master_frame['raised_amount_usd'].isnull()) & (master_frame['funding_round_type'] == 'venture')), 'raised_amount_usd'] = 5000000.0"
   ]
  },
  {
   "cell_type": "code",
   "execution_count": 1092,
   "metadata": {},
   "outputs": [],
   "source": [
    "#imputing the funding_round_type 'seed' with its median value - 275000.0\n",
    "\n",
    "master_frame.loc[((master_frame['raised_amount_usd'].isnull()) & (master_frame['funding_round_type'] == 'seed')), 'raised_amount_usd'] = 275000.0"
   ]
  },
  {
   "cell_type": "code",
   "execution_count": 1093,
   "metadata": {},
   "outputs": [],
   "source": [
    "#imputing the funding_round_type 'private_equity' with its median value - 20000000.0\n",
    "\n",
    "master_frame.loc[((master_frame['raised_amount_usd'].isnull()) & (master_frame['funding_round_type'] == 'private_equity')), 'raised_amount_usd'] = 20000000.0"
   ]
  },
  {
   "cell_type": "code",
   "execution_count": 1094,
   "metadata": {},
   "outputs": [],
   "source": [
    "#imputing the funding_round_type 'angel' with its median value - 400000.0\n",
    "\n",
    "master_frame.loc[((master_frame['raised_amount_usd'].isnull()) & (master_frame['funding_round_type'] == 'angel')), 'raised_amount_usd'] = 400000.0"
   ]
  },
  {
   "cell_type": "code",
   "execution_count": 1095,
   "metadata": {},
   "outputs": [
    {
     "data": {
      "text/plain": [
       "company_permalink          0.000000\n",
       "funding_round_permalink    0.000000\n",
       "funding_round_type         0.000000\n",
       "funded_at                  0.000000\n",
       "raised_amount_usd          0.000000\n",
       "name                       0.001059\n",
       "category_list              2.642229\n",
       "status                     0.000000\n",
       "country_code               7.748702\n",
       "dtype: float64"
      ]
     },
     "execution_count": 1095,
     "metadata": {},
     "output_type": "execute_result"
    }
   ],
   "source": [
    "#Percentage of missing values\n",
    "\n",
    "100 * (master_frame.isnull().sum() / master_frame.shape[0])"
   ]
  },
  {
   "cell_type": "code",
   "execution_count": 1096,
   "metadata": {},
   "outputs": [
    {
     "data": {
      "text/plain": [
       "company_permalink             0\n",
       "funding_round_permalink       0\n",
       "funding_round_type            0\n",
       "funded_at                     0\n",
       "raised_amount_usd             0\n",
       "name                          1\n",
       "category_list              2494\n",
       "status                        0\n",
       "country_code               7314\n",
       "dtype: int64"
      ]
     },
     "execution_count": 1096,
     "metadata": {},
     "output_type": "execute_result"
    }
   ],
   "source": [
    "#Number of missing values\n",
    "\n",
    "master_frame.isnull().sum()"
   ]
  },
  {
   "cell_type": "code",
   "execution_count": 1097,
   "metadata": {},
   "outputs": [
    {
     "data": {
      "text/plain": [
       "94390"
      ]
     },
     "execution_count": 1097,
     "metadata": {},
     "output_type": "execute_result"
    }
   ],
   "source": [
    "#total number of remaining rows\n",
    "\n",
    "master_frame.shape[0]"
   ]
  },
  {
   "cell_type": "markdown",
   "metadata": {},
   "source": [
    "There are **2494rows(2.6%)** with missing values in category_list\n",
    "\n",
    "Since we don't clearly know the right category_list of these investments and because of very small percentage of observation, We can delete these rows"
   ]
  },
  {
   "cell_type": "code",
   "execution_count": null,
   "metadata": {},
   "outputs": [],
   "source": [
    "#removing category_list with null values\n",
    "\n",
    "master_frame = master_frame.loc[~(master_frame['category_list'].isnull())]"
   ]
  },
  {
   "cell_type": "code",
   "execution_count": 1100,
   "metadata": {},
   "outputs": [
    {
     "data": {
      "text/plain": [
       "91896"
      ]
     },
     "execution_count": 1100,
     "metadata": {},
     "output_type": "execute_result"
    }
   ],
   "source": [
    "#After removing the missing values in category_list, remaining number of rows will be\n",
    "\n",
    "94390 - 2494"
   ]
  },
  {
   "cell_type": "code",
   "execution_count": 1101,
   "metadata": {},
   "outputs": [
    {
     "data": {
      "text/plain": [
       "(91896, 9)"
      ]
     },
     "execution_count": 1101,
     "metadata": {},
     "output_type": "execute_result"
    }
   ],
   "source": [
    "#remaining number of rows\n",
    "master_frame.shape"
   ]
  },
  {
   "cell_type": "code",
   "execution_count": 1102,
   "metadata": {},
   "outputs": [
    {
     "data": {
      "text/html": [
       "<div>\n",
       "<style scoped>\n",
       "    .dataframe tbody tr th:only-of-type {\n",
       "        vertical-align: middle;\n",
       "    }\n",
       "\n",
       "    .dataframe tbody tr th {\n",
       "        vertical-align: top;\n",
       "    }\n",
       "\n",
       "    .dataframe thead th {\n",
       "        text-align: right;\n",
       "    }\n",
       "</style>\n",
       "<table border=\"1\" class=\"dataframe\">\n",
       "  <thead>\n",
       "    <tr style=\"text-align: right;\">\n",
       "      <th></th>\n",
       "      <th>company_permalink</th>\n",
       "      <th>funding_round_permalink</th>\n",
       "      <th>funding_round_type</th>\n",
       "      <th>funded_at</th>\n",
       "      <th>raised_amount_usd</th>\n",
       "      <th>name</th>\n",
       "      <th>category_list</th>\n",
       "      <th>status</th>\n",
       "      <th>country_code</th>\n",
       "    </tr>\n",
       "  </thead>\n",
       "  <tbody>\n",
       "    <tr>\n",
       "      <th>98688</th>\n",
       "      <td>/organization/tell-it-in</td>\n",
       "      <td>/funding-round/9c987e616755a78c51a4aa67c27a2a93</td>\n",
       "      <td>seed</td>\n",
       "      <td>01-03-2012</td>\n",
       "      <td>25000.0</td>\n",
       "      <td>NaN</td>\n",
       "      <td>Startups</td>\n",
       "      <td>closed</td>\n",
       "      <td>USA</td>\n",
       "    </tr>\n",
       "  </tbody>\n",
       "</table>\n",
       "</div>"
      ],
      "text/plain": [
       "              company_permalink  \\\n",
       "98688  /organization/tell-it-in   \n",
       "\n",
       "                               funding_round_permalink funding_round_type  \\\n",
       "98688  /funding-round/9c987e616755a78c51a4aa67c27a2a93               seed   \n",
       "\n",
       "        funded_at  raised_amount_usd name category_list  status country_code  \n",
       "98688  01-03-2012            25000.0  NaN      Startups  closed          USA  "
      ]
     },
     "execution_count": 1102,
     "metadata": {},
     "output_type": "execute_result"
    }
   ],
   "source": [
    "#one row with null value in 'name' column\n",
    "\n",
    "master_frame.loc[master_frame['name'].isnull()]"
   ]
  },
  {
   "cell_type": "code",
   "execution_count": 1103,
   "metadata": {
    "scrolled": true
   },
   "outputs": [],
   "source": [
    "#we can impute this missing value\n",
    "\n",
    "master_frame.loc[master_frame['name'].isnull(), 'name'] = 'tell-it-in'"
   ]
  },
  {
   "cell_type": "code",
   "execution_count": 1104,
   "metadata": {},
   "outputs": [
    {
     "data": {
      "text/html": [
       "<div>\n",
       "<style scoped>\n",
       "    .dataframe tbody tr th:only-of-type {\n",
       "        vertical-align: middle;\n",
       "    }\n",
       "\n",
       "    .dataframe tbody tr th {\n",
       "        vertical-align: top;\n",
       "    }\n",
       "\n",
       "    .dataframe thead th {\n",
       "        text-align: right;\n",
       "    }\n",
       "</style>\n",
       "<table border=\"1\" class=\"dataframe\">\n",
       "  <thead>\n",
       "    <tr style=\"text-align: right;\">\n",
       "      <th></th>\n",
       "      <th>company_permalink</th>\n",
       "      <th>funding_round_permalink</th>\n",
       "      <th>funding_round_type</th>\n",
       "      <th>funded_at</th>\n",
       "      <th>raised_amount_usd</th>\n",
       "      <th>name</th>\n",
       "      <th>category_list</th>\n",
       "      <th>status</th>\n",
       "      <th>country_code</th>\n",
       "    </tr>\n",
       "  </thead>\n",
       "  <tbody>\n",
       "    <tr>\n",
       "      <th>98688</th>\n",
       "      <td>/organization/tell-it-in</td>\n",
       "      <td>/funding-round/9c987e616755a78c51a4aa67c27a2a93</td>\n",
       "      <td>seed</td>\n",
       "      <td>01-03-2012</td>\n",
       "      <td>25000.0</td>\n",
       "      <td>tell-it-in</td>\n",
       "      <td>Startups</td>\n",
       "      <td>closed</td>\n",
       "      <td>USA</td>\n",
       "    </tr>\n",
       "  </tbody>\n",
       "</table>\n",
       "</div>"
      ],
      "text/plain": [
       "              company_permalink  \\\n",
       "98688  /organization/tell-it-in   \n",
       "\n",
       "                               funding_round_permalink funding_round_type  \\\n",
       "98688  /funding-round/9c987e616755a78c51a4aa67c27a2a93               seed   \n",
       "\n",
       "        funded_at  raised_amount_usd        name category_list  status  \\\n",
       "98688  01-03-2012            25000.0  tell-it-in      Startups  closed   \n",
       "\n",
       "      country_code  \n",
       "98688          USA  "
      ]
     },
     "execution_count": 1104,
     "metadata": {},
     "output_type": "execute_result"
    }
   ],
   "source": [
    "#checking\n",
    "\n",
    "master_frame.loc[master_frame['company_permalink'] == '/organization/tell-it-in']"
   ]
  },
  {
   "cell_type": "code",
   "execution_count": 1108,
   "metadata": {},
   "outputs": [
    {
     "data": {
      "text/plain": [
       "company_permalink          0.000000\n",
       "funding_round_permalink    0.000000\n",
       "funding_round_type         0.000000\n",
       "funded_at                  0.000000\n",
       "raised_amount_usd          0.000000\n",
       "name                       0.000000\n",
       "category_list              0.000000\n",
       "status                     0.000000\n",
       "country_code               6.487769\n",
       "dtype: float64"
      ]
     },
     "execution_count": 1108,
     "metadata": {},
     "output_type": "execute_result"
    }
   ],
   "source": [
    "#Percentage of missing values\n",
    "\n",
    "100 * (master_frame.isnull().sum() / master_frame.shape[0])"
   ]
  },
  {
   "cell_type": "code",
   "execution_count": 1105,
   "metadata": {},
   "outputs": [
    {
     "data": {
      "text/plain": [
       "company_permalink             0\n",
       "funding_round_permalink       0\n",
       "funding_round_type            0\n",
       "funded_at                     0\n",
       "raised_amount_usd             0\n",
       "name                          0\n",
       "category_list                 0\n",
       "status                        0\n",
       "country_code               5962\n",
       "dtype: int64"
      ]
     },
     "execution_count": 1105,
     "metadata": {},
     "output_type": "execute_result"
    }
   ],
   "source": [
    "#Number of missing values\n",
    "\n",
    "master_frame.isnull().sum()"
   ]
  },
  {
   "cell_type": "code",
   "execution_count": 1109,
   "metadata": {},
   "outputs": [
    {
     "data": {
      "text/plain": [
       "(91896, 9)"
      ]
     },
     "execution_count": 1109,
     "metadata": {},
     "output_type": "execute_result"
    }
   ],
   "source": [
    "#remaining number of rows\n",
    "master_frame.shape"
   ]
  },
  {
   "cell_type": "markdown",
   "metadata": {},
   "source": [
    "#### Its better to remove the `country_code` rows with missing values because Imputing the country code with 'mode' will skew the data"
   ]
  },
  {
   "cell_type": "code",
   "execution_count": 1110,
   "metadata": {},
   "outputs": [],
   "source": [
    "#remove country_code rows with null values \n",
    "\n",
    "master_frame = master_frame.loc[~(master_frame['country_code'].isnull())]"
   ]
  },
  {
   "cell_type": "code",
   "execution_count": 1112,
   "metadata": {},
   "outputs": [
    {
     "data": {
      "text/plain": [
       "85934"
      ]
     },
     "execution_count": 1112,
     "metadata": {},
     "output_type": "execute_result"
    }
   ],
   "source": [
    "#old number of rows - removed rows\n",
    "\n",
    "91896 - 5962"
   ]
  },
  {
   "cell_type": "code",
   "execution_count": 1113,
   "metadata": {
    "scrolled": true
   },
   "outputs": [
    {
     "data": {
      "text/plain": [
       "(85934, 9)"
      ]
     },
     "execution_count": 1113,
     "metadata": {},
     "output_type": "execute_result"
    }
   ],
   "source": [
    "#confirming the rows\n",
    "\n",
    "master_frame.shape"
   ]
  },
  {
   "cell_type": "code",
   "execution_count": 373,
   "metadata": {},
   "outputs": [
    {
     "data": {
      "text/plain": [
       "company_permalink          0.0\n",
       "funding_round_permalink    0.0\n",
       "funding_round_type         0.0\n",
       "funded_at                  0.0\n",
       "raised_amount_usd          0.0\n",
       "name                       0.0\n",
       "category_list              0.0\n",
       "status                     0.0\n",
       "country_code               0.0\n",
       "dtype: float64"
      ]
     },
     "execution_count": 373,
     "metadata": {},
     "output_type": "execute_result"
    }
   ],
   "source": [
    "100 * (master_frame.isnull().sum() / master_frame.shape[0])"
   ]
  },
  {
   "cell_type": "code",
   "execution_count": 374,
   "metadata": {},
   "outputs": [
    {
     "data": {
      "text/plain": [
       "(85934, 9)"
      ]
     },
     "execution_count": 374,
     "metadata": {},
     "output_type": "execute_result"
    }
   ],
   "source": [
    "master_frame.shape"
   ]
  },
  {
   "cell_type": "code",
   "execution_count": 1114,
   "metadata": {},
   "outputs": [
    {
     "data": {
      "text/plain": [
       "74.76292390944998"
      ]
     },
     "execution_count": 1114,
     "metadata": {},
     "output_type": "execute_result"
    }
   ],
   "source": [
    "100 * (master_frame.shape[0] / 114942)"
   ]
  },
  {
   "cell_type": "markdown",
   "metadata": {},
   "source": [
    "#### we have removed 25% of the rows from master_frame in data cleaning"
   ]
  },
  {
   "cell_type": "markdown",
   "metadata": {},
   "source": [
    "**1. Calculate the most representative value of the investment amount for each of the four funding types (venture, angel, seed, and private equity)?**"
   ]
  },
  {
   "cell_type": "code",
   "execution_count": 1115,
   "metadata": {
    "scrolled": true
   },
   "outputs": [
    {
     "data": {
      "text/html": [
       "<div>\n",
       "<style scoped>\n",
       "    .dataframe tbody tr th:only-of-type {\n",
       "        vertical-align: middle;\n",
       "    }\n",
       "\n",
       "    .dataframe tbody tr th {\n",
       "        vertical-align: top;\n",
       "    }\n",
       "\n",
       "    .dataframe thead tr th {\n",
       "        text-align: left;\n",
       "    }\n",
       "\n",
       "    .dataframe thead tr:last-of-type th {\n",
       "        text-align: right;\n",
       "    }\n",
       "</style>\n",
       "<table border=\"1\" class=\"dataframe\">\n",
       "  <thead>\n",
       "    <tr>\n",
       "      <th></th>\n",
       "      <th colspan=\"8\" halign=\"left\">raised_amount_usd</th>\n",
       "    </tr>\n",
       "    <tr>\n",
       "      <th></th>\n",
       "      <th>count</th>\n",
       "      <th>mean</th>\n",
       "      <th>std</th>\n",
       "      <th>min</th>\n",
       "      <th>25%</th>\n",
       "      <th>50%</th>\n",
       "      <th>75%</th>\n",
       "      <th>max</th>\n",
       "    </tr>\n",
       "    <tr>\n",
       "      <th>funding_round_type</th>\n",
       "      <th></th>\n",
       "      <th></th>\n",
       "      <th></th>\n",
       "      <th></th>\n",
       "      <th></th>\n",
       "      <th></th>\n",
       "      <th></th>\n",
       "      <th></th>\n",
       "    </tr>\n",
       "  </thead>\n",
       "  <tbody>\n",
       "    <tr>\n",
       "      <th>angel</th>\n",
       "      <td>5417.0</td>\n",
       "      <td>8.642653e+05</td>\n",
       "      <td>6.952915e+06</td>\n",
       "      <td>0.0</td>\n",
       "      <td>200000.0</td>\n",
       "      <td>400000.0</td>\n",
       "      <td>770000.00</td>\n",
       "      <td>4.945120e+08</td>\n",
       "    </tr>\n",
       "    <tr>\n",
       "      <th>private_equity</th>\n",
       "      <td>2055.0</td>\n",
       "      <td>6.777034e+07</td>\n",
       "      <td>1.906579e+08</td>\n",
       "      <td>0.0</td>\n",
       "      <td>6000000.5</td>\n",
       "      <td>20000000.0</td>\n",
       "      <td>67273600.00</td>\n",
       "      <td>4.745460e+09</td>\n",
       "    </tr>\n",
       "    <tr>\n",
       "      <th>seed</th>\n",
       "      <td>26438.0</td>\n",
       "      <td>6.522442e+05</td>\n",
       "      <td>2.052840e+06</td>\n",
       "      <td>0.0</td>\n",
       "      <td>100000.0</td>\n",
       "      <td>275000.0</td>\n",
       "      <td>750000.00</td>\n",
       "      <td>2.000000e+08</td>\n",
       "    </tr>\n",
       "    <tr>\n",
       "      <th>venture</th>\n",
       "      <td>52024.0</td>\n",
       "      <td>1.117942e+07</td>\n",
       "      <td>8.458644e+07</td>\n",
       "      <td>0.0</td>\n",
       "      <td>1955812.5</td>\n",
       "      <td>5000000.0</td>\n",
       "      <td>10806384.25</td>\n",
       "      <td>1.760000e+10</td>\n",
       "    </tr>\n",
       "  </tbody>\n",
       "</table>\n",
       "</div>"
      ],
      "text/plain": [
       "                   raised_amount_usd                                   \\\n",
       "                               count          mean           std  min   \n",
       "funding_round_type                                                      \n",
       "angel                         5417.0  8.642653e+05  6.952915e+06  0.0   \n",
       "private_equity                2055.0  6.777034e+07  1.906579e+08  0.0   \n",
       "seed                         26438.0  6.522442e+05  2.052840e+06  0.0   \n",
       "venture                      52024.0  1.117942e+07  8.458644e+07  0.0   \n",
       "\n",
       "                                                                      \n",
       "                          25%         50%          75%           max  \n",
       "funding_round_type                                                    \n",
       "angel                200000.0    400000.0    770000.00  4.945120e+08  \n",
       "private_equity      6000000.5  20000000.0  67273600.00  4.745460e+09  \n",
       "seed                 100000.0    275000.0    750000.00  2.000000e+08  \n",
       "venture             1955812.5   5000000.0  10806384.25  1.760000e+10  "
      ]
     },
     "execution_count": 1115,
     "metadata": {},
     "output_type": "execute_result"
    }
   ],
   "source": [
    "#Overall statistics of 'funding_round_type' & 'raised_amount_usd'\n",
    "\n",
    "master_frame.groupby('funding_round_type').describe()"
   ]
  },
  {
   "cell_type": "markdown",
   "metadata": {},
   "source": [
    "### We have to choose between `Median` & `Mean` for the representative value of the investment amount for each of the four funding types"
   ]
  },
  {
   "cell_type": "markdown",
   "metadata": {},
   "source": [
    "#### Let's do the Outlier analysis for this four funding type before we do that"
   ]
  },
  {
   "cell_type": "code",
   "execution_count": 1126,
   "metadata": {},
   "outputs": [],
   "source": [
    "#importing necessary libraries for Data visualisation\n",
    "\n",
    "import matplotlib.pyplot as plt\n",
    "%matplotlib inline"
   ]
  },
  {
   "cell_type": "code",
   "execution_count": 1127,
   "metadata": {},
   "outputs": [],
   "source": [
    "import seaborn as sns"
   ]
  },
  {
   "cell_type": "code",
   "execution_count": 1128,
   "metadata": {},
   "outputs": [],
   "source": [
    "import warnings\n",
    "warnings.filterwarnings(\"ignore\")"
   ]
  },
  {
   "cell_type": "code",
   "execution_count": 1129,
   "metadata": {},
   "outputs": [
    {
     "data": {
      "text/plain": [
       "<AxesSubplot:xlabel='funding_round_type', ylabel='raised_amount_usd'>"
      ]
     },
     "execution_count": 1129,
     "metadata": {},
     "output_type": "execute_result"
    },
    {
     "data": {
      "image/png": "[encoded data removed]",
      "text/plain": [
       "<Figure size 432x288 with 1 Axes>"
      ]
     },
     "metadata": {
      "needs_background": "light"
     },
     "output_type": "display_data"
    }
   ],
   "source": [
    "#box plotting the 'funding_round_type' & 'raised_amount_usd'\n",
    "\n",
    "sns.boxplot(x='funding_round_type', y='raised_amount_usd', data=master_frame)"
   ]
  },
  {
   "cell_type": "markdown",
   "metadata": {},
   "source": [
    "#### raised_amount_usd is heavily skewed by the outliers. So, let's boxplot only for raised_amount_usd less than 2000000000 (2 Billion)"
   ]
  },
  {
   "cell_type": "code",
   "execution_count": 1130,
   "metadata": {},
   "outputs": [
    {
     "data": {
      "text/plain": [
       "<AxesSubplot:xlabel='funding_round_type', ylabel='raised_amount_usd'>"
      ]
     },
     "execution_count": 1130,
     "metadata": {},
     "output_type": "execute_result"
    },
    {
     "data": {
      "image/png": "[encoded data removed]",
      "text/plain": [
       "<Figure size 432x288 with 1 Axes>"
      ]
     },
     "metadata": {
      "needs_background": "light"
     },
     "output_type": "display_data"
    }
   ],
   "source": [
    "sns.boxplot(x='funding_round_type', y='raised_amount_usd', data=master_frame.loc[master_frame['raised_amount_usd'] <= 2000000000])"
   ]
  },
  {
   "cell_type": "markdown",
   "metadata": {},
   "source": [
    "#### Still, the box plot is heavily skewed by the outliers. So, let's boxplot only for raised_amount_usd less than 20000000(20Million)"
   ]
  },
  {
   "cell_type": "code",
   "execution_count": 1131,
   "metadata": {
    "scrolled": true
   },
   "outputs": [
    {
     "data": {
      "text/plain": [
       "<AxesSubplot:xlabel='funding_round_type', ylabel='raised_amount_usd'>"
      ]
     },
     "execution_count": 1131,
     "metadata": {},
     "output_type": "execute_result"
    },
    {
     "data": {
      "image/png": "[encoded data removed]",
      "text/plain": [
       "<Figure size 432x288 with 1 Axes>"
      ]
     },
     "metadata": {
      "needs_background": "light"
     },
     "output_type": "display_data"
    }
   ],
   "source": [
    "sns.boxplot(x='funding_round_type', y='raised_amount_usd', data=master_frame.loc[master_frame['raised_amount_usd'] <= 20000000])"
   ]
  },
  {
   "cell_type": "markdown",
   "metadata": {},
   "source": [
    "### Mean values are heavily skewed by the Outliers. So, its better to take Median as a representative values of Investments for Each of these Funding Types"
   ]
  },
  {
   "cell_type": "code",
   "execution_count": 1140,
   "metadata": {
    "scrolled": true
   },
   "outputs": [
    {
     "data": {
      "text/html": [
       "<div>\n",
       "<style scoped>\n",
       "    .dataframe tbody tr th:only-of-type {\n",
       "        vertical-align: middle;\n",
       "    }\n",
       "\n",
       "    .dataframe tbody tr th {\n",
       "        vertical-align: top;\n",
       "    }\n",
       "\n",
       "    .dataframe thead th {\n",
       "        text-align: right;\n",
       "    }\n",
       "</style>\n",
       "<table border=\"1\" class=\"dataframe\">\n",
       "  <thead>\n",
       "    <tr style=\"text-align: right;\">\n",
       "      <th></th>\n",
       "      <th>raised_amount_usd</th>\n",
       "    </tr>\n",
       "    <tr>\n",
       "      <th>funding_round_type</th>\n",
       "      <th></th>\n",
       "    </tr>\n",
       "  </thead>\n",
       "  <tbody>\n",
       "    <tr>\n",
       "      <th>private_equity</th>\n",
       "      <td>20000000.0</td>\n",
       "    </tr>\n",
       "    <tr>\n",
       "      <th>venture</th>\n",
       "      <td>5000000.0</td>\n",
       "    </tr>\n",
       "    <tr>\n",
       "      <th>angel</th>\n",
       "      <td>400000.0</td>\n",
       "    </tr>\n",
       "    <tr>\n",
       "      <th>seed</th>\n",
       "      <td>275000.0</td>\n",
       "    </tr>\n",
       "  </tbody>\n",
       "</table>\n",
       "</div>"
      ],
      "text/plain": [
       "                    raised_amount_usd\n",
       "funding_round_type                   \n",
       "private_equity             20000000.0\n",
       "venture                     5000000.0\n",
       "angel                        400000.0\n",
       "seed                         275000.0"
      ]
     },
     "execution_count": 1140,
     "metadata": {},
     "output_type": "execute_result"
    }
   ],
   "source": [
    "#common representative amount of investment in each funding type\n",
    "\n",
    "master_frame.groupby('funding_round_type').median().sort_values('raised_amount_usd', ascending=False)"
   ]
  },
  {
   "cell_type": "code",
   "execution_count": 1141,
   "metadata": {},
   "outputs": [
    {
     "data": {
      "text/plain": [
       "<Figure size 1440x720 with 0 Axes>"
      ]
     },
     "metadata": {},
     "output_type": "display_data"
    },
    {
     "data": {
      "image/png": "[encoded data removed]",
      "text/plain": [
       "<Figure size 432x288 with 1 Axes>"
      ]
     },
     "metadata": {
      "needs_background": "light"
     },
     "output_type": "display_data"
    }
   ],
   "source": [
    "#Plot for common representative amount of investment in each funding type\n",
    "\n",
    "plt.figure(figsize=(20,10))\n",
    "\n",
    "master_frame.groupby('funding_round_type').median().plot.bar()\n",
    "plt.show()"
   ]
  },
  {
   "cell_type": "markdown",
   "metadata": {},
   "source": [
    "### Lets omit the outliers to see the common representative values of Venture"
   ]
  },
  {
   "cell_type": "code",
   "execution_count": 1142,
   "metadata": {},
   "outputs": [],
   "source": [
    "#calculating the higher fence value for venture\n",
    "\n",
    "#calculating the 75th percentile for venture\n",
    "VQ3 = master_frame.loc[master_frame['funding_round_type'] == 'venture'].quantile(0.75)[0]\n",
    "\n",
    "\n",
    "\n",
    "#calculating IQR for venture\n",
    "#IQR = IQ3 - IQ1(25th percentile)\n",
    "\n",
    "VIQR = VQ3 - master_frame.loc[master_frame['funding_round_type'] == 'venture'].quantile(0.25)[0]\n",
    "\n",
    "\n",
    "#calculating the higher fence for venture\n",
    "#Higher fence = IQ3 + (1.5 * IQR)\n",
    "\n",
    "venture_h_fence = VQ3 + (1.5 * VIQR)\n",
    "#venture higher fence value 24082241.875"
   ]
  },
  {
   "cell_type": "code",
   "execution_count": 1143,
   "metadata": {
    "scrolled": true
   },
   "outputs": [
    {
     "data": {
      "text/plain": [
       "<AxesSubplot:xlabel='funding_round_type', ylabel='raised_amount_usd'>"
      ]
     },
     "execution_count": 1143,
     "metadata": {},
     "output_type": "execute_result"
    },
    {
     "data": {
      "image/png": "[encoded data removed]",
      "text/plain": [
       "<Figure size 432x288 with 1 Axes>"
      ]
     },
     "metadata": {
      "needs_background": "light"
     },
     "output_type": "display_data"
    }
   ],
   "source": [
    "#For the venture funding type, we have found the higher fence and drawn a box plot to see the representative values\n",
    "\n",
    "sns.boxplot(x='funding_round_type', y='raised_amount_usd', data=master_frame.loc[(master_frame['funding_round_type'] == 'venture') & (master_frame['raised_amount_usd'] <= venture_h_fence)])"
   ]
  },
  {
   "cell_type": "markdown",
   "metadata": {},
   "source": [
    "### Lets omit the outliers to see the common representative values of Seed"
   ]
  },
  {
   "cell_type": "code",
   "execution_count": 1144,
   "metadata": {},
   "outputs": [],
   "source": [
    "#calculating the higher fence value for Seed\n",
    "\n",
    "#calculating the 75th percentile for seed\n",
    "SQ3 = master_frame.loc[master_frame['funding_round_type'] == 'seed'].quantile(0.75)[0]\n",
    "#750000.0\n",
    "\n",
    "#calculating IQR for seed\n",
    "#IQR = IQ3 - IQ1(25th percentile)\n",
    "\n",
    "SIQR = SQ3 - master_frame.loc[master_frame['funding_round_type'] == 'seed'].quantile(0.25)[0]\n",
    "#750000.0 - 100000.0\n",
    "\n",
    "#calculating the higher fence for venture\n",
    "#Higher fence = IQ3 + (1.5 * IQR)\n",
    "\n",
    "seed_h_fence = SQ3 + (1.5 * SIQR)\n",
    "#750000.0 + (1.5 * 650000.0)\n",
    "#Seed higher fence value - 1725000.0"
   ]
  },
  {
   "cell_type": "code",
   "execution_count": 1145,
   "metadata": {},
   "outputs": [
    {
     "data": {
      "text/plain": [
       "<AxesSubplot:xlabel='funding_round_type', ylabel='raised_amount_usd'>"
      ]
     },
     "execution_count": 1145,
     "metadata": {},
     "output_type": "execute_result"
    },
    {
     "data": {
      "image/png": "[encoded data removed]",
      "text/plain": [
       "<Figure size 432x288 with 1 Axes>"
      ]
     },
     "metadata": {
      "needs_background": "light"
     },
     "output_type": "display_data"
    }
   ],
   "source": [
    "#For the seed funding type, we have found the higher fence and drawn a box plot to see the representative values\n",
    "\n",
    "sns.boxplot(x='funding_round_type', y='raised_amount_usd', data=master_frame.loc[(master_frame['funding_round_type'] == 'seed') & (master_frame['raised_amount_usd'] <= seed_h_fence)])"
   ]
  },
  {
   "cell_type": "markdown",
   "metadata": {},
   "source": [
    "### Lets omit the outliers to see the common representative values of Private equity"
   ]
  },
  {
   "cell_type": "code",
   "execution_count": 1146,
   "metadata": {},
   "outputs": [],
   "source": [
    "#calculating the higher fence value for Private quity\n",
    "\n",
    "#calculating the 75th percentile for see\n",
    "PQ3 = master_frame.loc[master_frame['funding_round_type'] == 'private_equity'].quantile(0.75)[0]\n",
    "#67273600.0\n",
    "\n",
    "#calculating IQR for Private quity\n",
    "#IQR = IQ3 - IQ1(25th percentile)\n",
    "\n",
    "PIQR = PQ3 - master_frame.loc[master_frame['funding_round_type'] == 'private_equity'].quantile(0.25)[0]\n",
    "#67273600.0 - 6000000.5\n",
    "\n",
    "#calculating the higher fence for venture\n",
    "#Higher fence = IQ3 + (1.5 * IQR)\n",
    "\n",
    "private_h_fence = PQ3 + (1.5 * PIQR)\n",
    "#67273600.0 + (1.5 * 61273599.5)\n",
    "#Private quity fence value - 159183999.25"
   ]
  },
  {
   "cell_type": "code",
   "execution_count": 1147,
   "metadata": {},
   "outputs": [
    {
     "data": {
      "text/plain": [
       "<AxesSubplot:xlabel='funding_round_type', ylabel='raised_amount_usd'>"
      ]
     },
     "execution_count": 1147,
     "metadata": {},
     "output_type": "execute_result"
    },
    {
     "data": {
      "image/png": "[encoded data removed]",
      "text/plain": [
       "<Figure size 432x288 with 1 Axes>"
      ]
     },
     "metadata": {
      "needs_background": "light"
     },
     "output_type": "display_data"
    }
   ],
   "source": [
    "#For the Private equity funding type, we have found the higher fence and drawn a box plot to see the representative values\n",
    "\n",
    "sns.boxplot(x='funding_round_type', y='raised_amount_usd', data=master_frame.loc[(master_frame['funding_round_type'] == 'private_equity') & (master_frame['raised_amount_usd'] <= private_h_fence)])"
   ]
  },
  {
   "cell_type": "markdown",
   "metadata": {},
   "source": [
    "### Lets omit the outliers to see the common representative values of Angel"
   ]
  },
  {
   "cell_type": "code",
   "execution_count": 1148,
   "metadata": {},
   "outputs": [],
   "source": [
    "#calculating the higher fence value for Angel\n",
    "\n",
    "#calculating the 75th percentile for Angel\n",
    "AQ3 = master_frame.loc[master_frame['funding_round_type'] == 'angel'].quantile(0.75)[0]\n",
    "#770000.00\n",
    "\n",
    "#calculating IQR for Angel\n",
    "#IQR = IQ3 - IQ1(25th percentile)\n",
    "\n",
    "AIQR = AQ3 - master_frame.loc[master_frame['funding_round_type'] == 'angel'].quantile(0.25)[0]\n",
    "#770000.0 - 200000.0\n",
    "\n",
    "#calculating the higher fence for venture\n",
    "#Higher fence = IQ3 + (1.5 * IQR)\n",
    "\n",
    "Angel_h_fence = AQ3 + (1.5 * AIQR)\n",
    "#770000.0 + (1.5 * 570000.0)\n",
    "#Angel fence value - 1625000.0"
   ]
  },
  {
   "cell_type": "code",
   "execution_count": 1149,
   "metadata": {
    "scrolled": true
   },
   "outputs": [
    {
     "data": {
      "text/plain": [
       "<AxesSubplot:xlabel='funding_round_type', ylabel='raised_amount_usd'>"
      ]
     },
     "execution_count": 1149,
     "metadata": {},
     "output_type": "execute_result"
    },
    {
     "data": {
      "image/png": "[encoded data removed]",
      "text/plain": [
       "<Figure size 432x288 with 1 Axes>"
      ]
     },
     "metadata": {
      "needs_background": "light"
     },
     "output_type": "display_data"
    }
   ],
   "source": [
    "#For the Angel funding type, we have found the higher fence and drawn a box plot to see the representative values\n",
    "\n",
    "sns.boxplot(x='funding_round_type', y='raised_amount_usd', data=master_frame.loc[(master_frame['funding_round_type'] == 'angel') & (master_frame['raised_amount_usd'] <= Angel_h_fence)])"
   ]
  },
  {
   "cell_type": "markdown",
   "metadata": {},
   "source": [
    "### Mean values are heavily skewed by the Outliers. So, its better to take Median as a representative values of Investments for Each of these Funding Types"
   ]
  },
  {
   "cell_type": "code",
   "execution_count": 1150,
   "metadata": {},
   "outputs": [
    {
     "data": {
      "text/html": [
       "<div>\n",
       "<style scoped>\n",
       "    .dataframe tbody tr th:only-of-type {\n",
       "        vertical-align: middle;\n",
       "    }\n",
       "\n",
       "    .dataframe tbody tr th {\n",
       "        vertical-align: top;\n",
       "    }\n",
       "\n",
       "    .dataframe thead th {\n",
       "        text-align: right;\n",
       "    }\n",
       "</style>\n",
       "<table border=\"1\" class=\"dataframe\">\n",
       "  <thead>\n",
       "    <tr style=\"text-align: right;\">\n",
       "      <th></th>\n",
       "      <th>raised_amount_usd</th>\n",
       "    </tr>\n",
       "    <tr>\n",
       "      <th>funding_round_type</th>\n",
       "      <th></th>\n",
       "    </tr>\n",
       "  </thead>\n",
       "  <tbody>\n",
       "    <tr>\n",
       "      <th>private_equity</th>\n",
       "      <td>20000000.0</td>\n",
       "    </tr>\n",
       "    <tr>\n",
       "      <th>venture</th>\n",
       "      <td>5000000.0</td>\n",
       "    </tr>\n",
       "    <tr>\n",
       "      <th>angel</th>\n",
       "      <td>400000.0</td>\n",
       "    </tr>\n",
       "    <tr>\n",
       "      <th>seed</th>\n",
       "      <td>275000.0</td>\n",
       "    </tr>\n",
       "  </tbody>\n",
       "</table>\n",
       "</div>"
      ],
      "text/plain": [
       "                    raised_amount_usd\n",
       "funding_round_type                   \n",
       "private_equity             20000000.0\n",
       "venture                     5000000.0\n",
       "angel                        400000.0\n",
       "seed                         275000.0"
      ]
     },
     "execution_count": 1150,
     "metadata": {},
     "output_type": "execute_result"
    }
   ],
   "source": [
    "master_frame.groupby('funding_round_type').median().sort_values('raised_amount_usd', ascending=False)"
   ]
  },
  {
   "cell_type": "code",
   "execution_count": 1151,
   "metadata": {},
   "outputs": [
    {
     "data": {
      "text/plain": [
       "<Figure size 1440x720 with 0 Axes>"
      ]
     },
     "metadata": {},
     "output_type": "display_data"
    },
    {
     "data": {
      "image/png": "[encoded data removed]",
      "text/plain": [
       "<Figure size 432x288 with 1 Axes>"
      ]
     },
     "metadata": {
      "needs_background": "light"
     },
     "output_type": "display_data"
    }
   ],
   "source": [
    "#Plot for common representative amount of investment in each funding type\n",
    "\n",
    "plt.figure(figsize=(20,10))\n",
    "\n",
    "master_frame.groupby('funding_round_type').median().plot.bar()\n",
    "plt.show()"
   ]
  },
  {
   "cell_type": "code",
   "execution_count": 1152,
   "metadata": {},
   "outputs": [
    {
     "data": {
      "text/html": [
       "<div>\n",
       "<style scoped>\n",
       "    .dataframe tbody tr th:only-of-type {\n",
       "        vertical-align: middle;\n",
       "    }\n",
       "\n",
       "    .dataframe tbody tr th {\n",
       "        vertical-align: top;\n",
       "    }\n",
       "\n",
       "    .dataframe thead th {\n",
       "        text-align: right;\n",
       "    }\n",
       "</style>\n",
       "<table border=\"1\" class=\"dataframe\">\n",
       "  <thead>\n",
       "    <tr style=\"text-align: right;\">\n",
       "      <th></th>\n",
       "      <th>count</th>\n",
       "      <th>mean</th>\n",
       "      <th>std</th>\n",
       "      <th>min</th>\n",
       "      <th>25%</th>\n",
       "      <th>50%</th>\n",
       "      <th>75%</th>\n",
       "      <th>max</th>\n",
       "    </tr>\n",
       "    <tr>\n",
       "      <th>funding_round_type</th>\n",
       "      <th></th>\n",
       "      <th></th>\n",
       "      <th></th>\n",
       "      <th></th>\n",
       "      <th></th>\n",
       "      <th></th>\n",
       "      <th></th>\n",
       "      <th></th>\n",
       "    </tr>\n",
       "  </thead>\n",
       "  <tbody>\n",
       "    <tr>\n",
       "      <th>angel</th>\n",
       "      <td>5417.0</td>\n",
       "      <td>8.642653e+05</td>\n",
       "      <td>6.952915e+06</td>\n",
       "      <td>0.0</td>\n",
       "      <td>200000.0</td>\n",
       "      <td>400000.0</td>\n",
       "      <td>770000.00</td>\n",
       "      <td>4.945120e+08</td>\n",
       "    </tr>\n",
       "    <tr>\n",
       "      <th>private_equity</th>\n",
       "      <td>2055.0</td>\n",
       "      <td>6.777034e+07</td>\n",
       "      <td>1.906579e+08</td>\n",
       "      <td>0.0</td>\n",
       "      <td>6000000.5</td>\n",
       "      <td>20000000.0</td>\n",
       "      <td>67273600.00</td>\n",
       "      <td>4.745460e+09</td>\n",
       "    </tr>\n",
       "    <tr>\n",
       "      <th>seed</th>\n",
       "      <td>26438.0</td>\n",
       "      <td>6.522442e+05</td>\n",
       "      <td>2.052840e+06</td>\n",
       "      <td>0.0</td>\n",
       "      <td>100000.0</td>\n",
       "      <td>275000.0</td>\n",
       "      <td>750000.00</td>\n",
       "      <td>2.000000e+08</td>\n",
       "    </tr>\n",
       "    <tr>\n",
       "      <th>venture</th>\n",
       "      <td>52024.0</td>\n",
       "      <td>1.117942e+07</td>\n",
       "      <td>8.458644e+07</td>\n",
       "      <td>0.0</td>\n",
       "      <td>1955812.5</td>\n",
       "      <td>5000000.0</td>\n",
       "      <td>10806384.25</td>\n",
       "      <td>1.760000e+10</td>\n",
       "    </tr>\n",
       "  </tbody>\n",
       "</table>\n",
       "</div>"
      ],
      "text/plain": [
       "                      count          mean           std  min        25%  \\\n",
       "funding_round_type                                                        \n",
       "angel                5417.0  8.642653e+05  6.952915e+06  0.0   200000.0   \n",
       "private_equity       2055.0  6.777034e+07  1.906579e+08  0.0  6000000.5   \n",
       "seed                26438.0  6.522442e+05  2.052840e+06  0.0   100000.0   \n",
       "venture             52024.0  1.117942e+07  8.458644e+07  0.0  1955812.5   \n",
       "\n",
       "                           50%          75%           max  \n",
       "funding_round_type                                         \n",
       "angel                 400000.0    770000.00  4.945120e+08  \n",
       "private_equity      20000000.0  67273600.00  4.745460e+09  \n",
       "seed                  275000.0    750000.00  2.000000e+08  \n",
       "venture              5000000.0  10806384.25  1.760000e+10  "
      ]
     },
     "execution_count": 1152,
     "metadata": {},
     "output_type": "execute_result"
    }
   ],
   "source": [
    "master_frame.groupby('funding_round_type')['raised_amount_usd'].describe()"
   ]
  },
  {
   "cell_type": "markdown",
   "metadata": {},
   "source": [
    "## Percentile Analysis"
   ]
  },
  {
   "cell_type": "markdown",
   "metadata": {},
   "source": [
    "#### 75th percentile of Angel & Seed funding type is only in Lakhs (770000.00 & 750000.00 respectively). Spark Funds wants to invest between 5M to 15M. So, lets omit these two funding types"
   ]
  },
  {
   "cell_type": "markdown",
   "metadata": {},
   "source": [
    "### Percentile Analysis for Private Equity"
   ]
  },
  {
   "cell_type": "code",
   "execution_count": 1153,
   "metadata": {},
   "outputs": [
    {
     "data": {
      "text/plain": [
       "5000000.0"
      ]
     },
     "execution_count": 1153,
     "metadata": {},
     "output_type": "execute_result"
    }
   ],
   "source": [
    "#From 21st percentile\n",
    "master_frame.loc[master_frame['funding_round_type'] == 'private_equity'].quantile(0.21)[0]"
   ]
  },
  {
   "cell_type": "code",
   "execution_count": 1154,
   "metadata": {
    "scrolled": false
   },
   "outputs": [
    {
     "data": {
      "text/plain": [
       "15000000.0"
      ]
     },
     "execution_count": 1154,
     "metadata": {},
     "output_type": "execute_result"
    }
   ],
   "source": [
    "#to 40th percentile\n",
    "master_frame.loc[master_frame['funding_round_type'] == 'private_equity'].quantile(0.40)[0]"
   ]
  },
  {
   "cell_type": "code",
   "execution_count": 1155,
   "metadata": {},
   "outputs": [
    {
     "data": {
      "text/plain": [
       "19"
      ]
     },
     "execution_count": 1155,
     "metadata": {},
     "output_type": "execute_result"
    }
   ],
   "source": [
    "40-21"
   ]
  },
  {
   "cell_type": "code",
   "execution_count": 1156,
   "metadata": {},
   "outputs": [
    {
     "data": {
      "text/plain": [
       "20000000.0"
      ]
     },
     "execution_count": 1156,
     "metadata": {},
     "output_type": "execute_result"
    }
   ],
   "source": [
    "master_frame.loc[master_frame['funding_round_type'] == 'private_equity'].quantile(0.50)[0]"
   ]
  },
  {
   "cell_type": "markdown",
   "metadata": {},
   "source": [
    "#### Only 19% of the funding in Private Equity is between 5Million to 15Million USD\n",
    "#### And the median for Private Equity is 20Million. So this funding type won't workout for Spark funds"
   ]
  },
  {
   "cell_type": "markdown",
   "metadata": {},
   "source": [
    "### Percentile Analysis for Venture"
   ]
  },
  {
   "cell_type": "code",
   "execution_count": 1157,
   "metadata": {
    "scrolled": true
   },
   "outputs": [
    {
     "data": {
      "text/plain": [
       "5000000.0"
      ]
     },
     "execution_count": 1157,
     "metadata": {},
     "output_type": "execute_result"
    }
   ],
   "source": [
    "#From 45th percentile\n",
    "master_frame.loc[master_frame['funding_round_type'] == 'venture'].quantile(0.45)[0]"
   ]
  },
  {
   "cell_type": "code",
   "execution_count": 1158,
   "metadata": {},
   "outputs": [
    {
     "data": {
      "text/plain": [
       "15000000.0"
      ]
     },
     "execution_count": 1158,
     "metadata": {},
     "output_type": "execute_result"
    }
   ],
   "source": [
    "#to 82nd percentile\n",
    "master_frame.loc[master_frame['funding_round_type'] == 'venture'].quantile(0.82)[0]"
   ]
  },
  {
   "cell_type": "code",
   "execution_count": 1159,
   "metadata": {},
   "outputs": [
    {
     "data": {
      "text/plain": [
       "37"
      ]
     },
     "execution_count": 1159,
     "metadata": {},
     "output_type": "execute_result"
    }
   ],
   "source": [
    "82-45"
   ]
  },
  {
   "cell_type": "markdown",
   "metadata": {},
   "source": [
    "### 82% - 45% = More than 37% of the funding in venture funding type is between \n",
    "### 5Million to 15Million USD"
   ]
  },
  {
   "cell_type": "markdown",
   "metadata": {},
   "source": [
    "### And also the median raised amount for venture type is 5Million USD"
   ]
  },
  {
   "cell_type": "code",
   "execution_count": 1160,
   "metadata": {},
   "outputs": [
    {
     "data": {
      "text/plain": [
       "5000000.0"
      ]
     },
     "execution_count": 1160,
     "metadata": {},
     "output_type": "execute_result"
    }
   ],
   "source": [
    "master_frame.loc[master_frame['funding_round_type'] == 'venture'].quantile(0.50)[0]"
   ]
  },
  {
   "cell_type": "markdown",
   "metadata": {},
   "source": [
    "### Considering that Spark Funds wants to invest between 5 to 15 million USD per investment round and above analysis, ***Venture Funding round type*** would be right fit for them"
   ]
  },
  {
   "cell_type": "markdown",
   "metadata": {},
   "source": [
    " "
   ]
  },
  {
   "cell_type": "markdown",
   "metadata": {},
   "source": [
    " "
   ]
  },
  {
   "cell_type": "markdown",
   "metadata": {},
   "source": [
    "# Checkpoint 3: Country Analysis"
   ]
  },
  {
   "cell_type": "code",
   "execution_count": 1164,
   "metadata": {},
   "outputs": [],
   "source": [
    "#since, we have choosen the funding type for Spark Funds, Let's only extract the venture funding_round_type\n",
    "\n",
    "master_frame = master_frame.loc[master_frame['funding_round_type'] == 'venture']"
   ]
  },
  {
   "cell_type": "code",
   "execution_count": 1165,
   "metadata": {},
   "outputs": [
    {
     "data": {
      "text/html": [
       "<div>\n",
       "<style scoped>\n",
       "    .dataframe tbody tr th:only-of-type {\n",
       "        vertical-align: middle;\n",
       "    }\n",
       "\n",
       "    .dataframe tbody tr th {\n",
       "        vertical-align: top;\n",
       "    }\n",
       "\n",
       "    .dataframe thead th {\n",
       "        text-align: right;\n",
       "    }\n",
       "</style>\n",
       "<table border=\"1\" class=\"dataframe\">\n",
       "  <thead>\n",
       "    <tr style=\"text-align: right;\">\n",
       "      <th></th>\n",
       "      <th>company_permalink</th>\n",
       "      <th>funding_round_permalink</th>\n",
       "      <th>funding_round_type</th>\n",
       "      <th>funded_at</th>\n",
       "      <th>raised_amount_usd</th>\n",
       "      <th>name</th>\n",
       "      <th>category_list</th>\n",
       "      <th>status</th>\n",
       "      <th>country_code</th>\n",
       "    </tr>\n",
       "  </thead>\n",
       "  <tbody>\n",
       "    <tr>\n",
       "      <th>0</th>\n",
       "      <td>/organization/-fame</td>\n",
       "      <td>/funding-round/9a01d05418af9f794eebff7ace91f638</td>\n",
       "      <td>venture</td>\n",
       "      <td>05-01-2015</td>\n",
       "      <td>10000000.0</td>\n",
       "      <td>#fame</td>\n",
       "      <td>Media</td>\n",
       "      <td>operating</td>\n",
       "      <td>IND</td>\n",
       "    </tr>\n",
       "    <tr>\n",
       "      <th>1</th>\n",
       "      <td>/organization/-qounter</td>\n",
       "      <td>/funding-round/22dacff496eb7acb2b901dec1dfe5633</td>\n",
       "      <td>venture</td>\n",
       "      <td>14-10-2014</td>\n",
       "      <td>5000000.0</td>\n",
       "      <td>:Qounter</td>\n",
       "      <td>Application Platforms|Real Time|Social Network...</td>\n",
       "      <td>operating</td>\n",
       "      <td>USA</td>\n",
       "    </tr>\n",
       "    <tr>\n",
       "      <th>4</th>\n",
       "      <td>/organization/0-6-com</td>\n",
       "      <td>/funding-round/5727accaeaa57461bd22a9bdd945382d</td>\n",
       "      <td>venture</td>\n",
       "      <td>19-03-2008</td>\n",
       "      <td>2000000.0</td>\n",
       "      <td>0-6.com</td>\n",
       "      <td>Curated Web</td>\n",
       "      <td>operating</td>\n",
       "      <td>CHN</td>\n",
       "    </tr>\n",
       "    <tr>\n",
       "      <th>5</th>\n",
       "      <td>/organization/004-technologies</td>\n",
       "      <td>/funding-round/1278dd4e6a37fa4b7d7e06c21b3c1830</td>\n",
       "      <td>venture</td>\n",
       "      <td>24-07-2014</td>\n",
       "      <td>5000000.0</td>\n",
       "      <td>004 Technologies</td>\n",
       "      <td>Software</td>\n",
       "      <td>operating</td>\n",
       "      <td>USA</td>\n",
       "    </tr>\n",
       "    <tr>\n",
       "      <th>8</th>\n",
       "      <td>/organization/0ndine-biomedical-inc</td>\n",
       "      <td>/funding-round/954b9499724b946ad8c396a57a5f3b72</td>\n",
       "      <td>venture</td>\n",
       "      <td>21-12-2009</td>\n",
       "      <td>719491.0</td>\n",
       "      <td>Ondine Biomedical Inc.</td>\n",
       "      <td>Biotechnology</td>\n",
       "      <td>operating</td>\n",
       "      <td>CAN</td>\n",
       "    </tr>\n",
       "  </tbody>\n",
       "</table>\n",
       "</div>"
      ],
      "text/plain": [
       "                     company_permalink  \\\n",
       "0                  /organization/-fame   \n",
       "1               /organization/-qounter   \n",
       "4                /organization/0-6-com   \n",
       "5       /organization/004-technologies   \n",
       "8  /organization/0ndine-biomedical-inc   \n",
       "\n",
       "                           funding_round_permalink funding_round_type  \\\n",
       "0  /funding-round/9a01d05418af9f794eebff7ace91f638            venture   \n",
       "1  /funding-round/22dacff496eb7acb2b901dec1dfe5633            venture   \n",
       "4  /funding-round/5727accaeaa57461bd22a9bdd945382d            venture   \n",
       "5  /funding-round/1278dd4e6a37fa4b7d7e06c21b3c1830            venture   \n",
       "8  /funding-round/954b9499724b946ad8c396a57a5f3b72            venture   \n",
       "\n",
       "    funded_at  raised_amount_usd                    name  \\\n",
       "0  05-01-2015         10000000.0                   #fame   \n",
       "1  14-10-2014          5000000.0                :Qounter   \n",
       "4  19-03-2008          2000000.0                 0-6.com   \n",
       "5  24-07-2014          5000000.0        004 Technologies   \n",
       "8  21-12-2009           719491.0  Ondine Biomedical Inc.   \n",
       "\n",
       "                                       category_list     status country_code  \n",
       "0                                              Media  operating          IND  \n",
       "1  Application Platforms|Real Time|Social Network...  operating          USA  \n",
       "4                                        Curated Web  operating          CHN  \n",
       "5                                           Software  operating          USA  \n",
       "8                                      Biotechnology  operating          CAN  "
      ]
     },
     "execution_count": 1165,
     "metadata": {},
     "output_type": "execute_result"
    }
   ],
   "source": [
    "#checking the top5 rows\n",
    "master_frame.head()"
   ]
  },
  {
   "cell_type": "code",
   "execution_count": 1166,
   "metadata": {
    "scrolled": true
   },
   "outputs": [
    {
     "data": {
      "text/plain": [
       "(52024, 9)"
      ]
     },
     "execution_count": 1166,
     "metadata": {},
     "output_type": "execute_result"
    }
   ],
   "source": [
    "master_frame.shape"
   ]
  },
  {
   "cell_type": "code",
   "execution_count": 1167,
   "metadata": {},
   "outputs": [
    {
     "data": {
      "text/html": [
       "<div>\n",
       "<style scoped>\n",
       "    .dataframe tbody tr th:only-of-type {\n",
       "        vertical-align: middle;\n",
       "    }\n",
       "\n",
       "    .dataframe tbody tr th {\n",
       "        vertical-align: top;\n",
       "    }\n",
       "\n",
       "    .dataframe thead th {\n",
       "        text-align: right;\n",
       "    }\n",
       "</style>\n",
       "<table border=\"1\" class=\"dataframe\">\n",
       "  <thead>\n",
       "    <tr style=\"text-align: right;\">\n",
       "      <th></th>\n",
       "      <th></th>\n",
       "      <th>raised_amount_usd</th>\n",
       "    </tr>\n",
       "    <tr>\n",
       "      <th>country_code</th>\n",
       "      <th>funding_round_type</th>\n",
       "      <th></th>\n",
       "    </tr>\n",
       "  </thead>\n",
       "  <tbody>\n",
       "    <tr>\n",
       "      <th>USA</th>\n",
       "      <th>venture</th>\n",
       "      <td>4.305230e+11</td>\n",
       "    </tr>\n",
       "    <tr>\n",
       "      <th>CHN</th>\n",
       "      <th>venture</th>\n",
       "      <td>4.185392e+10</td>\n",
       "    </tr>\n",
       "    <tr>\n",
       "      <th>GBR</th>\n",
       "      <th>venture</th>\n",
       "      <td>2.119281e+10</td>\n",
       "    </tr>\n",
       "    <tr>\n",
       "      <th>IND</th>\n",
       "      <th>venture</th>\n",
       "      <td>1.508651e+10</td>\n",
       "    </tr>\n",
       "    <tr>\n",
       "      <th>CAN</th>\n",
       "      <th>venture</th>\n",
       "      <td>9.907218e+09</td>\n",
       "    </tr>\n",
       "    <tr>\n",
       "      <th>...</th>\n",
       "      <th>...</th>\n",
       "      <td>...</td>\n",
       "    </tr>\n",
       "    <tr>\n",
       "      <th>ECU</th>\n",
       "      <th>venture</th>\n",
       "      <td>9.658500e+05</td>\n",
       "    </tr>\n",
       "    <tr>\n",
       "      <th>MCO</th>\n",
       "      <th>venture</th>\n",
       "      <td>6.570000e+05</td>\n",
       "    </tr>\n",
       "    <tr>\n",
       "      <th>SAU</th>\n",
       "      <th>venture</th>\n",
       "      <td>5.000000e+05</td>\n",
       "    </tr>\n",
       "    <tr>\n",
       "      <th>GTM</th>\n",
       "      <th>venture</th>\n",
       "      <td>3.000000e+05</td>\n",
       "    </tr>\n",
       "    <tr>\n",
       "      <th>MMR</th>\n",
       "      <th>venture</th>\n",
       "      <td>2.000000e+05</td>\n",
       "    </tr>\n",
       "  </tbody>\n",
       "</table>\n",
       "<p>103 rows × 1 columns</p>\n",
       "</div>"
      ],
      "text/plain": [
       "                                 raised_amount_usd\n",
       "country_code funding_round_type                   \n",
       "USA          venture                  4.305230e+11\n",
       "CHN          venture                  4.185392e+10\n",
       "GBR          venture                  2.119281e+10\n",
       "IND          venture                  1.508651e+10\n",
       "CAN          venture                  9.907218e+09\n",
       "...                                            ...\n",
       "ECU          venture                  9.658500e+05\n",
       "MCO          venture                  6.570000e+05\n",
       "SAU          venture                  5.000000e+05\n",
       "GTM          venture                  3.000000e+05\n",
       "MMR          venture                  2.000000e+05\n",
       "\n",
       "[103 rows x 1 columns]"
      ]
     },
     "execution_count": 1167,
     "metadata": {},
     "output_type": "execute_result"
    }
   ],
   "source": [
    "#List of countries which received more funding\n",
    "\n",
    "countries_highest_funding = master_frame.groupby(['country_code', 'funding_round_type']).sum().sort_values('raised_amount_usd', ascending=False)\n",
    "\n",
    "countries_highest_funding"
   ]
  },
  {
   "cell_type": "code",
   "execution_count": 1168,
   "metadata": {
    "scrolled": true
   },
   "outputs": [
    {
     "data": {
      "text/html": [
       "<div>\n",
       "<style scoped>\n",
       "    .dataframe tbody tr th:only-of-type {\n",
       "        vertical-align: middle;\n",
       "    }\n",
       "\n",
       "    .dataframe tbody tr th {\n",
       "        vertical-align: top;\n",
       "    }\n",
       "\n",
       "    .dataframe thead th {\n",
       "        text-align: right;\n",
       "    }\n",
       "</style>\n",
       "<table border=\"1\" class=\"dataframe\">\n",
       "  <thead>\n",
       "    <tr style=\"text-align: right;\">\n",
       "      <th></th>\n",
       "      <th></th>\n",
       "      <th>raised_amount_usd</th>\n",
       "    </tr>\n",
       "    <tr>\n",
       "      <th>country_code</th>\n",
       "      <th>funding_round_type</th>\n",
       "      <th></th>\n",
       "    </tr>\n",
       "  </thead>\n",
       "  <tbody>\n",
       "    <tr>\n",
       "      <th>USA</th>\n",
       "      <th>venture</th>\n",
       "      <td>4.305230e+11</td>\n",
       "    </tr>\n",
       "    <tr>\n",
       "      <th>CHN</th>\n",
       "      <th>venture</th>\n",
       "      <td>4.185392e+10</td>\n",
       "    </tr>\n",
       "    <tr>\n",
       "      <th>GBR</th>\n",
       "      <th>venture</th>\n",
       "      <td>2.119281e+10</td>\n",
       "    </tr>\n",
       "    <tr>\n",
       "      <th>IND</th>\n",
       "      <th>venture</th>\n",
       "      <td>1.508651e+10</td>\n",
       "    </tr>\n",
       "    <tr>\n",
       "      <th>CAN</th>\n",
       "      <th>venture</th>\n",
       "      <td>9.907218e+09</td>\n",
       "    </tr>\n",
       "    <tr>\n",
       "      <th>FRA</th>\n",
       "      <th>venture</th>\n",
       "      <td>7.521851e+09</td>\n",
       "    </tr>\n",
       "    <tr>\n",
       "      <th>ISR</th>\n",
       "      <th>venture</th>\n",
       "      <td>7.409350e+09</td>\n",
       "    </tr>\n",
       "    <tr>\n",
       "      <th>DEU</th>\n",
       "      <th>venture</th>\n",
       "      <td>7.401922e+09</td>\n",
       "    </tr>\n",
       "    <tr>\n",
       "      <th>JPN</th>\n",
       "      <th>venture</th>\n",
       "      <td>3.362647e+09</td>\n",
       "    </tr>\n",
       "  </tbody>\n",
       "</table>\n",
       "</div>"
      ],
      "text/plain": [
       "                                 raised_amount_usd\n",
       "country_code funding_round_type                   \n",
       "USA          venture                  4.305230e+11\n",
       "CHN          venture                  4.185392e+10\n",
       "GBR          venture                  2.119281e+10\n",
       "IND          venture                  1.508651e+10\n",
       "CAN          venture                  9.907218e+09\n",
       "FRA          venture                  7.521851e+09\n",
       "ISR          venture                  7.409350e+09\n",
       "DEU          venture                  7.401922e+09\n",
       "JPN          venture                  3.362647e+09"
      ]
     },
     "execution_count": 1168,
     "metadata": {},
     "output_type": "execute_result"
    }
   ],
   "source": [
    "#top nine countries with highest funding in venture funding type\n",
    "\n",
    "top9 = countries_highest_funding.head(9)\n",
    "\n",
    "top9"
   ]
  },
  {
   "cell_type": "code",
   "execution_count": 1173,
   "metadata": {},
   "outputs": [],
   "source": [
    "top9 = top9.reset_index()"
   ]
  },
  {
   "cell_type": "code",
   "execution_count": 1459,
   "metadata": {},
   "outputs": [
    {
     "data": {
      "image/png": "[encoded data removed]",
      "text/plain": [
       "<Figure size 1440x720 with 1 Axes>"
      ]
     },
     "metadata": {
      "needs_background": "light"
     },
     "output_type": "display_data"
    }
   ],
   "source": [
    "#Visualisation of top nine countries with highest funding in venture funding type\n",
    "\n",
    "plt.figure(figsize=(20,10))\n",
    "\n",
    "sns.barplot(top9['country_code'], top9['raised_amount_usd'])\n",
    "plt.show()"
   ]
  },
  {
   "cell_type": "markdown",
   "metadata": {},
   "source": [
    "**List of countries where English is official language in the country**\n",
    "\n",
    "https://en.wikipedia.org/wiki/List_of_countries_and_territories_where_English_is_an_official_language"
   ]
  },
  {
   "cell_type": "markdown",
   "metadata": {},
   "source": [
    "As per the details in the above link & top9 country list"
   ]
  },
  {
   "cell_type": "markdown",
   "metadata": {},
   "source": [
    "### Top 3 Countries English-Speaking Countries are\n",
    "\n",
    "considering a country to be English speaking only if English is one of the official languages in that country"
   ]
  },
  {
   "cell_type": "markdown",
   "metadata": {},
   "source": [
    "### USA - Top English-speaking country\n",
    "[United States of America]\n",
    "\n",
    "### GBR - Second English-speaking country\n",
    "[United Kingdom]\n",
    "\n",
    "### IND - Third English-speaking country\n",
    "[India]"
   ]
  },
  {
   "cell_type": "markdown",
   "metadata": {},
   "source": [
    "#### Omitting CHN (CHINA) because English is not an official language there"
   ]
  },
  {
   "cell_type": "code",
   "execution_count": 1180,
   "metadata": {},
   "outputs": [],
   "source": [
    "#Top3 English-Speaking Countries\n",
    "\n",
    "countryCode = ['USA', 'GBR', 'IND']"
   ]
  },
  {
   "cell_type": "code",
   "execution_count": 1181,
   "metadata": {
    "scrolled": false
   },
   "outputs": [
    {
     "data": {
      "text/html": [
       "<div>\n",
       "<style scoped>\n",
       "    .dataframe tbody tr th:only-of-type {\n",
       "        vertical-align: middle;\n",
       "    }\n",
       "\n",
       "    .dataframe tbody tr th {\n",
       "        vertical-align: top;\n",
       "    }\n",
       "\n",
       "    .dataframe thead th {\n",
       "        text-align: right;\n",
       "    }\n",
       "</style>\n",
       "<table border=\"1\" class=\"dataframe\">\n",
       "  <thead>\n",
       "    <tr style=\"text-align: right;\">\n",
       "      <th></th>\n",
       "      <th>company_permalink</th>\n",
       "      <th>funding_round_permalink</th>\n",
       "      <th>funding_round_type</th>\n",
       "      <th>funded_at</th>\n",
       "      <th>raised_amount_usd</th>\n",
       "      <th>name</th>\n",
       "      <th>category_list</th>\n",
       "      <th>status</th>\n",
       "      <th>country_code</th>\n",
       "    </tr>\n",
       "  </thead>\n",
       "  <tbody>\n",
       "    <tr>\n",
       "      <th>0</th>\n",
       "      <td>/organization/-fame</td>\n",
       "      <td>/funding-round/9a01d05418af9f794eebff7ace91f638</td>\n",
       "      <td>venture</td>\n",
       "      <td>05-01-2015</td>\n",
       "      <td>10000000.0</td>\n",
       "      <td>#fame</td>\n",
       "      <td>Media</td>\n",
       "      <td>operating</td>\n",
       "      <td>IND</td>\n",
       "    </tr>\n",
       "    <tr>\n",
       "      <th>1</th>\n",
       "      <td>/organization/-qounter</td>\n",
       "      <td>/funding-round/22dacff496eb7acb2b901dec1dfe5633</td>\n",
       "      <td>venture</td>\n",
       "      <td>14-10-2014</td>\n",
       "      <td>5000000.0</td>\n",
       "      <td>:Qounter</td>\n",
       "      <td>Application Platforms|Real Time|Social Network...</td>\n",
       "      <td>operating</td>\n",
       "      <td>USA</td>\n",
       "    </tr>\n",
       "    <tr>\n",
       "      <th>5</th>\n",
       "      <td>/organization/004-technologies</td>\n",
       "      <td>/funding-round/1278dd4e6a37fa4b7d7e06c21b3c1830</td>\n",
       "      <td>venture</td>\n",
       "      <td>24-07-2014</td>\n",
       "      <td>5000000.0</td>\n",
       "      <td>004 Technologies</td>\n",
       "      <td>Software</td>\n",
       "      <td>operating</td>\n",
       "      <td>USA</td>\n",
       "    </tr>\n",
       "    <tr>\n",
       "      <th>10</th>\n",
       "      <td>/organization/0xdata</td>\n",
       "      <td>/funding-round/3bb2ee4a2d89251a10aaa735b1180e44</td>\n",
       "      <td>venture</td>\n",
       "      <td>09-11-2015</td>\n",
       "      <td>20000000.0</td>\n",
       "      <td>H2O.ai</td>\n",
       "      <td>Analytics</td>\n",
       "      <td>operating</td>\n",
       "      <td>USA</td>\n",
       "    </tr>\n",
       "    <tr>\n",
       "      <th>11</th>\n",
       "      <td>/organization/0xdata</td>\n",
       "      <td>/funding-round/ae2a174c06517c2394aed45006322a7e</td>\n",
       "      <td>venture</td>\n",
       "      <td>03-01-2013</td>\n",
       "      <td>1700000.0</td>\n",
       "      <td>H2O.ai</td>\n",
       "      <td>Analytics</td>\n",
       "      <td>operating</td>\n",
       "      <td>USA</td>\n",
       "    </tr>\n",
       "    <tr>\n",
       "      <th>...</th>\n",
       "      <td>...</td>\n",
       "      <td>...</td>\n",
       "      <td>...</td>\n",
       "      <td>...</td>\n",
       "      <td>...</td>\n",
       "      <td>...</td>\n",
       "      <td>...</td>\n",
       "      <td>...</td>\n",
       "      <td>...</td>\n",
       "    </tr>\n",
       "    <tr>\n",
       "      <th>114913</th>\n",
       "      <td>/organization/zyomyx-inc</td>\n",
       "      <td>/funding-round/4191cb5258d3863b0212d1083881da64</td>\n",
       "      <td>venture</td>\n",
       "      <td>30-06-2013</td>\n",
       "      <td>12000000.0</td>\n",
       "      <td>ZYOMYX</td>\n",
       "      <td>Biotechnology</td>\n",
       "      <td>operating</td>\n",
       "      <td>USA</td>\n",
       "    </tr>\n",
       "    <tr>\n",
       "      <th>114915</th>\n",
       "      <td>/organization/zyomyx-inc</td>\n",
       "      <td>/funding-round/b4fce7f8a13267353d57db09099800e8</td>\n",
       "      <td>venture</td>\n",
       "      <td>11-07-2013</td>\n",
       "      <td>14219999.0</td>\n",
       "      <td>ZYOMYX</td>\n",
       "      <td>Biotechnology</td>\n",
       "      <td>operating</td>\n",
       "      <td>USA</td>\n",
       "    </tr>\n",
       "    <tr>\n",
       "      <th>114916</th>\n",
       "      <td>/organization/zyomyx-inc</td>\n",
       "      <td>/funding-round/ea5b21da6cf999ff4d5667431fe318d7</td>\n",
       "      <td>venture</td>\n",
       "      <td>29-01-2010</td>\n",
       "      <td>555016.0</td>\n",
       "      <td>ZYOMYX</td>\n",
       "      <td>Biotechnology</td>\n",
       "      <td>operating</td>\n",
       "      <td>USA</td>\n",
       "    </tr>\n",
       "    <tr>\n",
       "      <th>114927</th>\n",
       "      <td>/organization/zyrra</td>\n",
       "      <td>/funding-round/7a0fa791c96c9c447ee54662395beab9</td>\n",
       "      <td>venture</td>\n",
       "      <td>18-10-2012</td>\n",
       "      <td>140500.0</td>\n",
       "      <td>Zyrra</td>\n",
       "      <td>E-Commerce</td>\n",
       "      <td>operating</td>\n",
       "      <td>USA</td>\n",
       "    </tr>\n",
       "    <tr>\n",
       "      <th>114929</th>\n",
       "      <td>/organization/zystor</td>\n",
       "      <td>/funding-round/7ea37c0ff4132b084832039a9380d34e</td>\n",
       "      <td>venture</td>\n",
       "      <td>16-12-2004</td>\n",
       "      <td>8500000.0</td>\n",
       "      <td>Zystor</td>\n",
       "      <td>Biotechnology</td>\n",
       "      <td>acquired</td>\n",
       "      <td>USA</td>\n",
       "    </tr>\n",
       "  </tbody>\n",
       "</table>\n",
       "<p>41283 rows × 9 columns</p>\n",
       "</div>"
      ],
      "text/plain": [
       "                     company_permalink  \\\n",
       "0                  /organization/-fame   \n",
       "1               /organization/-qounter   \n",
       "5       /organization/004-technologies   \n",
       "10                /organization/0xdata   \n",
       "11                /organization/0xdata   \n",
       "...                                ...   \n",
       "114913        /organization/zyomyx-inc   \n",
       "114915        /organization/zyomyx-inc   \n",
       "114916        /organization/zyomyx-inc   \n",
       "114927             /organization/zyrra   \n",
       "114929            /organization/zystor   \n",
       "\n",
       "                                funding_round_permalink funding_round_type  \\\n",
       "0       /funding-round/9a01d05418af9f794eebff7ace91f638            venture   \n",
       "1       /funding-round/22dacff496eb7acb2b901dec1dfe5633            venture   \n",
       "5       /funding-round/1278dd4e6a37fa4b7d7e06c21b3c1830            venture   \n",
       "10      /funding-round/3bb2ee4a2d89251a10aaa735b1180e44            venture   \n",
       "11      /funding-round/ae2a174c06517c2394aed45006322a7e            venture   \n",
       "...                                                 ...                ...   \n",
       "114913  /funding-round/4191cb5258d3863b0212d1083881da64            venture   \n",
       "114915  /funding-round/b4fce7f8a13267353d57db09099800e8            venture   \n",
       "114916  /funding-round/ea5b21da6cf999ff4d5667431fe318d7            venture   \n",
       "114927  /funding-round/7a0fa791c96c9c447ee54662395beab9            venture   \n",
       "114929  /funding-round/7ea37c0ff4132b084832039a9380d34e            venture   \n",
       "\n",
       "         funded_at  raised_amount_usd              name  \\\n",
       "0       05-01-2015         10000000.0             #fame   \n",
       "1       14-10-2014          5000000.0          :Qounter   \n",
       "5       24-07-2014          5000000.0  004 Technologies   \n",
       "10      09-11-2015         20000000.0            H2O.ai   \n",
       "11      03-01-2013          1700000.0            H2O.ai   \n",
       "...            ...                ...               ...   \n",
       "114913  30-06-2013         12000000.0            ZYOMYX   \n",
       "114915  11-07-2013         14219999.0            ZYOMYX   \n",
       "114916  29-01-2010           555016.0            ZYOMYX   \n",
       "114927  18-10-2012           140500.0             Zyrra   \n",
       "114929  16-12-2004          8500000.0            Zystor   \n",
       "\n",
       "                                            category_list     status  \\\n",
       "0                                                   Media  operating   \n",
       "1       Application Platforms|Real Time|Social Network...  operating   \n",
       "5                                                Software  operating   \n",
       "10                                              Analytics  operating   \n",
       "11                                              Analytics  operating   \n",
       "...                                                   ...        ...   \n",
       "114913                                      Biotechnology  operating   \n",
       "114915                                      Biotechnology  operating   \n",
       "114916                                      Biotechnology  operating   \n",
       "114927                                         E-Commerce  operating   \n",
       "114929                                      Biotechnology   acquired   \n",
       "\n",
       "       country_code  \n",
       "0               IND  \n",
       "1               USA  \n",
       "5               USA  \n",
       "10              USA  \n",
       "11              USA  \n",
       "...             ...  \n",
       "114913          USA  \n",
       "114915          USA  \n",
       "114916          USA  \n",
       "114927          USA  \n",
       "114929          USA  \n",
       "\n",
       "[41283 rows x 9 columns]"
      ]
     },
     "execution_count": 1181,
     "metadata": {},
     "output_type": "execute_result"
    }
   ],
   "source": [
    "#Extract only the top3 countries in country code\n",
    "master_frame = master_frame.loc[master_frame['country_code'].isin(countryCode)]\n",
    "\n",
    "master_frame"
   ]
  },
  {
   "cell_type": "code",
   "execution_count": 1183,
   "metadata": {},
   "outputs": [
    {
     "data": {
      "text/plain": [
       "array(['IND', 'USA', 'GBR'], dtype=object)"
      ]
     },
     "execution_count": 1183,
     "metadata": {},
     "output_type": "execute_result"
    }
   ],
   "source": [
    "#checking if I only filtered investments from these 3 countries\n",
    "\n",
    "master_frame['country_code'].unique()"
   ]
  },
  {
   "cell_type": "markdown",
   "metadata": {},
   "source": [
    " "
   ]
  },
  {
   "cell_type": "markdown",
   "metadata": {},
   "source": [
    " "
   ]
  },
  {
   "cell_type": "markdown",
   "metadata": {},
   "source": [
    "# Checkpoint 4: Sector Analysis 1"
   ]
  },
  {
   "cell_type": "code",
   "execution_count": 1184,
   "metadata": {},
   "outputs": [
    {
     "data": {
      "text/html": [
       "<div>\n",
       "<style scoped>\n",
       "    .dataframe tbody tr th:only-of-type {\n",
       "        vertical-align: middle;\n",
       "    }\n",
       "\n",
       "    .dataframe tbody tr th {\n",
       "        vertical-align: top;\n",
       "    }\n",
       "\n",
       "    .dataframe thead th {\n",
       "        text-align: right;\n",
       "    }\n",
       "</style>\n",
       "<table border=\"1\" class=\"dataframe\">\n",
       "  <thead>\n",
       "    <tr style=\"text-align: right;\">\n",
       "      <th></th>\n",
       "      <th>company_permalink</th>\n",
       "      <th>funding_round_permalink</th>\n",
       "      <th>funding_round_type</th>\n",
       "      <th>funded_at</th>\n",
       "      <th>raised_amount_usd</th>\n",
       "      <th>name</th>\n",
       "      <th>category_list</th>\n",
       "      <th>status</th>\n",
       "      <th>country_code</th>\n",
       "    </tr>\n",
       "  </thead>\n",
       "  <tbody>\n",
       "    <tr>\n",
       "      <th>0</th>\n",
       "      <td>/organization/-fame</td>\n",
       "      <td>/funding-round/9a01d05418af9f794eebff7ace91f638</td>\n",
       "      <td>venture</td>\n",
       "      <td>05-01-2015</td>\n",
       "      <td>10000000.0</td>\n",
       "      <td>#fame</td>\n",
       "      <td>Media</td>\n",
       "      <td>operating</td>\n",
       "      <td>IND</td>\n",
       "    </tr>\n",
       "    <tr>\n",
       "      <th>1</th>\n",
       "      <td>/organization/-qounter</td>\n",
       "      <td>/funding-round/22dacff496eb7acb2b901dec1dfe5633</td>\n",
       "      <td>venture</td>\n",
       "      <td>14-10-2014</td>\n",
       "      <td>5000000.0</td>\n",
       "      <td>:Qounter</td>\n",
       "      <td>Application Platforms|Real Time|Social Network...</td>\n",
       "      <td>operating</td>\n",
       "      <td>USA</td>\n",
       "    </tr>\n",
       "    <tr>\n",
       "      <th>5</th>\n",
       "      <td>/organization/004-technologies</td>\n",
       "      <td>/funding-round/1278dd4e6a37fa4b7d7e06c21b3c1830</td>\n",
       "      <td>venture</td>\n",
       "      <td>24-07-2014</td>\n",
       "      <td>5000000.0</td>\n",
       "      <td>004 Technologies</td>\n",
       "      <td>Software</td>\n",
       "      <td>operating</td>\n",
       "      <td>USA</td>\n",
       "    </tr>\n",
       "    <tr>\n",
       "      <th>10</th>\n",
       "      <td>/organization/0xdata</td>\n",
       "      <td>/funding-round/3bb2ee4a2d89251a10aaa735b1180e44</td>\n",
       "      <td>venture</td>\n",
       "      <td>09-11-2015</td>\n",
       "      <td>20000000.0</td>\n",
       "      <td>H2O.ai</td>\n",
       "      <td>Analytics</td>\n",
       "      <td>operating</td>\n",
       "      <td>USA</td>\n",
       "    </tr>\n",
       "    <tr>\n",
       "      <th>11</th>\n",
       "      <td>/organization/0xdata</td>\n",
       "      <td>/funding-round/ae2a174c06517c2394aed45006322a7e</td>\n",
       "      <td>venture</td>\n",
       "      <td>03-01-2013</td>\n",
       "      <td>1700000.0</td>\n",
       "      <td>H2O.ai</td>\n",
       "      <td>Analytics</td>\n",
       "      <td>operating</td>\n",
       "      <td>USA</td>\n",
       "    </tr>\n",
       "    <tr>\n",
       "      <th>...</th>\n",
       "      <td>...</td>\n",
       "      <td>...</td>\n",
       "      <td>...</td>\n",
       "      <td>...</td>\n",
       "      <td>...</td>\n",
       "      <td>...</td>\n",
       "      <td>...</td>\n",
       "      <td>...</td>\n",
       "      <td>...</td>\n",
       "    </tr>\n",
       "    <tr>\n",
       "      <th>114913</th>\n",
       "      <td>/organization/zyomyx-inc</td>\n",
       "      <td>/funding-round/4191cb5258d3863b0212d1083881da64</td>\n",
       "      <td>venture</td>\n",
       "      <td>30-06-2013</td>\n",
       "      <td>12000000.0</td>\n",
       "      <td>ZYOMYX</td>\n",
       "      <td>Biotechnology</td>\n",
       "      <td>operating</td>\n",
       "      <td>USA</td>\n",
       "    </tr>\n",
       "    <tr>\n",
       "      <th>114915</th>\n",
       "      <td>/organization/zyomyx-inc</td>\n",
       "      <td>/funding-round/b4fce7f8a13267353d57db09099800e8</td>\n",
       "      <td>venture</td>\n",
       "      <td>11-07-2013</td>\n",
       "      <td>14219999.0</td>\n",
       "      <td>ZYOMYX</td>\n",
       "      <td>Biotechnology</td>\n",
       "      <td>operating</td>\n",
       "      <td>USA</td>\n",
       "    </tr>\n",
       "    <tr>\n",
       "      <th>114916</th>\n",
       "      <td>/organization/zyomyx-inc</td>\n",
       "      <td>/funding-round/ea5b21da6cf999ff4d5667431fe318d7</td>\n",
       "      <td>venture</td>\n",
       "      <td>29-01-2010</td>\n",
       "      <td>555016.0</td>\n",
       "      <td>ZYOMYX</td>\n",
       "      <td>Biotechnology</td>\n",
       "      <td>operating</td>\n",
       "      <td>USA</td>\n",
       "    </tr>\n",
       "    <tr>\n",
       "      <th>114927</th>\n",
       "      <td>/organization/zyrra</td>\n",
       "      <td>/funding-round/7a0fa791c96c9c447ee54662395beab9</td>\n",
       "      <td>venture</td>\n",
       "      <td>18-10-2012</td>\n",
       "      <td>140500.0</td>\n",
       "      <td>Zyrra</td>\n",
       "      <td>E-Commerce</td>\n",
       "      <td>operating</td>\n",
       "      <td>USA</td>\n",
       "    </tr>\n",
       "    <tr>\n",
       "      <th>114929</th>\n",
       "      <td>/organization/zystor</td>\n",
       "      <td>/funding-round/7ea37c0ff4132b084832039a9380d34e</td>\n",
       "      <td>venture</td>\n",
       "      <td>16-12-2004</td>\n",
       "      <td>8500000.0</td>\n",
       "      <td>Zystor</td>\n",
       "      <td>Biotechnology</td>\n",
       "      <td>acquired</td>\n",
       "      <td>USA</td>\n",
       "    </tr>\n",
       "  </tbody>\n",
       "</table>\n",
       "<p>41283 rows × 9 columns</p>\n",
       "</div>"
      ],
      "text/plain": [
       "                     company_permalink  \\\n",
       "0                  /organization/-fame   \n",
       "1               /organization/-qounter   \n",
       "5       /organization/004-technologies   \n",
       "10                /organization/0xdata   \n",
       "11                /organization/0xdata   \n",
       "...                                ...   \n",
       "114913        /organization/zyomyx-inc   \n",
       "114915        /organization/zyomyx-inc   \n",
       "114916        /organization/zyomyx-inc   \n",
       "114927             /organization/zyrra   \n",
       "114929            /organization/zystor   \n",
       "\n",
       "                                funding_round_permalink funding_round_type  \\\n",
       "0       /funding-round/9a01d05418af9f794eebff7ace91f638            venture   \n",
       "1       /funding-round/22dacff496eb7acb2b901dec1dfe5633            venture   \n",
       "5       /funding-round/1278dd4e6a37fa4b7d7e06c21b3c1830            venture   \n",
       "10      /funding-round/3bb2ee4a2d89251a10aaa735b1180e44            venture   \n",
       "11      /funding-round/ae2a174c06517c2394aed45006322a7e            venture   \n",
       "...                                                 ...                ...   \n",
       "114913  /funding-round/4191cb5258d3863b0212d1083881da64            venture   \n",
       "114915  /funding-round/b4fce7f8a13267353d57db09099800e8            venture   \n",
       "114916  /funding-round/ea5b21da6cf999ff4d5667431fe318d7            venture   \n",
       "114927  /funding-round/7a0fa791c96c9c447ee54662395beab9            venture   \n",
       "114929  /funding-round/7ea37c0ff4132b084832039a9380d34e            venture   \n",
       "\n",
       "         funded_at  raised_amount_usd              name  \\\n",
       "0       05-01-2015         10000000.0             #fame   \n",
       "1       14-10-2014          5000000.0          :Qounter   \n",
       "5       24-07-2014          5000000.0  004 Technologies   \n",
       "10      09-11-2015         20000000.0            H2O.ai   \n",
       "11      03-01-2013          1700000.0            H2O.ai   \n",
       "...            ...                ...               ...   \n",
       "114913  30-06-2013         12000000.0            ZYOMYX   \n",
       "114915  11-07-2013         14219999.0            ZYOMYX   \n",
       "114916  29-01-2010           555016.0            ZYOMYX   \n",
       "114927  18-10-2012           140500.0             Zyrra   \n",
       "114929  16-12-2004          8500000.0            Zystor   \n",
       "\n",
       "                                            category_list     status  \\\n",
       "0                                                   Media  operating   \n",
       "1       Application Platforms|Real Time|Social Network...  operating   \n",
       "5                                                Software  operating   \n",
       "10                                              Analytics  operating   \n",
       "11                                              Analytics  operating   \n",
       "...                                                   ...        ...   \n",
       "114913                                      Biotechnology  operating   \n",
       "114915                                      Biotechnology  operating   \n",
       "114916                                      Biotechnology  operating   \n",
       "114927                                         E-Commerce  operating   \n",
       "114929                                      Biotechnology   acquired   \n",
       "\n",
       "       country_code  \n",
       "0               IND  \n",
       "1               USA  \n",
       "5               USA  \n",
       "10              USA  \n",
       "11              USA  \n",
       "...             ...  \n",
       "114913          USA  \n",
       "114915          USA  \n",
       "114916          USA  \n",
       "114927          USA  \n",
       "114929          USA  \n",
       "\n",
       "[41283 rows x 9 columns]"
      ]
     },
     "execution_count": 1184,
     "metadata": {},
     "output_type": "execute_result"
    }
   ],
   "source": [
    "#checking the data frame\n",
    "\n",
    "master_frame"
   ]
  },
  {
   "cell_type": "code",
   "execution_count": 1185,
   "metadata": {},
   "outputs": [
    {
     "data": {
      "text/plain": [
       "0                         Media\n",
       "1         Application Platforms\n",
       "5                      Software\n",
       "10                    Analytics\n",
       "11                    Analytics\n",
       "                  ...          \n",
       "114913            Biotechnology\n",
       "114915            Biotechnology\n",
       "114916            Biotechnology\n",
       "114927               E-Commerce\n",
       "114929            Biotechnology\n",
       "Name: primary_sector, Length: 41283, dtype: object"
      ]
     },
     "execution_count": 1185,
     "metadata": {},
     "output_type": "execute_result"
    }
   ],
   "source": [
    "# Extract the primary sector of each category list from the category_list column\n",
    "\n",
    "master_frame['primary_sector'] = master_frame['category_list'].apply(lambda word: str(word).split('|')[0])\n",
    "\n",
    "master_frame['primary_sector']"
   ]
  },
  {
   "cell_type": "code",
   "execution_count": 1198,
   "metadata": {},
   "outputs": [
    {
     "data": {
      "text/html": [
       "<div>\n",
       "<style scoped>\n",
       "    .dataframe tbody tr th:only-of-type {\n",
       "        vertical-align: middle;\n",
       "    }\n",
       "\n",
       "    .dataframe tbody tr th {\n",
       "        vertical-align: top;\n",
       "    }\n",
       "\n",
       "    .dataframe thead th {\n",
       "        text-align: right;\n",
       "    }\n",
       "</style>\n",
       "<table border=\"1\" class=\"dataframe\">\n",
       "  <thead>\n",
       "    <tr style=\"text-align: right;\">\n",
       "      <th></th>\n",
       "      <th>company_permalink</th>\n",
       "      <th>category_list</th>\n",
       "      <th>primary_sector</th>\n",
       "    </tr>\n",
       "  </thead>\n",
       "  <tbody>\n",
       "    <tr>\n",
       "      <th>0</th>\n",
       "      <td>/organization/-fame</td>\n",
       "      <td>Media</td>\n",
       "      <td>Media</td>\n",
       "    </tr>\n",
       "    <tr>\n",
       "      <th>1</th>\n",
       "      <td>/organization/-qounter</td>\n",
       "      <td>Application Platforms|Real Time|Social Network...</td>\n",
       "      <td>Application Platforms</td>\n",
       "    </tr>\n",
       "    <tr>\n",
       "      <th>5</th>\n",
       "      <td>/organization/004-technologies</td>\n",
       "      <td>Software</td>\n",
       "      <td>Software</td>\n",
       "    </tr>\n",
       "    <tr>\n",
       "      <th>10</th>\n",
       "      <td>/organization/0xdata</td>\n",
       "      <td>Analytics</td>\n",
       "      <td>Analytics</td>\n",
       "    </tr>\n",
       "    <tr>\n",
       "      <th>11</th>\n",
       "      <td>/organization/0xdata</td>\n",
       "      <td>Analytics</td>\n",
       "      <td>Analytics</td>\n",
       "    </tr>\n",
       "    <tr>\n",
       "      <th>12</th>\n",
       "      <td>/organization/0xdata</td>\n",
       "      <td>Analytics</td>\n",
       "      <td>Analytics</td>\n",
       "    </tr>\n",
       "    <tr>\n",
       "      <th>22</th>\n",
       "      <td>/organization/1-mainstream</td>\n",
       "      <td>Apps|Cable|Distribution|Software</td>\n",
       "      <td>Apps</td>\n",
       "    </tr>\n",
       "    <tr>\n",
       "      <th>28</th>\n",
       "      <td>/organization/10-minutes-with</td>\n",
       "      <td>Education</td>\n",
       "      <td>Education</td>\n",
       "    </tr>\n",
       "    <tr>\n",
       "      <th>33</th>\n",
       "      <td>/organization/1000lookz</td>\n",
       "      <td>Beauty</td>\n",
       "      <td>Beauty</td>\n",
       "    </tr>\n",
       "    <tr>\n",
       "      <th>34</th>\n",
       "      <td>/organization/1000memories</td>\n",
       "      <td>Curated Web</td>\n",
       "      <td>Curated Web</td>\n",
       "    </tr>\n",
       "    <tr>\n",
       "      <th>38</th>\n",
       "      <td>/organization/1000museums-com</td>\n",
       "      <td>Curated Web</td>\n",
       "      <td>Curated Web</td>\n",
       "    </tr>\n",
       "    <tr>\n",
       "      <th>39</th>\n",
       "      <td>/organization/1000museums-com</td>\n",
       "      <td>Curated Web</td>\n",
       "      <td>Curated Web</td>\n",
       "    </tr>\n",
       "    <tr>\n",
       "      <th>41</th>\n",
       "      <td>/organization/1000museums-com</td>\n",
       "      <td>Curated Web</td>\n",
       "      <td>Curated Web</td>\n",
       "    </tr>\n",
       "    <tr>\n",
       "      <th>42</th>\n",
       "      <td>/organization/1000museums-com</td>\n",
       "      <td>Curated Web</td>\n",
       "      <td>Curated Web</td>\n",
       "    </tr>\n",
       "    <tr>\n",
       "      <th>44</th>\n",
       "      <td>/organization/1000museums-com</td>\n",
       "      <td>Curated Web</td>\n",
       "      <td>Curated Web</td>\n",
       "    </tr>\n",
       "    <tr>\n",
       "      <th>59</th>\n",
       "      <td>/organization/100health</td>\n",
       "      <td>Health Care|Health Care Information Technology...</td>\n",
       "      <td>Health Care</td>\n",
       "    </tr>\n",
       "    <tr>\n",
       "      <th>61</th>\n",
       "      <td>/organization/100plus</td>\n",
       "      <td>Analytics</td>\n",
       "      <td>Analytics</td>\n",
       "    </tr>\n",
       "    <tr>\n",
       "      <th>62</th>\n",
       "      <td>/organization/1010data</td>\n",
       "      <td>Software</td>\n",
       "      <td>Software</td>\n",
       "    </tr>\n",
       "    <tr>\n",
       "      <th>73</th>\n",
       "      <td>/organization/10x-genomics</td>\n",
       "      <td>Biotechnology|Technology</td>\n",
       "      <td>Biotechnology</td>\n",
       "    </tr>\n",
       "    <tr>\n",
       "      <th>74</th>\n",
       "      <td>/organization/10x-technologies</td>\n",
       "      <td>Biotechnology</td>\n",
       "      <td>Biotechnology</td>\n",
       "    </tr>\n",
       "    <tr>\n",
       "      <th>81</th>\n",
       "      <td>/organization/11i-solutions</td>\n",
       "      <td>Enterprise Software</td>\n",
       "      <td>Enterprise Software</td>\n",
       "    </tr>\n",
       "    <tr>\n",
       "      <th>103</th>\n",
       "      <td>/organization/128-technology</td>\n",
       "      <td>Service Providers|Technology</td>\n",
       "      <td>Service Providers</td>\n",
       "    </tr>\n",
       "    <tr>\n",
       "      <th>108</th>\n",
       "      <td>/organization/1366-technologies</td>\n",
       "      <td>Manufacturing</td>\n",
       "      <td>Manufacturing</td>\n",
       "    </tr>\n",
       "    <tr>\n",
       "      <th>109</th>\n",
       "      <td>/organization/1366-technologies</td>\n",
       "      <td>Manufacturing</td>\n",
       "      <td>Manufacturing</td>\n",
       "    </tr>\n",
       "    <tr>\n",
       "      <th>110</th>\n",
       "      <td>/organization/1366-technologies</td>\n",
       "      <td>Manufacturing</td>\n",
       "      <td>Manufacturing</td>\n",
       "    </tr>\n",
       "    <tr>\n",
       "      <th>111</th>\n",
       "      <td>/organization/1366-technologies</td>\n",
       "      <td>Manufacturing</td>\n",
       "      <td>Manufacturing</td>\n",
       "    </tr>\n",
       "    <tr>\n",
       "      <th>112</th>\n",
       "      <td>/organization/1366-technologies</td>\n",
       "      <td>Manufacturing</td>\n",
       "      <td>Manufacturing</td>\n",
       "    </tr>\n",
       "    <tr>\n",
       "      <th>113</th>\n",
       "      <td>/organization/1366-technologies</td>\n",
       "      <td>Manufacturing</td>\n",
       "      <td>Manufacturing</td>\n",
       "    </tr>\n",
       "    <tr>\n",
       "      <th>114</th>\n",
       "      <td>/organization/1366-technologies</td>\n",
       "      <td>Manufacturing</td>\n",
       "      <td>Manufacturing</td>\n",
       "    </tr>\n",
       "    <tr>\n",
       "      <th>115</th>\n",
       "      <td>/organization/1366-technologies</td>\n",
       "      <td>Manufacturing</td>\n",
       "      <td>Manufacturing</td>\n",
       "    </tr>\n",
       "    <tr>\n",
       "      <th>119</th>\n",
       "      <td>/organization/140-proof</td>\n",
       "      <td>Advertising|Big Data Analytics|Interest Graph</td>\n",
       "      <td>Advertising</td>\n",
       "    </tr>\n",
       "    <tr>\n",
       "      <th>120</th>\n",
       "      <td>/organization/140-proof</td>\n",
       "      <td>Advertising|Big Data Analytics|Interest Graph</td>\n",
       "      <td>Advertising</td>\n",
       "    </tr>\n",
       "    <tr>\n",
       "      <th>129</th>\n",
       "      <td>/organization/16-mile-solutions</td>\n",
       "      <td>Software</td>\n",
       "      <td>Software</td>\n",
       "    </tr>\n",
       "    <tr>\n",
       "      <th>134</th>\n",
       "      <td>/organization/170-systems</td>\n",
       "      <td>Software</td>\n",
       "      <td>Software</td>\n",
       "    </tr>\n",
       "    <tr>\n",
       "      <th>135</th>\n",
       "      <td>/organization/17hats</td>\n",
       "      <td>Internet</td>\n",
       "      <td>Internet</td>\n",
       "    </tr>\n",
       "    <tr>\n",
       "      <th>140</th>\n",
       "      <td>/organization/17zuoye</td>\n",
       "      <td>Education|Language Learning</td>\n",
       "      <td>Education</td>\n",
       "    </tr>\n",
       "    <tr>\n",
       "      <th>141</th>\n",
       "      <td>/organization/17zuoye</td>\n",
       "      <td>Education|Language Learning</td>\n",
       "      <td>Education</td>\n",
       "    </tr>\n",
       "    <tr>\n",
       "      <th>142</th>\n",
       "      <td>/organization/17zuoye</td>\n",
       "      <td>Education|Language Learning</td>\n",
       "      <td>Education</td>\n",
       "    </tr>\n",
       "    <tr>\n",
       "      <th>144</th>\n",
       "      <td>/organization/17zuoye</td>\n",
       "      <td>Education|Language Learning</td>\n",
       "      <td>Education</td>\n",
       "    </tr>\n",
       "    <tr>\n",
       "      <th>146</th>\n",
       "      <td>/organization/180solutions</td>\n",
       "      <td>Advertising|Advertising Platforms|Promotional</td>\n",
       "      <td>Advertising</td>\n",
       "    </tr>\n",
       "  </tbody>\n",
       "</table>\n",
       "</div>"
      ],
      "text/plain": [
       "                   company_permalink  \\\n",
       "0                /organization/-fame   \n",
       "1             /organization/-qounter   \n",
       "5     /organization/004-technologies   \n",
       "10              /organization/0xdata   \n",
       "11              /organization/0xdata   \n",
       "12              /organization/0xdata   \n",
       "22        /organization/1-mainstream   \n",
       "28     /organization/10-minutes-with   \n",
       "33           /organization/1000lookz   \n",
       "34        /organization/1000memories   \n",
       "38     /organization/1000museums-com   \n",
       "39     /organization/1000museums-com   \n",
       "41     /organization/1000museums-com   \n",
       "42     /organization/1000museums-com   \n",
       "44     /organization/1000museums-com   \n",
       "59           /organization/100health   \n",
       "61             /organization/100plus   \n",
       "62            /organization/1010data   \n",
       "73        /organization/10x-genomics   \n",
       "74    /organization/10x-technologies   \n",
       "81       /organization/11i-solutions   \n",
       "103     /organization/128-technology   \n",
       "108  /organization/1366-technologies   \n",
       "109  /organization/1366-technologies   \n",
       "110  /organization/1366-technologies   \n",
       "111  /organization/1366-technologies   \n",
       "112  /organization/1366-technologies   \n",
       "113  /organization/1366-technologies   \n",
       "114  /organization/1366-technologies   \n",
       "115  /organization/1366-technologies   \n",
       "119          /organization/140-proof   \n",
       "120          /organization/140-proof   \n",
       "129  /organization/16-mile-solutions   \n",
       "134        /organization/170-systems   \n",
       "135             /organization/17hats   \n",
       "140            /organization/17zuoye   \n",
       "141            /organization/17zuoye   \n",
       "142            /organization/17zuoye   \n",
       "144            /organization/17zuoye   \n",
       "146       /organization/180solutions   \n",
       "\n",
       "                                         category_list         primary_sector  \n",
       "0                                                Media                  Media  \n",
       "1    Application Platforms|Real Time|Social Network...  Application Platforms  \n",
       "5                                             Software               Software  \n",
       "10                                           Analytics              Analytics  \n",
       "11                                           Analytics              Analytics  \n",
       "12                                           Analytics              Analytics  \n",
       "22                    Apps|Cable|Distribution|Software                   Apps  \n",
       "28                                           Education              Education  \n",
       "33                                              Beauty                 Beauty  \n",
       "34                                         Curated Web            Curated Web  \n",
       "38                                         Curated Web            Curated Web  \n",
       "39                                         Curated Web            Curated Web  \n",
       "41                                         Curated Web            Curated Web  \n",
       "42                                         Curated Web            Curated Web  \n",
       "44                                         Curated Web            Curated Web  \n",
       "59   Health Care|Health Care Information Technology...            Health Care  \n",
       "61                                           Analytics              Analytics  \n",
       "62                                            Software               Software  \n",
       "73                            Biotechnology|Technology          Biotechnology  \n",
       "74                                       Biotechnology          Biotechnology  \n",
       "81                                 Enterprise Software    Enterprise Software  \n",
       "103                       Service Providers|Technology      Service Providers  \n",
       "108                                      Manufacturing          Manufacturing  \n",
       "109                                      Manufacturing          Manufacturing  \n",
       "110                                      Manufacturing          Manufacturing  \n",
       "111                                      Manufacturing          Manufacturing  \n",
       "112                                      Manufacturing          Manufacturing  \n",
       "113                                      Manufacturing          Manufacturing  \n",
       "114                                      Manufacturing          Manufacturing  \n",
       "115                                      Manufacturing          Manufacturing  \n",
       "119      Advertising|Big Data Analytics|Interest Graph            Advertising  \n",
       "120      Advertising|Big Data Analytics|Interest Graph            Advertising  \n",
       "129                                           Software               Software  \n",
       "134                                           Software               Software  \n",
       "135                                           Internet               Internet  \n",
       "140                        Education|Language Learning              Education  \n",
       "141                        Education|Language Learning              Education  \n",
       "142                        Education|Language Learning              Education  \n",
       "144                        Education|Language Learning              Education  \n",
       "146      Advertising|Advertising Platforms|Promotional            Advertising  "
      ]
     },
     "execution_count": 1198,
     "metadata": {},
     "output_type": "execute_result"
    }
   ],
   "source": [
    "#checking the newly derived column 'primary_sector' (top40 rows)\n",
    "master_frame[['company_permalink', 'category_list', 'primary_sector']].head(40)"
   ]
  },
  {
   "cell_type": "code",
   "execution_count": 1186,
   "metadata": {},
   "outputs": [],
   "source": [
    "#import the mapping file to analyse\n",
    "\n",
    "mapping = pd.read_csv('mapping.csv')"
   ]
  },
  {
   "cell_type": "code",
   "execution_count": 1187,
   "metadata": {},
   "outputs": [
    {
     "data": {
      "text/html": [
       "<div>\n",
       "<style scoped>\n",
       "    .dataframe tbody tr th:only-of-type {\n",
       "        vertical-align: middle;\n",
       "    }\n",
       "\n",
       "    .dataframe tbody tr th {\n",
       "        vertical-align: top;\n",
       "    }\n",
       "\n",
       "    .dataframe thead th {\n",
       "        text-align: right;\n",
       "    }\n",
       "</style>\n",
       "<table border=\"1\" class=\"dataframe\">\n",
       "  <thead>\n",
       "    <tr style=\"text-align: right;\">\n",
       "      <th></th>\n",
       "      <th>category_list</th>\n",
       "      <th>Automotive &amp; Sports</th>\n",
       "      <th>Blanks</th>\n",
       "      <th>Cleantech / Semiconductors</th>\n",
       "      <th>Entertainment</th>\n",
       "      <th>Health</th>\n",
       "      <th>Manufacturing</th>\n",
       "      <th>News, Search and Messaging</th>\n",
       "      <th>Others</th>\n",
       "      <th>Social, Finance, Analytics, Advertising</th>\n",
       "    </tr>\n",
       "  </thead>\n",
       "  <tbody>\n",
       "    <tr>\n",
       "      <th>0</th>\n",
       "      <td>NaN</td>\n",
       "      <td>0</td>\n",
       "      <td>1</td>\n",
       "      <td>0</td>\n",
       "      <td>0</td>\n",
       "      <td>0</td>\n",
       "      <td>0</td>\n",
       "      <td>0</td>\n",
       "      <td>0</td>\n",
       "      <td>0</td>\n",
       "    </tr>\n",
       "    <tr>\n",
       "      <th>1</th>\n",
       "      <td>3D</td>\n",
       "      <td>0</td>\n",
       "      <td>0</td>\n",
       "      <td>0</td>\n",
       "      <td>0</td>\n",
       "      <td>0</td>\n",
       "      <td>1</td>\n",
       "      <td>0</td>\n",
       "      <td>0</td>\n",
       "      <td>0</td>\n",
       "    </tr>\n",
       "    <tr>\n",
       "      <th>2</th>\n",
       "      <td>3D Printing</td>\n",
       "      <td>0</td>\n",
       "      <td>0</td>\n",
       "      <td>0</td>\n",
       "      <td>0</td>\n",
       "      <td>0</td>\n",
       "      <td>1</td>\n",
       "      <td>0</td>\n",
       "      <td>0</td>\n",
       "      <td>0</td>\n",
       "    </tr>\n",
       "    <tr>\n",
       "      <th>3</th>\n",
       "      <td>3D Technology</td>\n",
       "      <td>0</td>\n",
       "      <td>0</td>\n",
       "      <td>0</td>\n",
       "      <td>0</td>\n",
       "      <td>0</td>\n",
       "      <td>1</td>\n",
       "      <td>0</td>\n",
       "      <td>0</td>\n",
       "      <td>0</td>\n",
       "    </tr>\n",
       "    <tr>\n",
       "      <th>4</th>\n",
       "      <td>Accounting</td>\n",
       "      <td>0</td>\n",
       "      <td>0</td>\n",
       "      <td>0</td>\n",
       "      <td>0</td>\n",
       "      <td>0</td>\n",
       "      <td>0</td>\n",
       "      <td>0</td>\n",
       "      <td>0</td>\n",
       "      <td>1</td>\n",
       "    </tr>\n",
       "    <tr>\n",
       "      <th>5</th>\n",
       "      <td>Active Lifestyle</td>\n",
       "      <td>0</td>\n",
       "      <td>0</td>\n",
       "      <td>0</td>\n",
       "      <td>0</td>\n",
       "      <td>1</td>\n",
       "      <td>0</td>\n",
       "      <td>0</td>\n",
       "      <td>0</td>\n",
       "      <td>0</td>\n",
       "    </tr>\n",
       "    <tr>\n",
       "      <th>6</th>\n",
       "      <td>Ad Targeting</td>\n",
       "      <td>0</td>\n",
       "      <td>0</td>\n",
       "      <td>0</td>\n",
       "      <td>0</td>\n",
       "      <td>0</td>\n",
       "      <td>0</td>\n",
       "      <td>0</td>\n",
       "      <td>0</td>\n",
       "      <td>1</td>\n",
       "    </tr>\n",
       "    <tr>\n",
       "      <th>7</th>\n",
       "      <td>Advanced Materials</td>\n",
       "      <td>0</td>\n",
       "      <td>0</td>\n",
       "      <td>0</td>\n",
       "      <td>0</td>\n",
       "      <td>0</td>\n",
       "      <td>1</td>\n",
       "      <td>0</td>\n",
       "      <td>0</td>\n",
       "      <td>0</td>\n",
       "    </tr>\n",
       "    <tr>\n",
       "      <th>8</th>\n",
       "      <td>Adventure Travel</td>\n",
       "      <td>1</td>\n",
       "      <td>0</td>\n",
       "      <td>0</td>\n",
       "      <td>0</td>\n",
       "      <td>0</td>\n",
       "      <td>0</td>\n",
       "      <td>0</td>\n",
       "      <td>0</td>\n",
       "      <td>0</td>\n",
       "    </tr>\n",
       "    <tr>\n",
       "      <th>9</th>\n",
       "      <td>Advertising</td>\n",
       "      <td>0</td>\n",
       "      <td>0</td>\n",
       "      <td>0</td>\n",
       "      <td>0</td>\n",
       "      <td>0</td>\n",
       "      <td>0</td>\n",
       "      <td>0</td>\n",
       "      <td>0</td>\n",
       "      <td>1</td>\n",
       "    </tr>\n",
       "    <tr>\n",
       "      <th>10</th>\n",
       "      <td>Advertising Exchanges</td>\n",
       "      <td>0</td>\n",
       "      <td>0</td>\n",
       "      <td>0</td>\n",
       "      <td>0</td>\n",
       "      <td>0</td>\n",
       "      <td>0</td>\n",
       "      <td>0</td>\n",
       "      <td>0</td>\n",
       "      <td>1</td>\n",
       "    </tr>\n",
       "    <tr>\n",
       "      <th>11</th>\n",
       "      <td>Advertising Networks</td>\n",
       "      <td>0</td>\n",
       "      <td>0</td>\n",
       "      <td>0</td>\n",
       "      <td>0</td>\n",
       "      <td>0</td>\n",
       "      <td>0</td>\n",
       "      <td>0</td>\n",
       "      <td>0</td>\n",
       "      <td>1</td>\n",
       "    </tr>\n",
       "    <tr>\n",
       "      <th>12</th>\n",
       "      <td>Advertising Platforms</td>\n",
       "      <td>0</td>\n",
       "      <td>0</td>\n",
       "      <td>0</td>\n",
       "      <td>0</td>\n",
       "      <td>0</td>\n",
       "      <td>0</td>\n",
       "      <td>0</td>\n",
       "      <td>0</td>\n",
       "      <td>1</td>\n",
       "    </tr>\n",
       "    <tr>\n",
       "      <th>13</th>\n",
       "      <td>Advice</td>\n",
       "      <td>0</td>\n",
       "      <td>0</td>\n",
       "      <td>0</td>\n",
       "      <td>0</td>\n",
       "      <td>0</td>\n",
       "      <td>0</td>\n",
       "      <td>0</td>\n",
       "      <td>1</td>\n",
       "      <td>0</td>\n",
       "    </tr>\n",
       "    <tr>\n",
       "      <th>14</th>\n",
       "      <td>Aerospace</td>\n",
       "      <td>1</td>\n",
       "      <td>0</td>\n",
       "      <td>0</td>\n",
       "      <td>0</td>\n",
       "      <td>0</td>\n",
       "      <td>0</td>\n",
       "      <td>0</td>\n",
       "      <td>0</td>\n",
       "      <td>0</td>\n",
       "    </tr>\n",
       "    <tr>\n",
       "      <th>15</th>\n",
       "      <td>Agriculture</td>\n",
       "      <td>0</td>\n",
       "      <td>0</td>\n",
       "      <td>0</td>\n",
       "      <td>0</td>\n",
       "      <td>0</td>\n",
       "      <td>1</td>\n",
       "      <td>0</td>\n",
       "      <td>0</td>\n",
       "      <td>0</td>\n",
       "    </tr>\n",
       "    <tr>\n",
       "      <th>16</th>\n",
       "      <td>Air Pollution Control</td>\n",
       "      <td>0</td>\n",
       "      <td>0</td>\n",
       "      <td>1</td>\n",
       "      <td>0</td>\n",
       "      <td>0</td>\n",
       "      <td>0</td>\n",
       "      <td>0</td>\n",
       "      <td>0</td>\n",
       "      <td>0</td>\n",
       "    </tr>\n",
       "    <tr>\n",
       "      <th>17</th>\n",
       "      <td>Algorithms</td>\n",
       "      <td>0</td>\n",
       "      <td>0</td>\n",
       "      <td>0</td>\n",
       "      <td>0</td>\n",
       "      <td>0</td>\n",
       "      <td>0</td>\n",
       "      <td>0</td>\n",
       "      <td>1</td>\n",
       "      <td>0</td>\n",
       "    </tr>\n",
       "    <tr>\n",
       "      <th>18</th>\n",
       "      <td>All Markets</td>\n",
       "      <td>0</td>\n",
       "      <td>0</td>\n",
       "      <td>0</td>\n",
       "      <td>0</td>\n",
       "      <td>0</td>\n",
       "      <td>0</td>\n",
       "      <td>0</td>\n",
       "      <td>1</td>\n",
       "      <td>0</td>\n",
       "    </tr>\n",
       "    <tr>\n",
       "      <th>19</th>\n",
       "      <td>All Students</td>\n",
       "      <td>0</td>\n",
       "      <td>0</td>\n",
       "      <td>0</td>\n",
       "      <td>0</td>\n",
       "      <td>0</td>\n",
       "      <td>0</td>\n",
       "      <td>0</td>\n",
       "      <td>1</td>\n",
       "      <td>0</td>\n",
       "    </tr>\n",
       "    <tr>\n",
       "      <th>20</th>\n",
       "      <td>Alter0tive Medicine</td>\n",
       "      <td>0</td>\n",
       "      <td>0</td>\n",
       "      <td>0</td>\n",
       "      <td>0</td>\n",
       "      <td>1</td>\n",
       "      <td>0</td>\n",
       "      <td>0</td>\n",
       "      <td>0</td>\n",
       "      <td>0</td>\n",
       "    </tr>\n",
       "    <tr>\n",
       "      <th>21</th>\n",
       "      <td>Alumni</td>\n",
       "      <td>0</td>\n",
       "      <td>0</td>\n",
       "      <td>0</td>\n",
       "      <td>0</td>\n",
       "      <td>0</td>\n",
       "      <td>0</td>\n",
       "      <td>0</td>\n",
       "      <td>1</td>\n",
       "      <td>0</td>\n",
       "    </tr>\n",
       "    <tr>\n",
       "      <th>22</th>\n",
       "      <td>A0lytics</td>\n",
       "      <td>0</td>\n",
       "      <td>0</td>\n",
       "      <td>0</td>\n",
       "      <td>0</td>\n",
       "      <td>0</td>\n",
       "      <td>0</td>\n",
       "      <td>0</td>\n",
       "      <td>0</td>\n",
       "      <td>1</td>\n",
       "    </tr>\n",
       "    <tr>\n",
       "      <th>23</th>\n",
       "      <td>Android</td>\n",
       "      <td>0</td>\n",
       "      <td>0</td>\n",
       "      <td>0</td>\n",
       "      <td>0</td>\n",
       "      <td>0</td>\n",
       "      <td>0</td>\n",
       "      <td>0</td>\n",
       "      <td>0</td>\n",
       "      <td>1</td>\n",
       "    </tr>\n",
       "    <tr>\n",
       "      <th>24</th>\n",
       "      <td>Angels</td>\n",
       "      <td>0</td>\n",
       "      <td>0</td>\n",
       "      <td>0</td>\n",
       "      <td>0</td>\n",
       "      <td>0</td>\n",
       "      <td>0</td>\n",
       "      <td>0</td>\n",
       "      <td>1</td>\n",
       "      <td>0</td>\n",
       "    </tr>\n",
       "    <tr>\n",
       "      <th>25</th>\n",
       "      <td>Animal Feed</td>\n",
       "      <td>0</td>\n",
       "      <td>0</td>\n",
       "      <td>0</td>\n",
       "      <td>0</td>\n",
       "      <td>1</td>\n",
       "      <td>0</td>\n",
       "      <td>0</td>\n",
       "      <td>0</td>\n",
       "      <td>0</td>\n",
       "    </tr>\n",
       "    <tr>\n",
       "      <th>26</th>\n",
       "      <td>Anything Capital Intensive</td>\n",
       "      <td>0</td>\n",
       "      <td>0</td>\n",
       "      <td>0</td>\n",
       "      <td>0</td>\n",
       "      <td>0</td>\n",
       "      <td>0</td>\n",
       "      <td>0</td>\n",
       "      <td>0</td>\n",
       "      <td>1</td>\n",
       "    </tr>\n",
       "    <tr>\n",
       "      <th>27</th>\n",
       "      <td>App Discovery</td>\n",
       "      <td>0</td>\n",
       "      <td>0</td>\n",
       "      <td>0</td>\n",
       "      <td>0</td>\n",
       "      <td>0</td>\n",
       "      <td>0</td>\n",
       "      <td>1</td>\n",
       "      <td>0</td>\n",
       "      <td>0</td>\n",
       "    </tr>\n",
       "    <tr>\n",
       "      <th>28</th>\n",
       "      <td>App Marketing</td>\n",
       "      <td>0</td>\n",
       "      <td>0</td>\n",
       "      <td>0</td>\n",
       "      <td>0</td>\n",
       "      <td>0</td>\n",
       "      <td>0</td>\n",
       "      <td>1</td>\n",
       "      <td>0</td>\n",
       "      <td>0</td>\n",
       "    </tr>\n",
       "    <tr>\n",
       "      <th>29</th>\n",
       "      <td>App Stores</td>\n",
       "      <td>0</td>\n",
       "      <td>0</td>\n",
       "      <td>0</td>\n",
       "      <td>0</td>\n",
       "      <td>0</td>\n",
       "      <td>0</td>\n",
       "      <td>1</td>\n",
       "      <td>0</td>\n",
       "      <td>0</td>\n",
       "    </tr>\n",
       "    <tr>\n",
       "      <th>30</th>\n",
       "      <td>Application Performance Monitoring</td>\n",
       "      <td>0</td>\n",
       "      <td>0</td>\n",
       "      <td>0</td>\n",
       "      <td>0</td>\n",
       "      <td>0</td>\n",
       "      <td>0</td>\n",
       "      <td>1</td>\n",
       "      <td>0</td>\n",
       "      <td>0</td>\n",
       "    </tr>\n",
       "    <tr>\n",
       "      <th>31</th>\n",
       "      <td>Application Platforms</td>\n",
       "      <td>0</td>\n",
       "      <td>0</td>\n",
       "      <td>0</td>\n",
       "      <td>0</td>\n",
       "      <td>0</td>\n",
       "      <td>0</td>\n",
       "      <td>1</td>\n",
       "      <td>0</td>\n",
       "      <td>0</td>\n",
       "    </tr>\n",
       "    <tr>\n",
       "      <th>32</th>\n",
       "      <td>Apps</td>\n",
       "      <td>0</td>\n",
       "      <td>0</td>\n",
       "      <td>0</td>\n",
       "      <td>0</td>\n",
       "      <td>0</td>\n",
       "      <td>0</td>\n",
       "      <td>1</td>\n",
       "      <td>0</td>\n",
       "      <td>0</td>\n",
       "    </tr>\n",
       "    <tr>\n",
       "      <th>33</th>\n",
       "      <td>Aquaculture</td>\n",
       "      <td>0</td>\n",
       "      <td>0</td>\n",
       "      <td>1</td>\n",
       "      <td>0</td>\n",
       "      <td>0</td>\n",
       "      <td>0</td>\n",
       "      <td>0</td>\n",
       "      <td>0</td>\n",
       "      <td>0</td>\n",
       "    </tr>\n",
       "    <tr>\n",
       "      <th>34</th>\n",
       "      <td>Architecture</td>\n",
       "      <td>0</td>\n",
       "      <td>0</td>\n",
       "      <td>0</td>\n",
       "      <td>0</td>\n",
       "      <td>0</td>\n",
       "      <td>1</td>\n",
       "      <td>0</td>\n",
       "      <td>0</td>\n",
       "      <td>0</td>\n",
       "    </tr>\n",
       "    <tr>\n",
       "      <th>35</th>\n",
       "      <td>Archiving</td>\n",
       "      <td>0</td>\n",
       "      <td>0</td>\n",
       "      <td>0</td>\n",
       "      <td>0</td>\n",
       "      <td>0</td>\n",
       "      <td>0</td>\n",
       "      <td>1</td>\n",
       "      <td>0</td>\n",
       "      <td>0</td>\n",
       "    </tr>\n",
       "    <tr>\n",
       "      <th>36</th>\n",
       "      <td>Art</td>\n",
       "      <td>0</td>\n",
       "      <td>0</td>\n",
       "      <td>0</td>\n",
       "      <td>1</td>\n",
       "      <td>0</td>\n",
       "      <td>0</td>\n",
       "      <td>0</td>\n",
       "      <td>0</td>\n",
       "      <td>0</td>\n",
       "    </tr>\n",
       "    <tr>\n",
       "      <th>37</th>\n",
       "      <td>Artificial Intelligence</td>\n",
       "      <td>0</td>\n",
       "      <td>0</td>\n",
       "      <td>0</td>\n",
       "      <td>0</td>\n",
       "      <td>0</td>\n",
       "      <td>0</td>\n",
       "      <td>0</td>\n",
       "      <td>0</td>\n",
       "      <td>1</td>\n",
       "    </tr>\n",
       "    <tr>\n",
       "      <th>38</th>\n",
       "      <td>Artists Globally</td>\n",
       "      <td>0</td>\n",
       "      <td>0</td>\n",
       "      <td>0</td>\n",
       "      <td>1</td>\n",
       "      <td>0</td>\n",
       "      <td>0</td>\n",
       "      <td>0</td>\n",
       "      <td>0</td>\n",
       "      <td>0</td>\n",
       "    </tr>\n",
       "    <tr>\n",
       "      <th>39</th>\n",
       "      <td>Assisitive Technology</td>\n",
       "      <td>0</td>\n",
       "      <td>0</td>\n",
       "      <td>0</td>\n",
       "      <td>0</td>\n",
       "      <td>1</td>\n",
       "      <td>0</td>\n",
       "      <td>0</td>\n",
       "      <td>0</td>\n",
       "      <td>0</td>\n",
       "    </tr>\n",
       "  </tbody>\n",
       "</table>\n",
       "</div>"
      ],
      "text/plain": [
       "                         category_list  Automotive & Sports  Blanks  \\\n",
       "0                                  NaN                    0       1   \n",
       "1                                   3D                    0       0   \n",
       "2                          3D Printing                    0       0   \n",
       "3                        3D Technology                    0       0   \n",
       "4                           Accounting                    0       0   \n",
       "5                     Active Lifestyle                    0       0   \n",
       "6                         Ad Targeting                    0       0   \n",
       "7                   Advanced Materials                    0       0   \n",
       "8                     Adventure Travel                    1       0   \n",
       "9                          Advertising                    0       0   \n",
       "10               Advertising Exchanges                    0       0   \n",
       "11                Advertising Networks                    0       0   \n",
       "12               Advertising Platforms                    0       0   \n",
       "13                              Advice                    0       0   \n",
       "14                           Aerospace                    1       0   \n",
       "15                         Agriculture                    0       0   \n",
       "16               Air Pollution Control                    0       0   \n",
       "17                          Algorithms                    0       0   \n",
       "18                         All Markets                    0       0   \n",
       "19                        All Students                    0       0   \n",
       "20                 Alter0tive Medicine                    0       0   \n",
       "21                              Alumni                    0       0   \n",
       "22                            A0lytics                    0       0   \n",
       "23                             Android                    0       0   \n",
       "24                              Angels                    0       0   \n",
       "25                         Animal Feed                    0       0   \n",
       "26          Anything Capital Intensive                    0       0   \n",
       "27                       App Discovery                    0       0   \n",
       "28                       App Marketing                    0       0   \n",
       "29                          App Stores                    0       0   \n",
       "30  Application Performance Monitoring                    0       0   \n",
       "31               Application Platforms                    0       0   \n",
       "32                                Apps                    0       0   \n",
       "33                         Aquaculture                    0       0   \n",
       "34                        Architecture                    0       0   \n",
       "35                           Archiving                    0       0   \n",
       "36                                 Art                    0       0   \n",
       "37             Artificial Intelligence                    0       0   \n",
       "38                    Artists Globally                    0       0   \n",
       "39               Assisitive Technology                    0       0   \n",
       "\n",
       "    Cleantech / Semiconductors  Entertainment  Health  Manufacturing  \\\n",
       "0                            0              0       0              0   \n",
       "1                            0              0       0              1   \n",
       "2                            0              0       0              1   \n",
       "3                            0              0       0              1   \n",
       "4                            0              0       0              0   \n",
       "5                            0              0       1              0   \n",
       "6                            0              0       0              0   \n",
       "7                            0              0       0              1   \n",
       "8                            0              0       0              0   \n",
       "9                            0              0       0              0   \n",
       "10                           0              0       0              0   \n",
       "11                           0              0       0              0   \n",
       "12                           0              0       0              0   \n",
       "13                           0              0       0              0   \n",
       "14                           0              0       0              0   \n",
       "15                           0              0       0              1   \n",
       "16                           1              0       0              0   \n",
       "17                           0              0       0              0   \n",
       "18                           0              0       0              0   \n",
       "19                           0              0       0              0   \n",
       "20                           0              0       1              0   \n",
       "21                           0              0       0              0   \n",
       "22                           0              0       0              0   \n",
       "23                           0              0       0              0   \n",
       "24                           0              0       0              0   \n",
       "25                           0              0       1              0   \n",
       "26                           0              0       0              0   \n",
       "27                           0              0       0              0   \n",
       "28                           0              0       0              0   \n",
       "29                           0              0       0              0   \n",
       "30                           0              0       0              0   \n",
       "31                           0              0       0              0   \n",
       "32                           0              0       0              0   \n",
       "33                           1              0       0              0   \n",
       "34                           0              0       0              1   \n",
       "35                           0              0       0              0   \n",
       "36                           0              1       0              0   \n",
       "37                           0              0       0              0   \n",
       "38                           0              1       0              0   \n",
       "39                           0              0       1              0   \n",
       "\n",
       "    News, Search and Messaging  Others  \\\n",
       "0                            0       0   \n",
       "1                            0       0   \n",
       "2                            0       0   \n",
       "3                            0       0   \n",
       "4                            0       0   \n",
       "5                            0       0   \n",
       "6                            0       0   \n",
       "7                            0       0   \n",
       "8                            0       0   \n",
       "9                            0       0   \n",
       "10                           0       0   \n",
       "11                           0       0   \n",
       "12                           0       0   \n",
       "13                           0       1   \n",
       "14                           0       0   \n",
       "15                           0       0   \n",
       "16                           0       0   \n",
       "17                           0       1   \n",
       "18                           0       1   \n",
       "19                           0       1   \n",
       "20                           0       0   \n",
       "21                           0       1   \n",
       "22                           0       0   \n",
       "23                           0       0   \n",
       "24                           0       1   \n",
       "25                           0       0   \n",
       "26                           0       0   \n",
       "27                           1       0   \n",
       "28                           1       0   \n",
       "29                           1       0   \n",
       "30                           1       0   \n",
       "31                           1       0   \n",
       "32                           1       0   \n",
       "33                           0       0   \n",
       "34                           0       0   \n",
       "35                           1       0   \n",
       "36                           0       0   \n",
       "37                           0       0   \n",
       "38                           0       0   \n",
       "39                           0       0   \n",
       "\n",
       "    Social, Finance, Analytics, Advertising  \n",
       "0                                         0  \n",
       "1                                         0  \n",
       "2                                         0  \n",
       "3                                         0  \n",
       "4                                         1  \n",
       "5                                         0  \n",
       "6                                         1  \n",
       "7                                         0  \n",
       "8                                         0  \n",
       "9                                         1  \n",
       "10                                        1  \n",
       "11                                        1  \n",
       "12                                        1  \n",
       "13                                        0  \n",
       "14                                        0  \n",
       "15                                        0  \n",
       "16                                        0  \n",
       "17                                        0  \n",
       "18                                        0  \n",
       "19                                        0  \n",
       "20                                        0  \n",
       "21                                        0  \n",
       "22                                        1  \n",
       "23                                        1  \n",
       "24                                        0  \n",
       "25                                        0  \n",
       "26                                        1  \n",
       "27                                        0  \n",
       "28                                        0  \n",
       "29                                        0  \n",
       "30                                        0  \n",
       "31                                        0  \n",
       "32                                        0  \n",
       "33                                        0  \n",
       "34                                        0  \n",
       "35                                        0  \n",
       "36                                        0  \n",
       "37                                        1  \n",
       "38                                        0  \n",
       "39                                        0  "
      ]
     },
     "execution_count": 1187,
     "metadata": {},
     "output_type": "execute_result"
    }
   ],
   "source": [
    "#checking the top 40 rows in mapping data frame\n",
    "mapping.head(40)"
   ]
  },
  {
   "cell_type": "code",
   "execution_count": 1188,
   "metadata": {},
   "outputs": [
    {
     "data": {
      "text/plain": [
       "1"
      ]
     },
     "execution_count": 1188,
     "metadata": {},
     "output_type": "execute_result"
    }
   ],
   "source": [
    "#check the blanks column for number of 1's\n",
    "\n",
    "mapping['Blanks'].sum()"
   ]
  },
  {
   "cell_type": "code",
   "execution_count": 1189,
   "metadata": {},
   "outputs": [],
   "source": [
    "#remove the first row & 'Blanks' column \n",
    "\n",
    "mapping.drop(index=0, columns='Blanks', inplace=True)"
   ]
  },
  {
   "cell_type": "code",
   "execution_count": 1190,
   "metadata": {},
   "outputs": [
    {
     "data": {
      "text/html": [
       "<div>\n",
       "<style scoped>\n",
       "    .dataframe tbody tr th:only-of-type {\n",
       "        vertical-align: middle;\n",
       "    }\n",
       "\n",
       "    .dataframe tbody tr th {\n",
       "        vertical-align: top;\n",
       "    }\n",
       "\n",
       "    .dataframe thead th {\n",
       "        text-align: right;\n",
       "    }\n",
       "</style>\n",
       "<table border=\"1\" class=\"dataframe\">\n",
       "  <thead>\n",
       "    <tr style=\"text-align: right;\">\n",
       "      <th></th>\n",
       "      <th>category_list</th>\n",
       "      <th>Automotive &amp; Sports</th>\n",
       "      <th>Cleantech / Semiconductors</th>\n",
       "      <th>Entertainment</th>\n",
       "      <th>Health</th>\n",
       "      <th>Manufacturing</th>\n",
       "      <th>News, Search and Messaging</th>\n",
       "      <th>Others</th>\n",
       "      <th>Social, Finance, Analytics, Advertising</th>\n",
       "    </tr>\n",
       "  </thead>\n",
       "  <tbody>\n",
       "    <tr>\n",
       "      <th>1</th>\n",
       "      <td>3D</td>\n",
       "      <td>0</td>\n",
       "      <td>0</td>\n",
       "      <td>0</td>\n",
       "      <td>0</td>\n",
       "      <td>1</td>\n",
       "      <td>0</td>\n",
       "      <td>0</td>\n",
       "      <td>0</td>\n",
       "    </tr>\n",
       "    <tr>\n",
       "      <th>2</th>\n",
       "      <td>3D Printing</td>\n",
       "      <td>0</td>\n",
       "      <td>0</td>\n",
       "      <td>0</td>\n",
       "      <td>0</td>\n",
       "      <td>1</td>\n",
       "      <td>0</td>\n",
       "      <td>0</td>\n",
       "      <td>0</td>\n",
       "    </tr>\n",
       "    <tr>\n",
       "      <th>3</th>\n",
       "      <td>3D Technology</td>\n",
       "      <td>0</td>\n",
       "      <td>0</td>\n",
       "      <td>0</td>\n",
       "      <td>0</td>\n",
       "      <td>1</td>\n",
       "      <td>0</td>\n",
       "      <td>0</td>\n",
       "      <td>0</td>\n",
       "    </tr>\n",
       "    <tr>\n",
       "      <th>4</th>\n",
       "      <td>Accounting</td>\n",
       "      <td>0</td>\n",
       "      <td>0</td>\n",
       "      <td>0</td>\n",
       "      <td>0</td>\n",
       "      <td>0</td>\n",
       "      <td>0</td>\n",
       "      <td>0</td>\n",
       "      <td>1</td>\n",
       "    </tr>\n",
       "    <tr>\n",
       "      <th>5</th>\n",
       "      <td>Active Lifestyle</td>\n",
       "      <td>0</td>\n",
       "      <td>0</td>\n",
       "      <td>0</td>\n",
       "      <td>1</td>\n",
       "      <td>0</td>\n",
       "      <td>0</td>\n",
       "      <td>0</td>\n",
       "      <td>0</td>\n",
       "    </tr>\n",
       "    <tr>\n",
       "      <th>...</th>\n",
       "      <td>...</td>\n",
       "      <td>...</td>\n",
       "      <td>...</td>\n",
       "      <td>...</td>\n",
       "      <td>...</td>\n",
       "      <td>...</td>\n",
       "      <td>...</td>\n",
       "      <td>...</td>\n",
       "      <td>...</td>\n",
       "    </tr>\n",
       "    <tr>\n",
       "      <th>683</th>\n",
       "      <td>Wholesale</td>\n",
       "      <td>0</td>\n",
       "      <td>0</td>\n",
       "      <td>0</td>\n",
       "      <td>0</td>\n",
       "      <td>0</td>\n",
       "      <td>0</td>\n",
       "      <td>1</td>\n",
       "      <td>0</td>\n",
       "    </tr>\n",
       "    <tr>\n",
       "      <th>684</th>\n",
       "      <td>Wine And Spirits</td>\n",
       "      <td>0</td>\n",
       "      <td>0</td>\n",
       "      <td>1</td>\n",
       "      <td>0</td>\n",
       "      <td>0</td>\n",
       "      <td>0</td>\n",
       "      <td>0</td>\n",
       "      <td>0</td>\n",
       "    </tr>\n",
       "    <tr>\n",
       "      <th>685</th>\n",
       "      <td>Wireless</td>\n",
       "      <td>0</td>\n",
       "      <td>0</td>\n",
       "      <td>1</td>\n",
       "      <td>0</td>\n",
       "      <td>0</td>\n",
       "      <td>0</td>\n",
       "      <td>0</td>\n",
       "      <td>0</td>\n",
       "    </tr>\n",
       "    <tr>\n",
       "      <th>686</th>\n",
       "      <td>Women</td>\n",
       "      <td>0</td>\n",
       "      <td>0</td>\n",
       "      <td>0</td>\n",
       "      <td>0</td>\n",
       "      <td>0</td>\n",
       "      <td>0</td>\n",
       "      <td>1</td>\n",
       "      <td>0</td>\n",
       "    </tr>\n",
       "    <tr>\n",
       "      <th>687</th>\n",
       "      <td>Young Adults</td>\n",
       "      <td>0</td>\n",
       "      <td>0</td>\n",
       "      <td>0</td>\n",
       "      <td>0</td>\n",
       "      <td>0</td>\n",
       "      <td>0</td>\n",
       "      <td>1</td>\n",
       "      <td>0</td>\n",
       "    </tr>\n",
       "  </tbody>\n",
       "</table>\n",
       "<p>687 rows × 9 columns</p>\n",
       "</div>"
      ],
      "text/plain": [
       "        category_list  Automotive & Sports  Cleantech / Semiconductors  \\\n",
       "1                  3D                    0                           0   \n",
       "2         3D Printing                    0                           0   \n",
       "3       3D Technology                    0                           0   \n",
       "4          Accounting                    0                           0   \n",
       "5    Active Lifestyle                    0                           0   \n",
       "..                ...                  ...                         ...   \n",
       "683         Wholesale                    0                           0   \n",
       "684  Wine And Spirits                    0                           0   \n",
       "685          Wireless                    0                           0   \n",
       "686             Women                    0                           0   \n",
       "687      Young Adults                    0                           0   \n",
       "\n",
       "     Entertainment  Health  Manufacturing  News, Search and Messaging  Others  \\\n",
       "1                0       0              1                           0       0   \n",
       "2                0       0              1                           0       0   \n",
       "3                0       0              1                           0       0   \n",
       "4                0       0              0                           0       0   \n",
       "5                0       1              0                           0       0   \n",
       "..             ...     ...            ...                         ...     ...   \n",
       "683              0       0              0                           0       1   \n",
       "684              1       0              0                           0       0   \n",
       "685              1       0              0                           0       0   \n",
       "686              0       0              0                           0       1   \n",
       "687              0       0              0                           0       1   \n",
       "\n",
       "     Social, Finance, Analytics, Advertising  \n",
       "1                                          0  \n",
       "2                                          0  \n",
       "3                                          0  \n",
       "4                                          1  \n",
       "5                                          0  \n",
       "..                                       ...  \n",
       "683                                        0  \n",
       "684                                        0  \n",
       "685                                        0  \n",
       "686                                        0  \n",
       "687                                        0  \n",
       "\n",
       "[687 rows x 9 columns]"
      ]
     },
     "execution_count": 1190,
     "metadata": {},
     "output_type": "execute_result"
    }
   ],
   "source": [
    "mapping"
   ]
  },
  {
   "cell_type": "code",
   "execution_count": 1191,
   "metadata": {},
   "outputs": [
    {
     "data": {
      "text/plain": [
       "(687, 9)"
      ]
     },
     "execution_count": 1191,
     "metadata": {},
     "output_type": "execute_result"
    }
   ],
   "source": [
    "mapping.shape"
   ]
  },
  {
   "cell_type": "code",
   "execution_count": 1192,
   "metadata": {},
   "outputs": [],
   "source": [
    "#set the category_list as index\n",
    "\n",
    "mapping.set_index('category_list', inplace=True)"
   ]
  },
  {
   "cell_type": "code",
   "execution_count": 1193,
   "metadata": {},
   "outputs": [
    {
     "data": {
      "text/plain": [
       "category_list\n",
       "3D                                            Manufacturing\n",
       "3D Printing                                   Manufacturing\n",
       "3D Technology                                 Manufacturing\n",
       "Accounting          Social, Finance, Analytics, Advertising\n",
       "Active Lifestyle                                     Health\n",
       "                                     ...                   \n",
       "Wholesale                                            Others\n",
       "Wine And Spirits                              Entertainment\n",
       "Wireless                                      Entertainment\n",
       "Women                                                Others\n",
       "Young Adults                                         Others\n",
       "Name: main_sector, Length: 687, dtype: object"
      ]
     },
     "execution_count": 1193,
     "metadata": {},
     "output_type": "execute_result"
    }
   ],
   "source": [
    "#find the the column names with value = 1 and setting it to column 'main_sector'\n",
    "\n",
    "mapping['main_sector'] = mapping.idxmax(axis=1)\n",
    "mapping['main_sector']"
   ]
  },
  {
   "cell_type": "code",
   "execution_count": 1194,
   "metadata": {
    "scrolled": true
   },
   "outputs": [],
   "source": [
    "#removing other columns except main_sector in mapping dataframe\n",
    "\n",
    "mapping = mapping[['main_sector']]"
   ]
  },
  {
   "cell_type": "code",
   "execution_count": 1195,
   "metadata": {},
   "outputs": [
    {
     "data": {
      "text/html": [
       "<div>\n",
       "<style scoped>\n",
       "    .dataframe tbody tr th:only-of-type {\n",
       "        vertical-align: middle;\n",
       "    }\n",
       "\n",
       "    .dataframe tbody tr th {\n",
       "        vertical-align: top;\n",
       "    }\n",
       "\n",
       "    .dataframe thead th {\n",
       "        text-align: right;\n",
       "    }\n",
       "</style>\n",
       "<table border=\"1\" class=\"dataframe\">\n",
       "  <thead>\n",
       "    <tr style=\"text-align: right;\">\n",
       "      <th></th>\n",
       "      <th>main_sector</th>\n",
       "    </tr>\n",
       "    <tr>\n",
       "      <th>category_list</th>\n",
       "      <th></th>\n",
       "    </tr>\n",
       "  </thead>\n",
       "  <tbody>\n",
       "    <tr>\n",
       "      <th>3D</th>\n",
       "      <td>Manufacturing</td>\n",
       "    </tr>\n",
       "    <tr>\n",
       "      <th>3D Printing</th>\n",
       "      <td>Manufacturing</td>\n",
       "    </tr>\n",
       "    <tr>\n",
       "      <th>3D Technology</th>\n",
       "      <td>Manufacturing</td>\n",
       "    </tr>\n",
       "    <tr>\n",
       "      <th>Accounting</th>\n",
       "      <td>Social, Finance, Analytics, Advertising</td>\n",
       "    </tr>\n",
       "    <tr>\n",
       "      <th>Active Lifestyle</th>\n",
       "      <td>Health</td>\n",
       "    </tr>\n",
       "    <tr>\n",
       "      <th>...</th>\n",
       "      <td>...</td>\n",
       "    </tr>\n",
       "    <tr>\n",
       "      <th>Wholesale</th>\n",
       "      <td>Others</td>\n",
       "    </tr>\n",
       "    <tr>\n",
       "      <th>Wine And Spirits</th>\n",
       "      <td>Entertainment</td>\n",
       "    </tr>\n",
       "    <tr>\n",
       "      <th>Wireless</th>\n",
       "      <td>Entertainment</td>\n",
       "    </tr>\n",
       "    <tr>\n",
       "      <th>Women</th>\n",
       "      <td>Others</td>\n",
       "    </tr>\n",
       "    <tr>\n",
       "      <th>Young Adults</th>\n",
       "      <td>Others</td>\n",
       "    </tr>\n",
       "  </tbody>\n",
       "</table>\n",
       "<p>687 rows × 1 columns</p>\n",
       "</div>"
      ],
      "text/plain": [
       "                                              main_sector\n",
       "category_list                                            \n",
       "3D                                          Manufacturing\n",
       "3D Printing                                 Manufacturing\n",
       "3D Technology                               Manufacturing\n",
       "Accounting        Social, Finance, Analytics, Advertising\n",
       "Active Lifestyle                                   Health\n",
       "...                                                   ...\n",
       "Wholesale                                          Others\n",
       "Wine And Spirits                            Entertainment\n",
       "Wireless                                    Entertainment\n",
       "Women                                              Others\n",
       "Young Adults                                       Others\n",
       "\n",
       "[687 rows x 1 columns]"
      ]
     },
     "execution_count": 1195,
     "metadata": {},
     "output_type": "execute_result"
    }
   ],
   "source": [
    "mapping"
   ]
  },
  {
   "cell_type": "code",
   "execution_count": null,
   "metadata": {},
   "outputs": [],
   "source": []
  },
  {
   "cell_type": "code",
   "execution_count": 693,
   "metadata": {},
   "outputs": [],
   "source": [
    "# rename category_list as primary sector\n",
    "# master_frame = master_frame.rename(columns={'category_list': 'primary_sector'})"
   ]
  },
  {
   "cell_type": "code",
   "execution_count": null,
   "metadata": {},
   "outputs": [],
   "source": []
  },
  {
   "cell_type": "code",
   "execution_count": 1199,
   "metadata": {},
   "outputs": [
    {
     "data": {
      "text/plain": [
       "(41283, 10)"
      ]
     },
     "execution_count": 1199,
     "metadata": {},
     "output_type": "execute_result"
    }
   ],
   "source": [
    "master_frame.shape"
   ]
  },
  {
   "cell_type": "code",
   "execution_count": 1205,
   "metadata": {},
   "outputs": [],
   "source": [
    "#restting the index number\n",
    "\n",
    "master_frame.reset_index(inplace=True)"
   ]
  },
  {
   "cell_type": "code",
   "execution_count": 1206,
   "metadata": {},
   "outputs": [],
   "source": [
    "#removing the unnecessary column index\n",
    "\n",
    "master_frame.drop(columns='index', inplace=True)"
   ]
  },
  {
   "cell_type": "code",
   "execution_count": 1211,
   "metadata": {},
   "outputs": [],
   "source": [
    "#reset the mapping index. so that we can easily merge\n",
    "\n",
    "mapping = mapping.reset_index()"
   ]
  },
  {
   "cell_type": "code",
   "execution_count": 1212,
   "metadata": {},
   "outputs": [
    {
     "data": {
      "text/html": [
       "<div>\n",
       "<style scoped>\n",
       "    .dataframe tbody tr th:only-of-type {\n",
       "        vertical-align: middle;\n",
       "    }\n",
       "\n",
       "    .dataframe tbody tr th {\n",
       "        vertical-align: top;\n",
       "    }\n",
       "\n",
       "    .dataframe thead th {\n",
       "        text-align: right;\n",
       "    }\n",
       "</style>\n",
       "<table border=\"1\" class=\"dataframe\">\n",
       "  <thead>\n",
       "    <tr style=\"text-align: right;\">\n",
       "      <th></th>\n",
       "      <th>category_list</th>\n",
       "      <th>main_sector</th>\n",
       "    </tr>\n",
       "  </thead>\n",
       "  <tbody>\n",
       "    <tr>\n",
       "      <th>0</th>\n",
       "      <td>3D</td>\n",
       "      <td>Manufacturing</td>\n",
       "    </tr>\n",
       "    <tr>\n",
       "      <th>1</th>\n",
       "      <td>3D Printing</td>\n",
       "      <td>Manufacturing</td>\n",
       "    </tr>\n",
       "    <tr>\n",
       "      <th>2</th>\n",
       "      <td>3D Technology</td>\n",
       "      <td>Manufacturing</td>\n",
       "    </tr>\n",
       "    <tr>\n",
       "      <th>3</th>\n",
       "      <td>Accounting</td>\n",
       "      <td>Social, Finance, Analytics, Advertising</td>\n",
       "    </tr>\n",
       "    <tr>\n",
       "      <th>4</th>\n",
       "      <td>Active Lifestyle</td>\n",
       "      <td>Health</td>\n",
       "    </tr>\n",
       "    <tr>\n",
       "      <th>...</th>\n",
       "      <td>...</td>\n",
       "      <td>...</td>\n",
       "    </tr>\n",
       "    <tr>\n",
       "      <th>682</th>\n",
       "      <td>Wholesale</td>\n",
       "      <td>Others</td>\n",
       "    </tr>\n",
       "    <tr>\n",
       "      <th>683</th>\n",
       "      <td>Wine And Spirits</td>\n",
       "      <td>Entertainment</td>\n",
       "    </tr>\n",
       "    <tr>\n",
       "      <th>684</th>\n",
       "      <td>Wireless</td>\n",
       "      <td>Entertainment</td>\n",
       "    </tr>\n",
       "    <tr>\n",
       "      <th>685</th>\n",
       "      <td>Women</td>\n",
       "      <td>Others</td>\n",
       "    </tr>\n",
       "    <tr>\n",
       "      <th>686</th>\n",
       "      <td>Young Adults</td>\n",
       "      <td>Others</td>\n",
       "    </tr>\n",
       "  </tbody>\n",
       "</table>\n",
       "<p>687 rows × 2 columns</p>\n",
       "</div>"
      ],
      "text/plain": [
       "        category_list                              main_sector\n",
       "0                  3D                            Manufacturing\n",
       "1         3D Printing                            Manufacturing\n",
       "2       3D Technology                            Manufacturing\n",
       "3          Accounting  Social, Finance, Analytics, Advertising\n",
       "4    Active Lifestyle                                   Health\n",
       "..                ...                                      ...\n",
       "682         Wholesale                                   Others\n",
       "683  Wine And Spirits                            Entertainment\n",
       "684          Wireless                            Entertainment\n",
       "685             Women                                   Others\n",
       "686      Young Adults                                   Others\n",
       "\n",
       "[687 rows x 2 columns]"
      ]
     },
     "execution_count": 1212,
     "metadata": {},
     "output_type": "execute_result"
    }
   ],
   "source": [
    "mapping"
   ]
  },
  {
   "cell_type": "code",
   "execution_count": 1213,
   "metadata": {},
   "outputs": [],
   "source": [
    "master_frame['primary_sector'] = master_frame['primary_sector'].apply(lambda sector: sector.capitalize())"
   ]
  },
  {
   "cell_type": "code",
   "execution_count": 1216,
   "metadata": {},
   "outputs": [
    {
     "data": {
      "text/html": [
       "<div>\n",
       "<style scoped>\n",
       "    .dataframe tbody tr th:only-of-type {\n",
       "        vertical-align: middle;\n",
       "    }\n",
       "\n",
       "    .dataframe tbody tr th {\n",
       "        vertical-align: top;\n",
       "    }\n",
       "\n",
       "    .dataframe thead th {\n",
       "        text-align: right;\n",
       "    }\n",
       "</style>\n",
       "<table border=\"1\" class=\"dataframe\">\n",
       "  <thead>\n",
       "    <tr style=\"text-align: right;\">\n",
       "      <th></th>\n",
       "      <th>company_permalink</th>\n",
       "      <th>funding_round_permalink</th>\n",
       "      <th>funding_round_type</th>\n",
       "      <th>funded_at</th>\n",
       "      <th>raised_amount_usd</th>\n",
       "      <th>name</th>\n",
       "      <th>category_list</th>\n",
       "      <th>status</th>\n",
       "      <th>country_code</th>\n",
       "      <th>primary_sector</th>\n",
       "    </tr>\n",
       "  </thead>\n",
       "  <tbody>\n",
       "    <tr>\n",
       "      <th>0</th>\n",
       "      <td>/organization/-fame</td>\n",
       "      <td>/funding-round/9a01d05418af9f794eebff7ace91f638</td>\n",
       "      <td>venture</td>\n",
       "      <td>05-01-2015</td>\n",
       "      <td>10000000.0</td>\n",
       "      <td>#fame</td>\n",
       "      <td>Media</td>\n",
       "      <td>operating</td>\n",
       "      <td>IND</td>\n",
       "      <td>Media</td>\n",
       "    </tr>\n",
       "    <tr>\n",
       "      <th>1</th>\n",
       "      <td>/organization/-qounter</td>\n",
       "      <td>/funding-round/22dacff496eb7acb2b901dec1dfe5633</td>\n",
       "      <td>venture</td>\n",
       "      <td>14-10-2014</td>\n",
       "      <td>5000000.0</td>\n",
       "      <td>:Qounter</td>\n",
       "      <td>Application Platforms|Real Time|Social Network...</td>\n",
       "      <td>operating</td>\n",
       "      <td>USA</td>\n",
       "      <td>Application platforms</td>\n",
       "    </tr>\n",
       "    <tr>\n",
       "      <th>2</th>\n",
       "      <td>/organization/004-technologies</td>\n",
       "      <td>/funding-round/1278dd4e6a37fa4b7d7e06c21b3c1830</td>\n",
       "      <td>venture</td>\n",
       "      <td>24-07-2014</td>\n",
       "      <td>5000000.0</td>\n",
       "      <td>004 Technologies</td>\n",
       "      <td>Software</td>\n",
       "      <td>operating</td>\n",
       "      <td>USA</td>\n",
       "      <td>Software</td>\n",
       "    </tr>\n",
       "    <tr>\n",
       "      <th>3</th>\n",
       "      <td>/organization/0xdata</td>\n",
       "      <td>/funding-round/3bb2ee4a2d89251a10aaa735b1180e44</td>\n",
       "      <td>venture</td>\n",
       "      <td>09-11-2015</td>\n",
       "      <td>20000000.0</td>\n",
       "      <td>H2O.ai</td>\n",
       "      <td>Analytics</td>\n",
       "      <td>operating</td>\n",
       "      <td>USA</td>\n",
       "      <td>Analytics</td>\n",
       "    </tr>\n",
       "    <tr>\n",
       "      <th>4</th>\n",
       "      <td>/organization/0xdata</td>\n",
       "      <td>/funding-round/ae2a174c06517c2394aed45006322a7e</td>\n",
       "      <td>venture</td>\n",
       "      <td>03-01-2013</td>\n",
       "      <td>1700000.0</td>\n",
       "      <td>H2O.ai</td>\n",
       "      <td>Analytics</td>\n",
       "      <td>operating</td>\n",
       "      <td>USA</td>\n",
       "      <td>Analytics</td>\n",
       "    </tr>\n",
       "    <tr>\n",
       "      <th>...</th>\n",
       "      <td>...</td>\n",
       "      <td>...</td>\n",
       "      <td>...</td>\n",
       "      <td>...</td>\n",
       "      <td>...</td>\n",
       "      <td>...</td>\n",
       "      <td>...</td>\n",
       "      <td>...</td>\n",
       "      <td>...</td>\n",
       "      <td>...</td>\n",
       "    </tr>\n",
       "    <tr>\n",
       "      <th>41278</th>\n",
       "      <td>/organization/zyomyx-inc</td>\n",
       "      <td>/funding-round/4191cb5258d3863b0212d1083881da64</td>\n",
       "      <td>venture</td>\n",
       "      <td>30-06-2013</td>\n",
       "      <td>12000000.0</td>\n",
       "      <td>ZYOMYX</td>\n",
       "      <td>Biotechnology</td>\n",
       "      <td>operating</td>\n",
       "      <td>USA</td>\n",
       "      <td>Biotechnology</td>\n",
       "    </tr>\n",
       "    <tr>\n",
       "      <th>41279</th>\n",
       "      <td>/organization/zyomyx-inc</td>\n",
       "      <td>/funding-round/b4fce7f8a13267353d57db09099800e8</td>\n",
       "      <td>venture</td>\n",
       "      <td>11-07-2013</td>\n",
       "      <td>14219999.0</td>\n",
       "      <td>ZYOMYX</td>\n",
       "      <td>Biotechnology</td>\n",
       "      <td>operating</td>\n",
       "      <td>USA</td>\n",
       "      <td>Biotechnology</td>\n",
       "    </tr>\n",
       "    <tr>\n",
       "      <th>41280</th>\n",
       "      <td>/organization/zyomyx-inc</td>\n",
       "      <td>/funding-round/ea5b21da6cf999ff4d5667431fe318d7</td>\n",
       "      <td>venture</td>\n",
       "      <td>29-01-2010</td>\n",
       "      <td>555016.0</td>\n",
       "      <td>ZYOMYX</td>\n",
       "      <td>Biotechnology</td>\n",
       "      <td>operating</td>\n",
       "      <td>USA</td>\n",
       "      <td>Biotechnology</td>\n",
       "    </tr>\n",
       "    <tr>\n",
       "      <th>41281</th>\n",
       "      <td>/organization/zyrra</td>\n",
       "      <td>/funding-round/7a0fa791c96c9c447ee54662395beab9</td>\n",
       "      <td>venture</td>\n",
       "      <td>18-10-2012</td>\n",
       "      <td>140500.0</td>\n",
       "      <td>Zyrra</td>\n",
       "      <td>E-Commerce</td>\n",
       "      <td>operating</td>\n",
       "      <td>USA</td>\n",
       "      <td>E-commerce</td>\n",
       "    </tr>\n",
       "    <tr>\n",
       "      <th>41282</th>\n",
       "      <td>/organization/zystor</td>\n",
       "      <td>/funding-round/7ea37c0ff4132b084832039a9380d34e</td>\n",
       "      <td>venture</td>\n",
       "      <td>16-12-2004</td>\n",
       "      <td>8500000.0</td>\n",
       "      <td>Zystor</td>\n",
       "      <td>Biotechnology</td>\n",
       "      <td>acquired</td>\n",
       "      <td>USA</td>\n",
       "      <td>Biotechnology</td>\n",
       "    </tr>\n",
       "  </tbody>\n",
       "</table>\n",
       "<p>41283 rows × 10 columns</p>\n",
       "</div>"
      ],
      "text/plain": [
       "                    company_permalink  \\\n",
       "0                 /organization/-fame   \n",
       "1              /organization/-qounter   \n",
       "2      /organization/004-technologies   \n",
       "3                /organization/0xdata   \n",
       "4                /organization/0xdata   \n",
       "...                               ...   \n",
       "41278        /organization/zyomyx-inc   \n",
       "41279        /organization/zyomyx-inc   \n",
       "41280        /organization/zyomyx-inc   \n",
       "41281             /organization/zyrra   \n",
       "41282            /organization/zystor   \n",
       "\n",
       "                               funding_round_permalink funding_round_type  \\\n",
       "0      /funding-round/9a01d05418af9f794eebff7ace91f638            venture   \n",
       "1      /funding-round/22dacff496eb7acb2b901dec1dfe5633            venture   \n",
       "2      /funding-round/1278dd4e6a37fa4b7d7e06c21b3c1830            venture   \n",
       "3      /funding-round/3bb2ee4a2d89251a10aaa735b1180e44            venture   \n",
       "4      /funding-round/ae2a174c06517c2394aed45006322a7e            venture   \n",
       "...                                                ...                ...   \n",
       "41278  /funding-round/4191cb5258d3863b0212d1083881da64            venture   \n",
       "41279  /funding-round/b4fce7f8a13267353d57db09099800e8            venture   \n",
       "41280  /funding-round/ea5b21da6cf999ff4d5667431fe318d7            venture   \n",
       "41281  /funding-round/7a0fa791c96c9c447ee54662395beab9            venture   \n",
       "41282  /funding-round/7ea37c0ff4132b084832039a9380d34e            venture   \n",
       "\n",
       "        funded_at  raised_amount_usd              name  \\\n",
       "0      05-01-2015         10000000.0             #fame   \n",
       "1      14-10-2014          5000000.0          :Qounter   \n",
       "2      24-07-2014          5000000.0  004 Technologies   \n",
       "3      09-11-2015         20000000.0            H2O.ai   \n",
       "4      03-01-2013          1700000.0            H2O.ai   \n",
       "...           ...                ...               ...   \n",
       "41278  30-06-2013         12000000.0            ZYOMYX   \n",
       "41279  11-07-2013         14219999.0            ZYOMYX   \n",
       "41280  29-01-2010           555016.0            ZYOMYX   \n",
       "41281  18-10-2012           140500.0             Zyrra   \n",
       "41282  16-12-2004          8500000.0            Zystor   \n",
       "\n",
       "                                           category_list     status  \\\n",
       "0                                                  Media  operating   \n",
       "1      Application Platforms|Real Time|Social Network...  operating   \n",
       "2                                               Software  operating   \n",
       "3                                              Analytics  operating   \n",
       "4                                              Analytics  operating   \n",
       "...                                                  ...        ...   \n",
       "41278                                      Biotechnology  operating   \n",
       "41279                                      Biotechnology  operating   \n",
       "41280                                      Biotechnology  operating   \n",
       "41281                                         E-Commerce  operating   \n",
       "41282                                      Biotechnology   acquired   \n",
       "\n",
       "      country_code         primary_sector  \n",
       "0              IND                  Media  \n",
       "1              USA  Application platforms  \n",
       "2              USA               Software  \n",
       "3              USA              Analytics  \n",
       "4              USA              Analytics  \n",
       "...            ...                    ...  \n",
       "41278          USA          Biotechnology  \n",
       "41279          USA          Biotechnology  \n",
       "41280          USA          Biotechnology  \n",
       "41281          USA             E-commerce  \n",
       "41282          USA          Biotechnology  \n",
       "\n",
       "[41283 rows x 10 columns]"
      ]
     },
     "execution_count": 1216,
     "metadata": {},
     "output_type": "execute_result"
    }
   ],
   "source": [
    "master_frame"
   ]
  },
  {
   "cell_type": "code",
   "execution_count": 1218,
   "metadata": {
    "scrolled": true
   },
   "outputs": [
    {
     "data": {
      "text/html": [
       "<div>\n",
       "<style scoped>\n",
       "    .dataframe tbody tr th:only-of-type {\n",
       "        vertical-align: middle;\n",
       "    }\n",
       "\n",
       "    .dataframe tbody tr th {\n",
       "        vertical-align: top;\n",
       "    }\n",
       "\n",
       "    .dataframe thead th {\n",
       "        text-align: right;\n",
       "    }\n",
       "</style>\n",
       "<table border=\"1\" class=\"dataframe\">\n",
       "  <thead>\n",
       "    <tr style=\"text-align: right;\">\n",
       "      <th></th>\n",
       "      <th>company_permalink</th>\n",
       "      <th>funding_round_permalink</th>\n",
       "      <th>funding_round_type</th>\n",
       "      <th>funded_at</th>\n",
       "      <th>raised_amount_usd</th>\n",
       "      <th>name</th>\n",
       "      <th>category_list_x</th>\n",
       "      <th>status</th>\n",
       "      <th>country_code</th>\n",
       "      <th>primary_sector</th>\n",
       "      <th>category_list_y</th>\n",
       "      <th>main_sector</th>\n",
       "    </tr>\n",
       "  </thead>\n",
       "  <tbody>\n",
       "    <tr>\n",
       "      <th>0</th>\n",
       "      <td>/organization/-fame</td>\n",
       "      <td>/funding-round/9a01d05418af9f794eebff7ace91f638</td>\n",
       "      <td>venture</td>\n",
       "      <td>05-01-2015</td>\n",
       "      <td>10000000.0</td>\n",
       "      <td>#fame</td>\n",
       "      <td>Media</td>\n",
       "      <td>operating</td>\n",
       "      <td>IND</td>\n",
       "      <td>Media</td>\n",
       "      <td>Media</td>\n",
       "      <td>Entertainment</td>\n",
       "    </tr>\n",
       "    <tr>\n",
       "      <th>1</th>\n",
       "      <td>/organization/-qounter</td>\n",
       "      <td>/funding-round/22dacff496eb7acb2b901dec1dfe5633</td>\n",
       "      <td>venture</td>\n",
       "      <td>14-10-2014</td>\n",
       "      <td>5000000.0</td>\n",
       "      <td>:Qounter</td>\n",
       "      <td>Application Platforms|Real Time|Social Network...</td>\n",
       "      <td>operating</td>\n",
       "      <td>USA</td>\n",
       "      <td>Application platforms</td>\n",
       "      <td>NaN</td>\n",
       "      <td>NaN</td>\n",
       "    </tr>\n",
       "    <tr>\n",
       "      <th>2</th>\n",
       "      <td>/organization/004-technologies</td>\n",
       "      <td>/funding-round/1278dd4e6a37fa4b7d7e06c21b3c1830</td>\n",
       "      <td>venture</td>\n",
       "      <td>24-07-2014</td>\n",
       "      <td>5000000.0</td>\n",
       "      <td>004 Technologies</td>\n",
       "      <td>Software</td>\n",
       "      <td>operating</td>\n",
       "      <td>USA</td>\n",
       "      <td>Software</td>\n",
       "      <td>Software</td>\n",
       "      <td>Others</td>\n",
       "    </tr>\n",
       "    <tr>\n",
       "      <th>3</th>\n",
       "      <td>/organization/0xdata</td>\n",
       "      <td>/funding-round/3bb2ee4a2d89251a10aaa735b1180e44</td>\n",
       "      <td>venture</td>\n",
       "      <td>09-11-2015</td>\n",
       "      <td>20000000.0</td>\n",
       "      <td>H2O.ai</td>\n",
       "      <td>Analytics</td>\n",
       "      <td>operating</td>\n",
       "      <td>USA</td>\n",
       "      <td>Analytics</td>\n",
       "      <td>NaN</td>\n",
       "      <td>NaN</td>\n",
       "    </tr>\n",
       "    <tr>\n",
       "      <th>4</th>\n",
       "      <td>/organization/0xdata</td>\n",
       "      <td>/funding-round/ae2a174c06517c2394aed45006322a7e</td>\n",
       "      <td>venture</td>\n",
       "      <td>03-01-2013</td>\n",
       "      <td>1700000.0</td>\n",
       "      <td>H2O.ai</td>\n",
       "      <td>Analytics</td>\n",
       "      <td>operating</td>\n",
       "      <td>USA</td>\n",
       "      <td>Analytics</td>\n",
       "      <td>NaN</td>\n",
       "      <td>NaN</td>\n",
       "    </tr>\n",
       "    <tr>\n",
       "      <th>...</th>\n",
       "      <td>...</td>\n",
       "      <td>...</td>\n",
       "      <td>...</td>\n",
       "      <td>...</td>\n",
       "      <td>...</td>\n",
       "      <td>...</td>\n",
       "      <td>...</td>\n",
       "      <td>...</td>\n",
       "      <td>...</td>\n",
       "      <td>...</td>\n",
       "      <td>...</td>\n",
       "      <td>...</td>\n",
       "    </tr>\n",
       "    <tr>\n",
       "      <th>41278</th>\n",
       "      <td>/organization/zyomyx-inc</td>\n",
       "      <td>/funding-round/4191cb5258d3863b0212d1083881da64</td>\n",
       "      <td>venture</td>\n",
       "      <td>30-06-2013</td>\n",
       "      <td>12000000.0</td>\n",
       "      <td>ZYOMYX</td>\n",
       "      <td>Biotechnology</td>\n",
       "      <td>operating</td>\n",
       "      <td>USA</td>\n",
       "      <td>Biotechnology</td>\n",
       "      <td>Biotechnology</td>\n",
       "      <td>Cleantech / Semiconductors</td>\n",
       "    </tr>\n",
       "    <tr>\n",
       "      <th>41279</th>\n",
       "      <td>/organization/zyomyx-inc</td>\n",
       "      <td>/funding-round/b4fce7f8a13267353d57db09099800e8</td>\n",
       "      <td>venture</td>\n",
       "      <td>11-07-2013</td>\n",
       "      <td>14219999.0</td>\n",
       "      <td>ZYOMYX</td>\n",
       "      <td>Biotechnology</td>\n",
       "      <td>operating</td>\n",
       "      <td>USA</td>\n",
       "      <td>Biotechnology</td>\n",
       "      <td>Biotechnology</td>\n",
       "      <td>Cleantech / Semiconductors</td>\n",
       "    </tr>\n",
       "    <tr>\n",
       "      <th>41280</th>\n",
       "      <td>/organization/zyomyx-inc</td>\n",
       "      <td>/funding-round/ea5b21da6cf999ff4d5667431fe318d7</td>\n",
       "      <td>venture</td>\n",
       "      <td>29-01-2010</td>\n",
       "      <td>555016.0</td>\n",
       "      <td>ZYOMYX</td>\n",
       "      <td>Biotechnology</td>\n",
       "      <td>operating</td>\n",
       "      <td>USA</td>\n",
       "      <td>Biotechnology</td>\n",
       "      <td>Biotechnology</td>\n",
       "      <td>Cleantech / Semiconductors</td>\n",
       "    </tr>\n",
       "    <tr>\n",
       "      <th>41281</th>\n",
       "      <td>/organization/zyrra</td>\n",
       "      <td>/funding-round/7a0fa791c96c9c447ee54662395beab9</td>\n",
       "      <td>venture</td>\n",
       "      <td>18-10-2012</td>\n",
       "      <td>140500.0</td>\n",
       "      <td>Zyrra</td>\n",
       "      <td>E-Commerce</td>\n",
       "      <td>operating</td>\n",
       "      <td>USA</td>\n",
       "      <td>E-commerce</td>\n",
       "      <td>NaN</td>\n",
       "      <td>NaN</td>\n",
       "    </tr>\n",
       "    <tr>\n",
       "      <th>41282</th>\n",
       "      <td>/organization/zystor</td>\n",
       "      <td>/funding-round/7ea37c0ff4132b084832039a9380d34e</td>\n",
       "      <td>venture</td>\n",
       "      <td>16-12-2004</td>\n",
       "      <td>8500000.0</td>\n",
       "      <td>Zystor</td>\n",
       "      <td>Biotechnology</td>\n",
       "      <td>acquired</td>\n",
       "      <td>USA</td>\n",
       "      <td>Biotechnology</td>\n",
       "      <td>Biotechnology</td>\n",
       "      <td>Cleantech / Semiconductors</td>\n",
       "    </tr>\n",
       "  </tbody>\n",
       "</table>\n",
       "<p>41283 rows × 12 columns</p>\n",
       "</div>"
      ],
      "text/plain": [
       "                    company_permalink  \\\n",
       "0                 /organization/-fame   \n",
       "1              /organization/-qounter   \n",
       "2      /organization/004-technologies   \n",
       "3                /organization/0xdata   \n",
       "4                /organization/0xdata   \n",
       "...                               ...   \n",
       "41278        /organization/zyomyx-inc   \n",
       "41279        /organization/zyomyx-inc   \n",
       "41280        /organization/zyomyx-inc   \n",
       "41281             /organization/zyrra   \n",
       "41282            /organization/zystor   \n",
       "\n",
       "                               funding_round_permalink funding_round_type  \\\n",
       "0      /funding-round/9a01d05418af9f794eebff7ace91f638            venture   \n",
       "1      /funding-round/22dacff496eb7acb2b901dec1dfe5633            venture   \n",
       "2      /funding-round/1278dd4e6a37fa4b7d7e06c21b3c1830            venture   \n",
       "3      /funding-round/3bb2ee4a2d89251a10aaa735b1180e44            venture   \n",
       "4      /funding-round/ae2a174c06517c2394aed45006322a7e            venture   \n",
       "...                                                ...                ...   \n",
       "41278  /funding-round/4191cb5258d3863b0212d1083881da64            venture   \n",
       "41279  /funding-round/b4fce7f8a13267353d57db09099800e8            venture   \n",
       "41280  /funding-round/ea5b21da6cf999ff4d5667431fe318d7            venture   \n",
       "41281  /funding-round/7a0fa791c96c9c447ee54662395beab9            venture   \n",
       "41282  /funding-round/7ea37c0ff4132b084832039a9380d34e            venture   \n",
       "\n",
       "        funded_at  raised_amount_usd              name  \\\n",
       "0      05-01-2015         10000000.0             #fame   \n",
       "1      14-10-2014          5000000.0          :Qounter   \n",
       "2      24-07-2014          5000000.0  004 Technologies   \n",
       "3      09-11-2015         20000000.0            H2O.ai   \n",
       "4      03-01-2013          1700000.0            H2O.ai   \n",
       "...           ...                ...               ...   \n",
       "41278  30-06-2013         12000000.0            ZYOMYX   \n",
       "41279  11-07-2013         14219999.0            ZYOMYX   \n",
       "41280  29-01-2010           555016.0            ZYOMYX   \n",
       "41281  18-10-2012           140500.0             Zyrra   \n",
       "41282  16-12-2004          8500000.0            Zystor   \n",
       "\n",
       "                                         category_list_x     status  \\\n",
       "0                                                  Media  operating   \n",
       "1      Application Platforms|Real Time|Social Network...  operating   \n",
       "2                                               Software  operating   \n",
       "3                                              Analytics  operating   \n",
       "4                                              Analytics  operating   \n",
       "...                                                  ...        ...   \n",
       "41278                                      Biotechnology  operating   \n",
       "41279                                      Biotechnology  operating   \n",
       "41280                                      Biotechnology  operating   \n",
       "41281                                         E-Commerce  operating   \n",
       "41282                                      Biotechnology   acquired   \n",
       "\n",
       "      country_code         primary_sector category_list_y  \\\n",
       "0              IND                  Media           Media   \n",
       "1              USA  Application platforms             NaN   \n",
       "2              USA               Software        Software   \n",
       "3              USA              Analytics             NaN   \n",
       "4              USA              Analytics             NaN   \n",
       "...            ...                    ...             ...   \n",
       "41278          USA          Biotechnology   Biotechnology   \n",
       "41279          USA          Biotechnology   Biotechnology   \n",
       "41280          USA          Biotechnology   Biotechnology   \n",
       "41281          USA             E-commerce             NaN   \n",
       "41282          USA          Biotechnology   Biotechnology   \n",
       "\n",
       "                      main_sector  \n",
       "0                   Entertainment  \n",
       "1                             NaN  \n",
       "2                          Others  \n",
       "3                             NaN  \n",
       "4                             NaN  \n",
       "...                           ...  \n",
       "41278  Cleantech / Semiconductors  \n",
       "41279  Cleantech / Semiconductors  \n",
       "41280  Cleantech / Semiconductors  \n",
       "41281                         NaN  \n",
       "41282  Cleantech / Semiconductors  \n",
       "\n",
       "[41283 rows x 12 columns]"
      ]
     },
     "execution_count": 1218,
     "metadata": {},
     "output_type": "execute_result"
    }
   ],
   "source": [
    "master_frame.merge(mapping, how='left', left_on='primary_sector', right_on='category_list')"
   ]
  },
  {
   "cell_type": "code",
   "execution_count": 843,
   "metadata": {},
   "outputs": [
    {
     "data": {
      "text/plain": [
       "15"
      ]
     },
     "execution_count": 843,
     "metadata": {},
     "output_type": "execute_result"
    }
   ],
   "source": [
    "41283-41268"
   ]
  },
  {
   "cell_type": "markdown",
   "metadata": {},
   "source": [
    "#### While trying to merge master_frame with mapping file, some rows are missing\n",
    "#### Let's Analyse that"
   ]
  },
  {
   "cell_type": "code",
   "execution_count": 776,
   "metadata": {},
   "outputs": [
    {
     "data": {
      "text/plain": [
       "577"
      ]
     },
     "execution_count": 776,
     "metadata": {},
     "output_type": "execute_result"
    }
   ],
   "source": [
    "#number of unique values in primary_sector\n",
    "\n",
    "len(np.sort(master_frame['primary_sector'].unique()))"
   ]
  },
  {
   "cell_type": "code",
   "execution_count": 777,
   "metadata": {},
   "outputs": [
    {
     "data": {
      "text/plain": [
       "687"
      ]
     },
     "execution_count": 777,
     "metadata": {},
     "output_type": "execute_result"
    }
   ],
   "source": [
    "#number of unique values in category_list\n",
    "\n",
    "len(np.sort(mapping['category_list'].unique()))"
   ]
  },
  {
   "cell_type": "code",
   "execution_count": 807,
   "metadata": {},
   "outputs": [
    {
     "data": {
      "text/plain": [
       "{'0notechnology',\n",
       " '0tural Language Processing',\n",
       " '0tural Resources',\n",
       " '0vigation',\n",
       " 'A0lytics',\n",
       " 'Alter0tive Medicine',\n",
       " 'Aquaculture',\n",
       " 'B2B Express Delivery',\n",
       " 'Big Data A0lytics',\n",
       " 'Biomass Power Generation',\n",
       " 'Boating Industry',\n",
       " 'Building Owners',\n",
       " 'Business A0lytics',\n",
       " 'Business Travelers',\n",
       " 'Can0bis',\n",
       " 'Career Ma0gement',\n",
       " 'Casual Games',\n",
       " 'Charities',\n",
       " 'Chi0 Internet',\n",
       " 'Civil Engineers',\n",
       " 'Cloud Ma0gement',\n",
       " 'Cloud-Based Music',\n",
       " 'Collectibles',\n",
       " 'Contact Ma0gement',\n",
       " 'Digital Rights Ma0gement',\n",
       " 'Digital Sig0ge',\n",
       " 'Direct Advertising',\n",
       " 'Document Ma0gement',\n",
       " 'Educatio0l Games',\n",
       " 'Email Newsletters',\n",
       " 'Energy Ma0gement',\n",
       " 'Energy Storage',\n",
       " 'Event Ma0gement',\n",
       " 'Face Recognition',\n",
       " 'Farmers Market',\n",
       " 'Fi0nce',\n",
       " 'Fi0nce Technology',\n",
       " 'Fi0ncial Exchanges',\n",
       " 'Fi0ncial Services',\n",
       " 'Field Support Services',\n",
       " 'Film Distribution',\n",
       " 'Film Production',\n",
       " 'Flash Sales',\n",
       " 'Fleet Ma0gement',\n",
       " 'Flowers',\n",
       " 'Fmcg',\n",
       " 'Forums',\n",
       " 'Fuel Cells',\n",
       " 'Funeral Industry',\n",
       " 'Gay & Lesbian',\n",
       " 'Gover0nce',\n",
       " 'Green',\n",
       " 'Group Buying',\n",
       " 'Group SMS',\n",
       " 'Handmade',\n",
       " 'Hedge Funds',\n",
       " 'High School Students',\n",
       " 'High Schools',\n",
       " 'Home Owners',\n",
       " 'Home Renovation',\n",
       " 'Homeless Shelter',\n",
       " 'ICT',\n",
       " 'IT Ma0gement',\n",
       " 'Identity Ma0gement',\n",
       " 'Impact Investing',\n",
       " 'Independent Music Labels',\n",
       " 'Indians',\n",
       " 'Innovation Ma0gement',\n",
       " 'Intellectual Asset Ma0gement',\n",
       " 'Investment Ma0gement',\n",
       " 'Jewelry',\n",
       " 'Jour0lism',\n",
       " 'K-12 Education',\n",
       " 'Knowledge Ma0gement',\n",
       " 'Landscaping',\n",
       " 'Language Learning',\n",
       " 'Lead Ma0gement',\n",
       " 'Licensing',\n",
       " 'Lifestyle Products',\n",
       " 'Local Commerce',\n",
       " 'Lotteries',\n",
       " 'Low Bid Auctions',\n",
       " 'Medical Professio0ls',\n",
       " 'Micro-Enterprises',\n",
       " 'MicroBlogging',\n",
       " 'Minerals',\n",
       " 'Mobile A0lytics',\n",
       " 'Mobile Social',\n",
       " 'Mobile Software Tools',\n",
       " 'Mobile Video',\n",
       " 'Monetization',\n",
       " 'Moneymaking',\n",
       " 'Multi-level Marketing',\n",
       " 'Music Education',\n",
       " 'Music Services',\n",
       " 'Musical Instruments',\n",
       " 'Musicians',\n",
       " 'New Product Development',\n",
       " 'Oil and Gas',\n",
       " 'Online Dating',\n",
       " 'Online Video Advertising',\n",
       " 'Organic',\n",
       " 'Parenting',\n",
       " 'Performance Marketing',\n",
       " 'Perso0l Branding',\n",
       " 'Perso0l Data',\n",
       " 'Perso0l Fi0nce',\n",
       " 'Perso0l Health',\n",
       " 'Perso0lization',\n",
       " 'Pervasive Computing',\n",
       " 'Postal and Courier Services',\n",
       " 'Pre Seed',\n",
       " 'Predictive A0lytics',\n",
       " 'Private Social Networking',\n",
       " 'Productivity',\n",
       " 'Professio0l Networking',\n",
       " 'Professio0l Services',\n",
       " 'Project Ma0gement',\n",
       " 'Promotio0l',\n",
       " 'Property Ma0gement',\n",
       " 'Q&A',\n",
       " 'Realtors',\n",
       " 'Renewable Tech',\n",
       " 'Rental Housing',\n",
       " 'Ride Sharing',\n",
       " 'Risk Ma0gement',\n",
       " 'SNS',\n",
       " 'Shared Services',\n",
       " 'Shoes',\n",
       " 'Shopping',\n",
       " 'Simulation',\n",
       " 'Small and Medium Businesses',\n",
       " 'Smart Grid',\n",
       " 'Social Bookmarking',\n",
       " 'Social Business',\n",
       " 'Social Games',\n",
       " 'Social Media Ma0gement',\n",
       " 'Social Media Platforms',\n",
       " 'Social News',\n",
       " 'Social Recruiting',\n",
       " 'Social Television',\n",
       " 'Social Travel',\n",
       " 'Speech Recognition',\n",
       " 'Stock Exchanges',\n",
       " 'Subscription Service',\n",
       " 'Supply Chain Ma0gement',\n",
       " 'Surveys',\n",
       " 'Task Ma0gement',\n",
       " 'Taxis',\n",
       " 'Tourism',\n",
       " 'Universities',\n",
       " 'University Students',\n",
       " 'Unmanned Air Systems',\n",
       " 'Usability',\n",
       " 'User Experience Design',\n",
       " 'Vending and Concessions',\n",
       " 'Veteri0ry',\n",
       " 'Waste Ma0gement',\n",
       " 'Weddings',\n",
       " 'Wholesale',\n",
       " 'Women'}"
      ]
     },
     "execution_count": 807,
     "metadata": {},
     "output_type": "execute_result"
    }
   ],
   "source": [
    "#Values which are in mapping file's category_list and not in 'primary_sector'\n",
    "\n",
    "set(np.sort(mapping['category_list'].unique())) - set(np.sort(master_frame['primary_sector'].unique()))"
   ]
  },
  {
   "cell_type": "code",
   "execution_count": 838,
   "metadata": {},
   "outputs": [
    {
     "data": {
      "text/plain": [
       "{'Aquaculture',\n",
       " 'B2b express delivery',\n",
       " 'Biomass power generation',\n",
       " 'Boating industry',\n",
       " 'Building owners',\n",
       " 'Business travelers',\n",
       " 'Casual games',\n",
       " 'Charities',\n",
       " 'China internet',\n",
       " 'Civil engineers',\n",
       " 'Cloud-based music',\n",
       " 'Collectibles',\n",
       " 'Direct advertising',\n",
       " 'Email newsletters',\n",
       " 'Energy storage',\n",
       " 'Enterprise 2.na',\n",
       " 'Face recognition',\n",
       " 'Farmers market',\n",
       " 'Field support services',\n",
       " 'Film distribution',\n",
       " 'Film production',\n",
       " 'Flash sales',\n",
       " 'Flowers',\n",
       " 'Fmcg',\n",
       " 'Forums',\n",
       " 'Fuel cells',\n",
       " 'Funeral industry',\n",
       " 'Gay & lesbian',\n",
       " 'Green',\n",
       " 'Group buying',\n",
       " 'Group sms',\n",
       " 'Handmade',\n",
       " 'Hedge funds',\n",
       " 'High school students',\n",
       " 'High schools',\n",
       " 'Home owners',\n",
       " 'Home renovation',\n",
       " 'Homeless shelter',\n",
       " 'Ict',\n",
       " 'Impact investing',\n",
       " 'Independent music labels',\n",
       " 'Indians',\n",
       " 'Jewelry',\n",
       " 'K-12 education',\n",
       " 'Landscaping',\n",
       " 'Language learning',\n",
       " 'Licensing',\n",
       " 'Lifestyle products',\n",
       " 'Local commerce',\n",
       " 'Lotteries',\n",
       " 'Low bid auctions',\n",
       " 'Medical professionals',\n",
       " 'Micro-enterprises',\n",
       " 'Microblogging',\n",
       " 'Minerals',\n",
       " 'Mobile social',\n",
       " 'Mobile software tools',\n",
       " 'Mobile video',\n",
       " 'Monetization',\n",
       " 'Moneymaking',\n",
       " 'Multi-level marketing',\n",
       " 'Music education',\n",
       " 'Music services',\n",
       " 'Musical instruments',\n",
       " 'Musicians',\n",
       " 'Natural resources',\n",
       " 'New product development',\n",
       " 'Oil and gas',\n",
       " 'Online dating',\n",
       " 'Online video advertising',\n",
       " 'Organic',\n",
       " 'Parenting',\n",
       " 'Performance marketing',\n",
       " 'Personal branding',\n",
       " 'Personal data',\n",
       " 'Personal health',\n",
       " 'Pervasive computing',\n",
       " 'Postal and courier services',\n",
       " 'Pre seed',\n",
       " 'Predictive analytics',\n",
       " 'Private social networking',\n",
       " 'Productivity',\n",
       " 'Promotional',\n",
       " 'Q&a',\n",
       " 'Realtors',\n",
       " 'Renewable tech',\n",
       " 'Rental housing',\n",
       " 'Ride sharing',\n",
       " 'Shared services',\n",
       " 'Shoes',\n",
       " 'Shopping',\n",
       " 'Simulation',\n",
       " 'Small and medium businesses',\n",
       " 'Smart grid',\n",
       " 'Sns',\n",
       " 'Social bookmarking',\n",
       " 'Social business',\n",
       " 'Social games',\n",
       " 'Social media management',\n",
       " 'Social media platforms',\n",
       " 'Social news',\n",
       " 'Social recruiting',\n",
       " 'Social television',\n",
       " 'Social travel',\n",
       " 'Speech recognition',\n",
       " 'Stock exchanges',\n",
       " 'Subscription service',\n",
       " 'Surveys',\n",
       " 'Taxis',\n",
       " 'Tourism',\n",
       " 'Universities',\n",
       " 'University students',\n",
       " 'Unmanned air systems',\n",
       " 'Usability',\n",
       " 'User experience design',\n",
       " 'Vending and concessions',\n",
       " 'Veterinary',\n",
       " 'Weddings',\n",
       " 'Wholesale',\n",
       " 'Women'}"
      ]
     },
     "execution_count": 838,
     "metadata": {},
     "output_type": "execute_result"
    }
   ],
   "source": [
    "set(np.sort(mapping['category_list'].unique())) - set(np.sort(master_frame['primary_sector'].unique()))"
   ]
  },
  {
   "cell_type": "markdown",
   "metadata": {},
   "source": [
    "#### There are some values which has number '0' which is perfect for replacing with character 'na'"
   ]
  },
  {
   "cell_type": "code",
   "execution_count": 808,
   "metadata": {},
   "outputs": [
    {
     "data": {
      "text/html": [
       "<div>\n",
       "<style scoped>\n",
       "    .dataframe tbody tr th:only-of-type {\n",
       "        vertical-align: middle;\n",
       "    }\n",
       "\n",
       "    .dataframe tbody tr th {\n",
       "        vertical-align: top;\n",
       "    }\n",
       "\n",
       "    .dataframe thead th {\n",
       "        text-align: right;\n",
       "    }\n",
       "</style>\n",
       "<table border=\"1\" class=\"dataframe\">\n",
       "  <thead>\n",
       "    <tr style=\"text-align: right;\">\n",
       "      <th></th>\n",
       "      <th>category_list</th>\n",
       "      <th>main_sector</th>\n",
       "    </tr>\n",
       "  </thead>\n",
       "  <tbody>\n",
       "    <tr>\n",
       "      <th>0</th>\n",
       "      <td>3D</td>\n",
       "      <td>Manufacturing</td>\n",
       "    </tr>\n",
       "    <tr>\n",
       "      <th>1</th>\n",
       "      <td>3D Printing</td>\n",
       "      <td>Manufacturing</td>\n",
       "    </tr>\n",
       "    <tr>\n",
       "      <th>2</th>\n",
       "      <td>3D Technology</td>\n",
       "      <td>Manufacturing</td>\n",
       "    </tr>\n",
       "    <tr>\n",
       "      <th>3</th>\n",
       "      <td>Accounting</td>\n",
       "      <td>Social, Finance, Analytics, Advertising</td>\n",
       "    </tr>\n",
       "    <tr>\n",
       "      <th>4</th>\n",
       "      <td>Active Lifestyle</td>\n",
       "      <td>Health</td>\n",
       "    </tr>\n",
       "    <tr>\n",
       "      <th>...</th>\n",
       "      <td>...</td>\n",
       "      <td>...</td>\n",
       "    </tr>\n",
       "    <tr>\n",
       "      <th>682</th>\n",
       "      <td>Wholesale</td>\n",
       "      <td>Others</td>\n",
       "    </tr>\n",
       "    <tr>\n",
       "      <th>683</th>\n",
       "      <td>Wine And Spirits</td>\n",
       "      <td>Entertainment</td>\n",
       "    </tr>\n",
       "    <tr>\n",
       "      <th>684</th>\n",
       "      <td>Wireless</td>\n",
       "      <td>Entertainment</td>\n",
       "    </tr>\n",
       "    <tr>\n",
       "      <th>685</th>\n",
       "      <td>Women</td>\n",
       "      <td>Others</td>\n",
       "    </tr>\n",
       "    <tr>\n",
       "      <th>686</th>\n",
       "      <td>Young Adults</td>\n",
       "      <td>Others</td>\n",
       "    </tr>\n",
       "  </tbody>\n",
       "</table>\n",
       "<p>687 rows × 2 columns</p>\n",
       "</div>"
      ],
      "text/plain": [
       "        category_list                              main_sector\n",
       "0                  3D                            Manufacturing\n",
       "1         3D Printing                            Manufacturing\n",
       "2       3D Technology                            Manufacturing\n",
       "3          Accounting  Social, Finance, Analytics, Advertising\n",
       "4    Active Lifestyle                                   Health\n",
       "..                ...                                      ...\n",
       "682         Wholesale                                   Others\n",
       "683  Wine And Spirits                            Entertainment\n",
       "684          Wireless                            Entertainment\n",
       "685             Women                                   Others\n",
       "686      Young Adults                                   Others\n",
       "\n",
       "[687 rows x 2 columns]"
      ]
     },
     "execution_count": 808,
     "metadata": {},
     "output_type": "execute_result"
    }
   ],
   "source": [
    "mapping"
   ]
  },
  {
   "cell_type": "code",
   "execution_count": 1219,
   "metadata": {},
   "outputs": [],
   "source": [
    "#number '0' which is perfect for replacing with character 'na'\n",
    "\n",
    "mapping['category_list'] = mapping['category_list'].apply(lambda category: category.replace('0', 'na').capitalize())"
   ]
  },
  {
   "cell_type": "code",
   "execution_count": 813,
   "metadata": {},
   "outputs": [
    {
     "data": {
      "text/plain": [
       "0                    3d\n",
       "1           3d printing\n",
       "2         3d technology\n",
       "3            Accounting\n",
       "4      Active lifestyle\n",
       "             ...       \n",
       "682           Wholesale\n",
       "683    Wine and spirits\n",
       "684            Wireless\n",
       "685               Women\n",
       "686        Young adults\n",
       "Name: category_list, Length: 687, dtype: object"
      ]
     },
     "execution_count": 813,
     "metadata": {},
     "output_type": "execute_result"
    }
   ],
   "source": [
    "mapping['category_list'] "
   ]
  },
  {
   "cell_type": "code",
   "execution_count": 815,
   "metadata": {},
   "outputs": [
    {
     "data": {
      "text/plain": [
       "465"
      ]
     },
     "execution_count": 815,
     "metadata": {},
     "output_type": "execute_result"
    }
   ],
   "source": [
    "len(set(np.sort(mapping['category_list'].unique())) - set(np.sort(master_frame['primary_sector'].unique())))"
   ]
  },
  {
   "cell_type": "code",
   "execution_count": 839,
   "metadata": {},
   "outputs": [],
   "source": [
    "# primary_sector in mapping dataframe but not in category_list\n",
    "\n",
    "check = list(set(np.sort(master_frame['primary_sector'].unique())) - set(np.sort(mapping['category_list'].unique())))"
   ]
  },
  {
   "cell_type": "code",
   "execution_count": 841,
   "metadata": {},
   "outputs": [
    {
     "data": {
      "text/plain": [
       "['Retirement',\n",
       " 'Product search',\n",
       " 'Enterprise 2.0',\n",
       " 'Greentech',\n",
       " 'Adaptive equipment',\n",
       " 'Racing',\n",
       " 'Natural gas uses',\n",
       " 'Specialty retail',\n",
       " 'Rapidly expanding',\n",
       " 'Biotechnology and semiconductor']"
      ]
     },
     "execution_count": 841,
     "metadata": {},
     "output_type": "execute_result"
    }
   ],
   "source": [
    "# list of values which are in primary sector and not in category list\n",
    "\n",
    "list(set(np.sort(master_frame['primary_sector'].unique())) - set(np.sort(mapping['category_list'].unique())))"
   ]
  },
  {
   "cell_type": "code",
   "execution_count": 840,
   "metadata": {},
   "outputs": [
    {
     "data": {
      "text/html": [
       "<div>\n",
       "<style scoped>\n",
       "    .dataframe tbody tr th:only-of-type {\n",
       "        vertical-align: middle;\n",
       "    }\n",
       "\n",
       "    .dataframe tbody tr th {\n",
       "        vertical-align: top;\n",
       "    }\n",
       "\n",
       "    .dataframe thead th {\n",
       "        text-align: right;\n",
       "    }\n",
       "</style>\n",
       "<table border=\"1\" class=\"dataframe\">\n",
       "  <thead>\n",
       "    <tr style=\"text-align: right;\">\n",
       "      <th></th>\n",
       "      <th>company_permalink</th>\n",
       "      <th>funding_round_permalink</th>\n",
       "      <th>funding_round_type</th>\n",
       "      <th>funded_at</th>\n",
       "      <th>raised_amount_usd</th>\n",
       "      <th>name</th>\n",
       "      <th>primary_sector</th>\n",
       "      <th>status</th>\n",
       "      <th>country_code</th>\n",
       "    </tr>\n",
       "  </thead>\n",
       "  <tbody>\n",
       "    <tr>\n",
       "      <th>7759</th>\n",
       "      <td>/organization/clean-vehicle-solutions</td>\n",
       "      <td>/funding-round/7b991c526219c2edff8789942215d93b</td>\n",
       "      <td>venture</td>\n",
       "      <td>26-02-2010</td>\n",
       "      <td>125000.0</td>\n",
       "      <td>Clean Vehicle Solutions</td>\n",
       "      <td>Natural gas uses</td>\n",
       "      <td>operating</td>\n",
       "      <td>USA</td>\n",
       "    </tr>\n",
       "    <tr>\n",
       "      <th>8727</th>\n",
       "      <td>/organization/consensus-point</td>\n",
       "      <td>/funding-round/11ad1d209af6e06e87467f3432aa735f</td>\n",
       "      <td>venture</td>\n",
       "      <td>19-04-2011</td>\n",
       "      <td>788374.0</td>\n",
       "      <td>Consensus Point</td>\n",
       "      <td>Enterprise 2.0</td>\n",
       "      <td>operating</td>\n",
       "      <td>USA</td>\n",
       "    </tr>\n",
       "    <tr>\n",
       "      <th>8728</th>\n",
       "      <td>/organization/consensus-point</td>\n",
       "      <td>/funding-round/7cdac9335cdc78285e8dcd1932f8729b</td>\n",
       "      <td>venture</td>\n",
       "      <td>18-07-2012</td>\n",
       "      <td>2600000.0</td>\n",
       "      <td>Consensus Point</td>\n",
       "      <td>Enterprise 2.0</td>\n",
       "      <td>operating</td>\n",
       "      <td>USA</td>\n",
       "    </tr>\n",
       "    <tr>\n",
       "      <th>10731</th>\n",
       "      <td>/organization/dolores-speech-products</td>\n",
       "      <td>/funding-round/ba7393d89b2a5ad0c076e2295794c4ce</td>\n",
       "      <td>venture</td>\n",
       "      <td>07-04-2015</td>\n",
       "      <td>250000.0</td>\n",
       "      <td>Dolores Speech Products</td>\n",
       "      <td>Adaptive equipment</td>\n",
       "      <td>operating</td>\n",
       "      <td>USA</td>\n",
       "    </tr>\n",
       "    <tr>\n",
       "      <th>13089</th>\n",
       "      <td>/organization/fia-formula-e</td>\n",
       "      <td>/funding-round/19a09624fcf806a4a64809462a4e391c</td>\n",
       "      <td>venture</td>\n",
       "      <td>15-05-2014</td>\n",
       "      <td>68569234.0</td>\n",
       "      <td>FIA Formula E</td>\n",
       "      <td>Racing</td>\n",
       "      <td>closed</td>\n",
       "      <td>GBR</td>\n",
       "    </tr>\n",
       "    <tr>\n",
       "      <th>13364</th>\n",
       "      <td>/organization/five-below</td>\n",
       "      <td>/funding-round/2a50c59492585ea4080fa67de755a442</td>\n",
       "      <td>venture</td>\n",
       "      <td>14-10-2010</td>\n",
       "      <td>194000000.0</td>\n",
       "      <td>Five Below</td>\n",
       "      <td>Specialty retail</td>\n",
       "      <td>ipo</td>\n",
       "      <td>USA</td>\n",
       "    </tr>\n",
       "    <tr>\n",
       "      <th>13454</th>\n",
       "      <td>/organization/flexport</td>\n",
       "      <td>/funding-round/e890e1058ab6be04e9559cd34ee6382c</td>\n",
       "      <td>venture</td>\n",
       "      <td>06-08-2015</td>\n",
       "      <td>20000000.0</td>\n",
       "      <td>Flexport</td>\n",
       "      <td>Enterprise 2.0</td>\n",
       "      <td>operating</td>\n",
       "      <td>USA</td>\n",
       "    </tr>\n",
       "    <tr>\n",
       "      <th>15862</th>\n",
       "      <td>/organization/healthtell</td>\n",
       "      <td>/funding-round/8edf7332fface9972541807a248690b3</td>\n",
       "      <td>venture</td>\n",
       "      <td>13-06-2014</td>\n",
       "      <td>9486929.0</td>\n",
       "      <td>HealthTell</td>\n",
       "      <td>Biotechnology and semiconductor</td>\n",
       "      <td>operating</td>\n",
       "      <td>USA</td>\n",
       "    </tr>\n",
       "    <tr>\n",
       "      <th>18963</th>\n",
       "      <td>/organization/justinmind</td>\n",
       "      <td>/funding-round/c6e9adcef86247dccf8418dc3e4b9a0b</td>\n",
       "      <td>venture</td>\n",
       "      <td>17-12-2007</td>\n",
       "      <td>862000.0</td>\n",
       "      <td>Justinmind</td>\n",
       "      <td>Rapidly expanding</td>\n",
       "      <td>operating</td>\n",
       "      <td>USA</td>\n",
       "    </tr>\n",
       "    <tr>\n",
       "      <th>25313</th>\n",
       "      <td>/organization/omega-point-research</td>\n",
       "      <td>/funding-round/4870743e3fded9317f5611eb2e848667</td>\n",
       "      <td>venture</td>\n",
       "      <td>14-05-2015</td>\n",
       "      <td>3172815.0</td>\n",
       "      <td>Omega Point Research</td>\n",
       "      <td>Product search</td>\n",
       "      <td>closed</td>\n",
       "      <td>USA</td>\n",
       "    </tr>\n",
       "    <tr>\n",
       "      <th>25577</th>\n",
       "      <td>/organization/onspring-technologies</td>\n",
       "      <td>/funding-round/41915df9cc7f5d0ddb603e4671a4b9fe</td>\n",
       "      <td>venture</td>\n",
       "      <td>01-01-2015</td>\n",
       "      <td>2000000.0</td>\n",
       "      <td>Onspring Technologies</td>\n",
       "      <td>Enterprise 2.0</td>\n",
       "      <td>operating</td>\n",
       "      <td>USA</td>\n",
       "    </tr>\n",
       "    <tr>\n",
       "      <th>31875</th>\n",
       "      <td>/organization/sense-labs-inc-</td>\n",
       "      <td>/funding-round/1ed09dae5b9feaba2ae7f56dd1b9bfd2</td>\n",
       "      <td>venture</td>\n",
       "      <td>29-12-2014</td>\n",
       "      <td>2499999.0</td>\n",
       "      <td>Sense</td>\n",
       "      <td>Greentech</td>\n",
       "      <td>operating</td>\n",
       "      <td>USA</td>\n",
       "    </tr>\n",
       "    <tr>\n",
       "      <th>32155</th>\n",
       "      <td>/organization/shantiniketan-incorporated</td>\n",
       "      <td>/funding-round/96f7fa1fdcc380649723c8effc2a1062</td>\n",
       "      <td>venture</td>\n",
       "      <td>01-08-2008</td>\n",
       "      <td>1100000.0</td>\n",
       "      <td>ShantiNiketan Inc.</td>\n",
       "      <td>Retirement</td>\n",
       "      <td>closed</td>\n",
       "      <td>USA</td>\n",
       "    </tr>\n",
       "    <tr>\n",
       "      <th>32156</th>\n",
       "      <td>/organization/shantiniketan-incorporated</td>\n",
       "      <td>/funding-round/c6baca436fa80360921d89a06a0a0e93</td>\n",
       "      <td>venture</td>\n",
       "      <td>01-05-2011</td>\n",
       "      <td>2000000.0</td>\n",
       "      <td>ShantiNiketan Inc.</td>\n",
       "      <td>Retirement</td>\n",
       "      <td>closed</td>\n",
       "      <td>USA</td>\n",
       "    </tr>\n",
       "    <tr>\n",
       "      <th>38196</th>\n",
       "      <td>/organization/velocomp</td>\n",
       "      <td>/funding-round/2cdceb89206aad240a78e58329cec171</td>\n",
       "      <td>venture</td>\n",
       "      <td>09-09-2011</td>\n",
       "      <td>1420000.0</td>\n",
       "      <td>Velocomp</td>\n",
       "      <td>Adaptive equipment</td>\n",
       "      <td>operating</td>\n",
       "      <td>USA</td>\n",
       "    </tr>\n",
       "  </tbody>\n",
       "</table>\n",
       "</div>"
      ],
      "text/plain": [
       "                              company_permalink  \\\n",
       "7759      /organization/clean-vehicle-solutions   \n",
       "8727              /organization/consensus-point   \n",
       "8728              /organization/consensus-point   \n",
       "10731     /organization/dolores-speech-products   \n",
       "13089               /organization/fia-formula-e   \n",
       "13364                  /organization/five-below   \n",
       "13454                    /organization/flexport   \n",
       "15862                  /organization/healthtell   \n",
       "18963                  /organization/justinmind   \n",
       "25313        /organization/omega-point-research   \n",
       "25577       /organization/onspring-technologies   \n",
       "31875             /organization/sense-labs-inc-   \n",
       "32155  /organization/shantiniketan-incorporated   \n",
       "32156  /organization/shantiniketan-incorporated   \n",
       "38196                    /organization/velocomp   \n",
       "\n",
       "                               funding_round_permalink funding_round_type  \\\n",
       "7759   /funding-round/7b991c526219c2edff8789942215d93b            venture   \n",
       "8727   /funding-round/11ad1d209af6e06e87467f3432aa735f            venture   \n",
       "8728   /funding-round/7cdac9335cdc78285e8dcd1932f8729b            venture   \n",
       "10731  /funding-round/ba7393d89b2a5ad0c076e2295794c4ce            venture   \n",
       "13089  /funding-round/19a09624fcf806a4a64809462a4e391c            venture   \n",
       "13364  /funding-round/2a50c59492585ea4080fa67de755a442            venture   \n",
       "13454  /funding-round/e890e1058ab6be04e9559cd34ee6382c            venture   \n",
       "15862  /funding-round/8edf7332fface9972541807a248690b3            venture   \n",
       "18963  /funding-round/c6e9adcef86247dccf8418dc3e4b9a0b            venture   \n",
       "25313  /funding-round/4870743e3fded9317f5611eb2e848667            venture   \n",
       "25577  /funding-round/41915df9cc7f5d0ddb603e4671a4b9fe            venture   \n",
       "31875  /funding-round/1ed09dae5b9feaba2ae7f56dd1b9bfd2            venture   \n",
       "32155  /funding-round/96f7fa1fdcc380649723c8effc2a1062            venture   \n",
       "32156  /funding-round/c6baca436fa80360921d89a06a0a0e93            venture   \n",
       "38196  /funding-round/2cdceb89206aad240a78e58329cec171            venture   \n",
       "\n",
       "        funded_at  raised_amount_usd                     name  \\\n",
       "7759   26-02-2010           125000.0  Clean Vehicle Solutions   \n",
       "8727   19-04-2011           788374.0          Consensus Point   \n",
       "8728   18-07-2012          2600000.0          Consensus Point   \n",
       "10731  07-04-2015           250000.0  Dolores Speech Products   \n",
       "13089  15-05-2014         68569234.0            FIA Formula E   \n",
       "13364  14-10-2010        194000000.0               Five Below   \n",
       "13454  06-08-2015         20000000.0                 Flexport   \n",
       "15862  13-06-2014          9486929.0               HealthTell   \n",
       "18963  17-12-2007           862000.0               Justinmind   \n",
       "25313  14-05-2015          3172815.0     Omega Point Research   \n",
       "25577  01-01-2015          2000000.0    Onspring Technologies   \n",
       "31875  29-12-2014          2499999.0                    Sense   \n",
       "32155  01-08-2008          1100000.0       ShantiNiketan Inc.   \n",
       "32156  01-05-2011          2000000.0       ShantiNiketan Inc.   \n",
       "38196  09-09-2011          1420000.0                 Velocomp   \n",
       "\n",
       "                        primary_sector     status country_code  \n",
       "7759                  Natural gas uses  operating          USA  \n",
       "8727                    Enterprise 2.0  operating          USA  \n",
       "8728                    Enterprise 2.0  operating          USA  \n",
       "10731               Adaptive equipment  operating          USA  \n",
       "13089                           Racing     closed          GBR  \n",
       "13364                 Specialty retail        ipo          USA  \n",
       "13454                   Enterprise 2.0  operating          USA  \n",
       "15862  Biotechnology and semiconductor  operating          USA  \n",
       "18963                Rapidly expanding  operating          USA  \n",
       "25313                   Product search     closed          USA  \n",
       "25577                   Enterprise 2.0  operating          USA  \n",
       "31875                        Greentech  operating          USA  \n",
       "32155                       Retirement     closed          USA  \n",
       "32156                       Retirement     closed          USA  \n",
       "38196               Adaptive equipment  operating          USA  "
      ]
     },
     "execution_count": 840,
     "metadata": {},
     "output_type": "execute_result"
    }
   ],
   "source": [
    "#check if there are any primary_sector in the investment which don't have main_sector\n",
    "\n",
    "master_frame.loc[master_frame['primary_sector'].isin(check)]"
   ]
  },
  {
   "cell_type": "code",
   "execution_count": 842,
   "metadata": {},
   "outputs": [
    {
     "data": {
      "text/plain": [
       "(15, 9)"
      ]
     },
     "execution_count": 842,
     "metadata": {},
     "output_type": "execute_result"
    }
   ],
   "source": [
    "master_frame.loc[master_frame['primary_sector'].isin(check)].shape"
   ]
  },
  {
   "cell_type": "code",
   "execution_count": 850,
   "metadata": {},
   "outputs": [],
   "source": [
    "#missing primary_sector\n",
    "\n",
    "missing_category_list = list(set(np.sort(master_frame['primary_sector'].unique())) - set(np.sort(mapping['category_list'].unique())))"
   ]
  },
  {
   "cell_type": "code",
   "execution_count": 1222,
   "metadata": {},
   "outputs": [
    {
     "data": {
      "text/html": [
       "<div>\n",
       "<style scoped>\n",
       "    .dataframe tbody tr th:only-of-type {\n",
       "        vertical-align: middle;\n",
       "    }\n",
       "\n",
       "    .dataframe tbody tr th {\n",
       "        vertical-align: top;\n",
       "    }\n",
       "\n",
       "    .dataframe thead th {\n",
       "        text-align: right;\n",
       "    }\n",
       "</style>\n",
       "<table border=\"1\" class=\"dataframe\">\n",
       "  <thead>\n",
       "    <tr style=\"text-align: right;\">\n",
       "      <th></th>\n",
       "      <th>category_list</th>\n",
       "      <th>main_sector</th>\n",
       "    </tr>\n",
       "  </thead>\n",
       "  <tbody>\n",
       "    <tr>\n",
       "      <th>0</th>\n",
       "      <td>Retirement</td>\n",
       "      <td>Others</td>\n",
       "    </tr>\n",
       "    <tr>\n",
       "      <th>1</th>\n",
       "      <td>Product search</td>\n",
       "      <td>Others</td>\n",
       "    </tr>\n",
       "    <tr>\n",
       "      <th>2</th>\n",
       "      <td>Enterprise 2.0</td>\n",
       "      <td>Others</td>\n",
       "    </tr>\n",
       "    <tr>\n",
       "      <th>3</th>\n",
       "      <td>Greentech</td>\n",
       "      <td>Others</td>\n",
       "    </tr>\n",
       "    <tr>\n",
       "      <th>4</th>\n",
       "      <td>Adaptive equipment</td>\n",
       "      <td>Others</td>\n",
       "    </tr>\n",
       "    <tr>\n",
       "      <th>5</th>\n",
       "      <td>Racing</td>\n",
       "      <td>Others</td>\n",
       "    </tr>\n",
       "    <tr>\n",
       "      <th>6</th>\n",
       "      <td>Natural gas uses</td>\n",
       "      <td>Others</td>\n",
       "    </tr>\n",
       "    <tr>\n",
       "      <th>7</th>\n",
       "      <td>Specialty retail</td>\n",
       "      <td>Others</td>\n",
       "    </tr>\n",
       "    <tr>\n",
       "      <th>8</th>\n",
       "      <td>Rapidly expanding</td>\n",
       "      <td>Others</td>\n",
       "    </tr>\n",
       "    <tr>\n",
       "      <th>9</th>\n",
       "      <td>Biotechnology and semiconductor</td>\n",
       "      <td>Others</td>\n",
       "    </tr>\n",
       "  </tbody>\n",
       "</table>\n",
       "</div>"
      ],
      "text/plain": [
       "                     category_list main_sector\n",
       "0                       Retirement      Others\n",
       "1                   Product search      Others\n",
       "2                   Enterprise 2.0      Others\n",
       "3                        Greentech      Others\n",
       "4               Adaptive equipment      Others\n",
       "5                           Racing      Others\n",
       "6                 Natural gas uses      Others\n",
       "7                 Specialty retail      Others\n",
       "8                Rapidly expanding      Others\n",
       "9  Biotechnology and semiconductor      Others"
      ]
     },
     "execution_count": 1222,
     "metadata": {},
     "output_type": "execute_result"
    }
   ],
   "source": [
    "missing_category_df = {'category_list': missing_category_list, 'main_sector': 'Others'}\n",
    "\n",
    "missing_category_df = pd.DataFrame.from_dict(missing_category_df)\n",
    "\n",
    "missing_category_df"
   ]
  },
  {
   "cell_type": "code",
   "execution_count": 1223,
   "metadata": {},
   "outputs": [
    {
     "data": {
      "text/plain": [
       "(687, 2)"
      ]
     },
     "execution_count": 1223,
     "metadata": {},
     "output_type": "execute_result"
    }
   ],
   "source": [
    "mapping.shape"
   ]
  },
  {
   "cell_type": "code",
   "execution_count": 1224,
   "metadata": {},
   "outputs": [
    {
     "data": {
      "text/plain": [
       "(10, 2)"
      ]
     },
     "execution_count": 1224,
     "metadata": {},
     "output_type": "execute_result"
    }
   ],
   "source": [
    "missing_category_df.shape"
   ]
  },
  {
   "cell_type": "code",
   "execution_count": 1225,
   "metadata": {},
   "outputs": [
    {
     "data": {
      "text/plain": [
       "697"
      ]
     },
     "execution_count": 1225,
     "metadata": {},
     "output_type": "execute_result"
    }
   ],
   "source": [
    "#newly added categories is 10\n",
    "\n",
    "687 + 10"
   ]
  },
  {
   "cell_type": "code",
   "execution_count": 1226,
   "metadata": {},
   "outputs": [
    {
     "data": {
      "text/html": [
       "<div>\n",
       "<style scoped>\n",
       "    .dataframe tbody tr th:only-of-type {\n",
       "        vertical-align: middle;\n",
       "    }\n",
       "\n",
       "    .dataframe tbody tr th {\n",
       "        vertical-align: top;\n",
       "    }\n",
       "\n",
       "    .dataframe thead th {\n",
       "        text-align: right;\n",
       "    }\n",
       "</style>\n",
       "<table border=\"1\" class=\"dataframe\">\n",
       "  <thead>\n",
       "    <tr style=\"text-align: right;\">\n",
       "      <th></th>\n",
       "      <th>category_list</th>\n",
       "      <th>main_sector</th>\n",
       "    </tr>\n",
       "  </thead>\n",
       "  <tbody>\n",
       "    <tr>\n",
       "      <th>0</th>\n",
       "      <td>3d</td>\n",
       "      <td>Manufacturing</td>\n",
       "    </tr>\n",
       "    <tr>\n",
       "      <th>1</th>\n",
       "      <td>3d printing</td>\n",
       "      <td>Manufacturing</td>\n",
       "    </tr>\n",
       "    <tr>\n",
       "      <th>2</th>\n",
       "      <td>3d technology</td>\n",
       "      <td>Manufacturing</td>\n",
       "    </tr>\n",
       "    <tr>\n",
       "      <th>3</th>\n",
       "      <td>Accounting</td>\n",
       "      <td>Social, Finance, Analytics, Advertising</td>\n",
       "    </tr>\n",
       "    <tr>\n",
       "      <th>4</th>\n",
       "      <td>Active lifestyle</td>\n",
       "      <td>Health</td>\n",
       "    </tr>\n",
       "    <tr>\n",
       "      <th>...</th>\n",
       "      <td>...</td>\n",
       "      <td>...</td>\n",
       "    </tr>\n",
       "    <tr>\n",
       "      <th>5</th>\n",
       "      <td>Racing</td>\n",
       "      <td>Others</td>\n",
       "    </tr>\n",
       "    <tr>\n",
       "      <th>6</th>\n",
       "      <td>Natural gas uses</td>\n",
       "      <td>Others</td>\n",
       "    </tr>\n",
       "    <tr>\n",
       "      <th>7</th>\n",
       "      <td>Specialty retail</td>\n",
       "      <td>Others</td>\n",
       "    </tr>\n",
       "    <tr>\n",
       "      <th>8</th>\n",
       "      <td>Rapidly expanding</td>\n",
       "      <td>Others</td>\n",
       "    </tr>\n",
       "    <tr>\n",
       "      <th>9</th>\n",
       "      <td>Biotechnology and semiconductor</td>\n",
       "      <td>Others</td>\n",
       "    </tr>\n",
       "  </tbody>\n",
       "</table>\n",
       "<p>697 rows × 2 columns</p>\n",
       "</div>"
      ],
      "text/plain": [
       "                      category_list                              main_sector\n",
       "0                                3d                            Manufacturing\n",
       "1                       3d printing                            Manufacturing\n",
       "2                     3d technology                            Manufacturing\n",
       "3                        Accounting  Social, Finance, Analytics, Advertising\n",
       "4                  Active lifestyle                                   Health\n",
       "..                              ...                                      ...\n",
       "5                            Racing                                   Others\n",
       "6                  Natural gas uses                                   Others\n",
       "7                  Specialty retail                                   Others\n",
       "8                 Rapidly expanding                                   Others\n",
       "9   Biotechnology and semiconductor                                   Others\n",
       "\n",
       "[697 rows x 2 columns]"
      ]
     },
     "execution_count": 1226,
     "metadata": {},
     "output_type": "execute_result"
    }
   ],
   "source": [
    "# extend missing_category_df to mapping\n",
    "\n",
    "mapping = mapping.append(missing_category_df)\n",
    "\n",
    "mapping"
   ]
  },
  {
   "cell_type": "code",
   "execution_count": 1227,
   "metadata": {},
   "outputs": [],
   "source": [
    "#resetting the index\n",
    "mapping = mapping.reset_index()"
   ]
  },
  {
   "cell_type": "code",
   "execution_count": 1228,
   "metadata": {},
   "outputs": [
    {
     "data": {
      "text/html": [
       "<div>\n",
       "<style scoped>\n",
       "    .dataframe tbody tr th:only-of-type {\n",
       "        vertical-align: middle;\n",
       "    }\n",
       "\n",
       "    .dataframe tbody tr th {\n",
       "        vertical-align: top;\n",
       "    }\n",
       "\n",
       "    .dataframe thead th {\n",
       "        text-align: right;\n",
       "    }\n",
       "</style>\n",
       "<table border=\"1\" class=\"dataframe\">\n",
       "  <thead>\n",
       "    <tr style=\"text-align: right;\">\n",
       "      <th></th>\n",
       "      <th>index</th>\n",
       "      <th>category_list</th>\n",
       "      <th>main_sector</th>\n",
       "    </tr>\n",
       "  </thead>\n",
       "  <tbody>\n",
       "    <tr>\n",
       "      <th>0</th>\n",
       "      <td>0</td>\n",
       "      <td>3d</td>\n",
       "      <td>Manufacturing</td>\n",
       "    </tr>\n",
       "    <tr>\n",
       "      <th>1</th>\n",
       "      <td>1</td>\n",
       "      <td>3d printing</td>\n",
       "      <td>Manufacturing</td>\n",
       "    </tr>\n",
       "    <tr>\n",
       "      <th>2</th>\n",
       "      <td>2</td>\n",
       "      <td>3d technology</td>\n",
       "      <td>Manufacturing</td>\n",
       "    </tr>\n",
       "    <tr>\n",
       "      <th>3</th>\n",
       "      <td>3</td>\n",
       "      <td>Accounting</td>\n",
       "      <td>Social, Finance, Analytics, Advertising</td>\n",
       "    </tr>\n",
       "    <tr>\n",
       "      <th>4</th>\n",
       "      <td>4</td>\n",
       "      <td>Active lifestyle</td>\n",
       "      <td>Health</td>\n",
       "    </tr>\n",
       "    <tr>\n",
       "      <th>...</th>\n",
       "      <td>...</td>\n",
       "      <td>...</td>\n",
       "      <td>...</td>\n",
       "    </tr>\n",
       "    <tr>\n",
       "      <th>692</th>\n",
       "      <td>5</td>\n",
       "      <td>Racing</td>\n",
       "      <td>Others</td>\n",
       "    </tr>\n",
       "    <tr>\n",
       "      <th>693</th>\n",
       "      <td>6</td>\n",
       "      <td>Natural gas uses</td>\n",
       "      <td>Others</td>\n",
       "    </tr>\n",
       "    <tr>\n",
       "      <th>694</th>\n",
       "      <td>7</td>\n",
       "      <td>Specialty retail</td>\n",
       "      <td>Others</td>\n",
       "    </tr>\n",
       "    <tr>\n",
       "      <th>695</th>\n",
       "      <td>8</td>\n",
       "      <td>Rapidly expanding</td>\n",
       "      <td>Others</td>\n",
       "    </tr>\n",
       "    <tr>\n",
       "      <th>696</th>\n",
       "      <td>9</td>\n",
       "      <td>Biotechnology and semiconductor</td>\n",
       "      <td>Others</td>\n",
       "    </tr>\n",
       "  </tbody>\n",
       "</table>\n",
       "<p>697 rows × 3 columns</p>\n",
       "</div>"
      ],
      "text/plain": [
       "     index                    category_list  \\\n",
       "0        0                               3d   \n",
       "1        1                      3d printing   \n",
       "2        2                    3d technology   \n",
       "3        3                       Accounting   \n",
       "4        4                 Active lifestyle   \n",
       "..     ...                              ...   \n",
       "692      5                           Racing   \n",
       "693      6                 Natural gas uses   \n",
       "694      7                 Specialty retail   \n",
       "695      8                Rapidly expanding   \n",
       "696      9  Biotechnology and semiconductor   \n",
       "\n",
       "                                 main_sector  \n",
       "0                              Manufacturing  \n",
       "1                              Manufacturing  \n",
       "2                              Manufacturing  \n",
       "3    Social, Finance, Analytics, Advertising  \n",
       "4                                     Health  \n",
       "..                                       ...  \n",
       "692                                   Others  \n",
       "693                                   Others  \n",
       "694                                   Others  \n",
       "695                                   Others  \n",
       "696                                   Others  \n",
       "\n",
       "[697 rows x 3 columns]"
      ]
     },
     "execution_count": 1228,
     "metadata": {},
     "output_type": "execute_result"
    }
   ],
   "source": [
    "mapping"
   ]
  },
  {
   "cell_type": "code",
   "execution_count": 1229,
   "metadata": {},
   "outputs": [],
   "source": [
    "#removing unordered old index\n",
    "mapping.drop(columns='index', inplace=True)"
   ]
  },
  {
   "cell_type": "code",
   "execution_count": 1230,
   "metadata": {},
   "outputs": [
    {
     "data": {
      "text/html": [
       "<div>\n",
       "<style scoped>\n",
       "    .dataframe tbody tr th:only-of-type {\n",
       "        vertical-align: middle;\n",
       "    }\n",
       "\n",
       "    .dataframe tbody tr th {\n",
       "        vertical-align: top;\n",
       "    }\n",
       "\n",
       "    .dataframe thead th {\n",
       "        text-align: right;\n",
       "    }\n",
       "</style>\n",
       "<table border=\"1\" class=\"dataframe\">\n",
       "  <thead>\n",
       "    <tr style=\"text-align: right;\">\n",
       "      <th></th>\n",
       "      <th>category_list</th>\n",
       "      <th>main_sector</th>\n",
       "    </tr>\n",
       "  </thead>\n",
       "  <tbody>\n",
       "    <tr>\n",
       "      <th>0</th>\n",
       "      <td>3d</td>\n",
       "      <td>Manufacturing</td>\n",
       "    </tr>\n",
       "    <tr>\n",
       "      <th>1</th>\n",
       "      <td>3d printing</td>\n",
       "      <td>Manufacturing</td>\n",
       "    </tr>\n",
       "    <tr>\n",
       "      <th>2</th>\n",
       "      <td>3d technology</td>\n",
       "      <td>Manufacturing</td>\n",
       "    </tr>\n",
       "    <tr>\n",
       "      <th>3</th>\n",
       "      <td>Accounting</td>\n",
       "      <td>Social, Finance, Analytics, Advertising</td>\n",
       "    </tr>\n",
       "    <tr>\n",
       "      <th>4</th>\n",
       "      <td>Active lifestyle</td>\n",
       "      <td>Health</td>\n",
       "    </tr>\n",
       "    <tr>\n",
       "      <th>...</th>\n",
       "      <td>...</td>\n",
       "      <td>...</td>\n",
       "    </tr>\n",
       "    <tr>\n",
       "      <th>692</th>\n",
       "      <td>Racing</td>\n",
       "      <td>Others</td>\n",
       "    </tr>\n",
       "    <tr>\n",
       "      <th>693</th>\n",
       "      <td>Natural gas uses</td>\n",
       "      <td>Others</td>\n",
       "    </tr>\n",
       "    <tr>\n",
       "      <th>694</th>\n",
       "      <td>Specialty retail</td>\n",
       "      <td>Others</td>\n",
       "    </tr>\n",
       "    <tr>\n",
       "      <th>695</th>\n",
       "      <td>Rapidly expanding</td>\n",
       "      <td>Others</td>\n",
       "    </tr>\n",
       "    <tr>\n",
       "      <th>696</th>\n",
       "      <td>Biotechnology and semiconductor</td>\n",
       "      <td>Others</td>\n",
       "    </tr>\n",
       "  </tbody>\n",
       "</table>\n",
       "<p>697 rows × 2 columns</p>\n",
       "</div>"
      ],
      "text/plain": [
       "                       category_list                              main_sector\n",
       "0                                 3d                            Manufacturing\n",
       "1                        3d printing                            Manufacturing\n",
       "2                      3d technology                            Manufacturing\n",
       "3                         Accounting  Social, Finance, Analytics, Advertising\n",
       "4                   Active lifestyle                                   Health\n",
       "..                               ...                                      ...\n",
       "692                           Racing                                   Others\n",
       "693                 Natural gas uses                                   Others\n",
       "694                 Specialty retail                                   Others\n",
       "695                Rapidly expanding                                   Others\n",
       "696  Biotechnology and semiconductor                                   Others\n",
       "\n",
       "[697 rows x 2 columns]"
      ]
     },
     "execution_count": 1230,
     "metadata": {},
     "output_type": "execute_result"
    }
   ],
   "source": [
    "mapping"
   ]
  },
  {
   "cell_type": "code",
   "execution_count": 1231,
   "metadata": {},
   "outputs": [
    {
     "data": {
      "text/html": [
       "<div>\n",
       "<style scoped>\n",
       "    .dataframe tbody tr th:only-of-type {\n",
       "        vertical-align: middle;\n",
       "    }\n",
       "\n",
       "    .dataframe tbody tr th {\n",
       "        vertical-align: top;\n",
       "    }\n",
       "\n",
       "    .dataframe thead th {\n",
       "        text-align: right;\n",
       "    }\n",
       "</style>\n",
       "<table border=\"1\" class=\"dataframe\">\n",
       "  <thead>\n",
       "    <tr style=\"text-align: right;\">\n",
       "      <th></th>\n",
       "      <th>company_permalink</th>\n",
       "      <th>funding_round_permalink</th>\n",
       "      <th>funding_round_type</th>\n",
       "      <th>funded_at</th>\n",
       "      <th>raised_amount_usd</th>\n",
       "      <th>name</th>\n",
       "      <th>category_list_x</th>\n",
       "      <th>status</th>\n",
       "      <th>country_code</th>\n",
       "      <th>primary_sector</th>\n",
       "      <th>category_list_y</th>\n",
       "      <th>main_sector</th>\n",
       "    </tr>\n",
       "  </thead>\n",
       "  <tbody>\n",
       "    <tr>\n",
       "      <th>0</th>\n",
       "      <td>/organization/-fame</td>\n",
       "      <td>/funding-round/9a01d05418af9f794eebff7ace91f638</td>\n",
       "      <td>venture</td>\n",
       "      <td>05-01-2015</td>\n",
       "      <td>10000000.0</td>\n",
       "      <td>#fame</td>\n",
       "      <td>Media</td>\n",
       "      <td>operating</td>\n",
       "      <td>IND</td>\n",
       "      <td>Media</td>\n",
       "      <td>Media</td>\n",
       "      <td>Entertainment</td>\n",
       "    </tr>\n",
       "    <tr>\n",
       "      <th>1</th>\n",
       "      <td>/organization/90min</td>\n",
       "      <td>/funding-round/21a2cbf6f2fb2a1c2a61e04bf930dfe6</td>\n",
       "      <td>venture</td>\n",
       "      <td>06-10-2015</td>\n",
       "      <td>15000000.0</td>\n",
       "      <td>90min</td>\n",
       "      <td>Media|News|Publishing|Soccer|Sports</td>\n",
       "      <td>operating</td>\n",
       "      <td>GBR</td>\n",
       "      <td>Media</td>\n",
       "      <td>Media</td>\n",
       "      <td>Entertainment</td>\n",
       "    </tr>\n",
       "    <tr>\n",
       "      <th>2</th>\n",
       "      <td>/organization/90min</td>\n",
       "      <td>/funding-round/bd626ed022f5c66574b1afe234f3c90d</td>\n",
       "      <td>venture</td>\n",
       "      <td>07-05-2013</td>\n",
       "      <td>5800000.0</td>\n",
       "      <td>90min</td>\n",
       "      <td>Media|News|Publishing|Soccer|Sports</td>\n",
       "      <td>operating</td>\n",
       "      <td>GBR</td>\n",
       "      <td>Media</td>\n",
       "      <td>Media</td>\n",
       "      <td>Entertainment</td>\n",
       "    </tr>\n",
       "    <tr>\n",
       "      <th>3</th>\n",
       "      <td>/organization/90min</td>\n",
       "      <td>/funding-round/fd4b15e8c97ee2ffc0acccdbe1a98810</td>\n",
       "      <td>venture</td>\n",
       "      <td>26-03-2014</td>\n",
       "      <td>18000000.0</td>\n",
       "      <td>90min</td>\n",
       "      <td>Media|News|Publishing|Soccer|Sports</td>\n",
       "      <td>operating</td>\n",
       "      <td>GBR</td>\n",
       "      <td>Media</td>\n",
       "      <td>Media</td>\n",
       "      <td>Entertainment</td>\n",
       "    </tr>\n",
       "    <tr>\n",
       "      <th>4</th>\n",
       "      <td>/organization/all-def-digital</td>\n",
       "      <td>/funding-round/452a2342fe720285c3b92e9bd927d9ba</td>\n",
       "      <td>venture</td>\n",
       "      <td>06-08-2014</td>\n",
       "      <td>5000000.0</td>\n",
       "      <td>All Def Digital</td>\n",
       "      <td>Media</td>\n",
       "      <td>operating</td>\n",
       "      <td>USA</td>\n",
       "      <td>Media</td>\n",
       "      <td>Media</td>\n",
       "      <td>Entertainment</td>\n",
       "    </tr>\n",
       "    <tr>\n",
       "      <th>...</th>\n",
       "      <td>...</td>\n",
       "      <td>...</td>\n",
       "      <td>...</td>\n",
       "      <td>...</td>\n",
       "      <td>...</td>\n",
       "      <td>...</td>\n",
       "      <td>...</td>\n",
       "      <td>...</td>\n",
       "      <td>...</td>\n",
       "      <td>...</td>\n",
       "      <td>...</td>\n",
       "      <td>...</td>\n",
       "    </tr>\n",
       "    <tr>\n",
       "      <th>41278</th>\n",
       "      <td>/organization/yapta</td>\n",
       "      <td>/funding-round/b1777df10578e852be3afbe3bc325435</td>\n",
       "      <td>venture</td>\n",
       "      <td>22-07-2013</td>\n",
       "      <td>4220000.0</td>\n",
       "      <td>Yapta</td>\n",
       "      <td>Tracking|Transportation|Travel</td>\n",
       "      <td>operating</td>\n",
       "      <td>USA</td>\n",
       "      <td>Tracking</td>\n",
       "      <td>Tracking</td>\n",
       "      <td>Others</td>\n",
       "    </tr>\n",
       "    <tr>\n",
       "      <th>41279</th>\n",
       "      <td>/organization/yapta</td>\n",
       "      <td>/funding-round/ed75e1064eb8b50c01c2e0b691ca9f1e</td>\n",
       "      <td>venture</td>\n",
       "      <td>25-06-2009</td>\n",
       "      <td>2000000.0</td>\n",
       "      <td>Yapta</td>\n",
       "      <td>Tracking|Transportation|Travel</td>\n",
       "      <td>operating</td>\n",
       "      <td>USA</td>\n",
       "      <td>Tracking</td>\n",
       "      <td>Tracking</td>\n",
       "      <td>Others</td>\n",
       "    </tr>\n",
       "    <tr>\n",
       "      <th>41280</th>\n",
       "      <td>/organization/yapta</td>\n",
       "      <td>/funding-round/fc066baf3121b060b574214612a6c946</td>\n",
       "      <td>venture</td>\n",
       "      <td>29-07-2015</td>\n",
       "      <td>1786563.0</td>\n",
       "      <td>Yapta</td>\n",
       "      <td>Tracking|Transportation|Travel</td>\n",
       "      <td>operating</td>\n",
       "      <td>USA</td>\n",
       "      <td>Tracking</td>\n",
       "      <td>Tracking</td>\n",
       "      <td>Others</td>\n",
       "    </tr>\n",
       "    <tr>\n",
       "      <th>41281</th>\n",
       "      <td>/organization/ziftit</td>\n",
       "      <td>/funding-round/d5713b26dbc5e0c65ccc426377449435</td>\n",
       "      <td>venture</td>\n",
       "      <td>09-07-2013</td>\n",
       "      <td>4000000.0</td>\n",
       "      <td>Ziftit</td>\n",
       "      <td>Gift Registries|Shopping</td>\n",
       "      <td>closed</td>\n",
       "      <td>USA</td>\n",
       "      <td>Gift registries</td>\n",
       "      <td>Gift registries</td>\n",
       "      <td>Others</td>\n",
       "    </tr>\n",
       "    <tr>\n",
       "      <th>41282</th>\n",
       "      <td>/organization/zonarsystems</td>\n",
       "      <td>/funding-round/f0126dbea5d6075d8d4a1c2d106d9eca</td>\n",
       "      <td>venture</td>\n",
       "      <td>08-07-2015</td>\n",
       "      <td>50000000.0</td>\n",
       "      <td>Zonar Systems</td>\n",
       "      <td>Task Management|Tracking</td>\n",
       "      <td>operating</td>\n",
       "      <td>USA</td>\n",
       "      <td>Task management</td>\n",
       "      <td>Task management</td>\n",
       "      <td>Others</td>\n",
       "    </tr>\n",
       "  </tbody>\n",
       "</table>\n",
       "<p>41283 rows × 12 columns</p>\n",
       "</div>"
      ],
      "text/plain": [
       "                   company_permalink  \\\n",
       "0                /organization/-fame   \n",
       "1                /organization/90min   \n",
       "2                /organization/90min   \n",
       "3                /organization/90min   \n",
       "4      /organization/all-def-digital   \n",
       "...                              ...   \n",
       "41278            /organization/yapta   \n",
       "41279            /organization/yapta   \n",
       "41280            /organization/yapta   \n",
       "41281           /organization/ziftit   \n",
       "41282     /organization/zonarsystems   \n",
       "\n",
       "                               funding_round_permalink funding_round_type  \\\n",
       "0      /funding-round/9a01d05418af9f794eebff7ace91f638            venture   \n",
       "1      /funding-round/21a2cbf6f2fb2a1c2a61e04bf930dfe6            venture   \n",
       "2      /funding-round/bd626ed022f5c66574b1afe234f3c90d            venture   \n",
       "3      /funding-round/fd4b15e8c97ee2ffc0acccdbe1a98810            venture   \n",
       "4      /funding-round/452a2342fe720285c3b92e9bd927d9ba            venture   \n",
       "...                                                ...                ...   \n",
       "41278  /funding-round/b1777df10578e852be3afbe3bc325435            venture   \n",
       "41279  /funding-round/ed75e1064eb8b50c01c2e0b691ca9f1e            venture   \n",
       "41280  /funding-round/fc066baf3121b060b574214612a6c946            venture   \n",
       "41281  /funding-round/d5713b26dbc5e0c65ccc426377449435            venture   \n",
       "41282  /funding-round/f0126dbea5d6075d8d4a1c2d106d9eca            venture   \n",
       "\n",
       "        funded_at  raised_amount_usd             name  \\\n",
       "0      05-01-2015         10000000.0            #fame   \n",
       "1      06-10-2015         15000000.0            90min   \n",
       "2      07-05-2013          5800000.0            90min   \n",
       "3      26-03-2014         18000000.0            90min   \n",
       "4      06-08-2014          5000000.0  All Def Digital   \n",
       "...           ...                ...              ...   \n",
       "41278  22-07-2013          4220000.0            Yapta   \n",
       "41279  25-06-2009          2000000.0            Yapta   \n",
       "41280  29-07-2015          1786563.0            Yapta   \n",
       "41281  09-07-2013          4000000.0           Ziftit   \n",
       "41282  08-07-2015         50000000.0    Zonar Systems   \n",
       "\n",
       "                           category_list_x     status country_code  \\\n",
       "0                                    Media  operating          IND   \n",
       "1      Media|News|Publishing|Soccer|Sports  operating          GBR   \n",
       "2      Media|News|Publishing|Soccer|Sports  operating          GBR   \n",
       "3      Media|News|Publishing|Soccer|Sports  operating          GBR   \n",
       "4                                    Media  operating          USA   \n",
       "...                                    ...        ...          ...   \n",
       "41278       Tracking|Transportation|Travel  operating          USA   \n",
       "41279       Tracking|Transportation|Travel  operating          USA   \n",
       "41280       Tracking|Transportation|Travel  operating          USA   \n",
       "41281             Gift Registries|Shopping     closed          USA   \n",
       "41282             Task Management|Tracking  operating          USA   \n",
       "\n",
       "        primary_sector  category_list_y    main_sector  \n",
       "0                Media            Media  Entertainment  \n",
       "1                Media            Media  Entertainment  \n",
       "2                Media            Media  Entertainment  \n",
       "3                Media            Media  Entertainment  \n",
       "4                Media            Media  Entertainment  \n",
       "...                ...              ...            ...  \n",
       "41278         Tracking         Tracking         Others  \n",
       "41279         Tracking         Tracking         Others  \n",
       "41280         Tracking         Tracking         Others  \n",
       "41281  Gift registries  Gift registries         Others  \n",
       "41282  Task management  Task management         Others  \n",
       "\n",
       "[41283 rows x 12 columns]"
      ]
     },
     "execution_count": 1231,
     "metadata": {},
     "output_type": "execute_result"
    }
   ],
   "source": [
    "master_frame.merge(mapping, how='inner', left_on='primary_sector', right_on='category_list')"
   ]
  },
  {
   "cell_type": "code",
   "execution_count": 1233,
   "metadata": {},
   "outputs": [],
   "source": [
    "#now, we can properly merged all 41283 rows in master_frame with mapping\n",
    "\n",
    "master_frame = master_frame.merge(mapping, how='inner', left_on='primary_sector', right_on='category_list')"
   ]
  },
  {
   "cell_type": "code",
   "execution_count": 1236,
   "metadata": {},
   "outputs": [],
   "source": [
    "master_frame.drop(columns='category_list_y', inplace=True)"
   ]
  },
  {
   "cell_type": "code",
   "execution_count": 1237,
   "metadata": {},
   "outputs": [
    {
     "data": {
      "text/html": [
       "<div>\n",
       "<style scoped>\n",
       "    .dataframe tbody tr th:only-of-type {\n",
       "        vertical-align: middle;\n",
       "    }\n",
       "\n",
       "    .dataframe tbody tr th {\n",
       "        vertical-align: top;\n",
       "    }\n",
       "\n",
       "    .dataframe thead th {\n",
       "        text-align: right;\n",
       "    }\n",
       "</style>\n",
       "<table border=\"1\" class=\"dataframe\">\n",
       "  <thead>\n",
       "    <tr style=\"text-align: right;\">\n",
       "      <th></th>\n",
       "      <th>company_permalink</th>\n",
       "      <th>funding_round_permalink</th>\n",
       "      <th>funding_round_type</th>\n",
       "      <th>funded_at</th>\n",
       "      <th>raised_amount_usd</th>\n",
       "      <th>name</th>\n",
       "      <th>category_list_x</th>\n",
       "      <th>status</th>\n",
       "      <th>country_code</th>\n",
       "      <th>primary_sector</th>\n",
       "      <th>main_sector</th>\n",
       "    </tr>\n",
       "  </thead>\n",
       "  <tbody>\n",
       "    <tr>\n",
       "      <th>0</th>\n",
       "      <td>/organization/-fame</td>\n",
       "      <td>/funding-round/9a01d05418af9f794eebff7ace91f638</td>\n",
       "      <td>venture</td>\n",
       "      <td>05-01-2015</td>\n",
       "      <td>10000000.0</td>\n",
       "      <td>#fame</td>\n",
       "      <td>Media</td>\n",
       "      <td>operating</td>\n",
       "      <td>IND</td>\n",
       "      <td>Media</td>\n",
       "      <td>Entertainment</td>\n",
       "    </tr>\n",
       "    <tr>\n",
       "      <th>1</th>\n",
       "      <td>/organization/90min</td>\n",
       "      <td>/funding-round/21a2cbf6f2fb2a1c2a61e04bf930dfe6</td>\n",
       "      <td>venture</td>\n",
       "      <td>06-10-2015</td>\n",
       "      <td>15000000.0</td>\n",
       "      <td>90min</td>\n",
       "      <td>Media|News|Publishing|Soccer|Sports</td>\n",
       "      <td>operating</td>\n",
       "      <td>GBR</td>\n",
       "      <td>Media</td>\n",
       "      <td>Entertainment</td>\n",
       "    </tr>\n",
       "    <tr>\n",
       "      <th>2</th>\n",
       "      <td>/organization/90min</td>\n",
       "      <td>/funding-round/bd626ed022f5c66574b1afe234f3c90d</td>\n",
       "      <td>venture</td>\n",
       "      <td>07-05-2013</td>\n",
       "      <td>5800000.0</td>\n",
       "      <td>90min</td>\n",
       "      <td>Media|News|Publishing|Soccer|Sports</td>\n",
       "      <td>operating</td>\n",
       "      <td>GBR</td>\n",
       "      <td>Media</td>\n",
       "      <td>Entertainment</td>\n",
       "    </tr>\n",
       "    <tr>\n",
       "      <th>3</th>\n",
       "      <td>/organization/90min</td>\n",
       "      <td>/funding-round/fd4b15e8c97ee2ffc0acccdbe1a98810</td>\n",
       "      <td>venture</td>\n",
       "      <td>26-03-2014</td>\n",
       "      <td>18000000.0</td>\n",
       "      <td>90min</td>\n",
       "      <td>Media|News|Publishing|Soccer|Sports</td>\n",
       "      <td>operating</td>\n",
       "      <td>GBR</td>\n",
       "      <td>Media</td>\n",
       "      <td>Entertainment</td>\n",
       "    </tr>\n",
       "    <tr>\n",
       "      <th>4</th>\n",
       "      <td>/organization/all-def-digital</td>\n",
       "      <td>/funding-round/452a2342fe720285c3b92e9bd927d9ba</td>\n",
       "      <td>venture</td>\n",
       "      <td>06-08-2014</td>\n",
       "      <td>5000000.0</td>\n",
       "      <td>All Def Digital</td>\n",
       "      <td>Media</td>\n",
       "      <td>operating</td>\n",
       "      <td>USA</td>\n",
       "      <td>Media</td>\n",
       "      <td>Entertainment</td>\n",
       "    </tr>\n",
       "    <tr>\n",
       "      <th>...</th>\n",
       "      <td>...</td>\n",
       "      <td>...</td>\n",
       "      <td>...</td>\n",
       "      <td>...</td>\n",
       "      <td>...</td>\n",
       "      <td>...</td>\n",
       "      <td>...</td>\n",
       "      <td>...</td>\n",
       "      <td>...</td>\n",
       "      <td>...</td>\n",
       "      <td>...</td>\n",
       "    </tr>\n",
       "    <tr>\n",
       "      <th>41278</th>\n",
       "      <td>/organization/yapta</td>\n",
       "      <td>/funding-round/b1777df10578e852be3afbe3bc325435</td>\n",
       "      <td>venture</td>\n",
       "      <td>22-07-2013</td>\n",
       "      <td>4220000.0</td>\n",
       "      <td>Yapta</td>\n",
       "      <td>Tracking|Transportation|Travel</td>\n",
       "      <td>operating</td>\n",
       "      <td>USA</td>\n",
       "      <td>Tracking</td>\n",
       "      <td>Others</td>\n",
       "    </tr>\n",
       "    <tr>\n",
       "      <th>41279</th>\n",
       "      <td>/organization/yapta</td>\n",
       "      <td>/funding-round/ed75e1064eb8b50c01c2e0b691ca9f1e</td>\n",
       "      <td>venture</td>\n",
       "      <td>25-06-2009</td>\n",
       "      <td>2000000.0</td>\n",
       "      <td>Yapta</td>\n",
       "      <td>Tracking|Transportation|Travel</td>\n",
       "      <td>operating</td>\n",
       "      <td>USA</td>\n",
       "      <td>Tracking</td>\n",
       "      <td>Others</td>\n",
       "    </tr>\n",
       "    <tr>\n",
       "      <th>41280</th>\n",
       "      <td>/organization/yapta</td>\n",
       "      <td>/funding-round/fc066baf3121b060b574214612a6c946</td>\n",
       "      <td>venture</td>\n",
       "      <td>29-07-2015</td>\n",
       "      <td>1786563.0</td>\n",
       "      <td>Yapta</td>\n",
       "      <td>Tracking|Transportation|Travel</td>\n",
       "      <td>operating</td>\n",
       "      <td>USA</td>\n",
       "      <td>Tracking</td>\n",
       "      <td>Others</td>\n",
       "    </tr>\n",
       "    <tr>\n",
       "      <th>41281</th>\n",
       "      <td>/organization/ziftit</td>\n",
       "      <td>/funding-round/d5713b26dbc5e0c65ccc426377449435</td>\n",
       "      <td>venture</td>\n",
       "      <td>09-07-2013</td>\n",
       "      <td>4000000.0</td>\n",
       "      <td>Ziftit</td>\n",
       "      <td>Gift Registries|Shopping</td>\n",
       "      <td>closed</td>\n",
       "      <td>USA</td>\n",
       "      <td>Gift registries</td>\n",
       "      <td>Others</td>\n",
       "    </tr>\n",
       "    <tr>\n",
       "      <th>41282</th>\n",
       "      <td>/organization/zonarsystems</td>\n",
       "      <td>/funding-round/f0126dbea5d6075d8d4a1c2d106d9eca</td>\n",
       "      <td>venture</td>\n",
       "      <td>08-07-2015</td>\n",
       "      <td>50000000.0</td>\n",
       "      <td>Zonar Systems</td>\n",
       "      <td>Task Management|Tracking</td>\n",
       "      <td>operating</td>\n",
       "      <td>USA</td>\n",
       "      <td>Task management</td>\n",
       "      <td>Others</td>\n",
       "    </tr>\n",
       "  </tbody>\n",
       "</table>\n",
       "<p>41283 rows × 11 columns</p>\n",
       "</div>"
      ],
      "text/plain": [
       "                   company_permalink  \\\n",
       "0                /organization/-fame   \n",
       "1                /organization/90min   \n",
       "2                /organization/90min   \n",
       "3                /organization/90min   \n",
       "4      /organization/all-def-digital   \n",
       "...                              ...   \n",
       "41278            /organization/yapta   \n",
       "41279            /organization/yapta   \n",
       "41280            /organization/yapta   \n",
       "41281           /organization/ziftit   \n",
       "41282     /organization/zonarsystems   \n",
       "\n",
       "                               funding_round_permalink funding_round_type  \\\n",
       "0      /funding-round/9a01d05418af9f794eebff7ace91f638            venture   \n",
       "1      /funding-round/21a2cbf6f2fb2a1c2a61e04bf930dfe6            venture   \n",
       "2      /funding-round/bd626ed022f5c66574b1afe234f3c90d            venture   \n",
       "3      /funding-round/fd4b15e8c97ee2ffc0acccdbe1a98810            venture   \n",
       "4      /funding-round/452a2342fe720285c3b92e9bd927d9ba            venture   \n",
       "...                                                ...                ...   \n",
       "41278  /funding-round/b1777df10578e852be3afbe3bc325435            venture   \n",
       "41279  /funding-round/ed75e1064eb8b50c01c2e0b691ca9f1e            venture   \n",
       "41280  /funding-round/fc066baf3121b060b574214612a6c946            venture   \n",
       "41281  /funding-round/d5713b26dbc5e0c65ccc426377449435            venture   \n",
       "41282  /funding-round/f0126dbea5d6075d8d4a1c2d106d9eca            venture   \n",
       "\n",
       "        funded_at  raised_amount_usd             name  \\\n",
       "0      05-01-2015         10000000.0            #fame   \n",
       "1      06-10-2015         15000000.0            90min   \n",
       "2      07-05-2013          5800000.0            90min   \n",
       "3      26-03-2014         18000000.0            90min   \n",
       "4      06-08-2014          5000000.0  All Def Digital   \n",
       "...           ...                ...              ...   \n",
       "41278  22-07-2013          4220000.0            Yapta   \n",
       "41279  25-06-2009          2000000.0            Yapta   \n",
       "41280  29-07-2015          1786563.0            Yapta   \n",
       "41281  09-07-2013          4000000.0           Ziftit   \n",
       "41282  08-07-2015         50000000.0    Zonar Systems   \n",
       "\n",
       "                           category_list_x     status country_code  \\\n",
       "0                                    Media  operating          IND   \n",
       "1      Media|News|Publishing|Soccer|Sports  operating          GBR   \n",
       "2      Media|News|Publishing|Soccer|Sports  operating          GBR   \n",
       "3      Media|News|Publishing|Soccer|Sports  operating          GBR   \n",
       "4                                    Media  operating          USA   \n",
       "...                                    ...        ...          ...   \n",
       "41278       Tracking|Transportation|Travel  operating          USA   \n",
       "41279       Tracking|Transportation|Travel  operating          USA   \n",
       "41280       Tracking|Transportation|Travel  operating          USA   \n",
       "41281             Gift Registries|Shopping     closed          USA   \n",
       "41282             Task Management|Tracking  operating          USA   \n",
       "\n",
       "        primary_sector    main_sector  \n",
       "0                Media  Entertainment  \n",
       "1                Media  Entertainment  \n",
       "2                Media  Entertainment  \n",
       "3                Media  Entertainment  \n",
       "4                Media  Entertainment  \n",
       "...                ...            ...  \n",
       "41278         Tracking         Others  \n",
       "41279         Tracking         Others  \n",
       "41280         Tracking         Others  \n",
       "41281  Gift registries         Others  \n",
       "41282  Task management         Others  \n",
       "\n",
       "[41283 rows x 11 columns]"
      ]
     },
     "execution_count": 1237,
     "metadata": {},
     "output_type": "execute_result"
    }
   ],
   "source": [
    "master_frame"
   ]
  },
  {
   "cell_type": "markdown",
   "metadata": {},
   "source": [
    " "
   ]
  },
  {
   "cell_type": "markdown",
   "metadata": {},
   "source": [
    " "
   ]
  },
  {
   "cell_type": "markdown",
   "metadata": {},
   "source": [
    " "
   ]
  },
  {
   "cell_type": "markdown",
   "metadata": {},
   "source": [
    "# Checkpoint 5: Sector Analysis 2"
   ]
  },
  {
   "cell_type": "code",
   "execution_count": 1256,
   "metadata": {
    "scrolled": true
   },
   "outputs": [
    {
     "data": {
      "text/plain": [
       "(41283, 11)"
      ]
     },
     "execution_count": 1256,
     "metadata": {},
     "output_type": "execute_result"
    }
   ],
   "source": [
    "master_frame.shape"
   ]
  },
  {
   "cell_type": "code",
   "execution_count": 1257,
   "metadata": {},
   "outputs": [
    {
     "data": {
      "text/html": [
       "<div>\n",
       "<style scoped>\n",
       "    .dataframe tbody tr th:only-of-type {\n",
       "        vertical-align: middle;\n",
       "    }\n",
       "\n",
       "    .dataframe tbody tr th {\n",
       "        vertical-align: top;\n",
       "    }\n",
       "\n",
       "    .dataframe thead th {\n",
       "        text-align: right;\n",
       "    }\n",
       "</style>\n",
       "<table border=\"1\" class=\"dataframe\">\n",
       "  <thead>\n",
       "    <tr style=\"text-align: right;\">\n",
       "      <th></th>\n",
       "      <th>company_permalink</th>\n",
       "      <th>funding_round_permalink</th>\n",
       "      <th>funding_round_type</th>\n",
       "      <th>funded_at</th>\n",
       "      <th>raised_amount_usd</th>\n",
       "      <th>name</th>\n",
       "      <th>category_list_x</th>\n",
       "      <th>status</th>\n",
       "      <th>country_code</th>\n",
       "      <th>primary_sector</th>\n",
       "      <th>main_sector</th>\n",
       "    </tr>\n",
       "  </thead>\n",
       "  <tbody>\n",
       "    <tr>\n",
       "      <th>0</th>\n",
       "      <td>/organization/-fame</td>\n",
       "      <td>/funding-round/9a01d05418af9f794eebff7ace91f638</td>\n",
       "      <td>venture</td>\n",
       "      <td>05-01-2015</td>\n",
       "      <td>10000000.0</td>\n",
       "      <td>#fame</td>\n",
       "      <td>Media</td>\n",
       "      <td>operating</td>\n",
       "      <td>IND</td>\n",
       "      <td>Media</td>\n",
       "      <td>Entertainment</td>\n",
       "    </tr>\n",
       "    <tr>\n",
       "      <th>1</th>\n",
       "      <td>/organization/90min</td>\n",
       "      <td>/funding-round/21a2cbf6f2fb2a1c2a61e04bf930dfe6</td>\n",
       "      <td>venture</td>\n",
       "      <td>06-10-2015</td>\n",
       "      <td>15000000.0</td>\n",
       "      <td>90min</td>\n",
       "      <td>Media|News|Publishing|Soccer|Sports</td>\n",
       "      <td>operating</td>\n",
       "      <td>GBR</td>\n",
       "      <td>Media</td>\n",
       "      <td>Entertainment</td>\n",
       "    </tr>\n",
       "    <tr>\n",
       "      <th>2</th>\n",
       "      <td>/organization/90min</td>\n",
       "      <td>/funding-round/bd626ed022f5c66574b1afe234f3c90d</td>\n",
       "      <td>venture</td>\n",
       "      <td>07-05-2013</td>\n",
       "      <td>5800000.0</td>\n",
       "      <td>90min</td>\n",
       "      <td>Media|News|Publishing|Soccer|Sports</td>\n",
       "      <td>operating</td>\n",
       "      <td>GBR</td>\n",
       "      <td>Media</td>\n",
       "      <td>Entertainment</td>\n",
       "    </tr>\n",
       "    <tr>\n",
       "      <th>3</th>\n",
       "      <td>/organization/90min</td>\n",
       "      <td>/funding-round/fd4b15e8c97ee2ffc0acccdbe1a98810</td>\n",
       "      <td>venture</td>\n",
       "      <td>26-03-2014</td>\n",
       "      <td>18000000.0</td>\n",
       "      <td>90min</td>\n",
       "      <td>Media|News|Publishing|Soccer|Sports</td>\n",
       "      <td>operating</td>\n",
       "      <td>GBR</td>\n",
       "      <td>Media</td>\n",
       "      <td>Entertainment</td>\n",
       "    </tr>\n",
       "    <tr>\n",
       "      <th>4</th>\n",
       "      <td>/organization/all-def-digital</td>\n",
       "      <td>/funding-round/452a2342fe720285c3b92e9bd927d9ba</td>\n",
       "      <td>venture</td>\n",
       "      <td>06-08-2014</td>\n",
       "      <td>5000000.0</td>\n",
       "      <td>All Def Digital</td>\n",
       "      <td>Media</td>\n",
       "      <td>operating</td>\n",
       "      <td>USA</td>\n",
       "      <td>Media</td>\n",
       "      <td>Entertainment</td>\n",
       "    </tr>\n",
       "    <tr>\n",
       "      <th>...</th>\n",
       "      <td>...</td>\n",
       "      <td>...</td>\n",
       "      <td>...</td>\n",
       "      <td>...</td>\n",
       "      <td>...</td>\n",
       "      <td>...</td>\n",
       "      <td>...</td>\n",
       "      <td>...</td>\n",
       "      <td>...</td>\n",
       "      <td>...</td>\n",
       "      <td>...</td>\n",
       "    </tr>\n",
       "    <tr>\n",
       "      <th>41278</th>\n",
       "      <td>/organization/yapta</td>\n",
       "      <td>/funding-round/b1777df10578e852be3afbe3bc325435</td>\n",
       "      <td>venture</td>\n",
       "      <td>22-07-2013</td>\n",
       "      <td>4220000.0</td>\n",
       "      <td>Yapta</td>\n",
       "      <td>Tracking|Transportation|Travel</td>\n",
       "      <td>operating</td>\n",
       "      <td>USA</td>\n",
       "      <td>Tracking</td>\n",
       "      <td>Others</td>\n",
       "    </tr>\n",
       "    <tr>\n",
       "      <th>41279</th>\n",
       "      <td>/organization/yapta</td>\n",
       "      <td>/funding-round/ed75e1064eb8b50c01c2e0b691ca9f1e</td>\n",
       "      <td>venture</td>\n",
       "      <td>25-06-2009</td>\n",
       "      <td>2000000.0</td>\n",
       "      <td>Yapta</td>\n",
       "      <td>Tracking|Transportation|Travel</td>\n",
       "      <td>operating</td>\n",
       "      <td>USA</td>\n",
       "      <td>Tracking</td>\n",
       "      <td>Others</td>\n",
       "    </tr>\n",
       "    <tr>\n",
       "      <th>41280</th>\n",
       "      <td>/organization/yapta</td>\n",
       "      <td>/funding-round/fc066baf3121b060b574214612a6c946</td>\n",
       "      <td>venture</td>\n",
       "      <td>29-07-2015</td>\n",
       "      <td>1786563.0</td>\n",
       "      <td>Yapta</td>\n",
       "      <td>Tracking|Transportation|Travel</td>\n",
       "      <td>operating</td>\n",
       "      <td>USA</td>\n",
       "      <td>Tracking</td>\n",
       "      <td>Others</td>\n",
       "    </tr>\n",
       "    <tr>\n",
       "      <th>41281</th>\n",
       "      <td>/organization/ziftit</td>\n",
       "      <td>/funding-round/d5713b26dbc5e0c65ccc426377449435</td>\n",
       "      <td>venture</td>\n",
       "      <td>09-07-2013</td>\n",
       "      <td>4000000.0</td>\n",
       "      <td>Ziftit</td>\n",
       "      <td>Gift Registries|Shopping</td>\n",
       "      <td>closed</td>\n",
       "      <td>USA</td>\n",
       "      <td>Gift registries</td>\n",
       "      <td>Others</td>\n",
       "    </tr>\n",
       "    <tr>\n",
       "      <th>41282</th>\n",
       "      <td>/organization/zonarsystems</td>\n",
       "      <td>/funding-round/f0126dbea5d6075d8d4a1c2d106d9eca</td>\n",
       "      <td>venture</td>\n",
       "      <td>08-07-2015</td>\n",
       "      <td>50000000.0</td>\n",
       "      <td>Zonar Systems</td>\n",
       "      <td>Task Management|Tracking</td>\n",
       "      <td>operating</td>\n",
       "      <td>USA</td>\n",
       "      <td>Task management</td>\n",
       "      <td>Others</td>\n",
       "    </tr>\n",
       "  </tbody>\n",
       "</table>\n",
       "<p>41283 rows × 11 columns</p>\n",
       "</div>"
      ],
      "text/plain": [
       "                   company_permalink  \\\n",
       "0                /organization/-fame   \n",
       "1                /organization/90min   \n",
       "2                /organization/90min   \n",
       "3                /organization/90min   \n",
       "4      /organization/all-def-digital   \n",
       "...                              ...   \n",
       "41278            /organization/yapta   \n",
       "41279            /organization/yapta   \n",
       "41280            /organization/yapta   \n",
       "41281           /organization/ziftit   \n",
       "41282     /organization/zonarsystems   \n",
       "\n",
       "                               funding_round_permalink funding_round_type  \\\n",
       "0      /funding-round/9a01d05418af9f794eebff7ace91f638            venture   \n",
       "1      /funding-round/21a2cbf6f2fb2a1c2a61e04bf930dfe6            venture   \n",
       "2      /funding-round/bd626ed022f5c66574b1afe234f3c90d            venture   \n",
       "3      /funding-round/fd4b15e8c97ee2ffc0acccdbe1a98810            venture   \n",
       "4      /funding-round/452a2342fe720285c3b92e9bd927d9ba            venture   \n",
       "...                                                ...                ...   \n",
       "41278  /funding-round/b1777df10578e852be3afbe3bc325435            venture   \n",
       "41279  /funding-round/ed75e1064eb8b50c01c2e0b691ca9f1e            venture   \n",
       "41280  /funding-round/fc066baf3121b060b574214612a6c946            venture   \n",
       "41281  /funding-round/d5713b26dbc5e0c65ccc426377449435            venture   \n",
       "41282  /funding-round/f0126dbea5d6075d8d4a1c2d106d9eca            venture   \n",
       "\n",
       "        funded_at  raised_amount_usd             name  \\\n",
       "0      05-01-2015         10000000.0            #fame   \n",
       "1      06-10-2015         15000000.0            90min   \n",
       "2      07-05-2013          5800000.0            90min   \n",
       "3      26-03-2014         18000000.0            90min   \n",
       "4      06-08-2014          5000000.0  All Def Digital   \n",
       "...           ...                ...              ...   \n",
       "41278  22-07-2013          4220000.0            Yapta   \n",
       "41279  25-06-2009          2000000.0            Yapta   \n",
       "41280  29-07-2015          1786563.0            Yapta   \n",
       "41281  09-07-2013          4000000.0           Ziftit   \n",
       "41282  08-07-2015         50000000.0    Zonar Systems   \n",
       "\n",
       "                           category_list_x     status country_code  \\\n",
       "0                                    Media  operating          IND   \n",
       "1      Media|News|Publishing|Soccer|Sports  operating          GBR   \n",
       "2      Media|News|Publishing|Soccer|Sports  operating          GBR   \n",
       "3      Media|News|Publishing|Soccer|Sports  operating          GBR   \n",
       "4                                    Media  operating          USA   \n",
       "...                                    ...        ...          ...   \n",
       "41278       Tracking|Transportation|Travel  operating          USA   \n",
       "41279       Tracking|Transportation|Travel  operating          USA   \n",
       "41280       Tracking|Transportation|Travel  operating          USA   \n",
       "41281             Gift Registries|Shopping     closed          USA   \n",
       "41282             Task Management|Tracking  operating          USA   \n",
       "\n",
       "        primary_sector    main_sector  \n",
       "0                Media  Entertainment  \n",
       "1                Media  Entertainment  \n",
       "2                Media  Entertainment  \n",
       "3                Media  Entertainment  \n",
       "4                Media  Entertainment  \n",
       "...                ...            ...  \n",
       "41278         Tracking         Others  \n",
       "41279         Tracking         Others  \n",
       "41280         Tracking         Others  \n",
       "41281  Gift registries         Others  \n",
       "41282  Task management         Others  \n",
       "\n",
       "[41283 rows x 11 columns]"
      ]
     },
     "execution_count": 1257,
     "metadata": {},
     "output_type": "execute_result"
    }
   ],
   "source": [
    "master_frame"
   ]
  },
  {
   "cell_type": "code",
   "execution_count": 1244,
   "metadata": {},
   "outputs": [
    {
     "data": {
      "text/html": [
       "<div>\n",
       "<style scoped>\n",
       "    .dataframe tbody tr th:only-of-type {\n",
       "        vertical-align: middle;\n",
       "    }\n",
       "\n",
       "    .dataframe tbody tr th {\n",
       "        vertical-align: top;\n",
       "    }\n",
       "\n",
       "    .dataframe thead th {\n",
       "        text-align: right;\n",
       "    }\n",
       "</style>\n",
       "<table border=\"1\" class=\"dataframe\">\n",
       "  <thead>\n",
       "    <tr style=\"text-align: right;\">\n",
       "      <th></th>\n",
       "      <th>company_permalink</th>\n",
       "      <th>funding_round_permalink</th>\n",
       "      <th>funding_round_type</th>\n",
       "      <th>funded_at</th>\n",
       "      <th>raised_amount_usd</th>\n",
       "      <th>name</th>\n",
       "      <th>category_list_x</th>\n",
       "      <th>status</th>\n",
       "      <th>country_code</th>\n",
       "      <th>primary_sector</th>\n",
       "      <th>main_sector</th>\n",
       "    </tr>\n",
       "  </thead>\n",
       "  <tbody>\n",
       "    <tr>\n",
       "      <th>0</th>\n",
       "      <td>/organization/-fame</td>\n",
       "      <td>/funding-round/9a01d05418af9f794eebff7ace91f638</td>\n",
       "      <td>venture</td>\n",
       "      <td>05-01-2015</td>\n",
       "      <td>10000000.0</td>\n",
       "      <td>#fame</td>\n",
       "      <td>Media</td>\n",
       "      <td>operating</td>\n",
       "      <td>IND</td>\n",
       "      <td>Media</td>\n",
       "      <td>Entertainment</td>\n",
       "    </tr>\n",
       "    <tr>\n",
       "      <th>1</th>\n",
       "      <td>/organization/90min</td>\n",
       "      <td>/funding-round/21a2cbf6f2fb2a1c2a61e04bf930dfe6</td>\n",
       "      <td>venture</td>\n",
       "      <td>06-10-2015</td>\n",
       "      <td>15000000.0</td>\n",
       "      <td>90min</td>\n",
       "      <td>Media|News|Publishing|Soccer|Sports</td>\n",
       "      <td>operating</td>\n",
       "      <td>GBR</td>\n",
       "      <td>Media</td>\n",
       "      <td>Entertainment</td>\n",
       "    </tr>\n",
       "    <tr>\n",
       "      <th>2</th>\n",
       "      <td>/organization/90min</td>\n",
       "      <td>/funding-round/bd626ed022f5c66574b1afe234f3c90d</td>\n",
       "      <td>venture</td>\n",
       "      <td>07-05-2013</td>\n",
       "      <td>5800000.0</td>\n",
       "      <td>90min</td>\n",
       "      <td>Media|News|Publishing|Soccer|Sports</td>\n",
       "      <td>operating</td>\n",
       "      <td>GBR</td>\n",
       "      <td>Media</td>\n",
       "      <td>Entertainment</td>\n",
       "    </tr>\n",
       "    <tr>\n",
       "      <th>4</th>\n",
       "      <td>/organization/all-def-digital</td>\n",
       "      <td>/funding-round/452a2342fe720285c3b92e9bd927d9ba</td>\n",
       "      <td>venture</td>\n",
       "      <td>06-08-2014</td>\n",
       "      <td>5000000.0</td>\n",
       "      <td>All Def Digital</td>\n",
       "      <td>Media</td>\n",
       "      <td>operating</td>\n",
       "      <td>USA</td>\n",
       "      <td>Media</td>\n",
       "      <td>Entertainment</td>\n",
       "    </tr>\n",
       "    <tr>\n",
       "      <th>14</th>\n",
       "      <td>/organization/chefs-feed</td>\n",
       "      <td>/funding-round/adca195749ae9ace84684723fbe75e5b</td>\n",
       "      <td>venture</td>\n",
       "      <td>26-02-2015</td>\n",
       "      <td>5000000.0</td>\n",
       "      <td>ChefsFeed</td>\n",
       "      <td>Media|Mobile|Restaurants|Technology</td>\n",
       "      <td>operating</td>\n",
       "      <td>USA</td>\n",
       "      <td>Media</td>\n",
       "      <td>Entertainment</td>\n",
       "    </tr>\n",
       "    <tr>\n",
       "      <th>...</th>\n",
       "      <td>...</td>\n",
       "      <td>...</td>\n",
       "      <td>...</td>\n",
       "      <td>...</td>\n",
       "      <td>...</td>\n",
       "      <td>...</td>\n",
       "      <td>...</td>\n",
       "      <td>...</td>\n",
       "      <td>...</td>\n",
       "      <td>...</td>\n",
       "      <td>...</td>\n",
       "    </tr>\n",
       "    <tr>\n",
       "      <th>41269</th>\n",
       "      <td>/organization/vector-watch</td>\n",
       "      <td>/funding-round/b010e14f723a45d5c8fadb5a857c620b</td>\n",
       "      <td>venture</td>\n",
       "      <td>25-11-2015</td>\n",
       "      <td>5000000.0</td>\n",
       "      <td>Vector Watch</td>\n",
       "      <td>Watch|Wearables</td>\n",
       "      <td>operating</td>\n",
       "      <td>GBR</td>\n",
       "      <td>Watch</td>\n",
       "      <td>Others</td>\n",
       "    </tr>\n",
       "    <tr>\n",
       "      <th>41270</th>\n",
       "      <td>/organization/vision-internet</td>\n",
       "      <td>/funding-round/3890ce75d619c7141afaa4acda1113c4</td>\n",
       "      <td>venture</td>\n",
       "      <td>02-09-2014</td>\n",
       "      <td>5000000.0</td>\n",
       "      <td>Vision Internet</td>\n",
       "      <td>Government Innovation|Internet</td>\n",
       "      <td>operating</td>\n",
       "      <td>USA</td>\n",
       "      <td>Government innovation</td>\n",
       "      <td>Others</td>\n",
       "    </tr>\n",
       "    <tr>\n",
       "      <th>41271</th>\n",
       "      <td>/organization/washio</td>\n",
       "      <td>/funding-round/59026d26012c63b42fa2984c8f3c41ec</td>\n",
       "      <td>venture</td>\n",
       "      <td>09-06-2014</td>\n",
       "      <td>10500000.0</td>\n",
       "      <td>Washio</td>\n",
       "      <td>Service Industries</td>\n",
       "      <td>operating</td>\n",
       "      <td>USA</td>\n",
       "      <td>Service industries</td>\n",
       "      <td>Others</td>\n",
       "    </tr>\n",
       "    <tr>\n",
       "      <th>41272</th>\n",
       "      <td>/organization/windshield</td>\n",
       "      <td>/funding-round/a0dd97cfbfc9906b32d837618e0fb31e</td>\n",
       "      <td>venture</td>\n",
       "      <td>05-05-2015</td>\n",
       "      <td>5000000.0</td>\n",
       "      <td>Windshield</td>\n",
       "      <td>Virtual Workforces</td>\n",
       "      <td>operating</td>\n",
       "      <td>USA</td>\n",
       "      <td>Virtual workforces</td>\n",
       "      <td>Entertainment</td>\n",
       "    </tr>\n",
       "    <tr>\n",
       "      <th>41276</th>\n",
       "      <td>/organization/yapta</td>\n",
       "      <td>/funding-round/2bef2981d0db9747630882cc91e42ba5</td>\n",
       "      <td>venture</td>\n",
       "      <td>20-07-2011</td>\n",
       "      <td>5000000.0</td>\n",
       "      <td>Yapta</td>\n",
       "      <td>Tracking|Transportation|Travel</td>\n",
       "      <td>operating</td>\n",
       "      <td>USA</td>\n",
       "      <td>Tracking</td>\n",
       "      <td>Others</td>\n",
       "    </tr>\n",
       "  </tbody>\n",
       "</table>\n",
       "<p>15493 rows × 11 columns</p>\n",
       "</div>"
      ],
      "text/plain": [
       "                   company_permalink  \\\n",
       "0                /organization/-fame   \n",
       "1                /organization/90min   \n",
       "2                /organization/90min   \n",
       "4      /organization/all-def-digital   \n",
       "14          /organization/chefs-feed   \n",
       "...                              ...   \n",
       "41269     /organization/vector-watch   \n",
       "41270  /organization/vision-internet   \n",
       "41271           /organization/washio   \n",
       "41272       /organization/windshield   \n",
       "41276            /organization/yapta   \n",
       "\n",
       "                               funding_round_permalink funding_round_type  \\\n",
       "0      /funding-round/9a01d05418af9f794eebff7ace91f638            venture   \n",
       "1      /funding-round/21a2cbf6f2fb2a1c2a61e04bf930dfe6            venture   \n",
       "2      /funding-round/bd626ed022f5c66574b1afe234f3c90d            venture   \n",
       "4      /funding-round/452a2342fe720285c3b92e9bd927d9ba            venture   \n",
       "14     /funding-round/adca195749ae9ace84684723fbe75e5b            venture   \n",
       "...                                                ...                ...   \n",
       "41269  /funding-round/b010e14f723a45d5c8fadb5a857c620b            venture   \n",
       "41270  /funding-round/3890ce75d619c7141afaa4acda1113c4            venture   \n",
       "41271  /funding-round/59026d26012c63b42fa2984c8f3c41ec            venture   \n",
       "41272  /funding-round/a0dd97cfbfc9906b32d837618e0fb31e            venture   \n",
       "41276  /funding-round/2bef2981d0db9747630882cc91e42ba5            venture   \n",
       "\n",
       "        funded_at  raised_amount_usd             name  \\\n",
       "0      05-01-2015         10000000.0            #fame   \n",
       "1      06-10-2015         15000000.0            90min   \n",
       "2      07-05-2013          5800000.0            90min   \n",
       "4      06-08-2014          5000000.0  All Def Digital   \n",
       "14     26-02-2015          5000000.0        ChefsFeed   \n",
       "...           ...                ...              ...   \n",
       "41269  25-11-2015          5000000.0     Vector Watch   \n",
       "41270  02-09-2014          5000000.0  Vision Internet   \n",
       "41271  09-06-2014         10500000.0           Washio   \n",
       "41272  05-05-2015          5000000.0       Windshield   \n",
       "41276  20-07-2011          5000000.0            Yapta   \n",
       "\n",
       "                           category_list_x     status country_code  \\\n",
       "0                                    Media  operating          IND   \n",
       "1      Media|News|Publishing|Soccer|Sports  operating          GBR   \n",
       "2      Media|News|Publishing|Soccer|Sports  operating          GBR   \n",
       "4                                    Media  operating          USA   \n",
       "14     Media|Mobile|Restaurants|Technology  operating          USA   \n",
       "...                                    ...        ...          ...   \n",
       "41269                      Watch|Wearables  operating          GBR   \n",
       "41270       Government Innovation|Internet  operating          USA   \n",
       "41271                   Service Industries  operating          USA   \n",
       "41272                   Virtual Workforces  operating          USA   \n",
       "41276       Tracking|Transportation|Travel  operating          USA   \n",
       "\n",
       "              primary_sector    main_sector  \n",
       "0                      Media  Entertainment  \n",
       "1                      Media  Entertainment  \n",
       "2                      Media  Entertainment  \n",
       "4                      Media  Entertainment  \n",
       "14                     Media  Entertainment  \n",
       "...                      ...            ...  \n",
       "41269                  Watch         Others  \n",
       "41270  Government innovation         Others  \n",
       "41271     Service industries         Others  \n",
       "41272     Virtual workforces  Entertainment  \n",
       "41276               Tracking         Others  \n",
       "\n",
       "[15493 rows x 11 columns]"
      ]
     },
     "execution_count": 1244,
     "metadata": {},
     "output_type": "execute_result"
    }
   ],
   "source": [
    "# observations of 'venture' funding type  falling within the 5-15 million USD range\n",
    "\n",
    "master_frame.loc[(master_frame['raised_amount_usd'] >= 5000000) & (master_frame['raised_amount_usd'] <= 15000000)]"
   ]
  },
  {
   "cell_type": "markdown",
   "metadata": {},
   "source": [
    "Totally **15493 Investments** are made in these **three countries** in **venture funding_round_type**"
   ]
  },
  {
   "cell_type": "code",
   "execution_count": 1258,
   "metadata": {},
   "outputs": [
    {
     "data": {
      "text/plain": [
       "(14155, 11)"
      ]
     },
     "execution_count": 1258,
     "metadata": {},
     "output_type": "execute_result"
    }
   ],
   "source": [
    "# In USA, raised_amount_usd between 5M to 15M\n",
    "\n",
    "D1 = master_frame.loc[(master_frame['country_code'] == 'USA') & (master_frame['raised_amount_usd'] >= 5000000) & (master_frame['raised_amount_usd'] <= 15000000)]\n",
    "\n",
    "D1.shape"
   ]
  },
  {
   "cell_type": "code",
   "execution_count": 1259,
   "metadata": {},
   "outputs": [
    {
     "data": {
      "text/plain": [
       "(845, 11)"
      ]
     },
     "execution_count": 1259,
     "metadata": {},
     "output_type": "execute_result"
    }
   ],
   "source": [
    "# In GBR, raised_amount_usd between 5M to 15M\n",
    "\n",
    "D2 = master_frame.loc[(master_frame['country_code'] == 'GBR') & (master_frame['raised_amount_usd'] >= 5000000) & (master_frame['raised_amount_usd'] <= 15000000)]\n",
    "\n",
    "D2.shape"
   ]
  },
  {
   "cell_type": "code",
   "execution_count": 1260,
   "metadata": {},
   "outputs": [
    {
     "data": {
      "text/plain": [
       "(493, 11)"
      ]
     },
     "execution_count": 1260,
     "metadata": {},
     "output_type": "execute_result"
    }
   ],
   "source": [
    "# In IND, raised_amount_usd between 5M to 15M\n",
    "\n",
    "D3 = master_frame.loc[(master_frame['country_code'] == 'IND') & (master_frame['raised_amount_usd'] >= 5000000) & (master_frame['raised_amount_usd'] <= 15000000)]\n",
    "\n",
    "D3.shape"
   ]
  },
  {
   "cell_type": "code",
   "execution_count": 1262,
   "metadata": {},
   "outputs": [
    {
     "data": {
      "text/plain": [
       "15493"
      ]
     },
     "execution_count": 1262,
     "metadata": {},
     "output_type": "execute_result"
    }
   ],
   "source": [
    "totally = D1.shape[0] + D2.shape[0] + D3.shape[0]\n",
    "#14155+845+493\n",
    "\n",
    "totally"
   ]
  },
  {
   "cell_type": "markdown",
   "metadata": {},
   "source": [
    " "
   ]
  },
  {
   "cell_type": "markdown",
   "metadata": {},
   "source": [
    " "
   ]
  },
  {
   "cell_type": "markdown",
   "metadata": {},
   "source": [
    "### Country 1 Analysis - USA - D1 Dataframe"
   ]
  },
  {
   "cell_type": "code",
   "execution_count": 1263,
   "metadata": {
    "scrolled": true
   },
   "outputs": [
    {
     "data": {
      "text/html": [
       "<div>\n",
       "<style scoped>\n",
       "    .dataframe tbody tr th:only-of-type {\n",
       "        vertical-align: middle;\n",
       "    }\n",
       "\n",
       "    .dataframe tbody tr th {\n",
       "        vertical-align: top;\n",
       "    }\n",
       "\n",
       "    .dataframe thead th {\n",
       "        text-align: right;\n",
       "    }\n",
       "</style>\n",
       "<table border=\"1\" class=\"dataframe\">\n",
       "  <thead>\n",
       "    <tr style=\"text-align: right;\">\n",
       "      <th></th>\n",
       "      <th>company_permalink</th>\n",
       "      <th>funding_round_permalink</th>\n",
       "      <th>funding_round_type</th>\n",
       "      <th>funded_at</th>\n",
       "      <th>raised_amount_usd</th>\n",
       "      <th>name</th>\n",
       "      <th>category_list_x</th>\n",
       "      <th>status</th>\n",
       "      <th>country_code</th>\n",
       "      <th>primary_sector</th>\n",
       "      <th>main_sector</th>\n",
       "    </tr>\n",
       "  </thead>\n",
       "  <tbody>\n",
       "    <tr>\n",
       "      <th>4</th>\n",
       "      <td>/organization/all-def-digital</td>\n",
       "      <td>/funding-round/452a2342fe720285c3b92e9bd927d9ba</td>\n",
       "      <td>venture</td>\n",
       "      <td>06-08-2014</td>\n",
       "      <td>5000000.0</td>\n",
       "      <td>All Def Digital</td>\n",
       "      <td>Media</td>\n",
       "      <td>operating</td>\n",
       "      <td>USA</td>\n",
       "      <td>Media</td>\n",
       "      <td>Entertainment</td>\n",
       "    </tr>\n",
       "    <tr>\n",
       "      <th>14</th>\n",
       "      <td>/organization/chefs-feed</td>\n",
       "      <td>/funding-round/adca195749ae9ace84684723fbe75e5b</td>\n",
       "      <td>venture</td>\n",
       "      <td>26-02-2015</td>\n",
       "      <td>5000000.0</td>\n",
       "      <td>ChefsFeed</td>\n",
       "      <td>Media|Mobile|Restaurants|Technology</td>\n",
       "      <td>operating</td>\n",
       "      <td>USA</td>\n",
       "      <td>Media</td>\n",
       "      <td>Entertainment</td>\n",
       "    </tr>\n",
       "    <tr>\n",
       "      <th>20</th>\n",
       "      <td>/organization/huffingtonpost</td>\n",
       "      <td>/funding-round/7f05940c4d2dfecb8e50a0e5720e5065</td>\n",
       "      <td>venture</td>\n",
       "      <td>01-08-2006</td>\n",
       "      <td>5000000.0</td>\n",
       "      <td>The Huffington Post</td>\n",
       "      <td>Media|News|Publishing</td>\n",
       "      <td>acquired</td>\n",
       "      <td>USA</td>\n",
       "      <td>Media</td>\n",
       "      <td>Entertainment</td>\n",
       "    </tr>\n",
       "    <tr>\n",
       "      <th>21</th>\n",
       "      <td>/organization/huffingtonpost</td>\n",
       "      <td>/funding-round/9241ae16e08df17ebdc064e49e23035a</td>\n",
       "      <td>venture</td>\n",
       "      <td>01-09-2007</td>\n",
       "      <td>5000000.0</td>\n",
       "      <td>The Huffington Post</td>\n",
       "      <td>Media|News|Publishing</td>\n",
       "      <td>acquired</td>\n",
       "      <td>USA</td>\n",
       "      <td>Media</td>\n",
       "      <td>Entertainment</td>\n",
       "    </tr>\n",
       "    <tr>\n",
       "      <th>25</th>\n",
       "      <td>/organization/matchmine</td>\n",
       "      <td>/funding-round/41ac526630da57ad6eb9d02431b17657</td>\n",
       "      <td>venture</td>\n",
       "      <td>01-09-2007</td>\n",
       "      <td>10000000.0</td>\n",
       "      <td>MatchMine</td>\n",
       "      <td>Media|News|Reviews and Recommendations</td>\n",
       "      <td>closed</td>\n",
       "      <td>USA</td>\n",
       "      <td>Media</td>\n",
       "      <td>Entertainment</td>\n",
       "    </tr>\n",
       "  </tbody>\n",
       "</table>\n",
       "</div>"
      ],
      "text/plain": [
       "                company_permalink  \\\n",
       "4   /organization/all-def-digital   \n",
       "14       /organization/chefs-feed   \n",
       "20   /organization/huffingtonpost   \n",
       "21   /organization/huffingtonpost   \n",
       "25        /organization/matchmine   \n",
       "\n",
       "                            funding_round_permalink funding_round_type  \\\n",
       "4   /funding-round/452a2342fe720285c3b92e9bd927d9ba            venture   \n",
       "14  /funding-round/adca195749ae9ace84684723fbe75e5b            venture   \n",
       "20  /funding-round/7f05940c4d2dfecb8e50a0e5720e5065            venture   \n",
       "21  /funding-round/9241ae16e08df17ebdc064e49e23035a            venture   \n",
       "25  /funding-round/41ac526630da57ad6eb9d02431b17657            venture   \n",
       "\n",
       "     funded_at  raised_amount_usd                 name  \\\n",
       "4   06-08-2014          5000000.0      All Def Digital   \n",
       "14  26-02-2015          5000000.0            ChefsFeed   \n",
       "20  01-08-2006          5000000.0  The Huffington Post   \n",
       "21  01-09-2007          5000000.0  The Huffington Post   \n",
       "25  01-09-2007         10000000.0            MatchMine   \n",
       "\n",
       "                           category_list_x     status country_code  \\\n",
       "4                                    Media  operating          USA   \n",
       "14     Media|Mobile|Restaurants|Technology  operating          USA   \n",
       "20                   Media|News|Publishing   acquired          USA   \n",
       "21                   Media|News|Publishing   acquired          USA   \n",
       "25  Media|News|Reviews and Recommendations     closed          USA   \n",
       "\n",
       "   primary_sector    main_sector  \n",
       "4           Media  Entertainment  \n",
       "14          Media  Entertainment  \n",
       "20          Media  Entertainment  \n",
       "21          Media  Entertainment  \n",
       "25          Media  Entertainment  "
      ]
     },
     "execution_count": 1263,
     "metadata": {},
     "output_type": "execute_result"
    }
   ],
   "source": [
    "D1.head()"
   ]
  },
  {
   "cell_type": "code",
   "execution_count": 1264,
   "metadata": {},
   "outputs": [
    {
     "data": {
      "text/plain": [
       "14155"
      ]
     },
     "execution_count": 1264,
     "metadata": {},
     "output_type": "execute_result"
    }
   ],
   "source": [
    "# Total number of investment in USA(count)\n",
    "\n",
    "D1.shape[0]"
   ]
  },
  {
   "cell_type": "code",
   "execution_count": 950,
   "metadata": {
    "scrolled": false
   },
   "outputs": [
    {
     "data": {
      "text/plain": [
       "118221584223.0"
      ]
     },
     "execution_count": 950,
     "metadata": {},
     "output_type": "execute_result"
    }
   ],
   "source": [
    "# Total amount of investment in USA(USD)\n",
    "\n",
    "D1['raised_amount_usd'].sum()"
   ]
  },
  {
   "cell_type": "code",
   "execution_count": 951,
   "metadata": {},
   "outputs": [
    {
     "data": {
      "text/plain": [
       "Others                                     3404\n",
       "Social, Finance, Analytics, Advertising    3290\n",
       "Cleantech / Semiconductors                 2622\n",
       "News, Search and Messaging                 1845\n",
       "Health                                     1053\n",
       "Manufacturing                               989\n",
       "Entertainment                               724\n",
       "Automotive & Sports                         228\n",
       "Name: main_sector, dtype: int64"
      ]
     },
     "execution_count": 951,
     "metadata": {},
     "output_type": "execute_result"
    }
   ],
   "source": [
    "# Top sector in USA(based on count of investments)\n",
    "\n",
    "D1['main_sector'].value_counts()"
   ]
  },
  {
   "cell_type": "code",
   "execution_count": 1300,
   "metadata": {},
   "outputs": [
    {
     "data": {
      "image/png": "[encoded data removed]",
      "text/plain": [
       "<Figure size 1440x720 with 1 Axes>"
      ]
     },
     "metadata": {
      "needs_background": "light"
     },
     "output_type": "display_data"
    }
   ],
   "source": [
    "plt.figure(figsize=(20,10))\n",
    "plt.title('USA - Total number of investment(Sector wise) (USD)')\n",
    "\n",
    "D1['main_sector'].value_counts().plot.barh()\n",
    "plt.show()"
   ]
  },
  {
   "cell_type": "code",
   "execution_count": 1272,
   "metadata": {},
   "outputs": [
    {
     "data": {
      "text/plain": [
       "Others                                     3404\n",
       "Social, Finance, Analytics, Advertising    3290\n",
       "Cleantech / Semiconductors                 2622\n",
       "Name: main_sector, dtype: int64"
      ]
     },
     "execution_count": 1272,
     "metadata": {},
     "output_type": "execute_result"
    }
   ],
   "source": [
    "# In USA\n",
    "# Top Sector name (no. of investment-wise)\n",
    "# Second Sector name (no. of investment-wise)\n",
    "# Third Sector name (no. of investment-wise)\n",
    "\n",
    "D1['main_sector'].value_counts().head(3)"
   ]
  },
  {
   "cell_type": "code",
   "execution_count": 1273,
   "metadata": {},
   "outputs": [
    {
     "data": {
      "text/html": [
       "<div>\n",
       "<style scoped>\n",
       "    .dataframe tbody tr th:only-of-type {\n",
       "        vertical-align: middle;\n",
       "    }\n",
       "\n",
       "    .dataframe tbody tr th {\n",
       "        vertical-align: top;\n",
       "    }\n",
       "\n",
       "    .dataframe thead th {\n",
       "        text-align: right;\n",
       "    }\n",
       "</style>\n",
       "<table border=\"1\" class=\"dataframe\">\n",
       "  <thead>\n",
       "    <tr style=\"text-align: right;\">\n",
       "      <th></th>\n",
       "      <th>raised_amount_usd</th>\n",
       "    </tr>\n",
       "    <tr>\n",
       "      <th>name</th>\n",
       "      <th></th>\n",
       "    </tr>\n",
       "  </thead>\n",
       "  <tbody>\n",
       "    <tr>\n",
       "      <th>Virtustream</th>\n",
       "      <td>64300000.0</td>\n",
       "    </tr>\n",
       "    <tr>\n",
       "      <th>Tillster</th>\n",
       "      <td>61198945.0</td>\n",
       "    </tr>\n",
       "    <tr>\n",
       "      <th>Capella Photonics</th>\n",
       "      <td>54968051.0</td>\n",
       "    </tr>\n",
       "    <tr>\n",
       "      <th>AirTight Networks</th>\n",
       "      <td>54201907.0</td>\n",
       "    </tr>\n",
       "    <tr>\n",
       "      <th>deCarta</th>\n",
       "      <td>52100000.0</td>\n",
       "    </tr>\n",
       "    <tr>\n",
       "      <th>...</th>\n",
       "      <td>...</td>\n",
       "    </tr>\n",
       "    <tr>\n",
       "      <th>Domain Holdings Group</th>\n",
       "      <td>5000000.0</td>\n",
       "    </tr>\n",
       "    <tr>\n",
       "      <th>Senscio Systems</th>\n",
       "      <td>5000000.0</td>\n",
       "    </tr>\n",
       "    <tr>\n",
       "      <th>Sensics</th>\n",
       "      <td>5000000.0</td>\n",
       "    </tr>\n",
       "    <tr>\n",
       "      <th>Dolls Kill</th>\n",
       "      <td>5000000.0</td>\n",
       "    </tr>\n",
       "    <tr>\n",
       "      <th>Selltis</th>\n",
       "      <td>5000000.0</td>\n",
       "    </tr>\n",
       "  </tbody>\n",
       "</table>\n",
       "<p>2334 rows × 1 columns</p>\n",
       "</div>"
      ],
      "text/plain": [
       "                       raised_amount_usd\n",
       "name                                    \n",
       "Virtustream                   64300000.0\n",
       "Tillster                      61198945.0\n",
       "Capella Photonics             54968051.0\n",
       "AirTight Networks             54201907.0\n",
       "deCarta                       52100000.0\n",
       "...                                  ...\n",
       "Domain Holdings Group          5000000.0\n",
       "Senscio Systems                5000000.0\n",
       "Sensics                        5000000.0\n",
       "Dolls Kill                     5000000.0\n",
       "Selltis                        5000000.0\n",
       "\n",
       "[2334 rows x 1 columns]"
      ]
     },
     "execution_count": 1273,
     "metadata": {},
     "output_type": "execute_result"
    }
   ],
   "source": [
    "#In 'Others' sector, list of companies received the highest investment\n",
    "\n",
    "D1.loc[D1['main_sector'] == 'Others'].groupby('name').sum().sort_values('raised_amount_usd', ascending=False)"
   ]
  },
  {
   "cell_type": "code",
   "execution_count": 1274,
   "metadata": {},
   "outputs": [
    {
     "data": {
      "text/html": [
       "<div>\n",
       "<style scoped>\n",
       "    .dataframe tbody tr th:only-of-type {\n",
       "        vertical-align: middle;\n",
       "    }\n",
       "\n",
       "    .dataframe tbody tr th {\n",
       "        vertical-align: top;\n",
       "    }\n",
       "\n",
       "    .dataframe thead th {\n",
       "        text-align: right;\n",
       "    }\n",
       "</style>\n",
       "<table border=\"1\" class=\"dataframe\">\n",
       "  <thead>\n",
       "    <tr style=\"text-align: right;\">\n",
       "      <th></th>\n",
       "      <th>raised_amount_usd</th>\n",
       "    </tr>\n",
       "    <tr>\n",
       "      <th>name</th>\n",
       "      <th></th>\n",
       "    </tr>\n",
       "  </thead>\n",
       "  <tbody>\n",
       "    <tr>\n",
       "      <th>SST Inc. (Formerly ShotSpotter)</th>\n",
       "      <td>67933006.0</td>\n",
       "    </tr>\n",
       "    <tr>\n",
       "      <th>Intacct</th>\n",
       "      <td>66800000.0</td>\n",
       "    </tr>\n",
       "    <tr>\n",
       "      <th>Demandbase</th>\n",
       "      <td>63000000.0</td>\n",
       "    </tr>\n",
       "    <tr>\n",
       "      <th>Powerhouse Dynamics</th>\n",
       "      <td>61300000.0</td>\n",
       "    </tr>\n",
       "    <tr>\n",
       "      <th>Lithium Technologies</th>\n",
       "      <td>61000000.0</td>\n",
       "    </tr>\n",
       "    <tr>\n",
       "      <th>...</th>\n",
       "      <td>...</td>\n",
       "    </tr>\n",
       "    <tr>\n",
       "      <th>Beyond Games</th>\n",
       "      <td>5000000.0</td>\n",
       "    </tr>\n",
       "    <tr>\n",
       "      <th>Beyond Meat</th>\n",
       "      <td>5000000.0</td>\n",
       "    </tr>\n",
       "    <tr>\n",
       "      <th>Fundly</th>\n",
       "      <td>5000000.0</td>\n",
       "    </tr>\n",
       "    <tr>\n",
       "      <th>Hyperwallet Systems Inc.</th>\n",
       "      <td>5000000.0</td>\n",
       "    </tr>\n",
       "    <tr>\n",
       "      <th>Manicube</th>\n",
       "      <td>5000000.0</td>\n",
       "    </tr>\n",
       "  </tbody>\n",
       "</table>\n",
       "<p>2195 rows × 1 columns</p>\n",
       "</div>"
      ],
      "text/plain": [
       "                                 raised_amount_usd\n",
       "name                                              \n",
       "SST Inc. (Formerly ShotSpotter)         67933006.0\n",
       "Intacct                                 66800000.0\n",
       "Demandbase                              63000000.0\n",
       "Powerhouse Dynamics                     61300000.0\n",
       "Lithium Technologies                    61000000.0\n",
       "...                                            ...\n",
       "Beyond Games                             5000000.0\n",
       "Beyond Meat                              5000000.0\n",
       "Fundly                                   5000000.0\n",
       "Hyperwallet Systems Inc.                 5000000.0\n",
       "Manicube                                 5000000.0\n",
       "\n",
       "[2195 rows x 1 columns]"
      ]
     },
     "execution_count": 1274,
     "metadata": {},
     "output_type": "execute_result"
    }
   ],
   "source": [
    "#In 'Social, Finance, Analytics, Advertising' sector, list of company received the highest investment\n",
    "\n",
    "D1.loc[D1['main_sector'] == 'Social, Finance, Analytics, Advertising'].groupby('name').sum().sort_values('raised_amount_usd', ascending=False)"
   ]
  },
  {
   "cell_type": "code",
   "execution_count": 1276,
   "metadata": {},
   "outputs": [
    {
     "data": {
      "text/html": [
       "<div>\n",
       "<style scoped>\n",
       "    .dataframe tbody tr th:only-of-type {\n",
       "        vertical-align: middle;\n",
       "    }\n",
       "\n",
       "    .dataframe tbody tr th {\n",
       "        vertical-align: top;\n",
       "    }\n",
       "\n",
       "    .dataframe thead th {\n",
       "        text-align: right;\n",
       "    }\n",
       "</style>\n",
       "<table border=\"1\" class=\"dataframe\">\n",
       "  <thead>\n",
       "    <tr style=\"text-align: right;\">\n",
       "      <th></th>\n",
       "      <th>company_permalink</th>\n",
       "      <th>funding_round_permalink</th>\n",
       "      <th>funding_round_type</th>\n",
       "      <th>funded_at</th>\n",
       "      <th>raised_amount_usd</th>\n",
       "      <th>name</th>\n",
       "      <th>category_list_x</th>\n",
       "      <th>status</th>\n",
       "      <th>country_code</th>\n",
       "      <th>primary_sector</th>\n",
       "      <th>main_sector</th>\n",
       "    </tr>\n",
       "  </thead>\n",
       "  <tbody>\n",
       "    <tr>\n",
       "      <th>16182</th>\n",
       "      <td>/organization/virtustream</td>\n",
       "      <td>/funding-round/3354ac55dd5369fa5fb282e7946baadf</td>\n",
       "      <td>venture</td>\n",
       "      <td>08-10-2009</td>\n",
       "      <td>9550000.0</td>\n",
       "      <td>Virtustream</td>\n",
       "      <td>Enterprise Software</td>\n",
       "      <td>acquired</td>\n",
       "      <td>USA</td>\n",
       "      <td>Enterprise software</td>\n",
       "      <td>Others</td>\n",
       "    </tr>\n",
       "    <tr>\n",
       "      <th>16183</th>\n",
       "      <td>/organization/virtustream</td>\n",
       "      <td>/funding-round/4cdede382a6f29d05b59d833773910ee</td>\n",
       "      <td>venture</td>\n",
       "      <td>07-07-2011</td>\n",
       "      <td>10000000.0</td>\n",
       "      <td>Virtustream</td>\n",
       "      <td>Enterprise Software</td>\n",
       "      <td>acquired</td>\n",
       "      <td>USA</td>\n",
       "      <td>Enterprise software</td>\n",
       "      <td>Others</td>\n",
       "    </tr>\n",
       "    <tr>\n",
       "      <th>16185</th>\n",
       "      <td>/organization/virtustream</td>\n",
       "      <td>/funding-round/5f44788266cec29ef0ca4a54bf37c805</td>\n",
       "      <td>venture</td>\n",
       "      <td>02-02-2011</td>\n",
       "      <td>9750000.0</td>\n",
       "      <td>Virtustream</td>\n",
       "      <td>Enterprise Software</td>\n",
       "      <td>acquired</td>\n",
       "      <td>USA</td>\n",
       "      <td>Enterprise software</td>\n",
       "      <td>Others</td>\n",
       "    </tr>\n",
       "    <tr>\n",
       "      <th>16187</th>\n",
       "      <td>/organization/virtustream</td>\n",
       "      <td>/funding-round/ad39aaecd63911d035b37907cebfc3fd</td>\n",
       "      <td>venture</td>\n",
       "      <td>09-03-2012</td>\n",
       "      <td>15000000.0</td>\n",
       "      <td>Virtustream</td>\n",
       "      <td>Enterprise Software</td>\n",
       "      <td>acquired</td>\n",
       "      <td>USA</td>\n",
       "      <td>Enterprise software</td>\n",
       "      <td>Others</td>\n",
       "    </tr>\n",
       "    <tr>\n",
       "      <th>16188</th>\n",
       "      <td>/organization/virtustream</td>\n",
       "      <td>/funding-round/aeb17cd77f13485b94d9f37409caddeb</td>\n",
       "      <td>venture</td>\n",
       "      <td>08-11-2012</td>\n",
       "      <td>5000000.0</td>\n",
       "      <td>Virtustream</td>\n",
       "      <td>Enterprise Software</td>\n",
       "      <td>acquired</td>\n",
       "      <td>USA</td>\n",
       "      <td>Enterprise software</td>\n",
       "      <td>Others</td>\n",
       "    </tr>\n",
       "    <tr>\n",
       "      <th>16190</th>\n",
       "      <td>/organization/virtustream</td>\n",
       "      <td>/funding-round/e609500837793f94351a0c77716baa47</td>\n",
       "      <td>venture</td>\n",
       "      <td>02-05-2010</td>\n",
       "      <td>15000000.0</td>\n",
       "      <td>Virtustream</td>\n",
       "      <td>Enterprise Software</td>\n",
       "      <td>acquired</td>\n",
       "      <td>USA</td>\n",
       "      <td>Enterprise software</td>\n",
       "      <td>Others</td>\n",
       "    </tr>\n",
       "  </tbody>\n",
       "</table>\n",
       "</div>"
      ],
      "text/plain": [
       "               company_permalink  \\\n",
       "16182  /organization/virtustream   \n",
       "16183  /organization/virtustream   \n",
       "16185  /organization/virtustream   \n",
       "16187  /organization/virtustream   \n",
       "16188  /organization/virtustream   \n",
       "16190  /organization/virtustream   \n",
       "\n",
       "                               funding_round_permalink funding_round_type  \\\n",
       "16182  /funding-round/3354ac55dd5369fa5fb282e7946baadf            venture   \n",
       "16183  /funding-round/4cdede382a6f29d05b59d833773910ee            venture   \n",
       "16185  /funding-round/5f44788266cec29ef0ca4a54bf37c805            venture   \n",
       "16187  /funding-round/ad39aaecd63911d035b37907cebfc3fd            venture   \n",
       "16188  /funding-round/aeb17cd77f13485b94d9f37409caddeb            venture   \n",
       "16190  /funding-round/e609500837793f94351a0c77716baa47            venture   \n",
       "\n",
       "        funded_at  raised_amount_usd         name      category_list_x  \\\n",
       "16182  08-10-2009          9550000.0  Virtustream  Enterprise Software   \n",
       "16183  07-07-2011         10000000.0  Virtustream  Enterprise Software   \n",
       "16185  02-02-2011          9750000.0  Virtustream  Enterprise Software   \n",
       "16187  09-03-2012         15000000.0  Virtustream  Enterprise Software   \n",
       "16188  08-11-2012          5000000.0  Virtustream  Enterprise Software   \n",
       "16190  02-05-2010         15000000.0  Virtustream  Enterprise Software   \n",
       "\n",
       "         status country_code       primary_sector main_sector  \n",
       "16182  acquired          USA  Enterprise software      Others  \n",
       "16183  acquired          USA  Enterprise software      Others  \n",
       "16185  acquired          USA  Enterprise software      Others  \n",
       "16187  acquired          USA  Enterprise software      Others  \n",
       "16188  acquired          USA  Enterprise software      Others  \n",
       "16190  acquired          USA  Enterprise software      Others  "
      ]
     },
     "execution_count": 1276,
     "metadata": {},
     "output_type": "execute_result"
    }
   ],
   "source": [
    "#checking Virtustream's investments\n",
    "\n",
    "D1.loc[D1['name'] == 'Virtustream']"
   ]
  },
  {
   "cell_type": "code",
   "execution_count": 1275,
   "metadata": {},
   "outputs": [
    {
     "data": {
      "text/html": [
       "<div>\n",
       "<style scoped>\n",
       "    .dataframe tbody tr th:only-of-type {\n",
       "        vertical-align: middle;\n",
       "    }\n",
       "\n",
       "    .dataframe tbody tr th {\n",
       "        vertical-align: top;\n",
       "    }\n",
       "\n",
       "    .dataframe thead th {\n",
       "        text-align: right;\n",
       "    }\n",
       "</style>\n",
       "<table border=\"1\" class=\"dataframe\">\n",
       "  <thead>\n",
       "    <tr style=\"text-align: right;\">\n",
       "      <th></th>\n",
       "      <th>company_permalink</th>\n",
       "      <th>funding_round_permalink</th>\n",
       "      <th>funding_round_type</th>\n",
       "      <th>funded_at</th>\n",
       "      <th>raised_amount_usd</th>\n",
       "      <th>name</th>\n",
       "      <th>category_list_x</th>\n",
       "      <th>status</th>\n",
       "      <th>country_code</th>\n",
       "      <th>primary_sector</th>\n",
       "      <th>main_sector</th>\n",
       "    </tr>\n",
       "  </thead>\n",
       "  <tbody>\n",
       "    <tr>\n",
       "      <th>15069</th>\n",
       "      <td>/organization/emn8</td>\n",
       "      <td>/funding-round/1805fce81c94cc6678b11fcb500a84ec</td>\n",
       "      <td>venture</td>\n",
       "      <td>12-03-2007</td>\n",
       "      <td>5000000.0</td>\n",
       "      <td>Tillster</td>\n",
       "      <td>Enterprise Software|Mobile Commerce|Mobile Pay...</td>\n",
       "      <td>operating</td>\n",
       "      <td>USA</td>\n",
       "      <td>Enterprise software</td>\n",
       "      <td>Others</td>\n",
       "    </tr>\n",
       "    <tr>\n",
       "      <th>15070</th>\n",
       "      <td>/organization/emn8</td>\n",
       "      <td>/funding-round/29912c2302a026aef8c3eb584fa7205b</td>\n",
       "      <td>venture</td>\n",
       "      <td>21-12-2010</td>\n",
       "      <td>12236623.0</td>\n",
       "      <td>Tillster</td>\n",
       "      <td>Enterprise Software|Mobile Commerce|Mobile Pay...</td>\n",
       "      <td>operating</td>\n",
       "      <td>USA</td>\n",
       "      <td>Enterprise software</td>\n",
       "      <td>Others</td>\n",
       "    </tr>\n",
       "    <tr>\n",
       "      <th>15071</th>\n",
       "      <td>/organization/emn8</td>\n",
       "      <td>/funding-round/2d196ca032bdde5d590ee365358a3223</td>\n",
       "      <td>venture</td>\n",
       "      <td>25-01-2010</td>\n",
       "      <td>14500000.0</td>\n",
       "      <td>Tillster</td>\n",
       "      <td>Enterprise Software|Mobile Commerce|Mobile Pay...</td>\n",
       "      <td>operating</td>\n",
       "      <td>USA</td>\n",
       "      <td>Enterprise software</td>\n",
       "      <td>Others</td>\n",
       "    </tr>\n",
       "    <tr>\n",
       "      <th>15072</th>\n",
       "      <td>/organization/emn8</td>\n",
       "      <td>/funding-round/30bdf8e78bb9c6678d76c8f3d6a208e9</td>\n",
       "      <td>venture</td>\n",
       "      <td>22-08-2003</td>\n",
       "      <td>5000000.0</td>\n",
       "      <td>Tillster</td>\n",
       "      <td>Enterprise Software|Mobile Commerce|Mobile Pay...</td>\n",
       "      <td>operating</td>\n",
       "      <td>USA</td>\n",
       "      <td>Enterprise software</td>\n",
       "      <td>Others</td>\n",
       "    </tr>\n",
       "    <tr>\n",
       "      <th>15073</th>\n",
       "      <td>/organization/emn8</td>\n",
       "      <td>/funding-round/7d1cbce3d4d48e4050337ab910fa0e97</td>\n",
       "      <td>venture</td>\n",
       "      <td>12-03-2010</td>\n",
       "      <td>14462322.0</td>\n",
       "      <td>Tillster</td>\n",
       "      <td>Enterprise Software|Mobile Commerce|Mobile Pay...</td>\n",
       "      <td>operating</td>\n",
       "      <td>USA</td>\n",
       "      <td>Enterprise software</td>\n",
       "      <td>Others</td>\n",
       "    </tr>\n",
       "    <tr>\n",
       "      <th>15076</th>\n",
       "      <td>/organization/emn8</td>\n",
       "      <td>/funding-round/a752924a7431ec2454fcb10055573b95</td>\n",
       "      <td>venture</td>\n",
       "      <td>30-08-2004</td>\n",
       "      <td>5000000.0</td>\n",
       "      <td>Tillster</td>\n",
       "      <td>Enterprise Software|Mobile Commerce|Mobile Pay...</td>\n",
       "      <td>operating</td>\n",
       "      <td>USA</td>\n",
       "      <td>Enterprise software</td>\n",
       "      <td>Others</td>\n",
       "    </tr>\n",
       "    <tr>\n",
       "      <th>15077</th>\n",
       "      <td>/organization/emn8</td>\n",
       "      <td>/funding-round/e7a79f38c5b63c455551614bb0f69194</td>\n",
       "      <td>venture</td>\n",
       "      <td>13-02-2007</td>\n",
       "      <td>5000000.0</td>\n",
       "      <td>Tillster</td>\n",
       "      <td>Enterprise Software|Mobile Commerce|Mobile Pay...</td>\n",
       "      <td>operating</td>\n",
       "      <td>USA</td>\n",
       "      <td>Enterprise software</td>\n",
       "      <td>Others</td>\n",
       "    </tr>\n",
       "  </tbody>\n",
       "</table>\n",
       "</div>"
      ],
      "text/plain": [
       "        company_permalink                          funding_round_permalink  \\\n",
       "15069  /organization/emn8  /funding-round/1805fce81c94cc6678b11fcb500a84ec   \n",
       "15070  /organization/emn8  /funding-round/29912c2302a026aef8c3eb584fa7205b   \n",
       "15071  /organization/emn8  /funding-round/2d196ca032bdde5d590ee365358a3223   \n",
       "15072  /organization/emn8  /funding-round/30bdf8e78bb9c6678d76c8f3d6a208e9   \n",
       "15073  /organization/emn8  /funding-round/7d1cbce3d4d48e4050337ab910fa0e97   \n",
       "15076  /organization/emn8  /funding-round/a752924a7431ec2454fcb10055573b95   \n",
       "15077  /organization/emn8  /funding-round/e7a79f38c5b63c455551614bb0f69194   \n",
       "\n",
       "      funding_round_type   funded_at  raised_amount_usd      name  \\\n",
       "15069            venture  12-03-2007          5000000.0  Tillster   \n",
       "15070            venture  21-12-2010         12236623.0  Tillster   \n",
       "15071            venture  25-01-2010         14500000.0  Tillster   \n",
       "15072            venture  22-08-2003          5000000.0  Tillster   \n",
       "15073            venture  12-03-2010         14462322.0  Tillster   \n",
       "15076            venture  30-08-2004          5000000.0  Tillster   \n",
       "15077            venture  13-02-2007          5000000.0  Tillster   \n",
       "\n",
       "                                         category_list_x     status  \\\n",
       "15069  Enterprise Software|Mobile Commerce|Mobile Pay...  operating   \n",
       "15070  Enterprise Software|Mobile Commerce|Mobile Pay...  operating   \n",
       "15071  Enterprise Software|Mobile Commerce|Mobile Pay...  operating   \n",
       "15072  Enterprise Software|Mobile Commerce|Mobile Pay...  operating   \n",
       "15073  Enterprise Software|Mobile Commerce|Mobile Pay...  operating   \n",
       "15076  Enterprise Software|Mobile Commerce|Mobile Pay...  operating   \n",
       "15077  Enterprise Software|Mobile Commerce|Mobile Pay...  operating   \n",
       "\n",
       "      country_code       primary_sector main_sector  \n",
       "15069          USA  Enterprise software      Others  \n",
       "15070          USA  Enterprise software      Others  \n",
       "15071          USA  Enterprise software      Others  \n",
       "15072          USA  Enterprise software      Others  \n",
       "15073          USA  Enterprise software      Others  \n",
       "15076          USA  Enterprise software      Others  \n",
       "15077          USA  Enterprise software      Others  "
      ]
     },
     "execution_count": 1275,
     "metadata": {},
     "output_type": "execute_result"
    }
   ],
   "source": [
    "#checking Tillster's investments\n",
    "\n",
    "D1.loc[D1['name'] == 'Tillster']"
   ]
  },
  {
   "cell_type": "code",
   "execution_count": 1277,
   "metadata": {
    "scrolled": true
   },
   "outputs": [
    {
     "data": {
      "text/html": [
       "<div>\n",
       "<style scoped>\n",
       "    .dataframe tbody tr th:only-of-type {\n",
       "        vertical-align: middle;\n",
       "    }\n",
       "\n",
       "    .dataframe tbody tr th {\n",
       "        vertical-align: top;\n",
       "    }\n",
       "\n",
       "    .dataframe thead th {\n",
       "        text-align: right;\n",
       "    }\n",
       "</style>\n",
       "<table border=\"1\" class=\"dataframe\">\n",
       "  <thead>\n",
       "    <tr style=\"text-align: right;\">\n",
       "      <th></th>\n",
       "      <th>company_permalink</th>\n",
       "      <th>funding_round_permalink</th>\n",
       "      <th>funding_round_type</th>\n",
       "      <th>funded_at</th>\n",
       "      <th>raised_amount_usd</th>\n",
       "      <th>name</th>\n",
       "      <th>category_list_x</th>\n",
       "      <th>status</th>\n",
       "      <th>country_code</th>\n",
       "      <th>primary_sector</th>\n",
       "      <th>main_sector</th>\n",
       "    </tr>\n",
       "  </thead>\n",
       "  <tbody>\n",
       "    <tr>\n",
       "      <th>22124</th>\n",
       "      <td>/organization/payoneer</td>\n",
       "      <td>/funding-round/2407fc2385dda5ebba82b29eb04e1887</td>\n",
       "      <td>venture</td>\n",
       "      <td>11-10-2007</td>\n",
       "      <td>5000000.0</td>\n",
       "      <td>Payoneer</td>\n",
       "      <td>E-Commerce|Finance|Internet|Mobile|Payments</td>\n",
       "      <td>operating</td>\n",
       "      <td>USA</td>\n",
       "      <td>E-commerce</td>\n",
       "      <td>Others</td>\n",
       "    </tr>\n",
       "    <tr>\n",
       "      <th>22125</th>\n",
       "      <td>/organization/payoneer</td>\n",
       "      <td>/funding-round/43a5f099daa2d66d3e7ed8b0b029ca0f</td>\n",
       "      <td>venture</td>\n",
       "      <td>28-06-2012</td>\n",
       "      <td>5000000.0</td>\n",
       "      <td>Payoneer</td>\n",
       "      <td>E-Commerce|Finance|Internet|Mobile|Payments</td>\n",
       "      <td>operating</td>\n",
       "      <td>USA</td>\n",
       "      <td>E-commerce</td>\n",
       "      <td>Others</td>\n",
       "    </tr>\n",
       "    <tr>\n",
       "      <th>22126</th>\n",
       "      <td>/organization/payoneer</td>\n",
       "      <td>/funding-round/5e72b93671a9480537db116cdbfa39bd</td>\n",
       "      <td>venture</td>\n",
       "      <td>24-07-2008</td>\n",
       "      <td>8000000.0</td>\n",
       "      <td>Payoneer</td>\n",
       "      <td>E-Commerce|Finance|Internet|Mobile|Payments</td>\n",
       "      <td>operating</td>\n",
       "      <td>USA</td>\n",
       "      <td>E-commerce</td>\n",
       "      <td>Others</td>\n",
       "    </tr>\n",
       "    <tr>\n",
       "      <th>22127</th>\n",
       "      <td>/organization/payoneer</td>\n",
       "      <td>/funding-round/846610f20450ed5c2ee5120f8d132f42</td>\n",
       "      <td>venture</td>\n",
       "      <td>31-12-2011</td>\n",
       "      <td>5000000.0</td>\n",
       "      <td>Payoneer</td>\n",
       "      <td>E-Commerce|Finance|Internet|Mobile|Payments</td>\n",
       "      <td>operating</td>\n",
       "      <td>USA</td>\n",
       "      <td>E-commerce</td>\n",
       "      <td>Others</td>\n",
       "    </tr>\n",
       "    <tr>\n",
       "      <th>22128</th>\n",
       "      <td>/organization/payoneer</td>\n",
       "      <td>/funding-round/8db4159d566e3ccb83ec8b2ca11aa9f4</td>\n",
       "      <td>venture</td>\n",
       "      <td>19-09-2013</td>\n",
       "      <td>5000000.0</td>\n",
       "      <td>Payoneer</td>\n",
       "      <td>E-Commerce|Finance|Internet|Mobile|Payments</td>\n",
       "      <td>operating</td>\n",
       "      <td>USA</td>\n",
       "      <td>E-commerce</td>\n",
       "      <td>Others</td>\n",
       "    </tr>\n",
       "    <tr>\n",
       "      <th>22129</th>\n",
       "      <td>/organization/payoneer</td>\n",
       "      <td>/funding-round/948667ff8f690f4749c08211f1fa71c8</td>\n",
       "      <td>venture</td>\n",
       "      <td>05-08-2014</td>\n",
       "      <td>5000000.0</td>\n",
       "      <td>Payoneer</td>\n",
       "      <td>E-Commerce|Finance|Internet|Mobile|Payments</td>\n",
       "      <td>operating</td>\n",
       "      <td>USA</td>\n",
       "      <td>E-commerce</td>\n",
       "      <td>Others</td>\n",
       "    </tr>\n",
       "    <tr>\n",
       "      <th>22133</th>\n",
       "      <td>/organization/payoneer</td>\n",
       "      <td>/funding-round/f56fae489db493027a7ef51f9640a6bd</td>\n",
       "      <td>venture</td>\n",
       "      <td>10-06-2014</td>\n",
       "      <td>5000000.0</td>\n",
       "      <td>Payoneer</td>\n",
       "      <td>E-Commerce|Finance|Internet|Mobile|Payments</td>\n",
       "      <td>operating</td>\n",
       "      <td>USA</td>\n",
       "      <td>E-commerce</td>\n",
       "      <td>Others</td>\n",
       "    </tr>\n",
       "  </tbody>\n",
       "</table>\n",
       "</div>"
      ],
      "text/plain": [
       "            company_permalink  \\\n",
       "22124  /organization/payoneer   \n",
       "22125  /organization/payoneer   \n",
       "22126  /organization/payoneer   \n",
       "22127  /organization/payoneer   \n",
       "22128  /organization/payoneer   \n",
       "22129  /organization/payoneer   \n",
       "22133  /organization/payoneer   \n",
       "\n",
       "                               funding_round_permalink funding_round_type  \\\n",
       "22124  /funding-round/2407fc2385dda5ebba82b29eb04e1887            venture   \n",
       "22125  /funding-round/43a5f099daa2d66d3e7ed8b0b029ca0f            venture   \n",
       "22126  /funding-round/5e72b93671a9480537db116cdbfa39bd            venture   \n",
       "22127  /funding-round/846610f20450ed5c2ee5120f8d132f42            venture   \n",
       "22128  /funding-round/8db4159d566e3ccb83ec8b2ca11aa9f4            venture   \n",
       "22129  /funding-round/948667ff8f690f4749c08211f1fa71c8            venture   \n",
       "22133  /funding-round/f56fae489db493027a7ef51f9640a6bd            venture   \n",
       "\n",
       "        funded_at  raised_amount_usd      name  \\\n",
       "22124  11-10-2007          5000000.0  Payoneer   \n",
       "22125  28-06-2012          5000000.0  Payoneer   \n",
       "22126  24-07-2008          8000000.0  Payoneer   \n",
       "22127  31-12-2011          5000000.0  Payoneer   \n",
       "22128  19-09-2013          5000000.0  Payoneer   \n",
       "22129  05-08-2014          5000000.0  Payoneer   \n",
       "22133  10-06-2014          5000000.0  Payoneer   \n",
       "\n",
       "                                   category_list_x     status country_code  \\\n",
       "22124  E-Commerce|Finance|Internet|Mobile|Payments  operating          USA   \n",
       "22125  E-Commerce|Finance|Internet|Mobile|Payments  operating          USA   \n",
       "22126  E-Commerce|Finance|Internet|Mobile|Payments  operating          USA   \n",
       "22127  E-Commerce|Finance|Internet|Mobile|Payments  operating          USA   \n",
       "22128  E-Commerce|Finance|Internet|Mobile|Payments  operating          USA   \n",
       "22129  E-Commerce|Finance|Internet|Mobile|Payments  operating          USA   \n",
       "22133  E-Commerce|Finance|Internet|Mobile|Payments  operating          USA   \n",
       "\n",
       "      primary_sector main_sector  \n",
       "22124     E-commerce      Others  \n",
       "22125     E-commerce      Others  \n",
       "22126     E-commerce      Others  \n",
       "22127     E-commerce      Others  \n",
       "22128     E-commerce      Others  \n",
       "22129     E-commerce      Others  \n",
       "22133     E-commerce      Others  "
      ]
     },
     "execution_count": 1277,
     "metadata": {},
     "output_type": "execute_result"
    }
   ],
   "source": [
    "#checking Payoneer's investments\n",
    "\n",
    "D1.loc[D1['name'] == 'Payoneer']"
   ]
  },
  {
   "cell_type": "markdown",
   "metadata": {},
   "source": [
    " "
   ]
  },
  {
   "cell_type": "markdown",
   "metadata": {},
   "source": [
    " "
   ]
  },
  {
   "cell_type": "markdown",
   "metadata": {},
   "source": [
    "### Country 2 Analysis - GBR - D2 Dataframe"
   ]
  },
  {
   "cell_type": "code",
   "execution_count": 1278,
   "metadata": {
    "scrolled": true
   },
   "outputs": [
    {
     "data": {
      "text/html": [
       "<div>\n",
       "<style scoped>\n",
       "    .dataframe tbody tr th:only-of-type {\n",
       "        vertical-align: middle;\n",
       "    }\n",
       "\n",
       "    .dataframe tbody tr th {\n",
       "        vertical-align: top;\n",
       "    }\n",
       "\n",
       "    .dataframe thead th {\n",
       "        text-align: right;\n",
       "    }\n",
       "</style>\n",
       "<table border=\"1\" class=\"dataframe\">\n",
       "  <thead>\n",
       "    <tr style=\"text-align: right;\">\n",
       "      <th></th>\n",
       "      <th>company_permalink</th>\n",
       "      <th>funding_round_permalink</th>\n",
       "      <th>funding_round_type</th>\n",
       "      <th>funded_at</th>\n",
       "      <th>raised_amount_usd</th>\n",
       "      <th>name</th>\n",
       "      <th>category_list_x</th>\n",
       "      <th>status</th>\n",
       "      <th>country_code</th>\n",
       "      <th>primary_sector</th>\n",
       "      <th>main_sector</th>\n",
       "    </tr>\n",
       "  </thead>\n",
       "  <tbody>\n",
       "    <tr>\n",
       "      <th>1</th>\n",
       "      <td>/organization/90min</td>\n",
       "      <td>/funding-round/21a2cbf6f2fb2a1c2a61e04bf930dfe6</td>\n",
       "      <td>venture</td>\n",
       "      <td>06-10-2015</td>\n",
       "      <td>15000000.0</td>\n",
       "      <td>90min</td>\n",
       "      <td>Media|News|Publishing|Soccer|Sports</td>\n",
       "      <td>operating</td>\n",
       "      <td>GBR</td>\n",
       "      <td>Media</td>\n",
       "      <td>Entertainment</td>\n",
       "    </tr>\n",
       "    <tr>\n",
       "      <th>2</th>\n",
       "      <td>/organization/90min</td>\n",
       "      <td>/funding-round/bd626ed022f5c66574b1afe234f3c90d</td>\n",
       "      <td>venture</td>\n",
       "      <td>07-05-2013</td>\n",
       "      <td>5800000.0</td>\n",
       "      <td>90min</td>\n",
       "      <td>Media|News|Publishing|Soccer|Sports</td>\n",
       "      <td>operating</td>\n",
       "      <td>GBR</td>\n",
       "      <td>Media</td>\n",
       "      <td>Entertainment</td>\n",
       "    </tr>\n",
       "    <tr>\n",
       "      <th>63</th>\n",
       "      <td>/organization/common-interest-communities</td>\n",
       "      <td>/funding-round/8195587cbd5e51af7514ee92ef4ba6ba</td>\n",
       "      <td>venture</td>\n",
       "      <td>09-07-2014</td>\n",
       "      <td>10000000.0</td>\n",
       "      <td>Common Interest Communities</td>\n",
       "      <td>Application Platforms|Internet|Software|Startups</td>\n",
       "      <td>operating</td>\n",
       "      <td>GBR</td>\n",
       "      <td>Application platforms</td>\n",
       "      <td>News, Search and Messaging</td>\n",
       "    </tr>\n",
       "    <tr>\n",
       "      <th>69</th>\n",
       "      <td>/organization/geospock-ltd-</td>\n",
       "      <td>/funding-round/cf3fe3b7c86186b9f478d0ea37613f7a</td>\n",
       "      <td>venture</td>\n",
       "      <td>01-10-2014</td>\n",
       "      <td>5460000.0</td>\n",
       "      <td>GeoSpock Ltd.</td>\n",
       "      <td>Application Platforms|Databases|Real Time</td>\n",
       "      <td>operating</td>\n",
       "      <td>GBR</td>\n",
       "      <td>Application platforms</td>\n",
       "      <td>News, Search and Messaging</td>\n",
       "    </tr>\n",
       "    <tr>\n",
       "      <th>70</th>\n",
       "      <td>/organization/geospock-ltd-</td>\n",
       "      <td>/funding-round/e5e4ef4ebae63fc36ef0cd57dd20ff1c</td>\n",
       "      <td>venture</td>\n",
       "      <td>05-10-2015</td>\n",
       "      <td>5400000.0</td>\n",
       "      <td>GeoSpock Ltd.</td>\n",
       "      <td>Application Platforms|Databases|Real Time</td>\n",
       "      <td>operating</td>\n",
       "      <td>GBR</td>\n",
       "      <td>Application platforms</td>\n",
       "      <td>News, Search and Messaging</td>\n",
       "    </tr>\n",
       "  </tbody>\n",
       "</table>\n",
       "</div>"
      ],
      "text/plain": [
       "                            company_permalink  \\\n",
       "1                         /organization/90min   \n",
       "2                         /organization/90min   \n",
       "63  /organization/common-interest-communities   \n",
       "69                /organization/geospock-ltd-   \n",
       "70                /organization/geospock-ltd-   \n",
       "\n",
       "                            funding_round_permalink funding_round_type  \\\n",
       "1   /funding-round/21a2cbf6f2fb2a1c2a61e04bf930dfe6            venture   \n",
       "2   /funding-round/bd626ed022f5c66574b1afe234f3c90d            venture   \n",
       "63  /funding-round/8195587cbd5e51af7514ee92ef4ba6ba            venture   \n",
       "69  /funding-round/cf3fe3b7c86186b9f478d0ea37613f7a            venture   \n",
       "70  /funding-round/e5e4ef4ebae63fc36ef0cd57dd20ff1c            venture   \n",
       "\n",
       "     funded_at  raised_amount_usd                         name  \\\n",
       "1   06-10-2015         15000000.0                        90min   \n",
       "2   07-05-2013          5800000.0                        90min   \n",
       "63  09-07-2014         10000000.0  Common Interest Communities   \n",
       "69  01-10-2014          5460000.0                GeoSpock Ltd.   \n",
       "70  05-10-2015          5400000.0                GeoSpock Ltd.   \n",
       "\n",
       "                                     category_list_x     status country_code  \\\n",
       "1                Media|News|Publishing|Soccer|Sports  operating          GBR   \n",
       "2                Media|News|Publishing|Soccer|Sports  operating          GBR   \n",
       "63  Application Platforms|Internet|Software|Startups  operating          GBR   \n",
       "69         Application Platforms|Databases|Real Time  operating          GBR   \n",
       "70         Application Platforms|Databases|Real Time  operating          GBR   \n",
       "\n",
       "           primary_sector                 main_sector  \n",
       "1                   Media               Entertainment  \n",
       "2                   Media               Entertainment  \n",
       "63  Application platforms  News, Search and Messaging  \n",
       "69  Application platforms  News, Search and Messaging  \n",
       "70  Application platforms  News, Search and Messaging  "
      ]
     },
     "execution_count": 1278,
     "metadata": {},
     "output_type": "execute_result"
    }
   ],
   "source": [
    "D2.head()"
   ]
  },
  {
   "cell_type": "code",
   "execution_count": 1279,
   "metadata": {},
   "outputs": [
    {
     "data": {
      "text/plain": [
       "845"
      ]
     },
     "execution_count": 1279,
     "metadata": {},
     "output_type": "execute_result"
    }
   ],
   "source": [
    "# Total number of investment(count)\n",
    "\n",
    "D2.shape[0]"
   ]
  },
  {
   "cell_type": "code",
   "execution_count": 963,
   "metadata": {},
   "outputs": [
    {
     "data": {
      "text/plain": [
       "6499078691.0"
      ]
     },
     "execution_count": 963,
     "metadata": {},
     "output_type": "execute_result"
    }
   ],
   "source": [
    "# Total amount of investment (USD)\n",
    "\n",
    "D2['raised_amount_usd'].sum()"
   ]
  },
  {
   "cell_type": "code",
   "execution_count": 1282,
   "metadata": {},
   "outputs": [
    {
     "data": {
      "text/plain": [
       "Others                                     211\n",
       "Social, Finance, Analytics, Advertising    193\n",
       "Cleantech / Semiconductors                 154\n",
       "News, Search and Messaging                  97\n",
       "Entertainment                               80\n",
       "Manufacturing                               52\n",
       "Health                                      32\n",
       "Automotive & Sports                         26\n",
       "Name: main_sector, dtype: int64"
      ]
     },
     "execution_count": 1282,
     "metadata": {},
     "output_type": "execute_result"
    }
   ],
   "source": [
    "# Top sector (based on count of investments)\n",
    "\n",
    "D2['main_sector'].value_counts()"
   ]
  },
  {
   "cell_type": "code",
   "execution_count": 1299,
   "metadata": {},
   "outputs": [
    {
     "data": {
      "image/png": "[encoded data removed]",
      "text/plain": [
       "<Figure size 1440x720 with 1 Axes>"
      ]
     },
     "metadata": {
      "needs_background": "light"
     },
     "output_type": "display_data"
    }
   ],
   "source": [
    "plt.figure(figsize=(20,10))\n",
    "plt.title('GBR - Total number of investment(Sector wise) (USD)')\n",
    "\n",
    "D2['main_sector'].value_counts().plot.barh()\n",
    "plt.show()"
   ]
  },
  {
   "cell_type": "code",
   "execution_count": 1301,
   "metadata": {},
   "outputs": [
    {
     "data": {
      "text/plain": [
       "Others                                     211\n",
       "Social, Finance, Analytics, Advertising    193\n",
       "Cleantech / Semiconductors                 154\n",
       "Name: main_sector, dtype: int64"
      ]
     },
     "execution_count": 1301,
     "metadata": {},
     "output_type": "execute_result"
    }
   ],
   "source": [
    "# Top Sector name (no. of investment-wise)\n",
    "# Second Sector name (no. of investment-wise)\n",
    "# Third Sector name (no. of investment-wise)\n",
    "\n",
    "D2['main_sector'].value_counts().head(3)"
   ]
  },
  {
   "cell_type": "code",
   "execution_count": 1285,
   "metadata": {},
   "outputs": [
    {
     "data": {
      "text/html": [
       "<div>\n",
       "<style scoped>\n",
       "    .dataframe tbody tr th:only-of-type {\n",
       "        vertical-align: middle;\n",
       "    }\n",
       "\n",
       "    .dataframe tbody tr th {\n",
       "        vertical-align: top;\n",
       "    }\n",
       "\n",
       "    .dataframe thead th {\n",
       "        text-align: right;\n",
       "    }\n",
       "</style>\n",
       "<table border=\"1\" class=\"dataframe\">\n",
       "  <thead>\n",
       "    <tr style=\"text-align: right;\">\n",
       "      <th></th>\n",
       "      <th>raised_amount_usd</th>\n",
       "    </tr>\n",
       "    <tr>\n",
       "      <th>name</th>\n",
       "      <th></th>\n",
       "    </tr>\n",
       "  </thead>\n",
       "  <tbody>\n",
       "    <tr>\n",
       "      <th>Electric Cloud</th>\n",
       "      <td>37000000.0</td>\n",
       "    </tr>\n",
       "    <tr>\n",
       "      <th>Notonthehighstreet</th>\n",
       "      <td>36900000.0</td>\n",
       "    </tr>\n",
       "    <tr>\n",
       "      <th>SenSage</th>\n",
       "      <td>36250000.0</td>\n",
       "    </tr>\n",
       "    <tr>\n",
       "      <th>Enigmatec</th>\n",
       "      <td>32500000.0</td>\n",
       "    </tr>\n",
       "    <tr>\n",
       "      <th>ip.access</th>\n",
       "      <td>30000000.0</td>\n",
       "    </tr>\n",
       "    <tr>\n",
       "      <th>...</th>\n",
       "      <td>...</td>\n",
       "    </tr>\n",
       "    <tr>\n",
       "      <th>Girl Meets Dress</th>\n",
       "      <td>5000000.0</td>\n",
       "    </tr>\n",
       "    <tr>\n",
       "      <th>Getlenses.co.uk</th>\n",
       "      <td>5000000.0</td>\n",
       "    </tr>\n",
       "    <tr>\n",
       "      <th>Gekko</th>\n",
       "      <td>5000000.0</td>\n",
       "    </tr>\n",
       "    <tr>\n",
       "      <th>Udex</th>\n",
       "      <td>5000000.0</td>\n",
       "    </tr>\n",
       "    <tr>\n",
       "      <th>ACHICA</th>\n",
       "      <td>5000000.0</td>\n",
       "    </tr>\n",
       "  </tbody>\n",
       "</table>\n",
       "<p>167 rows × 1 columns</p>\n",
       "</div>"
      ],
      "text/plain": [
       "                    raised_amount_usd\n",
       "name                                 \n",
       "Electric Cloud             37000000.0\n",
       "Notonthehighstreet         36900000.0\n",
       "SenSage                    36250000.0\n",
       "Enigmatec                  32500000.0\n",
       "ip.access                  30000000.0\n",
       "...                               ...\n",
       "Girl Meets Dress            5000000.0\n",
       "Getlenses.co.uk             5000000.0\n",
       "Gekko                       5000000.0\n",
       "Udex                        5000000.0\n",
       "ACHICA                      5000000.0\n",
       "\n",
       "[167 rows x 1 columns]"
      ]
     },
     "execution_count": 1285,
     "metadata": {},
     "output_type": "execute_result"
    }
   ],
   "source": [
    "#In 'Others' sector, list of companies received the highest investment\n",
    "\n",
    "D2.loc[D2['main_sector'] == 'Others'].groupby('name').sum().sort_values('raised_amount_usd', ascending=False)"
   ]
  },
  {
   "cell_type": "code",
   "execution_count": 1292,
   "metadata": {},
   "outputs": [
    {
     "data": {
      "text/html": [
       "<div>\n",
       "<style scoped>\n",
       "    .dataframe tbody tr th:only-of-type {\n",
       "        vertical-align: middle;\n",
       "    }\n",
       "\n",
       "    .dataframe tbody tr th {\n",
       "        vertical-align: top;\n",
       "    }\n",
       "\n",
       "    .dataframe thead th {\n",
       "        text-align: right;\n",
       "    }\n",
       "</style>\n",
       "<table border=\"1\" class=\"dataframe\">\n",
       "  <thead>\n",
       "    <tr style=\"text-align: right;\">\n",
       "      <th></th>\n",
       "      <th>raised_amount_usd</th>\n",
       "    </tr>\n",
       "    <tr>\n",
       "      <th>name</th>\n",
       "      <th></th>\n",
       "    </tr>\n",
       "  </thead>\n",
       "  <tbody>\n",
       "    <tr>\n",
       "      <th>Zopa</th>\n",
       "      <td>37900000.0</td>\n",
       "    </tr>\n",
       "    <tr>\n",
       "      <th>Celltick Technologies</th>\n",
       "      <td>37500000.0</td>\n",
       "    </tr>\n",
       "    <tr>\n",
       "      <th>myThings</th>\n",
       "      <td>34000000.0</td>\n",
       "    </tr>\n",
       "    <tr>\n",
       "      <th>SumUp</th>\n",
       "      <td>29293649.0</td>\n",
       "    </tr>\n",
       "    <tr>\n",
       "      <th>VisualDNA</th>\n",
       "      <td>28550000.0</td>\n",
       "    </tr>\n",
       "    <tr>\n",
       "      <th>...</th>\n",
       "      <td>...</td>\n",
       "    </tr>\n",
       "    <tr>\n",
       "      <th>Tamoco</th>\n",
       "      <td>5000000.0</td>\n",
       "    </tr>\n",
       "    <tr>\n",
       "      <th>TaskPipes</th>\n",
       "      <td>5000000.0</td>\n",
       "    </tr>\n",
       "    <tr>\n",
       "      <th>JustPark</th>\n",
       "      <td>5000000.0</td>\n",
       "    </tr>\n",
       "    <tr>\n",
       "      <th>The Fizzback Group</th>\n",
       "      <td>5000000.0</td>\n",
       "    </tr>\n",
       "    <tr>\n",
       "      <th>Mobyko</th>\n",
       "      <td>5000000.0</td>\n",
       "    </tr>\n",
       "  </tbody>\n",
       "</table>\n",
       "<p>149 rows × 1 columns</p>\n",
       "</div>"
      ],
      "text/plain": [
       "                       raised_amount_usd\n",
       "name                                    \n",
       "Zopa                          37900000.0\n",
       "Celltick Technologies         37500000.0\n",
       "myThings                      34000000.0\n",
       "SumUp                         29293649.0\n",
       "VisualDNA                     28550000.0\n",
       "...                                  ...\n",
       "Tamoco                         5000000.0\n",
       "TaskPipes                      5000000.0\n",
       "JustPark                       5000000.0\n",
       "The Fizzback Group             5000000.0\n",
       "Mobyko                         5000000.0\n",
       "\n",
       "[149 rows x 1 columns]"
      ]
     },
     "execution_count": 1292,
     "metadata": {},
     "output_type": "execute_result"
    }
   ],
   "source": [
    "#In 'Social, Finance, Analytics, Advertising' sector, list of companies received the highest investment\n",
    "\n",
    "D2.loc[D2['main_sector'] == 'Social, Finance, Analytics, Advertising'].groupby('name').sum().sort_values('raised_amount_usd', ascending=False)"
   ]
  },
  {
   "cell_type": "markdown",
   "metadata": {},
   "source": [
    " "
   ]
  },
  {
   "cell_type": "markdown",
   "metadata": {},
   "source": [
    " "
   ]
  },
  {
   "cell_type": "markdown",
   "metadata": {},
   "source": [
    "### Country 3 Analysis - IND - D3 Dataframe"
   ]
  },
  {
   "cell_type": "code",
   "execution_count": 1293,
   "metadata": {},
   "outputs": [
    {
     "data": {
      "text/html": [
       "<div>\n",
       "<style scoped>\n",
       "    .dataframe tbody tr th:only-of-type {\n",
       "        vertical-align: middle;\n",
       "    }\n",
       "\n",
       "    .dataframe tbody tr th {\n",
       "        vertical-align: top;\n",
       "    }\n",
       "\n",
       "    .dataframe thead th {\n",
       "        text-align: right;\n",
       "    }\n",
       "</style>\n",
       "<table border=\"1\" class=\"dataframe\">\n",
       "  <thead>\n",
       "    <tr style=\"text-align: right;\">\n",
       "      <th></th>\n",
       "      <th>company_permalink</th>\n",
       "      <th>funding_round_permalink</th>\n",
       "      <th>funding_round_type</th>\n",
       "      <th>funded_at</th>\n",
       "      <th>raised_amount_usd</th>\n",
       "      <th>name</th>\n",
       "      <th>category_list_x</th>\n",
       "      <th>status</th>\n",
       "      <th>country_code</th>\n",
       "      <th>primary_sector</th>\n",
       "      <th>main_sector</th>\n",
       "    </tr>\n",
       "  </thead>\n",
       "  <tbody>\n",
       "    <tr>\n",
       "      <th>0</th>\n",
       "      <td>/organization/-fame</td>\n",
       "      <td>/funding-round/9a01d05418af9f794eebff7ace91f638</td>\n",
       "      <td>venture</td>\n",
       "      <td>05-01-2015</td>\n",
       "      <td>10000000.0</td>\n",
       "      <td>#fame</td>\n",
       "      <td>Media</td>\n",
       "      <td>operating</td>\n",
       "      <td>IND</td>\n",
       "      <td>Media</td>\n",
       "      <td>Entertainment</td>\n",
       "    </tr>\n",
       "    <tr>\n",
       "      <th>244</th>\n",
       "      <td>/organization/ameyo</td>\n",
       "      <td>/funding-round/81b50a403d5d2293715fe9b0ce4db5d3</td>\n",
       "      <td>venture</td>\n",
       "      <td>03-07-2015</td>\n",
       "      <td>5000000.0</td>\n",
       "      <td>Ameyo</td>\n",
       "      <td>Software</td>\n",
       "      <td>operating</td>\n",
       "      <td>IND</td>\n",
       "      <td>Software</td>\n",
       "      <td>Others</td>\n",
       "    </tr>\n",
       "    <tr>\n",
       "      <th>274</th>\n",
       "      <td>/organization/applabs</td>\n",
       "      <td>/funding-round/29152fc812013ef482c93f6dd47f58ff</td>\n",
       "      <td>venture</td>\n",
       "      <td>29-06-2006</td>\n",
       "      <td>10000000.0</td>\n",
       "      <td>AppLabs</td>\n",
       "      <td>Software</td>\n",
       "      <td>acquired</td>\n",
       "      <td>IND</td>\n",
       "      <td>Software</td>\n",
       "      <td>Others</td>\n",
       "    </tr>\n",
       "    <tr>\n",
       "      <th>286</th>\n",
       "      <td>/organization/appsdaily-solutions</td>\n",
       "      <td>/funding-round/4979e1bb00ddc452753682273fd4466c</td>\n",
       "      <td>venture</td>\n",
       "      <td>10-04-2014</td>\n",
       "      <td>5000000.0</td>\n",
       "      <td>Appsdaily Solutions</td>\n",
       "      <td>Software</td>\n",
       "      <td>operating</td>\n",
       "      <td>IND</td>\n",
       "      <td>Software</td>\n",
       "      <td>Others</td>\n",
       "    </tr>\n",
       "    <tr>\n",
       "      <th>606</th>\n",
       "      <td>/organization/canvera-digital-technologies</td>\n",
       "      <td>/funding-round/26650720abe4be67bb6550fd4ee6d063</td>\n",
       "      <td>venture</td>\n",
       "      <td>29-08-2012</td>\n",
       "      <td>6500000.0</td>\n",
       "      <td>Canvera Digital Technologies</td>\n",
       "      <td>Software</td>\n",
       "      <td>operating</td>\n",
       "      <td>IND</td>\n",
       "      <td>Software</td>\n",
       "      <td>Others</td>\n",
       "    </tr>\n",
       "  </tbody>\n",
       "</table>\n",
       "</div>"
      ],
      "text/plain": [
       "                              company_permalink  \\\n",
       "0                           /organization/-fame   \n",
       "244                         /organization/ameyo   \n",
       "274                       /organization/applabs   \n",
       "286           /organization/appsdaily-solutions   \n",
       "606  /organization/canvera-digital-technologies   \n",
       "\n",
       "                             funding_round_permalink funding_round_type  \\\n",
       "0    /funding-round/9a01d05418af9f794eebff7ace91f638            venture   \n",
       "244  /funding-round/81b50a403d5d2293715fe9b0ce4db5d3            venture   \n",
       "274  /funding-round/29152fc812013ef482c93f6dd47f58ff            venture   \n",
       "286  /funding-round/4979e1bb00ddc452753682273fd4466c            venture   \n",
       "606  /funding-round/26650720abe4be67bb6550fd4ee6d063            venture   \n",
       "\n",
       "      funded_at  raised_amount_usd                          name  \\\n",
       "0    05-01-2015         10000000.0                         #fame   \n",
       "244  03-07-2015          5000000.0                         Ameyo   \n",
       "274  29-06-2006         10000000.0                       AppLabs   \n",
       "286  10-04-2014          5000000.0           Appsdaily Solutions   \n",
       "606  29-08-2012          6500000.0  Canvera Digital Technologies   \n",
       "\n",
       "    category_list_x     status country_code primary_sector    main_sector  \n",
       "0             Media  operating          IND          Media  Entertainment  \n",
       "244        Software  operating          IND       Software         Others  \n",
       "274        Software   acquired          IND       Software         Others  \n",
       "286        Software  operating          IND       Software         Others  \n",
       "606        Software  operating          IND       Software         Others  "
      ]
     },
     "execution_count": 1293,
     "metadata": {},
     "output_type": "execute_result"
    }
   ],
   "source": [
    "D3.head()"
   ]
  },
  {
   "cell_type": "code",
   "execution_count": 970,
   "metadata": {},
   "outputs": [
    {
     "data": {
      "text/plain": [
       "493"
      ]
     },
     "execution_count": 970,
     "metadata": {},
     "output_type": "execute_result"
    }
   ],
   "source": [
    "# Total number of investment(count)\n",
    "\n",
    "D3.shape[0]"
   ]
  },
  {
   "cell_type": "code",
   "execution_count": 1294,
   "metadata": {},
   "outputs": [
    {
     "data": {
      "text/plain": [
       "3774543602.0"
      ]
     },
     "execution_count": 1294,
     "metadata": {},
     "output_type": "execute_result"
    }
   ],
   "source": [
    "# Total amount of investment (USD)\n",
    "\n",
    "D3['raised_amount_usd'].sum()"
   ]
  },
  {
   "cell_type": "code",
   "execution_count": 1295,
   "metadata": {},
   "outputs": [
    {
     "data": {
      "text/plain": [
       "Others                                     158\n",
       "Social, Finance, Analytics, Advertising    106\n",
       "News, Search and Messaging                  76\n",
       "Entertainment                               47\n",
       "Health                                      33\n",
       "Manufacturing                               30\n",
       "Cleantech / Semiconductors                  29\n",
       "Automotive & Sports                         14\n",
       "Name: main_sector, dtype: int64"
      ]
     },
     "execution_count": 1295,
     "metadata": {},
     "output_type": "execute_result"
    }
   ],
   "source": [
    "# Top sector (based on count of investments)\n",
    "\n",
    "D3['main_sector'].value_counts()"
   ]
  },
  {
   "cell_type": "code",
   "execution_count": 1298,
   "metadata": {},
   "outputs": [
    {
     "data": {
      "image/png": "[encoded data removed]",
      "text/plain": [
       "<Figure size 1440x720 with 1 Axes>"
      ]
     },
     "metadata": {
      "needs_background": "light"
     },
     "output_type": "display_data"
    }
   ],
   "source": [
    "plt.figure(figsize=(20,10))\n",
    "plt.title('IND - Total number of investment(Sector wise) (USD)')\n",
    "\n",
    "D3['main_sector'].value_counts().plot.barh()\n",
    "plt.show()"
   ]
  },
  {
   "cell_type": "code",
   "execution_count": 1302,
   "metadata": {
    "scrolled": true
   },
   "outputs": [
    {
     "data": {
      "text/plain": [
       "Others                                     158\n",
       "Social, Finance, Analytics, Advertising    106\n",
       "News, Search and Messaging                  76\n",
       "Name: main_sector, dtype: int64"
      ]
     },
     "execution_count": 1302,
     "metadata": {},
     "output_type": "execute_result"
    }
   ],
   "source": [
    "# Top Sector name (no. of investment-wise)\n",
    "# Second Sector name (no. of investment-wise)\n",
    "# Third Sector name (no. of investment-wise)\n",
    "\n",
    "D3['main_sector'].value_counts().head(3)"
   ]
  },
  {
   "cell_type": "code",
   "execution_count": 1303,
   "metadata": {},
   "outputs": [
    {
     "data": {
      "text/html": [
       "<div>\n",
       "<style scoped>\n",
       "    .dataframe tbody tr th:only-of-type {\n",
       "        vertical-align: middle;\n",
       "    }\n",
       "\n",
       "    .dataframe tbody tr th {\n",
       "        vertical-align: top;\n",
       "    }\n",
       "\n",
       "    .dataframe thead th {\n",
       "        text-align: right;\n",
       "    }\n",
       "</style>\n",
       "<table border=\"1\" class=\"dataframe\">\n",
       "  <thead>\n",
       "    <tr style=\"text-align: right;\">\n",
       "      <th></th>\n",
       "      <th>raised_amount_usd</th>\n",
       "    </tr>\n",
       "    <tr>\n",
       "      <th>name</th>\n",
       "      <th></th>\n",
       "    </tr>\n",
       "  </thead>\n",
       "  <tbody>\n",
       "    <tr>\n",
       "      <th>FirstCry.com</th>\n",
       "      <td>39000000.0</td>\n",
       "    </tr>\n",
       "    <tr>\n",
       "      <th>Myntra</th>\n",
       "      <td>38000000.0</td>\n",
       "    </tr>\n",
       "    <tr>\n",
       "      <th>CommonFloor</th>\n",
       "      <td>32900000.0</td>\n",
       "    </tr>\n",
       "    <tr>\n",
       "      <th>Pepperfry.com</th>\n",
       "      <td>28000000.0</td>\n",
       "    </tr>\n",
       "    <tr>\n",
       "      <th>Maharana Infrastructure and Professional Services Private Limited (MIPS)</th>\n",
       "      <td>26600000.0</td>\n",
       "    </tr>\n",
       "    <tr>\n",
       "      <th>...</th>\n",
       "      <td>...</td>\n",
       "    </tr>\n",
       "    <tr>\n",
       "      <th>FindYahan</th>\n",
       "      <td>5000000.0</td>\n",
       "    </tr>\n",
       "    <tr>\n",
       "      <th>Stayzilla</th>\n",
       "      <td>5000000.0</td>\n",
       "    </tr>\n",
       "    <tr>\n",
       "      <th>TastyKhana</th>\n",
       "      <td>5000000.0</td>\n",
       "    </tr>\n",
       "    <tr>\n",
       "      <th>Englishleap.com</th>\n",
       "      <td>5000000.0</td>\n",
       "    </tr>\n",
       "    <tr>\n",
       "      <th>EasyFix</th>\n",
       "      <td>5000000.0</td>\n",
       "    </tr>\n",
       "  </tbody>\n",
       "</table>\n",
       "<p>129 rows × 1 columns</p>\n",
       "</div>"
      ],
      "text/plain": [
       "                                                    raised_amount_usd\n",
       "name                                                                 \n",
       "FirstCry.com                                               39000000.0\n",
       "Myntra                                                     38000000.0\n",
       "CommonFloor                                                32900000.0\n",
       "Pepperfry.com                                              28000000.0\n",
       "Maharana Infrastructure and Professional Servic...         26600000.0\n",
       "...                                                               ...\n",
       "FindYahan                                                   5000000.0\n",
       "Stayzilla                                                   5000000.0\n",
       "TastyKhana                                                  5000000.0\n",
       "Englishleap.com                                             5000000.0\n",
       "EasyFix                                                     5000000.0\n",
       "\n",
       "[129 rows x 1 columns]"
      ]
     },
     "execution_count": 1303,
     "metadata": {},
     "output_type": "execute_result"
    }
   ],
   "source": [
    "#In 'Others' sector, list of companies received the highest investment\n",
    "\n",
    "D3.loc[D3['main_sector'] == 'Others'].groupby('name').sum().sort_values('raised_amount_usd', ascending=False)"
   ]
  },
  {
   "cell_type": "code",
   "execution_count": 1306,
   "metadata": {},
   "outputs": [
    {
     "data": {
      "text/html": [
       "<div>\n",
       "<style scoped>\n",
       "    .dataframe tbody tr th:only-of-type {\n",
       "        vertical-align: middle;\n",
       "    }\n",
       "\n",
       "    .dataframe tbody tr th {\n",
       "        vertical-align: top;\n",
       "    }\n",
       "\n",
       "    .dataframe thead th {\n",
       "        text-align: right;\n",
       "    }\n",
       "</style>\n",
       "<table border=\"1\" class=\"dataframe\">\n",
       "  <thead>\n",
       "    <tr style=\"text-align: right;\">\n",
       "      <th></th>\n",
       "      <th>raised_amount_usd</th>\n",
       "    </tr>\n",
       "    <tr>\n",
       "      <th>name</th>\n",
       "      <th></th>\n",
       "    </tr>\n",
       "  </thead>\n",
       "  <tbody>\n",
       "    <tr>\n",
       "      <th>Manthan Systems</th>\n",
       "      <td>50700000.0</td>\n",
       "    </tr>\n",
       "    <tr>\n",
       "      <th>Komli Media</th>\n",
       "      <td>28000000.0</td>\n",
       "    </tr>\n",
       "    <tr>\n",
       "      <th>ShopClues.com</th>\n",
       "      <td>25000000.0</td>\n",
       "    </tr>\n",
       "    <tr>\n",
       "      <th>inTarvo</th>\n",
       "      <td>21900000.0</td>\n",
       "    </tr>\n",
       "    <tr>\n",
       "      <th>Grameen Financial Services</th>\n",
       "      <td>21556050.0</td>\n",
       "    </tr>\n",
       "    <tr>\n",
       "      <th>...</th>\n",
       "      <td>...</td>\n",
       "    </tr>\n",
       "    <tr>\n",
       "      <th>PolicyBazaar</th>\n",
       "      <td>5000000.0</td>\n",
       "    </tr>\n",
       "    <tr>\n",
       "      <th>Primaseller</th>\n",
       "      <td>5000000.0</td>\n",
       "    </tr>\n",
       "    <tr>\n",
       "      <th>Faircent</th>\n",
       "      <td>5000000.0</td>\n",
       "    </tr>\n",
       "    <tr>\n",
       "      <th>Profoundis Labs</th>\n",
       "      <td>5000000.0</td>\n",
       "    </tr>\n",
       "    <tr>\n",
       "      <th>Kae Capital</th>\n",
       "      <td>5000000.0</td>\n",
       "    </tr>\n",
       "  </tbody>\n",
       "</table>\n",
       "<p>89 rows × 1 columns</p>\n",
       "</div>"
      ],
      "text/plain": [
       "                            raised_amount_usd\n",
       "name                                         \n",
       "Manthan Systems                    50700000.0\n",
       "Komli Media                        28000000.0\n",
       "ShopClues.com                      25000000.0\n",
       "inTarvo                            21900000.0\n",
       "Grameen Financial Services         21556050.0\n",
       "...                                       ...\n",
       "PolicyBazaar                        5000000.0\n",
       "Primaseller                         5000000.0\n",
       "Faircent                            5000000.0\n",
       "Profoundis Labs                     5000000.0\n",
       "Kae Capital                         5000000.0\n",
       "\n",
       "[89 rows x 1 columns]"
      ]
     },
     "execution_count": 1306,
     "metadata": {},
     "output_type": "execute_result"
    }
   ],
   "source": [
    "#In 'Social, Finance, Analytics, Advertising' sector, list of companies received the highest investment\n",
    "\n",
    "D3.loc[D3['main_sector'] == 'Social, Finance, Analytics, Advertising'].groupby('name').sum().sort_values('raised_amount_usd', ascending=False)"
   ]
  },
  {
   "cell_type": "code",
   "execution_count": 1305,
   "metadata": {},
   "outputs": [
    {
     "data": {
      "text/html": [
       "<div>\n",
       "<style scoped>\n",
       "    .dataframe tbody tr th:only-of-type {\n",
       "        vertical-align: middle;\n",
       "    }\n",
       "\n",
       "    .dataframe tbody tr th {\n",
       "        vertical-align: top;\n",
       "    }\n",
       "\n",
       "    .dataframe thead th {\n",
       "        text-align: right;\n",
       "    }\n",
       "</style>\n",
       "<table border=\"1\" class=\"dataframe\">\n",
       "  <thead>\n",
       "    <tr style=\"text-align: right;\">\n",
       "      <th></th>\n",
       "      <th>company_permalink</th>\n",
       "      <th>funding_round_permalink</th>\n",
       "      <th>funding_round_type</th>\n",
       "      <th>funded_at</th>\n",
       "      <th>raised_amount_usd</th>\n",
       "      <th>name</th>\n",
       "      <th>category_list_x</th>\n",
       "      <th>status</th>\n",
       "      <th>country_code</th>\n",
       "      <th>primary_sector</th>\n",
       "      <th>main_sector</th>\n",
       "    </tr>\n",
       "  </thead>\n",
       "  <tbody>\n",
       "    <tr>\n",
       "      <th>4360</th>\n",
       "      <td>/organization/manthan-systems</td>\n",
       "      <td>/funding-round/34b5d3d2bbd104d20d1a62a27220739f</td>\n",
       "      <td>venture</td>\n",
       "      <td>01-03-2007</td>\n",
       "      <td>5700000.0</td>\n",
       "      <td>Manthan Systems</td>\n",
       "      <td>Analytics|Big Data Analytics|Business Intellig...</td>\n",
       "      <td>operating</td>\n",
       "      <td>IND</td>\n",
       "      <td>Analytics</td>\n",
       "      <td>Social, Finance, Analytics, Advertising</td>\n",
       "    </tr>\n",
       "    <tr>\n",
       "      <th>4361</th>\n",
       "      <td>/organization/manthan-systems</td>\n",
       "      <td>/funding-round/384bb8d8bc2a9a1df097f6a4c60e12dc</td>\n",
       "      <td>venture</td>\n",
       "      <td>09-12-2009</td>\n",
       "      <td>15000000.0</td>\n",
       "      <td>Manthan Systems</td>\n",
       "      <td>Analytics|Big Data Analytics|Business Intellig...</td>\n",
       "      <td>operating</td>\n",
       "      <td>IND</td>\n",
       "      <td>Analytics</td>\n",
       "      <td>Social, Finance, Analytics, Advertising</td>\n",
       "    </tr>\n",
       "    <tr>\n",
       "      <th>4363</th>\n",
       "      <td>/organization/manthan-systems</td>\n",
       "      <td>/funding-round/7db541211550feab15626b11aa479116</td>\n",
       "      <td>venture</td>\n",
       "      <td>15-02-2012</td>\n",
       "      <td>15000000.0</td>\n",
       "      <td>Manthan Systems</td>\n",
       "      <td>Analytics|Big Data Analytics|Business Intellig...</td>\n",
       "      <td>operating</td>\n",
       "      <td>IND</td>\n",
       "      <td>Analytics</td>\n",
       "      <td>Social, Finance, Analytics, Advertising</td>\n",
       "    </tr>\n",
       "    <tr>\n",
       "      <th>4364</th>\n",
       "      <td>/organization/manthan-systems</td>\n",
       "      <td>/funding-round/a08435c935a0a43cd9069ad9480f8bb6</td>\n",
       "      <td>venture</td>\n",
       "      <td>20-11-2009</td>\n",
       "      <td>15000000.0</td>\n",
       "      <td>Manthan Systems</td>\n",
       "      <td>Analytics|Big Data Analytics|Business Intellig...</td>\n",
       "      <td>operating</td>\n",
       "      <td>IND</td>\n",
       "      <td>Analytics</td>\n",
       "      <td>Social, Finance, Analytics, Advertising</td>\n",
       "    </tr>\n",
       "  </tbody>\n",
       "</table>\n",
       "</div>"
      ],
      "text/plain": [
       "                  company_permalink  \\\n",
       "4360  /organization/manthan-systems   \n",
       "4361  /organization/manthan-systems   \n",
       "4363  /organization/manthan-systems   \n",
       "4364  /organization/manthan-systems   \n",
       "\n",
       "                              funding_round_permalink funding_round_type  \\\n",
       "4360  /funding-round/34b5d3d2bbd104d20d1a62a27220739f            venture   \n",
       "4361  /funding-round/384bb8d8bc2a9a1df097f6a4c60e12dc            venture   \n",
       "4363  /funding-round/7db541211550feab15626b11aa479116            venture   \n",
       "4364  /funding-round/a08435c935a0a43cd9069ad9480f8bb6            venture   \n",
       "\n",
       "       funded_at  raised_amount_usd             name  \\\n",
       "4360  01-03-2007          5700000.0  Manthan Systems   \n",
       "4361  09-12-2009         15000000.0  Manthan Systems   \n",
       "4363  15-02-2012         15000000.0  Manthan Systems   \n",
       "4364  20-11-2009         15000000.0  Manthan Systems   \n",
       "\n",
       "                                        category_list_x     status  \\\n",
       "4360  Analytics|Big Data Analytics|Business Intellig...  operating   \n",
       "4361  Analytics|Big Data Analytics|Business Intellig...  operating   \n",
       "4363  Analytics|Big Data Analytics|Business Intellig...  operating   \n",
       "4364  Analytics|Big Data Analytics|Business Intellig...  operating   \n",
       "\n",
       "     country_code primary_sector                              main_sector  \n",
       "4360          IND      Analytics  Social, Finance, Analytics, Advertising  \n",
       "4361          IND      Analytics  Social, Finance, Analytics, Advertising  \n",
       "4363          IND      Analytics  Social, Finance, Analytics, Advertising  \n",
       "4364          IND      Analytics  Social, Finance, Analytics, Advertising  "
      ]
     },
     "execution_count": 1305,
     "metadata": {},
     "output_type": "execute_result"
    }
   ],
   "source": [
    "D3.loc[D3['name'] == 'Manthan Systems']"
   ]
  },
  {
   "cell_type": "markdown",
   "metadata": {},
   "source": [
    " "
   ]
  },
  {
   "cell_type": "markdown",
   "metadata": {},
   "source": [
    " "
   ]
  },
  {
   "cell_type": "markdown",
   "metadata": {},
   "source": [
    " "
   ]
  },
  {
   "cell_type": "markdown",
   "metadata": {},
   "source": [
    "# Checkpoint 6: Plots"
   ]
  },
  {
   "cell_type": "markdown",
   "metadata": {},
   "source": [
    "**1. A plot showing the representative amount of investment in each funding type. \n",
    "This chart should make it clear that a certain funding type (FT) is best suited for Spark Funds**"
   ]
  },
  {
   "cell_type": "markdown",
   "metadata": {},
   "source": [
    "Considering that Spark Funds wants to invest between **5 to 15 million USD per investment round** and above analysis, **Venture Funding round type** would be right fit for them"
   ]
  },
  {
   "cell_type": "code",
   "execution_count": 1151,
   "metadata": {},
   "outputs": [
    {
     "data": {
      "text/plain": [
       "<Figure size 1440x720 with 0 Axes>"
      ]
     },
     "metadata": {},
     "output_type": "display_data"
    },
    {
     "data": {
      "image/png": "[encoded data removed]",
      "text/plain": [
       "<Figure size 432x288 with 1 Axes>"
      ]
     },
     "metadata": {
      "needs_background": "light"
     },
     "output_type": "display_data"
    }
   ],
   "source": [
    "#Plot for common representative amount of investment in each funding type\n",
    "\n",
    "plt.figure(figsize=(20,10))\n",
    "\n",
    "master_frame.groupby('funding_round_type').median().plot.bar()\n",
    "plt.show()"
   ]
  },
  {
   "cell_type": "markdown",
   "metadata": {},
   "source": [
    "**2. A plot showing the top 9 countries against the total amount of investments of funding type FT**\n",
    "\n",
    "**This should make the top 3 countries (Country 1, Country 2, and Country 3) very clear**"
   ]
  },
  {
   "cell_type": "code",
   "execution_count": 1469,
   "metadata": {},
   "outputs": [
    {
     "data": {
      "image/png": "[encoded data removed]",
      "text/plain": [
       "<Figure size 1440x720 with 1 Axes>"
      ]
     },
     "metadata": {
      "needs_background": "light"
     },
     "output_type": "display_data"
    }
   ],
   "source": [
    "#Visualisation of top9 countries with highest funding in venture funding type\n",
    "\n",
    "plt.figure(figsize=(20,10))\n",
    "plt.title('top9 countries with highest funding in venture funding type',fontsize=15)\n",
    "\n",
    "sns.barplot(top9['country_code'], top9['raised_amount_usd'])\n",
    "plt.show()"
   ]
  },
  {
   "cell_type": "code",
   "execution_count": 1473,
   "metadata": {},
   "outputs": [
    {
     "data": {
      "text/plain": [
       "['USA', 'GBR', 'IND']"
      ]
     },
     "execution_count": 1473,
     "metadata": {},
     "output_type": "execute_result"
    }
   ],
   "source": [
    "#Top3 English-Speaking Countries\n",
    "\n",
    "#countryCode = ['USA', 'GBR', 'IND']\n",
    "\n",
    "countryCode"
   ]
  },
  {
   "cell_type": "code",
   "execution_count": 1475,
   "metadata": {},
   "outputs": [
    {
     "data": {
      "text/html": [
       "<div>\n",
       "<style scoped>\n",
       "    .dataframe tbody tr th:only-of-type {\n",
       "        vertical-align: middle;\n",
       "    }\n",
       "\n",
       "    .dataframe tbody tr th {\n",
       "        vertical-align: top;\n",
       "    }\n",
       "\n",
       "    .dataframe thead th {\n",
       "        text-align: right;\n",
       "    }\n",
       "</style>\n",
       "<table border=\"1\" class=\"dataframe\">\n",
       "  <thead>\n",
       "    <tr style=\"text-align: right;\">\n",
       "      <th></th>\n",
       "      <th>country_code</th>\n",
       "      <th>funding_round_type</th>\n",
       "      <th>raised_amount_usd</th>\n",
       "    </tr>\n",
       "  </thead>\n",
       "  <tbody>\n",
       "    <tr>\n",
       "      <th>0</th>\n",
       "      <td>USA</td>\n",
       "      <td>venture</td>\n",
       "      <td>4.305230e+11</td>\n",
       "    </tr>\n",
       "    <tr>\n",
       "      <th>2</th>\n",
       "      <td>GBR</td>\n",
       "      <td>venture</td>\n",
       "      <td>2.119281e+10</td>\n",
       "    </tr>\n",
       "    <tr>\n",
       "      <th>3</th>\n",
       "      <td>IND</td>\n",
       "      <td>venture</td>\n",
       "      <td>1.508651e+10</td>\n",
       "    </tr>\n",
       "  </tbody>\n",
       "</table>\n",
       "</div>"
      ],
      "text/plain": [
       "  country_code funding_round_type  raised_amount_usd\n",
       "0          USA            venture       4.305230e+11\n",
       "2          GBR            venture       2.119281e+10\n",
       "3          IND            venture       1.508651e+10"
      ]
     },
     "execution_count": 1475,
     "metadata": {},
     "output_type": "execute_result"
    }
   ],
   "source": [
    "#Top3 English-Speaking Countries with 'raised_amount_usd' in 'venture' funding type\n",
    "\n",
    "top3 = top9.loc[top9['country_code'].isin(countryCode)]\n",
    "\n",
    "top3"
   ]
  },
  {
   "cell_type": "code",
   "execution_count": 1479,
   "metadata": {},
   "outputs": [
    {
     "data": {
      "image/png": "[encoded data removed]",
      "text/plain": [
       "<Figure size 720x720 with 1 Axes>"
      ]
     },
     "metadata": {
      "needs_background": "light"
     },
     "output_type": "display_data"
    }
   ],
   "source": [
    "#Visualisation of top3 countries with highest funding in venture funding type\n",
    "\n",
    "plt.figure(figsize=(10,10))\n",
    "plt.title('top3 English-Speaking Countries with highest funding in venture',fontsize=15)\n",
    "\n",
    "sns.barplot(top3['country_code'], top3['raised_amount_usd'])\n",
    "plt.show()"
   ]
  },
  {
   "cell_type": "markdown",
   "metadata": {},
   "source": [
    " "
   ]
  },
  {
   "cell_type": "markdown",
   "metadata": {},
   "source": [
    "**3. A plot showing the number of investments in the top 3 sectors of the top 3 countries on one chart (for the chosen investment type FT)**\n",
    "\n",
    "**This plot should clearly display the top 3 sectors each in Country 1, Country 2, and Country 3.**"
   ]
  },
  {
   "cell_type": "code",
   "execution_count": 1375,
   "metadata": {},
   "outputs": [
    {
     "data": {
      "text/plain": [
       "Others                                     3404\n",
       "Social, Finance, Analytics, Advertising    3290\n",
       "Cleantech / Semiconductors                 2622\n",
       "Name: main_sector, dtype: int64"
      ]
     },
     "execution_count": 1375,
     "metadata": {},
     "output_type": "execute_result"
    }
   ],
   "source": [
    "D1['main_sector'].value_counts().head(3)"
   ]
  },
  {
   "cell_type": "code",
   "execution_count": 1373,
   "metadata": {},
   "outputs": [
    {
     "data": {
      "text/plain": [
       "Others                                     211\n",
       "Social, Finance, Analytics, Advertising    193\n",
       "Cleantech / Semiconductors                 154\n",
       "Name: main_sector, dtype: int64"
      ]
     },
     "execution_count": 1373,
     "metadata": {},
     "output_type": "execute_result"
    }
   ],
   "source": [
    "D2['main_sector'].value_counts().head(3)"
   ]
  },
  {
   "cell_type": "code",
   "execution_count": 1372,
   "metadata": {},
   "outputs": [
    {
     "data": {
      "text/plain": [
       "Others                                     158\n",
       "Social, Finance, Analytics, Advertising    106\n",
       "News, Search and Messaging                  76\n",
       "Name: main_sector, dtype: int64"
      ]
     },
     "execution_count": 1372,
     "metadata": {},
     "output_type": "execute_result"
    }
   ],
   "source": [
    "D3['main_sector'].value_counts().head(3)"
   ]
  },
  {
   "cell_type": "code",
   "execution_count": 1410,
   "metadata": {},
   "outputs": [],
   "source": [
    "USA_statistics = D1.groupby(['country_code', 'main_sector'])['raised_amount_usd'].describe()"
   ]
  },
  {
   "cell_type": "code",
   "execution_count": 1433,
   "metadata": {},
   "outputs": [
    {
     "data": {
      "text/html": [
       "<div>\n",
       "<style scoped>\n",
       "    .dataframe tbody tr th:only-of-type {\n",
       "        vertical-align: middle;\n",
       "    }\n",
       "\n",
       "    .dataframe tbody tr th {\n",
       "        vertical-align: top;\n",
       "    }\n",
       "\n",
       "    .dataframe thead th {\n",
       "        text-align: right;\n",
       "    }\n",
       "</style>\n",
       "<table border=\"1\" class=\"dataframe\">\n",
       "  <thead>\n",
       "    <tr style=\"text-align: right;\">\n",
       "      <th></th>\n",
       "      <th>country_code</th>\n",
       "      <th>main_sector</th>\n",
       "      <th>count</th>\n",
       "    </tr>\n",
       "  </thead>\n",
       "  <tbody>\n",
       "    <tr>\n",
       "      <th>0</th>\n",
       "      <td>USA</td>\n",
       "      <td>Others</td>\n",
       "      <td>3404.0</td>\n",
       "    </tr>\n",
       "    <tr>\n",
       "      <th>1</th>\n",
       "      <td>USA</td>\n",
       "      <td>Social, Finance, Analytics, Advertising</td>\n",
       "      <td>3290.0</td>\n",
       "    </tr>\n",
       "    <tr>\n",
       "      <th>2</th>\n",
       "      <td>USA</td>\n",
       "      <td>Cleantech / Semiconductors</td>\n",
       "      <td>2622.0</td>\n",
       "    </tr>\n",
       "  </tbody>\n",
       "</table>\n",
       "</div>"
      ],
      "text/plain": [
       "  country_code                              main_sector   count\n",
       "0          USA                                   Others  3404.0\n",
       "1          USA  Social, Finance, Analytics, Advertising  3290.0\n",
       "2          USA               Cleantech / Semiconductors  2622.0"
      ]
     },
     "execution_count": 1433,
     "metadata": {},
     "output_type": "execute_result"
    }
   ],
   "source": [
    "#choosing the top3 sector in 'USA' with 'country_code', 'main_sector' & 'count'\n",
    "\n",
    "usa_top3_sector = USA_statistics.sort_values('count', ascending=False).iloc[0:3, 0:1].reset_index()\n",
    "\n",
    "usa_top3_sector"
   ]
  },
  {
   "cell_type": "code",
   "execution_count": 1430,
   "metadata": {},
   "outputs": [],
   "source": [
    "GBR_statistics = D2.groupby(['country_code', 'main_sector'])['raised_amount_usd'].describe()"
   ]
  },
  {
   "cell_type": "code",
   "execution_count": 1434,
   "metadata": {},
   "outputs": [
    {
     "data": {
      "text/html": [
       "<div>\n",
       "<style scoped>\n",
       "    .dataframe tbody tr th:only-of-type {\n",
       "        vertical-align: middle;\n",
       "    }\n",
       "\n",
       "    .dataframe tbody tr th {\n",
       "        vertical-align: top;\n",
       "    }\n",
       "\n",
       "    .dataframe thead th {\n",
       "        text-align: right;\n",
       "    }\n",
       "</style>\n",
       "<table border=\"1\" class=\"dataframe\">\n",
       "  <thead>\n",
       "    <tr style=\"text-align: right;\">\n",
       "      <th></th>\n",
       "      <th>country_code</th>\n",
       "      <th>main_sector</th>\n",
       "      <th>count</th>\n",
       "    </tr>\n",
       "  </thead>\n",
       "  <tbody>\n",
       "    <tr>\n",
       "      <th>0</th>\n",
       "      <td>GBR</td>\n",
       "      <td>Others</td>\n",
       "      <td>211.0</td>\n",
       "    </tr>\n",
       "    <tr>\n",
       "      <th>1</th>\n",
       "      <td>GBR</td>\n",
       "      <td>Social, Finance, Analytics, Advertising</td>\n",
       "      <td>193.0</td>\n",
       "    </tr>\n",
       "    <tr>\n",
       "      <th>2</th>\n",
       "      <td>GBR</td>\n",
       "      <td>Cleantech / Semiconductors</td>\n",
       "      <td>154.0</td>\n",
       "    </tr>\n",
       "  </tbody>\n",
       "</table>\n",
       "</div>"
      ],
      "text/plain": [
       "  country_code                              main_sector  count\n",
       "0          GBR                                   Others  211.0\n",
       "1          GBR  Social, Finance, Analytics, Advertising  193.0\n",
       "2          GBR               Cleantech / Semiconductors  154.0"
      ]
     },
     "execution_count": 1434,
     "metadata": {},
     "output_type": "execute_result"
    }
   ],
   "source": [
    "#choosing the top3 sector in 'GBR' with 'country_code', 'main_sector' & 'count'\n",
    "\n",
    "gbr_top3_sector = GBR_statistics.sort_values('count', ascending=False).iloc[0:3, 0:1].reset_index()\n",
    "\n",
    "gbr_top3_sector"
   ]
  },
  {
   "cell_type": "code",
   "execution_count": 1436,
   "metadata": {},
   "outputs": [],
   "source": [
    "IND_statistics = D3.groupby(['country_code', 'main_sector'])['raised_amount_usd'].describe()"
   ]
  },
  {
   "cell_type": "code",
   "execution_count": 1438,
   "metadata": {},
   "outputs": [
    {
     "data": {
      "text/html": [
       "<div>\n",
       "<style scoped>\n",
       "    .dataframe tbody tr th:only-of-type {\n",
       "        vertical-align: middle;\n",
       "    }\n",
       "\n",
       "    .dataframe tbody tr th {\n",
       "        vertical-align: top;\n",
       "    }\n",
       "\n",
       "    .dataframe thead th {\n",
       "        text-align: right;\n",
       "    }\n",
       "</style>\n",
       "<table border=\"1\" class=\"dataframe\">\n",
       "  <thead>\n",
       "    <tr style=\"text-align: right;\">\n",
       "      <th></th>\n",
       "      <th>country_code</th>\n",
       "      <th>main_sector</th>\n",
       "      <th>count</th>\n",
       "    </tr>\n",
       "  </thead>\n",
       "  <tbody>\n",
       "    <tr>\n",
       "      <th>0</th>\n",
       "      <td>IND</td>\n",
       "      <td>Others</td>\n",
       "      <td>158.0</td>\n",
       "    </tr>\n",
       "    <tr>\n",
       "      <th>1</th>\n",
       "      <td>IND</td>\n",
       "      <td>Social, Finance, Analytics, Advertising</td>\n",
       "      <td>106.0</td>\n",
       "    </tr>\n",
       "    <tr>\n",
       "      <th>2</th>\n",
       "      <td>IND</td>\n",
       "      <td>News, Search and Messaging</td>\n",
       "      <td>76.0</td>\n",
       "    </tr>\n",
       "  </tbody>\n",
       "</table>\n",
       "</div>"
      ],
      "text/plain": [
       "  country_code                              main_sector  count\n",
       "0          IND                                   Others  158.0\n",
       "1          IND  Social, Finance, Analytics, Advertising  106.0\n",
       "2          IND               News, Search and Messaging   76.0"
      ]
     },
     "execution_count": 1438,
     "metadata": {},
     "output_type": "execute_result"
    }
   ],
   "source": [
    "#choosing the top3 sector in 'IND' with 'country_code', 'main_sector' & 'count'\n",
    "\n",
    "ind_top3_sector = IND_statistics.sort_values('count', ascending=False).iloc[0:3, 0:1].reset_index()\n",
    "\n",
    "ind_top3_sector"
   ]
  },
  {
   "cell_type": "code",
   "execution_count": 1441,
   "metadata": {},
   "outputs": [
    {
     "data": {
      "text/html": [
       "<div>\n",
       "<style scoped>\n",
       "    .dataframe tbody tr th:only-of-type {\n",
       "        vertical-align: middle;\n",
       "    }\n",
       "\n",
       "    .dataframe tbody tr th {\n",
       "        vertical-align: top;\n",
       "    }\n",
       "\n",
       "    .dataframe thead th {\n",
       "        text-align: right;\n",
       "    }\n",
       "</style>\n",
       "<table border=\"1\" class=\"dataframe\">\n",
       "  <thead>\n",
       "    <tr style=\"text-align: right;\">\n",
       "      <th></th>\n",
       "      <th>country_code</th>\n",
       "      <th>main_sector</th>\n",
       "      <th>count</th>\n",
       "    </tr>\n",
       "  </thead>\n",
       "  <tbody>\n",
       "    <tr>\n",
       "      <th>0</th>\n",
       "      <td>USA</td>\n",
       "      <td>Others</td>\n",
       "      <td>3404.0</td>\n",
       "    </tr>\n",
       "    <tr>\n",
       "      <th>1</th>\n",
       "      <td>USA</td>\n",
       "      <td>Social, Finance, Analytics, Advertising</td>\n",
       "      <td>3290.0</td>\n",
       "    </tr>\n",
       "    <tr>\n",
       "      <th>2</th>\n",
       "      <td>USA</td>\n",
       "      <td>Cleantech / Semiconductors</td>\n",
       "      <td>2622.0</td>\n",
       "    </tr>\n",
       "    <tr>\n",
       "      <th>0</th>\n",
       "      <td>GBR</td>\n",
       "      <td>Others</td>\n",
       "      <td>211.0</td>\n",
       "    </tr>\n",
       "    <tr>\n",
       "      <th>1</th>\n",
       "      <td>GBR</td>\n",
       "      <td>Social, Finance, Analytics, Advertising</td>\n",
       "      <td>193.0</td>\n",
       "    </tr>\n",
       "    <tr>\n",
       "      <th>2</th>\n",
       "      <td>GBR</td>\n",
       "      <td>Cleantech / Semiconductors</td>\n",
       "      <td>154.0</td>\n",
       "    </tr>\n",
       "    <tr>\n",
       "      <th>0</th>\n",
       "      <td>IND</td>\n",
       "      <td>Others</td>\n",
       "      <td>158.0</td>\n",
       "    </tr>\n",
       "    <tr>\n",
       "      <th>1</th>\n",
       "      <td>IND</td>\n",
       "      <td>Social, Finance, Analytics, Advertising</td>\n",
       "      <td>106.0</td>\n",
       "    </tr>\n",
       "    <tr>\n",
       "      <th>2</th>\n",
       "      <td>IND</td>\n",
       "      <td>News, Search and Messaging</td>\n",
       "      <td>76.0</td>\n",
       "    </tr>\n",
       "  </tbody>\n",
       "</table>\n",
       "</div>"
      ],
      "text/plain": [
       "  country_code                              main_sector   count\n",
       "0          USA                                   Others  3404.0\n",
       "1          USA  Social, Finance, Analytics, Advertising  3290.0\n",
       "2          USA               Cleantech / Semiconductors  2622.0\n",
       "0          GBR                                   Others   211.0\n",
       "1          GBR  Social, Finance, Analytics, Advertising   193.0\n",
       "2          GBR               Cleantech / Semiconductors   154.0\n",
       "0          IND                                   Others   158.0\n",
       "1          IND  Social, Finance, Analytics, Advertising   106.0\n",
       "2          IND               News, Search and Messaging    76.0"
      ]
     },
     "execution_count": 1441,
     "metadata": {},
     "output_type": "execute_result"
    }
   ],
   "source": [
    "#top 3 sectors of the top 3 countries ('USA', 'GBR', 'IND')\n",
    "\n",
    "final_main_sector = pd.concat([usa_top3_sector, gbr_top3_sector, ind_top3_sector])\n",
    "\n",
    "final_main_sector"
   ]
  },
  {
   "cell_type": "code",
   "execution_count": 1458,
   "metadata": {},
   "outputs": [
    {
     "data": {
      "image/png": "[encoded data removed]",
      "text/plain": [
       "<Figure size 720x720 with 1 Axes>"
      ]
     },
     "metadata": {
      "needs_background": "light"
     },
     "output_type": "display_data"
    }
   ],
   "source": [
    "plt.figure(figsize=(10,10))\n",
    "plt.title('number of investments in the top 3 sectors of the top 3 countries',fontsize=14)\n",
    "\n",
    "sns.barplot(x=\"country_code\", y=\"count\", hue=\"main_sector\", data=final_main_sector)\n",
    "plt.show()"
   ]
  }
 ],
 "metadata": {
  "kernelspec": {
   "display_name": "Python 3",
   "language": "python",
   "name": "python3"
  },
  "language_info": {
   "codemirror_mode": {
    "name": "ipython",
    "version": 3
   },
   "file_extension": ".py",
   "mimetype": "text/x-python",
   "name": "python",
   "nbconvert_exporter": "python",
   "pygments_lexer": "ipython3",
   "version": "3.8.5"
  }
 },
 "nbformat": 4,
 "nbformat_minor": 4
}
